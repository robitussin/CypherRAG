{
 "cells": [
  {
   "cell_type": "code",
   "execution_count": 45,
   "metadata": {},
   "outputs": [],
   "source": [
    "import pandas as pd\n",
    "import datasets\n",
    "\n",
    "from datasets import Dataset, load_dataset\n",
    "from knowledge_graph_maker import Neo4jGraphModel\n",
    "from generate_graph import get_propositions, generate\n",
    "from main import query_graph, refine_query"
   ]
  },
  {
   "cell_type": "markdown",
   "metadata": {},
   "source": [
    "### WikiQA"
   ]
  },
  {
   "cell_type": "code",
   "execution_count": 44,
   "metadata": {},
   "outputs": [
    {
     "ename": "KeyboardInterrupt",
     "evalue": "",
     "output_type": "error",
     "traceback": [
      "\u001b[0;31m---------------------------------------------------------------------------\u001b[0m",
      "\u001b[0;31mKeyboardInterrupt\u001b[0m                         Traceback (most recent call last)",
      "Cell \u001b[0;32mIn[44], line 2\u001b[0m\n\u001b[1;32m      1\u001b[0m splits \u001b[38;5;241m=\u001b[39m {\u001b[38;5;124m'\u001b[39m\u001b[38;5;124mtest\u001b[39m\u001b[38;5;124m'\u001b[39m: \u001b[38;5;124m'\u001b[39m\u001b[38;5;124mdata/test-00000-of-00001.parquet\u001b[39m\u001b[38;5;124m'\u001b[39m, \u001b[38;5;124m'\u001b[39m\u001b[38;5;124mvalidation\u001b[39m\u001b[38;5;124m'\u001b[39m: \u001b[38;5;124m'\u001b[39m\u001b[38;5;124mdata/validation-00000-of-00001.parquet\u001b[39m\u001b[38;5;124m'\u001b[39m, \u001b[38;5;124m'\u001b[39m\u001b[38;5;124mtrain\u001b[39m\u001b[38;5;124m'\u001b[39m: \u001b[38;5;124m'\u001b[39m\u001b[38;5;124mdata/train-00000-of-00001.parquet\u001b[39m\u001b[38;5;124m'\u001b[39m}\n\u001b[0;32m----> 2\u001b[0m df_wikiqa \u001b[38;5;241m=\u001b[39m \u001b[43mpd\u001b[49m\u001b[38;5;241;43m.\u001b[39;49m\u001b[43mread_parquet\u001b[49m\u001b[43m(\u001b[49m\u001b[38;5;124;43m\"\u001b[39;49m\u001b[38;5;124;43mhf://datasets/microsoft/wiki_qa/\u001b[39;49m\u001b[38;5;124;43m\"\u001b[39;49m\u001b[43m \u001b[49m\u001b[38;5;241;43m+\u001b[39;49m\u001b[43m \u001b[49m\u001b[43msplits\u001b[49m\u001b[43m[\u001b[49m\u001b[38;5;124;43m\"\u001b[39;49m\u001b[38;5;124;43mtest\u001b[39;49m\u001b[38;5;124;43m\"\u001b[39;49m\u001b[43m]\u001b[49m\u001b[43m)\u001b[49m\n",
      "File \u001b[0;32m~/miniconda3/envs/graphmaker/lib/python3.11/site-packages/pandas/io/parquet.py:667\u001b[0m, in \u001b[0;36mread_parquet\u001b[0;34m(path, engine, columns, storage_options, use_nullable_dtypes, dtype_backend, filesystem, filters, **kwargs)\u001b[0m\n\u001b[1;32m    664\u001b[0m     use_nullable_dtypes \u001b[38;5;241m=\u001b[39m \u001b[38;5;28;01mFalse\u001b[39;00m\n\u001b[1;32m    665\u001b[0m check_dtype_backend(dtype_backend)\n\u001b[0;32m--> 667\u001b[0m \u001b[38;5;28;01mreturn\u001b[39;00m \u001b[43mimpl\u001b[49m\u001b[38;5;241;43m.\u001b[39;49m\u001b[43mread\u001b[49m\u001b[43m(\u001b[49m\n\u001b[1;32m    668\u001b[0m \u001b[43m    \u001b[49m\u001b[43mpath\u001b[49m\u001b[43m,\u001b[49m\n\u001b[1;32m    669\u001b[0m \u001b[43m    \u001b[49m\u001b[43mcolumns\u001b[49m\u001b[38;5;241;43m=\u001b[39;49m\u001b[43mcolumns\u001b[49m\u001b[43m,\u001b[49m\n\u001b[1;32m    670\u001b[0m \u001b[43m    \u001b[49m\u001b[43mfilters\u001b[49m\u001b[38;5;241;43m=\u001b[39;49m\u001b[43mfilters\u001b[49m\u001b[43m,\u001b[49m\n\u001b[1;32m    671\u001b[0m \u001b[43m    \u001b[49m\u001b[43mstorage_options\u001b[49m\u001b[38;5;241;43m=\u001b[39;49m\u001b[43mstorage_options\u001b[49m\u001b[43m,\u001b[49m\n\u001b[1;32m    672\u001b[0m \u001b[43m    \u001b[49m\u001b[43muse_nullable_dtypes\u001b[49m\u001b[38;5;241;43m=\u001b[39;49m\u001b[43muse_nullable_dtypes\u001b[49m\u001b[43m,\u001b[49m\n\u001b[1;32m    673\u001b[0m \u001b[43m    \u001b[49m\u001b[43mdtype_backend\u001b[49m\u001b[38;5;241;43m=\u001b[39;49m\u001b[43mdtype_backend\u001b[49m\u001b[43m,\u001b[49m\n\u001b[1;32m    674\u001b[0m \u001b[43m    \u001b[49m\u001b[43mfilesystem\u001b[49m\u001b[38;5;241;43m=\u001b[39;49m\u001b[43mfilesystem\u001b[49m\u001b[43m,\u001b[49m\n\u001b[1;32m    675\u001b[0m \u001b[43m    \u001b[49m\u001b[38;5;241;43m*\u001b[39;49m\u001b[38;5;241;43m*\u001b[39;49m\u001b[43mkwargs\u001b[49m\u001b[43m,\u001b[49m\n\u001b[1;32m    676\u001b[0m \u001b[43m\u001b[49m\u001b[43m)\u001b[49m\n",
      "File \u001b[0;32m~/miniconda3/envs/graphmaker/lib/python3.11/site-packages/pandas/io/parquet.py:274\u001b[0m, in \u001b[0;36mPyArrowImpl.read\u001b[0;34m(self, path, columns, filters, use_nullable_dtypes, dtype_backend, storage_options, filesystem, **kwargs)\u001b[0m\n\u001b[1;32m    267\u001b[0m path_or_handle, handles, filesystem \u001b[38;5;241m=\u001b[39m _get_path_or_handle(\n\u001b[1;32m    268\u001b[0m     path,\n\u001b[1;32m    269\u001b[0m     filesystem,\n\u001b[1;32m    270\u001b[0m     storage_options\u001b[38;5;241m=\u001b[39mstorage_options,\n\u001b[1;32m    271\u001b[0m     mode\u001b[38;5;241m=\u001b[39m\u001b[38;5;124m\"\u001b[39m\u001b[38;5;124mrb\u001b[39m\u001b[38;5;124m\"\u001b[39m,\n\u001b[1;32m    272\u001b[0m )\n\u001b[1;32m    273\u001b[0m \u001b[38;5;28;01mtry\u001b[39;00m:\n\u001b[0;32m--> 274\u001b[0m     pa_table \u001b[38;5;241m=\u001b[39m \u001b[38;5;28;43mself\u001b[39;49m\u001b[38;5;241;43m.\u001b[39;49m\u001b[43mapi\u001b[49m\u001b[38;5;241;43m.\u001b[39;49m\u001b[43mparquet\u001b[49m\u001b[38;5;241;43m.\u001b[39;49m\u001b[43mread_table\u001b[49m\u001b[43m(\u001b[49m\n\u001b[1;32m    275\u001b[0m \u001b[43m        \u001b[49m\u001b[43mpath_or_handle\u001b[49m\u001b[43m,\u001b[49m\n\u001b[1;32m    276\u001b[0m \u001b[43m        \u001b[49m\u001b[43mcolumns\u001b[49m\u001b[38;5;241;43m=\u001b[39;49m\u001b[43mcolumns\u001b[49m\u001b[43m,\u001b[49m\n\u001b[1;32m    277\u001b[0m \u001b[43m        \u001b[49m\u001b[43mfilesystem\u001b[49m\u001b[38;5;241;43m=\u001b[39;49m\u001b[43mfilesystem\u001b[49m\u001b[43m,\u001b[49m\n\u001b[1;32m    278\u001b[0m \u001b[43m        \u001b[49m\u001b[43mfilters\u001b[49m\u001b[38;5;241;43m=\u001b[39;49m\u001b[43mfilters\u001b[49m\u001b[43m,\u001b[49m\n\u001b[1;32m    279\u001b[0m \u001b[43m        \u001b[49m\u001b[38;5;241;43m*\u001b[39;49m\u001b[38;5;241;43m*\u001b[39;49m\u001b[43mkwargs\u001b[49m\u001b[43m,\u001b[49m\n\u001b[1;32m    280\u001b[0m \u001b[43m    \u001b[49m\u001b[43m)\u001b[49m\n\u001b[1;32m    281\u001b[0m     result \u001b[38;5;241m=\u001b[39m pa_table\u001b[38;5;241m.\u001b[39mto_pandas(\u001b[38;5;241m*\u001b[39m\u001b[38;5;241m*\u001b[39mto_pandas_kwargs)\n\u001b[1;32m    283\u001b[0m     \u001b[38;5;28;01mif\u001b[39;00m manager \u001b[38;5;241m==\u001b[39m \u001b[38;5;124m\"\u001b[39m\u001b[38;5;124marray\u001b[39m\u001b[38;5;124m\"\u001b[39m:\n",
      "File \u001b[0;32m~/miniconda3/envs/graphmaker/lib/python3.11/site-packages/pyarrow/parquet/core.py:1793\u001b[0m, in \u001b[0;36mread_table\u001b[0;34m(source, columns, use_threads, schema, use_pandas_metadata, read_dictionary, memory_map, buffer_size, partitioning, filesystem, filters, use_legacy_dataset, ignore_prefixes, pre_buffer, coerce_int96_timestamp_unit, decryption_properties, thrift_string_size_limit, thrift_container_size_limit, page_checksum_verification)\u001b[0m\n\u001b[1;32m   1787\u001b[0m     warnings\u001b[38;5;241m.\u001b[39mwarn(\n\u001b[1;32m   1788\u001b[0m         \u001b[38;5;124m\"\u001b[39m\u001b[38;5;124mPassing \u001b[39m\u001b[38;5;124m'\u001b[39m\u001b[38;5;124muse_legacy_dataset\u001b[39m\u001b[38;5;124m'\u001b[39m\u001b[38;5;124m is deprecated as of pyarrow 15.0.0 \u001b[39m\u001b[38;5;124m\"\u001b[39m\n\u001b[1;32m   1789\u001b[0m         \u001b[38;5;124m\"\u001b[39m\u001b[38;5;124mand will be removed in a future version.\u001b[39m\u001b[38;5;124m\"\u001b[39m,\n\u001b[1;32m   1790\u001b[0m         \u001b[38;5;167;01mFutureWarning\u001b[39;00m, stacklevel\u001b[38;5;241m=\u001b[39m\u001b[38;5;241m2\u001b[39m)\n\u001b[1;32m   1792\u001b[0m \u001b[38;5;28;01mtry\u001b[39;00m:\n\u001b[0;32m-> 1793\u001b[0m     dataset \u001b[38;5;241m=\u001b[39m \u001b[43mParquetDataset\u001b[49m\u001b[43m(\u001b[49m\n\u001b[1;32m   1794\u001b[0m \u001b[43m        \u001b[49m\u001b[43msource\u001b[49m\u001b[43m,\u001b[49m\n\u001b[1;32m   1795\u001b[0m \u001b[43m        \u001b[49m\u001b[43mschema\u001b[49m\u001b[38;5;241;43m=\u001b[39;49m\u001b[43mschema\u001b[49m\u001b[43m,\u001b[49m\n\u001b[1;32m   1796\u001b[0m \u001b[43m        \u001b[49m\u001b[43mfilesystem\u001b[49m\u001b[38;5;241;43m=\u001b[39;49m\u001b[43mfilesystem\u001b[49m\u001b[43m,\u001b[49m\n\u001b[1;32m   1797\u001b[0m \u001b[43m        \u001b[49m\u001b[43mpartitioning\u001b[49m\u001b[38;5;241;43m=\u001b[39;49m\u001b[43mpartitioning\u001b[49m\u001b[43m,\u001b[49m\n\u001b[1;32m   1798\u001b[0m \u001b[43m        \u001b[49m\u001b[43mmemory_map\u001b[49m\u001b[38;5;241;43m=\u001b[39;49m\u001b[43mmemory_map\u001b[49m\u001b[43m,\u001b[49m\n\u001b[1;32m   1799\u001b[0m \u001b[43m        \u001b[49m\u001b[43mread_dictionary\u001b[49m\u001b[38;5;241;43m=\u001b[39;49m\u001b[43mread_dictionary\u001b[49m\u001b[43m,\u001b[49m\n\u001b[1;32m   1800\u001b[0m \u001b[43m        \u001b[49m\u001b[43mbuffer_size\u001b[49m\u001b[38;5;241;43m=\u001b[39;49m\u001b[43mbuffer_size\u001b[49m\u001b[43m,\u001b[49m\n\u001b[1;32m   1801\u001b[0m \u001b[43m        \u001b[49m\u001b[43mfilters\u001b[49m\u001b[38;5;241;43m=\u001b[39;49m\u001b[43mfilters\u001b[49m\u001b[43m,\u001b[49m\n\u001b[1;32m   1802\u001b[0m \u001b[43m        \u001b[49m\u001b[43mignore_prefixes\u001b[49m\u001b[38;5;241;43m=\u001b[39;49m\u001b[43mignore_prefixes\u001b[49m\u001b[43m,\u001b[49m\n\u001b[1;32m   1803\u001b[0m \u001b[43m        \u001b[49m\u001b[43mpre_buffer\u001b[49m\u001b[38;5;241;43m=\u001b[39;49m\u001b[43mpre_buffer\u001b[49m\u001b[43m,\u001b[49m\n\u001b[1;32m   1804\u001b[0m \u001b[43m        \u001b[49m\u001b[43mcoerce_int96_timestamp_unit\u001b[49m\u001b[38;5;241;43m=\u001b[39;49m\u001b[43mcoerce_int96_timestamp_unit\u001b[49m\u001b[43m,\u001b[49m\n\u001b[1;32m   1805\u001b[0m \u001b[43m        \u001b[49m\u001b[43mdecryption_properties\u001b[49m\u001b[38;5;241;43m=\u001b[39;49m\u001b[43mdecryption_properties\u001b[49m\u001b[43m,\u001b[49m\n\u001b[1;32m   1806\u001b[0m \u001b[43m        \u001b[49m\u001b[43mthrift_string_size_limit\u001b[49m\u001b[38;5;241;43m=\u001b[39;49m\u001b[43mthrift_string_size_limit\u001b[49m\u001b[43m,\u001b[49m\n\u001b[1;32m   1807\u001b[0m \u001b[43m        \u001b[49m\u001b[43mthrift_container_size_limit\u001b[49m\u001b[38;5;241;43m=\u001b[39;49m\u001b[43mthrift_container_size_limit\u001b[49m\u001b[43m,\u001b[49m\n\u001b[1;32m   1808\u001b[0m \u001b[43m        \u001b[49m\u001b[43mpage_checksum_verification\u001b[49m\u001b[38;5;241;43m=\u001b[39;49m\u001b[43mpage_checksum_verification\u001b[49m\u001b[43m,\u001b[49m\n\u001b[1;32m   1809\u001b[0m \u001b[43m    \u001b[49m\u001b[43m)\u001b[49m\n\u001b[1;32m   1810\u001b[0m \u001b[38;5;28;01mexcept\u001b[39;00m \u001b[38;5;167;01mImportError\u001b[39;00m:\n\u001b[1;32m   1811\u001b[0m     \u001b[38;5;66;03m# fall back on ParquetFile for simple cases when pyarrow.dataset\u001b[39;00m\n\u001b[1;32m   1812\u001b[0m     \u001b[38;5;66;03m# module is not available\u001b[39;00m\n\u001b[1;32m   1813\u001b[0m     \u001b[38;5;28;01mif\u001b[39;00m filters \u001b[38;5;129;01mis\u001b[39;00m \u001b[38;5;129;01mnot\u001b[39;00m \u001b[38;5;28;01mNone\u001b[39;00m:\n",
      "File \u001b[0;32m~/miniconda3/envs/graphmaker/lib/python3.11/site-packages/pyarrow/parquet/core.py:1371\u001b[0m, in \u001b[0;36mParquetDataset.__init__\u001b[0;34m(self, path_or_paths, filesystem, schema, filters, read_dictionary, memory_map, buffer_size, partitioning, ignore_prefixes, pre_buffer, coerce_int96_timestamp_unit, decryption_properties, thrift_string_size_limit, thrift_container_size_limit, page_checksum_verification, use_legacy_dataset)\u001b[0m\n\u001b[1;32m   1367\u001b[0m \u001b[38;5;28;01mif\u001b[39;00m partitioning \u001b[38;5;241m==\u001b[39m \u001b[38;5;124m\"\u001b[39m\u001b[38;5;124mhive\u001b[39m\u001b[38;5;124m\"\u001b[39m:\n\u001b[1;32m   1368\u001b[0m     partitioning \u001b[38;5;241m=\u001b[39m ds\u001b[38;5;241m.\u001b[39mHivePartitioning\u001b[38;5;241m.\u001b[39mdiscover(\n\u001b[1;32m   1369\u001b[0m         infer_dictionary\u001b[38;5;241m=\u001b[39m\u001b[38;5;28;01mTrue\u001b[39;00m)\n\u001b[0;32m-> 1371\u001b[0m \u001b[38;5;28mself\u001b[39m\u001b[38;5;241m.\u001b[39m_dataset \u001b[38;5;241m=\u001b[39m \u001b[43mds\u001b[49m\u001b[38;5;241;43m.\u001b[39;49m\u001b[43mdataset\u001b[49m\u001b[43m(\u001b[49m\u001b[43mpath_or_paths\u001b[49m\u001b[43m,\u001b[49m\u001b[43m \u001b[49m\u001b[43mfilesystem\u001b[49m\u001b[38;5;241;43m=\u001b[39;49m\u001b[43mfilesystem\u001b[49m\u001b[43m,\u001b[49m\n\u001b[1;32m   1372\u001b[0m \u001b[43m                           \u001b[49m\u001b[43mschema\u001b[49m\u001b[38;5;241;43m=\u001b[39;49m\u001b[43mschema\u001b[49m\u001b[43m,\u001b[49m\u001b[43m \u001b[49m\u001b[38;5;28;43mformat\u001b[39;49m\u001b[38;5;241;43m=\u001b[39;49m\u001b[43mparquet_format\u001b[49m\u001b[43m,\u001b[49m\n\u001b[1;32m   1373\u001b[0m \u001b[43m                           \u001b[49m\u001b[43mpartitioning\u001b[49m\u001b[38;5;241;43m=\u001b[39;49m\u001b[43mpartitioning\u001b[49m\u001b[43m,\u001b[49m\n\u001b[1;32m   1374\u001b[0m \u001b[43m                           \u001b[49m\u001b[43mignore_prefixes\u001b[49m\u001b[38;5;241;43m=\u001b[39;49m\u001b[43mignore_prefixes\u001b[49m\u001b[43m)\u001b[49m\n",
      "File \u001b[0;32m~/miniconda3/envs/graphmaker/lib/python3.11/site-packages/pyarrow/dataset.py:794\u001b[0m, in \u001b[0;36mdataset\u001b[0;34m(source, schema, format, filesystem, partitioning, partition_base_dir, exclude_invalid_files, ignore_prefixes)\u001b[0m\n\u001b[1;32m    783\u001b[0m kwargs \u001b[38;5;241m=\u001b[39m \u001b[38;5;28mdict\u001b[39m(\n\u001b[1;32m    784\u001b[0m     schema\u001b[38;5;241m=\u001b[39mschema,\n\u001b[1;32m    785\u001b[0m     filesystem\u001b[38;5;241m=\u001b[39mfilesystem,\n\u001b[0;32m   (...)\u001b[0m\n\u001b[1;32m    790\u001b[0m     selector_ignore_prefixes\u001b[38;5;241m=\u001b[39mignore_prefixes\n\u001b[1;32m    791\u001b[0m )\n\u001b[1;32m    793\u001b[0m \u001b[38;5;28;01mif\u001b[39;00m _is_path_like(source):\n\u001b[0;32m--> 794\u001b[0m     \u001b[38;5;28;01mreturn\u001b[39;00m \u001b[43m_filesystem_dataset\u001b[49m\u001b[43m(\u001b[49m\u001b[43msource\u001b[49m\u001b[43m,\u001b[49m\u001b[43m \u001b[49m\u001b[38;5;241;43m*\u001b[39;49m\u001b[38;5;241;43m*\u001b[39;49m\u001b[43mkwargs\u001b[49m\u001b[43m)\u001b[49m\n\u001b[1;32m    795\u001b[0m \u001b[38;5;28;01melif\u001b[39;00m \u001b[38;5;28misinstance\u001b[39m(source, (\u001b[38;5;28mtuple\u001b[39m, \u001b[38;5;28mlist\u001b[39m)):\n\u001b[1;32m    796\u001b[0m     \u001b[38;5;28;01mif\u001b[39;00m \u001b[38;5;28mall\u001b[39m(_is_path_like(elem) \u001b[38;5;129;01mor\u001b[39;00m \u001b[38;5;28misinstance\u001b[39m(elem, FileInfo) \u001b[38;5;28;01mfor\u001b[39;00m elem \u001b[38;5;129;01min\u001b[39;00m source):\n",
      "File \u001b[0;32m~/miniconda3/envs/graphmaker/lib/python3.11/site-packages/pyarrow/dataset.py:476\u001b[0m, in \u001b[0;36m_filesystem_dataset\u001b[0;34m(source, schema, filesystem, partitioning, format, partition_base_dir, exclude_invalid_files, selector_ignore_prefixes)\u001b[0m\n\u001b[1;32m    474\u001b[0m         fs, paths_or_selector \u001b[38;5;241m=\u001b[39m _ensure_multiple_sources(source, filesystem)\n\u001b[1;32m    475\u001b[0m \u001b[38;5;28;01melse\u001b[39;00m:\n\u001b[0;32m--> 476\u001b[0m     fs, paths_or_selector \u001b[38;5;241m=\u001b[39m \u001b[43m_ensure_single_source\u001b[49m\u001b[43m(\u001b[49m\u001b[43msource\u001b[49m\u001b[43m,\u001b[49m\u001b[43m \u001b[49m\u001b[43mfilesystem\u001b[49m\u001b[43m)\u001b[49m\n\u001b[1;32m    478\u001b[0m options \u001b[38;5;241m=\u001b[39m FileSystemFactoryOptions(\n\u001b[1;32m    479\u001b[0m     partitioning\u001b[38;5;241m=\u001b[39mpartitioning,\n\u001b[1;32m    480\u001b[0m     partition_base_dir\u001b[38;5;241m=\u001b[39mpartition_base_dir,\n\u001b[1;32m    481\u001b[0m     exclude_invalid_files\u001b[38;5;241m=\u001b[39mexclude_invalid_files,\n\u001b[1;32m    482\u001b[0m     selector_ignore_prefixes\u001b[38;5;241m=\u001b[39mselector_ignore_prefixes\n\u001b[1;32m    483\u001b[0m )\n\u001b[1;32m    484\u001b[0m factory \u001b[38;5;241m=\u001b[39m FileSystemDatasetFactory(fs, paths_or_selector, \u001b[38;5;28mformat\u001b[39m, options)\n",
      "File \u001b[0;32m~/miniconda3/envs/graphmaker/lib/python3.11/site-packages/pyarrow/dataset.py:432\u001b[0m, in \u001b[0;36m_ensure_single_source\u001b[0;34m(path, filesystem)\u001b[0m\n\u001b[1;32m    429\u001b[0m path \u001b[38;5;241m=\u001b[39m filesystem\u001b[38;5;241m.\u001b[39mnormalize_path(path)\n\u001b[1;32m    431\u001b[0m \u001b[38;5;66;03m# retrieve the file descriptor\u001b[39;00m\n\u001b[0;32m--> 432\u001b[0m file_info \u001b[38;5;241m=\u001b[39m \u001b[43mfilesystem\u001b[49m\u001b[38;5;241;43m.\u001b[39;49m\u001b[43mget_file_info\u001b[49m\u001b[43m(\u001b[49m\u001b[43mpath\u001b[49m\u001b[43m)\u001b[49m\n\u001b[1;32m    434\u001b[0m \u001b[38;5;66;03m# depending on the path type either return with a recursive\u001b[39;00m\n\u001b[1;32m    435\u001b[0m \u001b[38;5;66;03m# directory selector or as a list containing a single file\u001b[39;00m\n\u001b[1;32m    436\u001b[0m \u001b[38;5;28;01mif\u001b[39;00m file_info\u001b[38;5;241m.\u001b[39mtype \u001b[38;5;241m==\u001b[39m FileType\u001b[38;5;241m.\u001b[39mDirectory:\n",
      "File \u001b[0;32m~/miniconda3/envs/graphmaker/lib/python3.11/site-packages/pyarrow/_fs.pyx:590\u001b[0m, in \u001b[0;36mpyarrow._fs.FileSystem.get_file_info\u001b[0;34m()\u001b[0m\n",
      "File \u001b[0;32m~/miniconda3/envs/graphmaker/lib/python3.11/site-packages/pyarrow/error.pxi:155\u001b[0m, in \u001b[0;36mpyarrow.lib.pyarrow_internal_check_status\u001b[0;34m()\u001b[0m\n",
      "File \u001b[0;32m~/miniconda3/envs/graphmaker/lib/python3.11/site-packages/pyarrow/error.pxi:89\u001b[0m, in \u001b[0;36mpyarrow.lib.check_status\u001b[0;34m()\u001b[0m\n",
      "File \u001b[0;32m~/miniconda3/envs/graphmaker/lib/python3.11/site-packages/pyarrow/_fs.pyx:1498\u001b[0m, in \u001b[0;36mpyarrow._fs._cb_get_file_info\u001b[0;34m()\u001b[0m\n",
      "File \u001b[0;32m~/miniconda3/envs/graphmaker/lib/python3.11/site-packages/pyarrow/fs.py:322\u001b[0m, in \u001b[0;36mFSSpecHandler.get_file_info\u001b[0;34m(self, paths)\u001b[0m\n\u001b[1;32m    320\u001b[0m \u001b[38;5;28;01mfor\u001b[39;00m path \u001b[38;5;129;01min\u001b[39;00m paths:\n\u001b[1;32m    321\u001b[0m     \u001b[38;5;28;01mtry\u001b[39;00m:\n\u001b[0;32m--> 322\u001b[0m         info \u001b[38;5;241m=\u001b[39m \u001b[38;5;28;43mself\u001b[39;49m\u001b[38;5;241;43m.\u001b[39;49m\u001b[43mfs\u001b[49m\u001b[38;5;241;43m.\u001b[39;49m\u001b[43minfo\u001b[49m\u001b[43m(\u001b[49m\u001b[43mpath\u001b[49m\u001b[43m)\u001b[49m\n\u001b[1;32m    323\u001b[0m     \u001b[38;5;28;01mexcept\u001b[39;00m \u001b[38;5;167;01mFileNotFoundError\u001b[39;00m:\n\u001b[1;32m    324\u001b[0m         infos\u001b[38;5;241m.\u001b[39mappend(FileInfo(path, FileType\u001b[38;5;241m.\u001b[39mNotFound))\n",
      "File \u001b[0;32m~/miniconda3/envs/graphmaker/lib/python3.11/site-packages/huggingface_hub/hf_file_system.py:532\u001b[0m, in \u001b[0;36mHfFileSystem.info\u001b[0;34m(self, path, refresh, revision, **kwargs)\u001b[0m\n\u001b[1;32m    530\u001b[0m     out \u001b[38;5;241m=\u001b[39m out1[\u001b[38;5;241m0\u001b[39m]\n\u001b[1;32m    531\u001b[0m \u001b[38;5;28;01mif\u001b[39;00m refresh \u001b[38;5;129;01mor\u001b[39;00m out \u001b[38;5;129;01mis\u001b[39;00m \u001b[38;5;28;01mNone\u001b[39;00m \u001b[38;5;129;01mor\u001b[39;00m (expand_info \u001b[38;5;129;01mand\u001b[39;00m out \u001b[38;5;129;01mand\u001b[39;00m out[\u001b[38;5;124m\"\u001b[39m\u001b[38;5;124mlast_commit\u001b[39m\u001b[38;5;124m\"\u001b[39m] \u001b[38;5;129;01mis\u001b[39;00m \u001b[38;5;28;01mNone\u001b[39;00m):\n\u001b[0;32m--> 532\u001b[0m     paths_info \u001b[38;5;241m=\u001b[39m \u001b[38;5;28;43mself\u001b[39;49m\u001b[38;5;241;43m.\u001b[39;49m\u001b[43m_api\u001b[49m\u001b[38;5;241;43m.\u001b[39;49m\u001b[43mget_paths_info\u001b[49m\u001b[43m(\u001b[49m\n\u001b[1;32m    533\u001b[0m \u001b[43m        \u001b[49m\u001b[43mresolved_path\u001b[49m\u001b[38;5;241;43m.\u001b[39;49m\u001b[43mrepo_id\u001b[49m\u001b[43m,\u001b[49m\n\u001b[1;32m    534\u001b[0m \u001b[43m        \u001b[49m\u001b[43mresolved_path\u001b[49m\u001b[38;5;241;43m.\u001b[39;49m\u001b[43mpath_in_repo\u001b[49m\u001b[43m,\u001b[49m\n\u001b[1;32m    535\u001b[0m \u001b[43m        \u001b[49m\u001b[43mexpand\u001b[49m\u001b[38;5;241;43m=\u001b[39;49m\u001b[43mexpand_info\u001b[49m\u001b[43m,\u001b[49m\n\u001b[1;32m    536\u001b[0m \u001b[43m        \u001b[49m\u001b[43mrevision\u001b[49m\u001b[38;5;241;43m=\u001b[39;49m\u001b[43mresolved_path\u001b[49m\u001b[38;5;241;43m.\u001b[39;49m\u001b[43mrevision\u001b[49m\u001b[43m,\u001b[49m\n\u001b[1;32m    537\u001b[0m \u001b[43m        \u001b[49m\u001b[43mrepo_type\u001b[49m\u001b[38;5;241;43m=\u001b[39;49m\u001b[43mresolved_path\u001b[49m\u001b[38;5;241;43m.\u001b[39;49m\u001b[43mrepo_type\u001b[49m\u001b[43m,\u001b[49m\n\u001b[1;32m    538\u001b[0m \u001b[43m    \u001b[49m\u001b[43m)\u001b[49m\n\u001b[1;32m    539\u001b[0m     \u001b[38;5;28;01mif\u001b[39;00m \u001b[38;5;129;01mnot\u001b[39;00m paths_info:\n\u001b[1;32m    540\u001b[0m         _raise_file_not_found(path, \u001b[38;5;28;01mNone\u001b[39;00m)\n",
      "File \u001b[0;32m~/miniconda3/envs/graphmaker/lib/python3.11/site-packages/huggingface_hub/utils/_validators.py:114\u001b[0m, in \u001b[0;36mvalidate_hf_hub_args.<locals>._inner_fn\u001b[0;34m(*args, **kwargs)\u001b[0m\n\u001b[1;32m    111\u001b[0m \u001b[38;5;28;01mif\u001b[39;00m check_use_auth_token:\n\u001b[1;32m    112\u001b[0m     kwargs \u001b[38;5;241m=\u001b[39m smoothly_deprecate_use_auth_token(fn_name\u001b[38;5;241m=\u001b[39mfn\u001b[38;5;241m.\u001b[39m\u001b[38;5;18m__name__\u001b[39m, has_token\u001b[38;5;241m=\u001b[39mhas_token, kwargs\u001b[38;5;241m=\u001b[39mkwargs)\n\u001b[0;32m--> 114\u001b[0m \u001b[38;5;28;01mreturn\u001b[39;00m \u001b[43mfn\u001b[49m\u001b[43m(\u001b[49m\u001b[38;5;241;43m*\u001b[39;49m\u001b[43margs\u001b[49m\u001b[43m,\u001b[49m\u001b[43m \u001b[49m\u001b[38;5;241;43m*\u001b[39;49m\u001b[38;5;241;43m*\u001b[39;49m\u001b[43mkwargs\u001b[49m\u001b[43m)\u001b[49m\n",
      "File \u001b[0;32m~/miniconda3/envs/graphmaker/lib/python3.11/site-packages/huggingface_hub/hf_api.py:3229\u001b[0m, in \u001b[0;36mHfApi.get_paths_info\u001b[0;34m(self, repo_id, paths, expand, revision, repo_type, token)\u001b[0m\n\u001b[1;32m   3226\u001b[0m revision \u001b[38;5;241m=\u001b[39m quote(revision, safe\u001b[38;5;241m=\u001b[39m\u001b[38;5;124m\"\u001b[39m\u001b[38;5;124m\"\u001b[39m) \u001b[38;5;28;01mif\u001b[39;00m revision \u001b[38;5;129;01mis\u001b[39;00m \u001b[38;5;129;01mnot\u001b[39;00m \u001b[38;5;28;01mNone\u001b[39;00m \u001b[38;5;28;01melse\u001b[39;00m constants\u001b[38;5;241m.\u001b[39mDEFAULT_REVISION\n\u001b[1;32m   3227\u001b[0m headers \u001b[38;5;241m=\u001b[39m \u001b[38;5;28mself\u001b[39m\u001b[38;5;241m.\u001b[39m_build_hf_headers(token\u001b[38;5;241m=\u001b[39mtoken)\n\u001b[0;32m-> 3229\u001b[0m response \u001b[38;5;241m=\u001b[39m \u001b[43mget_session\u001b[49m\u001b[43m(\u001b[49m\u001b[43m)\u001b[49m\u001b[38;5;241;43m.\u001b[39;49m\u001b[43mpost\u001b[49m\u001b[43m(\u001b[49m\n\u001b[1;32m   3230\u001b[0m \u001b[43m    \u001b[49m\u001b[38;5;124;43mf\u001b[39;49m\u001b[38;5;124;43m\"\u001b[39;49m\u001b[38;5;132;43;01m{\u001b[39;49;00m\u001b[38;5;28;43mself\u001b[39;49m\u001b[38;5;241;43m.\u001b[39;49m\u001b[43mendpoint\u001b[49m\u001b[38;5;132;43;01m}\u001b[39;49;00m\u001b[38;5;124;43m/api/\u001b[39;49m\u001b[38;5;132;43;01m{\u001b[39;49;00m\u001b[43mrepo_type\u001b[49m\u001b[38;5;132;43;01m}\u001b[39;49;00m\u001b[38;5;124;43ms/\u001b[39;49m\u001b[38;5;132;43;01m{\u001b[39;49;00m\u001b[43mrepo_id\u001b[49m\u001b[38;5;132;43;01m}\u001b[39;49;00m\u001b[38;5;124;43m/paths-info/\u001b[39;49m\u001b[38;5;132;43;01m{\u001b[39;49;00m\u001b[43mrevision\u001b[49m\u001b[38;5;132;43;01m}\u001b[39;49;00m\u001b[38;5;124;43m\"\u001b[39;49m\u001b[43m,\u001b[49m\n\u001b[1;32m   3231\u001b[0m \u001b[43m    \u001b[49m\u001b[43mdata\u001b[49m\u001b[38;5;241;43m=\u001b[39;49m\u001b[43m{\u001b[49m\n\u001b[1;32m   3232\u001b[0m \u001b[43m        \u001b[49m\u001b[38;5;124;43m\"\u001b[39;49m\u001b[38;5;124;43mpaths\u001b[39;49m\u001b[38;5;124;43m\"\u001b[39;49m\u001b[43m:\u001b[49m\u001b[43m \u001b[49m\u001b[43mpaths\u001b[49m\u001b[43m \u001b[49m\u001b[38;5;28;43;01mif\u001b[39;49;00m\u001b[43m \u001b[49m\u001b[38;5;28;43misinstance\u001b[39;49m\u001b[43m(\u001b[49m\u001b[43mpaths\u001b[49m\u001b[43m,\u001b[49m\u001b[43m \u001b[49m\u001b[38;5;28;43mlist\u001b[39;49m\u001b[43m)\u001b[49m\u001b[43m \u001b[49m\u001b[38;5;28;43;01melse\u001b[39;49;00m\u001b[43m \u001b[49m\u001b[43m[\u001b[49m\u001b[43mpaths\u001b[49m\u001b[43m]\u001b[49m\u001b[43m,\u001b[49m\n\u001b[1;32m   3233\u001b[0m \u001b[43m        \u001b[49m\u001b[38;5;124;43m\"\u001b[39;49m\u001b[38;5;124;43mexpand\u001b[39;49m\u001b[38;5;124;43m\"\u001b[39;49m\u001b[43m:\u001b[49m\u001b[43m \u001b[49m\u001b[43mexpand\u001b[49m\u001b[43m,\u001b[49m\n\u001b[1;32m   3234\u001b[0m \u001b[43m    \u001b[49m\u001b[43m}\u001b[49m\u001b[43m,\u001b[49m\n\u001b[1;32m   3235\u001b[0m \u001b[43m    \u001b[49m\u001b[43mheaders\u001b[49m\u001b[38;5;241;43m=\u001b[39;49m\u001b[43mheaders\u001b[49m\u001b[43m,\u001b[49m\n\u001b[1;32m   3236\u001b[0m \u001b[43m\u001b[49m\u001b[43m)\u001b[49m\n\u001b[1;32m   3237\u001b[0m hf_raise_for_status(response)\n\u001b[1;32m   3238\u001b[0m paths_info \u001b[38;5;241m=\u001b[39m response\u001b[38;5;241m.\u001b[39mjson()\n",
      "File \u001b[0;32m~/miniconda3/envs/graphmaker/lib/python3.11/site-packages/requests/sessions.py:637\u001b[0m, in \u001b[0;36mSession.post\u001b[0;34m(self, url, data, json, **kwargs)\u001b[0m\n\u001b[1;32m    626\u001b[0m \u001b[38;5;28;01mdef\u001b[39;00m \u001b[38;5;21mpost\u001b[39m(\u001b[38;5;28mself\u001b[39m, url, data\u001b[38;5;241m=\u001b[39m\u001b[38;5;28;01mNone\u001b[39;00m, json\u001b[38;5;241m=\u001b[39m\u001b[38;5;28;01mNone\u001b[39;00m, \u001b[38;5;241m*\u001b[39m\u001b[38;5;241m*\u001b[39mkwargs):\n\u001b[1;32m    627\u001b[0m \u001b[38;5;250m    \u001b[39m\u001b[38;5;124mr\u001b[39m\u001b[38;5;124;03m\"\"\"Sends a POST request. Returns :class:`Response` object.\u001b[39;00m\n\u001b[1;32m    628\u001b[0m \n\u001b[1;32m    629\u001b[0m \u001b[38;5;124;03m    :param url: URL for the new :class:`Request` object.\u001b[39;00m\n\u001b[0;32m   (...)\u001b[0m\n\u001b[1;32m    634\u001b[0m \u001b[38;5;124;03m    :rtype: requests.Response\u001b[39;00m\n\u001b[1;32m    635\u001b[0m \u001b[38;5;124;03m    \"\"\"\u001b[39;00m\n\u001b[0;32m--> 637\u001b[0m     \u001b[38;5;28;01mreturn\u001b[39;00m \u001b[38;5;28;43mself\u001b[39;49m\u001b[38;5;241;43m.\u001b[39;49m\u001b[43mrequest\u001b[49m\u001b[43m(\u001b[49m\u001b[38;5;124;43m\"\u001b[39;49m\u001b[38;5;124;43mPOST\u001b[39;49m\u001b[38;5;124;43m\"\u001b[39;49m\u001b[43m,\u001b[49m\u001b[43m \u001b[49m\u001b[43murl\u001b[49m\u001b[43m,\u001b[49m\u001b[43m \u001b[49m\u001b[43mdata\u001b[49m\u001b[38;5;241;43m=\u001b[39;49m\u001b[43mdata\u001b[49m\u001b[43m,\u001b[49m\u001b[43m \u001b[49m\u001b[43mjson\u001b[49m\u001b[38;5;241;43m=\u001b[39;49m\u001b[43mjson\u001b[49m\u001b[43m,\u001b[49m\u001b[43m \u001b[49m\u001b[38;5;241;43m*\u001b[39;49m\u001b[38;5;241;43m*\u001b[39;49m\u001b[43mkwargs\u001b[49m\u001b[43m)\u001b[49m\n",
      "File \u001b[0;32m~/miniconda3/envs/graphmaker/lib/python3.11/site-packages/requests/sessions.py:589\u001b[0m, in \u001b[0;36mSession.request\u001b[0;34m(self, method, url, params, data, headers, cookies, files, auth, timeout, allow_redirects, proxies, hooks, stream, verify, cert, json)\u001b[0m\n\u001b[1;32m    584\u001b[0m send_kwargs \u001b[38;5;241m=\u001b[39m {\n\u001b[1;32m    585\u001b[0m     \u001b[38;5;124m\"\u001b[39m\u001b[38;5;124mtimeout\u001b[39m\u001b[38;5;124m\"\u001b[39m: timeout,\n\u001b[1;32m    586\u001b[0m     \u001b[38;5;124m\"\u001b[39m\u001b[38;5;124mallow_redirects\u001b[39m\u001b[38;5;124m\"\u001b[39m: allow_redirects,\n\u001b[1;32m    587\u001b[0m }\n\u001b[1;32m    588\u001b[0m send_kwargs\u001b[38;5;241m.\u001b[39mupdate(settings)\n\u001b[0;32m--> 589\u001b[0m resp \u001b[38;5;241m=\u001b[39m \u001b[38;5;28;43mself\u001b[39;49m\u001b[38;5;241;43m.\u001b[39;49m\u001b[43msend\u001b[49m\u001b[43m(\u001b[49m\u001b[43mprep\u001b[49m\u001b[43m,\u001b[49m\u001b[43m \u001b[49m\u001b[38;5;241;43m*\u001b[39;49m\u001b[38;5;241;43m*\u001b[39;49m\u001b[43msend_kwargs\u001b[49m\u001b[43m)\u001b[49m\n\u001b[1;32m    591\u001b[0m \u001b[38;5;28;01mreturn\u001b[39;00m resp\n",
      "File \u001b[0;32m~/miniconda3/envs/graphmaker/lib/python3.11/site-packages/requests/sessions.py:703\u001b[0m, in \u001b[0;36mSession.send\u001b[0;34m(self, request, **kwargs)\u001b[0m\n\u001b[1;32m    700\u001b[0m start \u001b[38;5;241m=\u001b[39m preferred_clock()\n\u001b[1;32m    702\u001b[0m \u001b[38;5;66;03m# Send the request\u001b[39;00m\n\u001b[0;32m--> 703\u001b[0m r \u001b[38;5;241m=\u001b[39m \u001b[43madapter\u001b[49m\u001b[38;5;241;43m.\u001b[39;49m\u001b[43msend\u001b[49m\u001b[43m(\u001b[49m\u001b[43mrequest\u001b[49m\u001b[43m,\u001b[49m\u001b[43m \u001b[49m\u001b[38;5;241;43m*\u001b[39;49m\u001b[38;5;241;43m*\u001b[39;49m\u001b[43mkwargs\u001b[49m\u001b[43m)\u001b[49m\n\u001b[1;32m    705\u001b[0m \u001b[38;5;66;03m# Total elapsed time of the request (approximately)\u001b[39;00m\n\u001b[1;32m    706\u001b[0m elapsed \u001b[38;5;241m=\u001b[39m preferred_clock() \u001b[38;5;241m-\u001b[39m start\n",
      "File \u001b[0;32m~/miniconda3/envs/graphmaker/lib/python3.11/site-packages/huggingface_hub/utils/_http.py:93\u001b[0m, in \u001b[0;36mUniqueRequestIdAdapter.send\u001b[0;34m(self, request, *args, **kwargs)\u001b[0m\n\u001b[1;32m     91\u001b[0m \u001b[38;5;250m\u001b[39m\u001b[38;5;124;03m\"\"\"Catch any RequestException to append request id to the error message for debugging.\"\"\"\u001b[39;00m\n\u001b[1;32m     92\u001b[0m \u001b[38;5;28;01mtry\u001b[39;00m:\n\u001b[0;32m---> 93\u001b[0m     \u001b[38;5;28;01mreturn\u001b[39;00m \u001b[38;5;28;43msuper\u001b[39;49m\u001b[43m(\u001b[49m\u001b[43m)\u001b[49m\u001b[38;5;241;43m.\u001b[39;49m\u001b[43msend\u001b[49m\u001b[43m(\u001b[49m\u001b[43mrequest\u001b[49m\u001b[43m,\u001b[49m\u001b[43m \u001b[49m\u001b[38;5;241;43m*\u001b[39;49m\u001b[43margs\u001b[49m\u001b[43m,\u001b[49m\u001b[43m \u001b[49m\u001b[38;5;241;43m*\u001b[39;49m\u001b[38;5;241;43m*\u001b[39;49m\u001b[43mkwargs\u001b[49m\u001b[43m)\u001b[49m\n\u001b[1;32m     94\u001b[0m \u001b[38;5;28;01mexcept\u001b[39;00m requests\u001b[38;5;241m.\u001b[39mRequestException \u001b[38;5;28;01mas\u001b[39;00m e:\n\u001b[1;32m     95\u001b[0m     request_id \u001b[38;5;241m=\u001b[39m request\u001b[38;5;241m.\u001b[39mheaders\u001b[38;5;241m.\u001b[39mget(X_AMZN_TRACE_ID)\n",
      "File \u001b[0;32m~/miniconda3/envs/graphmaker/lib/python3.11/site-packages/requests/adapters.py:667\u001b[0m, in \u001b[0;36mHTTPAdapter.send\u001b[0;34m(self, request, stream, timeout, verify, cert, proxies)\u001b[0m\n\u001b[1;32m    664\u001b[0m     timeout \u001b[38;5;241m=\u001b[39m TimeoutSauce(connect\u001b[38;5;241m=\u001b[39mtimeout, read\u001b[38;5;241m=\u001b[39mtimeout)\n\u001b[1;32m    666\u001b[0m \u001b[38;5;28;01mtry\u001b[39;00m:\n\u001b[0;32m--> 667\u001b[0m     resp \u001b[38;5;241m=\u001b[39m \u001b[43mconn\u001b[49m\u001b[38;5;241;43m.\u001b[39;49m\u001b[43murlopen\u001b[49m\u001b[43m(\u001b[49m\n\u001b[1;32m    668\u001b[0m \u001b[43m        \u001b[49m\u001b[43mmethod\u001b[49m\u001b[38;5;241;43m=\u001b[39;49m\u001b[43mrequest\u001b[49m\u001b[38;5;241;43m.\u001b[39;49m\u001b[43mmethod\u001b[49m\u001b[43m,\u001b[49m\n\u001b[1;32m    669\u001b[0m \u001b[43m        \u001b[49m\u001b[43murl\u001b[49m\u001b[38;5;241;43m=\u001b[39;49m\u001b[43murl\u001b[49m\u001b[43m,\u001b[49m\n\u001b[1;32m    670\u001b[0m \u001b[43m        \u001b[49m\u001b[43mbody\u001b[49m\u001b[38;5;241;43m=\u001b[39;49m\u001b[43mrequest\u001b[49m\u001b[38;5;241;43m.\u001b[39;49m\u001b[43mbody\u001b[49m\u001b[43m,\u001b[49m\n\u001b[1;32m    671\u001b[0m \u001b[43m        \u001b[49m\u001b[43mheaders\u001b[49m\u001b[38;5;241;43m=\u001b[39;49m\u001b[43mrequest\u001b[49m\u001b[38;5;241;43m.\u001b[39;49m\u001b[43mheaders\u001b[49m\u001b[43m,\u001b[49m\n\u001b[1;32m    672\u001b[0m \u001b[43m        \u001b[49m\u001b[43mredirect\u001b[49m\u001b[38;5;241;43m=\u001b[39;49m\u001b[38;5;28;43;01mFalse\u001b[39;49;00m\u001b[43m,\u001b[49m\n\u001b[1;32m    673\u001b[0m \u001b[43m        \u001b[49m\u001b[43massert_same_host\u001b[49m\u001b[38;5;241;43m=\u001b[39;49m\u001b[38;5;28;43;01mFalse\u001b[39;49;00m\u001b[43m,\u001b[49m\n\u001b[1;32m    674\u001b[0m \u001b[43m        \u001b[49m\u001b[43mpreload_content\u001b[49m\u001b[38;5;241;43m=\u001b[39;49m\u001b[38;5;28;43;01mFalse\u001b[39;49;00m\u001b[43m,\u001b[49m\n\u001b[1;32m    675\u001b[0m \u001b[43m        \u001b[49m\u001b[43mdecode_content\u001b[49m\u001b[38;5;241;43m=\u001b[39;49m\u001b[38;5;28;43;01mFalse\u001b[39;49;00m\u001b[43m,\u001b[49m\n\u001b[1;32m    676\u001b[0m \u001b[43m        \u001b[49m\u001b[43mretries\u001b[49m\u001b[38;5;241;43m=\u001b[39;49m\u001b[38;5;28;43mself\u001b[39;49m\u001b[38;5;241;43m.\u001b[39;49m\u001b[43mmax_retries\u001b[49m\u001b[43m,\u001b[49m\n\u001b[1;32m    677\u001b[0m \u001b[43m        \u001b[49m\u001b[43mtimeout\u001b[49m\u001b[38;5;241;43m=\u001b[39;49m\u001b[43mtimeout\u001b[49m\u001b[43m,\u001b[49m\n\u001b[1;32m    678\u001b[0m \u001b[43m        \u001b[49m\u001b[43mchunked\u001b[49m\u001b[38;5;241;43m=\u001b[39;49m\u001b[43mchunked\u001b[49m\u001b[43m,\u001b[49m\n\u001b[1;32m    679\u001b[0m \u001b[43m    \u001b[49m\u001b[43m)\u001b[49m\n\u001b[1;32m    681\u001b[0m \u001b[38;5;28;01mexcept\u001b[39;00m (ProtocolError, \u001b[38;5;167;01mOSError\u001b[39;00m) \u001b[38;5;28;01mas\u001b[39;00m err:\n\u001b[1;32m    682\u001b[0m     \u001b[38;5;28;01mraise\u001b[39;00m \u001b[38;5;167;01mConnectionError\u001b[39;00m(err, request\u001b[38;5;241m=\u001b[39mrequest)\n",
      "File \u001b[0;32m~/miniconda3/envs/graphmaker/lib/python3.11/site-packages/urllib3/connectionpool.py:789\u001b[0m, in \u001b[0;36mHTTPConnectionPool.urlopen\u001b[0;34m(self, method, url, body, headers, retries, redirect, assert_same_host, timeout, pool_timeout, release_conn, chunked, body_pos, preload_content, decode_content, **response_kw)\u001b[0m\n\u001b[1;32m    786\u001b[0m response_conn \u001b[38;5;241m=\u001b[39m conn \u001b[38;5;28;01mif\u001b[39;00m \u001b[38;5;129;01mnot\u001b[39;00m release_conn \u001b[38;5;28;01melse\u001b[39;00m \u001b[38;5;28;01mNone\u001b[39;00m\n\u001b[1;32m    788\u001b[0m \u001b[38;5;66;03m# Make the request on the HTTPConnection object\u001b[39;00m\n\u001b[0;32m--> 789\u001b[0m response \u001b[38;5;241m=\u001b[39m \u001b[38;5;28;43mself\u001b[39;49m\u001b[38;5;241;43m.\u001b[39;49m\u001b[43m_make_request\u001b[49m\u001b[43m(\u001b[49m\n\u001b[1;32m    790\u001b[0m \u001b[43m    \u001b[49m\u001b[43mconn\u001b[49m\u001b[43m,\u001b[49m\n\u001b[1;32m    791\u001b[0m \u001b[43m    \u001b[49m\u001b[43mmethod\u001b[49m\u001b[43m,\u001b[49m\n\u001b[1;32m    792\u001b[0m \u001b[43m    \u001b[49m\u001b[43murl\u001b[49m\u001b[43m,\u001b[49m\n\u001b[1;32m    793\u001b[0m \u001b[43m    \u001b[49m\u001b[43mtimeout\u001b[49m\u001b[38;5;241;43m=\u001b[39;49m\u001b[43mtimeout_obj\u001b[49m\u001b[43m,\u001b[49m\n\u001b[1;32m    794\u001b[0m \u001b[43m    \u001b[49m\u001b[43mbody\u001b[49m\u001b[38;5;241;43m=\u001b[39;49m\u001b[43mbody\u001b[49m\u001b[43m,\u001b[49m\n\u001b[1;32m    795\u001b[0m \u001b[43m    \u001b[49m\u001b[43mheaders\u001b[49m\u001b[38;5;241;43m=\u001b[39;49m\u001b[43mheaders\u001b[49m\u001b[43m,\u001b[49m\n\u001b[1;32m    796\u001b[0m \u001b[43m    \u001b[49m\u001b[43mchunked\u001b[49m\u001b[38;5;241;43m=\u001b[39;49m\u001b[43mchunked\u001b[49m\u001b[43m,\u001b[49m\n\u001b[1;32m    797\u001b[0m \u001b[43m    \u001b[49m\u001b[43mretries\u001b[49m\u001b[38;5;241;43m=\u001b[39;49m\u001b[43mretries\u001b[49m\u001b[43m,\u001b[49m\n\u001b[1;32m    798\u001b[0m \u001b[43m    \u001b[49m\u001b[43mresponse_conn\u001b[49m\u001b[38;5;241;43m=\u001b[39;49m\u001b[43mresponse_conn\u001b[49m\u001b[43m,\u001b[49m\n\u001b[1;32m    799\u001b[0m \u001b[43m    \u001b[49m\u001b[43mpreload_content\u001b[49m\u001b[38;5;241;43m=\u001b[39;49m\u001b[43mpreload_content\u001b[49m\u001b[43m,\u001b[49m\n\u001b[1;32m    800\u001b[0m \u001b[43m    \u001b[49m\u001b[43mdecode_content\u001b[49m\u001b[38;5;241;43m=\u001b[39;49m\u001b[43mdecode_content\u001b[49m\u001b[43m,\u001b[49m\n\u001b[1;32m    801\u001b[0m \u001b[43m    \u001b[49m\u001b[38;5;241;43m*\u001b[39;49m\u001b[38;5;241;43m*\u001b[39;49m\u001b[43mresponse_kw\u001b[49m\u001b[43m,\u001b[49m\n\u001b[1;32m    802\u001b[0m \u001b[43m\u001b[49m\u001b[43m)\u001b[49m\n\u001b[1;32m    804\u001b[0m \u001b[38;5;66;03m# Everything went great!\u001b[39;00m\n\u001b[1;32m    805\u001b[0m clean_exit \u001b[38;5;241m=\u001b[39m \u001b[38;5;28;01mTrue\u001b[39;00m\n",
      "File \u001b[0;32m~/miniconda3/envs/graphmaker/lib/python3.11/site-packages/urllib3/connectionpool.py:536\u001b[0m, in \u001b[0;36mHTTPConnectionPool._make_request\u001b[0;34m(self, conn, method, url, body, headers, retries, timeout, chunked, response_conn, preload_content, decode_content, enforce_content_length)\u001b[0m\n\u001b[1;32m    534\u001b[0m \u001b[38;5;66;03m# Receive the response from the server\u001b[39;00m\n\u001b[1;32m    535\u001b[0m \u001b[38;5;28;01mtry\u001b[39;00m:\n\u001b[0;32m--> 536\u001b[0m     response \u001b[38;5;241m=\u001b[39m \u001b[43mconn\u001b[49m\u001b[38;5;241;43m.\u001b[39;49m\u001b[43mgetresponse\u001b[49m\u001b[43m(\u001b[49m\u001b[43m)\u001b[49m\n\u001b[1;32m    537\u001b[0m \u001b[38;5;28;01mexcept\u001b[39;00m (BaseSSLError, \u001b[38;5;167;01mOSError\u001b[39;00m) \u001b[38;5;28;01mas\u001b[39;00m e:\n\u001b[1;32m    538\u001b[0m     \u001b[38;5;28mself\u001b[39m\u001b[38;5;241m.\u001b[39m_raise_timeout(err\u001b[38;5;241m=\u001b[39me, url\u001b[38;5;241m=\u001b[39murl, timeout_value\u001b[38;5;241m=\u001b[39mread_timeout)\n",
      "File \u001b[0;32m~/miniconda3/envs/graphmaker/lib/python3.11/site-packages/urllib3/connection.py:464\u001b[0m, in \u001b[0;36mHTTPConnection.getresponse\u001b[0;34m(self)\u001b[0m\n\u001b[1;32m    461\u001b[0m \u001b[38;5;28;01mfrom\u001b[39;00m \u001b[38;5;21;01m.\u001b[39;00m\u001b[38;5;21;01mresponse\u001b[39;00m \u001b[38;5;28;01mimport\u001b[39;00m HTTPResponse\n\u001b[1;32m    463\u001b[0m \u001b[38;5;66;03m# Get the response from http.client.HTTPConnection\u001b[39;00m\n\u001b[0;32m--> 464\u001b[0m httplib_response \u001b[38;5;241m=\u001b[39m \u001b[38;5;28;43msuper\u001b[39;49m\u001b[43m(\u001b[49m\u001b[43m)\u001b[49m\u001b[38;5;241;43m.\u001b[39;49m\u001b[43mgetresponse\u001b[49m\u001b[43m(\u001b[49m\u001b[43m)\u001b[49m\n\u001b[1;32m    466\u001b[0m \u001b[38;5;28;01mtry\u001b[39;00m:\n\u001b[1;32m    467\u001b[0m     assert_header_parsing(httplib_response\u001b[38;5;241m.\u001b[39mmsg)\n",
      "File \u001b[0;32m~/miniconda3/envs/graphmaker/lib/python3.11/http/client.py:1374\u001b[0m, in \u001b[0;36mHTTPConnection.getresponse\u001b[0;34m(self)\u001b[0m\n\u001b[1;32m   1372\u001b[0m \u001b[38;5;28;01mtry\u001b[39;00m:\n\u001b[1;32m   1373\u001b[0m     \u001b[38;5;28;01mtry\u001b[39;00m:\n\u001b[0;32m-> 1374\u001b[0m         \u001b[43mresponse\u001b[49m\u001b[38;5;241;43m.\u001b[39;49m\u001b[43mbegin\u001b[49m\u001b[43m(\u001b[49m\u001b[43m)\u001b[49m\n\u001b[1;32m   1375\u001b[0m     \u001b[38;5;28;01mexcept\u001b[39;00m \u001b[38;5;167;01mConnectionError\u001b[39;00m:\n\u001b[1;32m   1376\u001b[0m         \u001b[38;5;28mself\u001b[39m\u001b[38;5;241m.\u001b[39mclose()\n",
      "File \u001b[0;32m~/miniconda3/envs/graphmaker/lib/python3.11/http/client.py:318\u001b[0m, in \u001b[0;36mHTTPResponse.begin\u001b[0;34m(self)\u001b[0m\n\u001b[1;32m    316\u001b[0m \u001b[38;5;66;03m# read until we get a non-100 response\u001b[39;00m\n\u001b[1;32m    317\u001b[0m \u001b[38;5;28;01mwhile\u001b[39;00m \u001b[38;5;28;01mTrue\u001b[39;00m:\n\u001b[0;32m--> 318\u001b[0m     version, status, reason \u001b[38;5;241m=\u001b[39m \u001b[38;5;28;43mself\u001b[39;49m\u001b[38;5;241;43m.\u001b[39;49m\u001b[43m_read_status\u001b[49m\u001b[43m(\u001b[49m\u001b[43m)\u001b[49m\n\u001b[1;32m    319\u001b[0m     \u001b[38;5;28;01mif\u001b[39;00m status \u001b[38;5;241m!=\u001b[39m CONTINUE:\n\u001b[1;32m    320\u001b[0m         \u001b[38;5;28;01mbreak\u001b[39;00m\n",
      "File \u001b[0;32m~/miniconda3/envs/graphmaker/lib/python3.11/http/client.py:279\u001b[0m, in \u001b[0;36mHTTPResponse._read_status\u001b[0;34m(self)\u001b[0m\n\u001b[1;32m    278\u001b[0m \u001b[38;5;28;01mdef\u001b[39;00m \u001b[38;5;21m_read_status\u001b[39m(\u001b[38;5;28mself\u001b[39m):\n\u001b[0;32m--> 279\u001b[0m     line \u001b[38;5;241m=\u001b[39m \u001b[38;5;28mstr\u001b[39m(\u001b[38;5;28mself\u001b[39m\u001b[38;5;241m.\u001b[39mfp\u001b[38;5;241m.\u001b[39mreadline(_MAXLINE \u001b[38;5;241m+\u001b[39m \u001b[38;5;241m1\u001b[39m), \u001b[38;5;124m\"\u001b[39m\u001b[38;5;124miso-8859-1\u001b[39m\u001b[38;5;124m\"\u001b[39m)\n\u001b[1;32m    280\u001b[0m     \u001b[38;5;28;01mif\u001b[39;00m \u001b[38;5;28mlen\u001b[39m(line) \u001b[38;5;241m>\u001b[39m _MAXLINE:\n\u001b[1;32m    281\u001b[0m         \u001b[38;5;28;01mraise\u001b[39;00m LineTooLong(\u001b[38;5;124m\"\u001b[39m\u001b[38;5;124mstatus line\u001b[39m\u001b[38;5;124m\"\u001b[39m)\n",
      "File \u001b[0;32m~/miniconda3/envs/graphmaker/lib/python3.11/socket.py:705\u001b[0m, in \u001b[0;36mSocketIO.readinto\u001b[0;34m(self, b)\u001b[0m\n\u001b[1;32m    703\u001b[0m \u001b[38;5;28;01mwhile\u001b[39;00m \u001b[38;5;28;01mTrue\u001b[39;00m:\n\u001b[1;32m    704\u001b[0m     \u001b[38;5;28;01mtry\u001b[39;00m:\n\u001b[0;32m--> 705\u001b[0m         \u001b[38;5;28;01mreturn\u001b[39;00m \u001b[38;5;28;43mself\u001b[39;49m\u001b[38;5;241;43m.\u001b[39;49m\u001b[43m_sock\u001b[49m\u001b[38;5;241;43m.\u001b[39;49m\u001b[43mrecv_into\u001b[49m\u001b[43m(\u001b[49m\u001b[43mb\u001b[49m\u001b[43m)\u001b[49m\n\u001b[1;32m    706\u001b[0m     \u001b[38;5;28;01mexcept\u001b[39;00m timeout:\n\u001b[1;32m    707\u001b[0m         \u001b[38;5;28mself\u001b[39m\u001b[38;5;241m.\u001b[39m_timeout_occurred \u001b[38;5;241m=\u001b[39m \u001b[38;5;28;01mTrue\u001b[39;00m\n",
      "File \u001b[0;32m~/miniconda3/envs/graphmaker/lib/python3.11/ssl.py:1278\u001b[0m, in \u001b[0;36mSSLSocket.recv_into\u001b[0;34m(self, buffer, nbytes, flags)\u001b[0m\n\u001b[1;32m   1274\u001b[0m     \u001b[38;5;28;01mif\u001b[39;00m flags \u001b[38;5;241m!=\u001b[39m \u001b[38;5;241m0\u001b[39m:\n\u001b[1;32m   1275\u001b[0m         \u001b[38;5;28;01mraise\u001b[39;00m \u001b[38;5;167;01mValueError\u001b[39;00m(\n\u001b[1;32m   1276\u001b[0m           \u001b[38;5;124m\"\u001b[39m\u001b[38;5;124mnon-zero flags not allowed in calls to recv_into() on \u001b[39m\u001b[38;5;132;01m%s\u001b[39;00m\u001b[38;5;124m\"\u001b[39m \u001b[38;5;241m%\u001b[39m\n\u001b[1;32m   1277\u001b[0m           \u001b[38;5;28mself\u001b[39m\u001b[38;5;241m.\u001b[39m\u001b[38;5;18m__class__\u001b[39m)\n\u001b[0;32m-> 1278\u001b[0m     \u001b[38;5;28;01mreturn\u001b[39;00m \u001b[38;5;28;43mself\u001b[39;49m\u001b[38;5;241;43m.\u001b[39;49m\u001b[43mread\u001b[49m\u001b[43m(\u001b[49m\u001b[43mnbytes\u001b[49m\u001b[43m,\u001b[49m\u001b[43m \u001b[49m\u001b[43mbuffer\u001b[49m\u001b[43m)\u001b[49m\n\u001b[1;32m   1279\u001b[0m \u001b[38;5;28;01melse\u001b[39;00m:\n\u001b[1;32m   1280\u001b[0m     \u001b[38;5;28;01mreturn\u001b[39;00m \u001b[38;5;28msuper\u001b[39m()\u001b[38;5;241m.\u001b[39mrecv_into(buffer, nbytes, flags)\n",
      "File \u001b[0;32m~/miniconda3/envs/graphmaker/lib/python3.11/ssl.py:1134\u001b[0m, in \u001b[0;36mSSLSocket.read\u001b[0;34m(self, len, buffer)\u001b[0m\n\u001b[1;32m   1132\u001b[0m \u001b[38;5;28;01mtry\u001b[39;00m:\n\u001b[1;32m   1133\u001b[0m     \u001b[38;5;28;01mif\u001b[39;00m buffer \u001b[38;5;129;01mis\u001b[39;00m \u001b[38;5;129;01mnot\u001b[39;00m \u001b[38;5;28;01mNone\u001b[39;00m:\n\u001b[0;32m-> 1134\u001b[0m         \u001b[38;5;28;01mreturn\u001b[39;00m \u001b[38;5;28;43mself\u001b[39;49m\u001b[38;5;241;43m.\u001b[39;49m\u001b[43m_sslobj\u001b[49m\u001b[38;5;241;43m.\u001b[39;49m\u001b[43mread\u001b[49m\u001b[43m(\u001b[49m\u001b[38;5;28;43mlen\u001b[39;49m\u001b[43m,\u001b[49m\u001b[43m \u001b[49m\u001b[43mbuffer\u001b[49m\u001b[43m)\u001b[49m\n\u001b[1;32m   1135\u001b[0m     \u001b[38;5;28;01melse\u001b[39;00m:\n\u001b[1;32m   1136\u001b[0m         \u001b[38;5;28;01mreturn\u001b[39;00m \u001b[38;5;28mself\u001b[39m\u001b[38;5;241m.\u001b[39m_sslobj\u001b[38;5;241m.\u001b[39mread(\u001b[38;5;28mlen\u001b[39m)\n",
      "\u001b[0;31mKeyboardInterrupt\u001b[0m: "
     ]
    }
   ],
   "source": [
    "splits = {'test': 'data/test-00000-of-00001.parquet', 'validation': 'data/validation-00000-of-00001.parquet', 'train': 'data/train-00000-of-00001.parquet'}\n",
    "df_wikiqa = pd.read_parquet(\"hf://datasets/microsoft/wiki_qa/\" + splits[\"test\"])"
   ]
  },
  {
   "cell_type": "code",
   "execution_count": null,
   "metadata": {},
   "outputs": [],
   "source": [
    "df_wikiqa.info()"
   ]
  },
  {
   "cell_type": "code",
   "execution_count": null,
   "metadata": {},
   "outputs": [],
   "source": [
    "df_wikiqa.sample(10)"
   ]
  },
  {
   "cell_type": "markdown",
   "metadata": {},
   "source": [
    "### SQuAD"
   ]
  },
  {
   "cell_type": "code",
   "execution_count": 2,
   "metadata": {},
   "outputs": [],
   "source": [
    "splits = {'train': 'plain_text/train-00000-of-00001.parquet', 'validation': 'plain_text/validation-00000-of-00001.parquet'}\n",
    "df_squad = pd.read_parquet(\"hf://datasets/rajpurkar/squad/\" + splits[\"train\"])"
   ]
  },
  {
   "cell_type": "markdown",
   "metadata": {},
   "source": [
    "### SQuAD V2"
   ]
  },
  {
   "cell_type": "code",
   "execution_count": 46,
   "metadata": {},
   "outputs": [],
   "source": [
    "splits = {'train': 'squad_v2/train-00000-of-00001.parquet', 'validation': 'squad_v2/validation-00000-of-00001.parquet'}\n",
    "df_squadv2 = pd.read_parquet(\"hf://datasets/rajpurkar/squad_v2/\" + splits[\"validation\"])"
   ]
  },
  {
   "cell_type": "markdown",
   "metadata": {},
   "source": [
    "### NarrativeQA"
   ]
  },
  {
   "cell_type": "code",
   "execution_count": null,
   "metadata": {},
   "outputs": [],
   "source": [
    "ds_narrativeqa = load_dataset(\"deepmind/narrativeqa\")\n",
    "ds_narrativeqa"
   ]
  },
  {
   "cell_type": "code",
   "execution_count": null,
   "metadata": {},
   "outputs": [],
   "source": [
    "x = ds_narrativeqa['test']\n",
    "type(x)"
   ]
  },
  {
   "cell_type": "code",
   "execution_count": 15,
   "metadata": {},
   "outputs": [],
   "source": [
    "df = pd.DataFrame(x)"
   ]
  },
  {
   "cell_type": "code",
   "execution_count": null,
   "metadata": {},
   "outputs": [],
   "source": [
    "# print(df.iloc[0]['document']['text'])\n",
    "# print(df.iloc[0]['document']['summary']['text'])\n",
    "# print(df.iloc[0]['question']['text'])\n",
    "# print(df.iloc[0]['answers'][0]['text'])\n",
    "\n",
    "# essay = df.iloc[0]['document']['text']"
   ]
  },
  {
   "cell_type": "markdown",
   "metadata": {},
   "source": [
    "### QASPER"
   ]
  },
  {
   "cell_type": "code",
   "execution_count": 30,
   "metadata": {},
   "outputs": [],
   "source": [
    "ds_qasper = load_dataset(\"allenai/qasper\")"
   ]
  },
  {
   "cell_type": "code",
   "execution_count": null,
   "metadata": {},
   "outputs": [],
   "source": [
    "ds_qasper"
   ]
  },
  {
   "cell_type": "code",
   "execution_count": 33,
   "metadata": {},
   "outputs": [],
   "source": [
    "qasper_df = ds_qasper['test']"
   ]
  },
  {
   "cell_type": "code",
   "execution_count": 36,
   "metadata": {},
   "outputs": [],
   "source": [
    "qasper_df = pd.DataFrame(qasper_df)"
   ]
  },
  {
   "cell_type": "code",
   "execution_count": null,
   "metadata": {},
   "outputs": [],
   "source": [
    "qasper_df.info()"
   ]
  },
  {
   "cell_type": "code",
   "execution_count": null,
   "metadata": {},
   "outputs": [],
   "source": [
    "qasper_df.head()"
   ]
  },
  {
   "cell_type": "code",
   "execution_count": null,
   "metadata": {},
   "outputs": [],
   "source": [
    "qasper_df.iloc[0]['title']\n"
   ]
  },
  {
   "cell_type": "code",
   "execution_count": null,
   "metadata": {},
   "outputs": [],
   "source": [
    "qasper_df.iloc[0]['full_text']['paragraphs']"
   ]
  },
  {
   "cell_type": "code",
   "execution_count": null,
   "metadata": {},
   "outputs": [],
   "source": [
    "qasper_df.iloc[0]['qas']"
   ]
  },
  {
   "cell_type": "markdown",
   "metadata": {},
   "source": [
    "### Cinderella"
   ]
  },
  {
   "cell_type": "code",
   "execution_count": null,
   "metadata": {},
   "outputs": [],
   "source": [
    "with open('./data_input/txt/cinderella.txt') as file:\n",
    "    essay = file.read()"
   ]
  },
  {
   "cell_type": "markdown",
   "metadata": {},
   "source": []
  },
  {
   "cell_type": "markdown",
   "metadata": {},
   "source": [
    "### TEST PIPELINE"
   ]
  },
  {
   "cell_type": "code",
   "execution_count": 6,
   "metadata": {},
   "outputs": [
    {
     "name": "stdout",
     "output_type": "stream",
     "text": [
      "<class 'pandas.core.frame.DataFrame'>\n",
      "RangeIndex: 11873 entries, 0 to 11872\n",
      "Data columns (total 5 columns):\n",
      " #   Column    Non-Null Count  Dtype \n",
      "---  ------    --------------  ----- \n",
      " 0   id        11873 non-null  object\n",
      " 1   title     11873 non-null  object\n",
      " 2   context   11873 non-null  object\n",
      " 3   question  11873 non-null  object\n",
      " 4   answers   11873 non-null  object\n",
      "dtypes: object(5)\n",
      "memory usage: 463.9+ KB\n"
     ]
    }
   ],
   "source": [
    "df_squadv2.info()"
   ]
  },
  {
   "cell_type": "code",
   "execution_count": 10,
   "metadata": {},
   "outputs": [],
   "source": [
    "context_list = df_squadv2['context'].unique()"
   ]
  },
  {
   "cell_type": "code",
   "execution_count": 12,
   "metadata": {},
   "outputs": [
    {
     "data": {
      "text/plain": [
       "1204"
      ]
     },
     "execution_count": 12,
     "metadata": {},
     "output_type": "execute_result"
    }
   ],
   "source": [
    "len(context_list)"
   ]
  },
  {
   "cell_type": "code",
   "execution_count": 13,
   "metadata": {},
   "outputs": [
    {
     "data": {
      "text/plain": [
       "array(['The Normans (Norman: Nourmands; French: Normands; Latin: Normanni) were the people who in the 10th and 11th centuries gave their name to Normandy, a region in France. They were descended from Norse (\"Norman\" comes from \"Norseman\") raiders and pirates from Denmark, Iceland and Norway who, under their leader Rollo, agreed to swear fealty to King Charles III of West Francia. Through generations of assimilation and mixing with the native Frankish and Roman-Gaulish populations, their descendants would gradually merge with the Carolingian-based cultures of West Francia. The distinct cultural and ethnic identity of the Normans emerged initially in the first half of the 10th century, and it continued to evolve over the succeeding centuries.'],\n",
       "      dtype=object)"
      ]
     },
     "execution_count": 13,
     "metadata": {},
     "output_type": "execute_result"
    }
   ],
   "source": [
    "context_list[0:1]"
   ]
  },
  {
   "cell_type": "code",
   "execution_count": 14,
   "metadata": {},
   "outputs": [
    {
     "name": "stdout",
     "output_type": "stream",
     "text": [
      "The Normans (Norman: Nourmands; French: Normands; Latin: Normanni) were the people who in the 10th and 11th centuries gave their name to Normandy, a region in France. They were descended from Norse (\"Norman\" comes from \"Norseman\") raiders and pirates from Denmark, Iceland and Norway who, under their leader Rollo, agreed to swear fealty to King Charles III of West Francia. Through generations of assimilation and mixing with the native Frankish and Roman-Gaulish populations, their descendants would gradually merge with the Carolingian-based cultures of West Francia. The distinct cultural and ethnic identity of the Normans emerged initially in the first half of the 10th century, and it continued to evolve over the succeeding centuries.\n"
     ]
    },
    {
     "name": "stderr",
     "output_type": "stream",
     "text": [
      "/Users/user/miniconda3/envs/graphmaker/lib/python3.11/site-packages/langchain/hub.py:86: DeprecationWarning: The `langchainhub sdk` is deprecated.\n",
      "Please use the `langsmith sdk` instead:\n",
      "  pip install langsmith\n",
      "Use the `pull_prompt` method.\n",
      "  res_dict = client.pull_repo(owner_repo_commit)\n"
     ]
    },
    {
     "name": "stdout",
     "output_type": "stream",
     "text": [
      "t: The Normans (Norman: Nourmands; French: Normands; Latin: Normanni) were the people who in the 10th and 11th centuries gave their name to Normandy, a region in France\n",
      "t:  They were descended from Norse (\"Norman\" comes from \"Norseman\") raiders and pirates from Denmark, Iceland and Norway who, under their leader Rollo, agreed to swear fealty to King Charles III of West Francia\n",
      "t:  Through generations of assimilation and mixing with the native Frankish and Roman-Gaulish populations, their descendants would gradually merge with the Carolingian-based cultures of West Francia\n",
      "t:  The distinct cultural and ethnic identity of the Normans emerged initially in the first half of the 10th century, and it continued to evolve over the succeeding centuries\n"
     ]
    }
   ],
   "source": [
    "propositions = []\n",
    "\n",
    "for context in context_list[0:1]:\n",
    "    print(context)\n",
    "    get_propositions(context, propositions)"
   ]
  },
  {
   "cell_type": "code",
   "execution_count": 15,
   "metadata": {},
   "outputs": [
    {
     "data": {
      "text/plain": [
       "18"
      ]
     },
     "execution_count": 15,
     "metadata": {},
     "output_type": "execute_result"
    }
   ],
   "source": [
    "len(propositions)"
   ]
  },
  {
   "cell_type": "code",
   "execution_count": 16,
   "metadata": {},
   "outputs": [
    {
     "data": {
      "text/plain": [
       "['The Normans were the people who gave their name to Normandy.',\n",
       " 'Normandy is a region in France.',\n",
       " 'The Normans lived in the 10th and 11th centuries.',\n",
       " 'Normans is also referred to as Nourmands in Norman.',\n",
       " 'Normans is also referred to as Normands in French.',\n",
       " 'Normans is also referred to as Normanni in Latin.',\n",
       " 'The individuals were descended from Norse raiders and pirates.',\n",
       " \"The term 'Norman' comes from 'Norseman'.\",\n",
       " 'The Norse raiders and pirates originated from Denmark.',\n",
       " 'The Norse raiders and pirates originated from Iceland.',\n",
       " 'The Norse raiders and pirates originated from Norway.',\n",
       " 'The Norse raiders and pirates were led by Rollo.',\n",
       " 'Rollo agreed to swear fealty to King Charles III of West Francia.',\n",
       " 'Generations of assimilation and mixing occurred with the native Frankish populations.',\n",
       " 'Generations of assimilation and mixing occurred with the native Roman-Gaulish populations.',\n",
       " 'The descendants of the native Frankish and Roman-Gaulish populations would gradually merge with the Carolingian-based cultures of West Francia.',\n",
       " 'The distinct cultural and ethnic identity of the Normans emerged initially in the first half of the 10th century.',\n",
       " 'The distinct cultural and ethnic identity of the Normans continued to evolve over the succeeding centuries.']"
      ]
     },
     "execution_count": 16,
     "metadata": {},
     "output_type": "execute_result"
    }
   ],
   "source": [
    "propositions"
   ]
  },
  {
   "cell_type": "code",
   "execution_count": 17,
   "metadata": {},
   "outputs": [
    {
     "name": "stderr",
     "output_type": "stream",
     "text": [
      "\u001b[92m\u001b[39m\n",
      "\u001b[92m▶︎ GRAPH MAKER LOG - 2024-10-23 13:59:23 - INFO \u001b[39m\n",
      "\u001b[92mDocument: 1\u001b[39m\n",
      "\u001b[92m\u001b[39m\n",
      "\u001b[92m\u001b[39m\n",
      "\u001b[92m▶︎ GRAPH MAKER LOG - 2024-10-23 13:59:23 - INFO \u001b[39m\n",
      "\u001b[92mDocument Text: The Normans were the people who gave their name to Normandy.\u001b[39m\n",
      "\u001b[92m\u001b[39m\n",
      "\u001b[34m\u001b[39m\n",
      "\u001b[34m▶︎ GRAPH MAKER VERBOSE - 2024-10-23 13:59:23 - INFO \u001b[39m\n",
      "\u001b[34mUsing Ontology:\n",
      "labels=[{'Person': 'Person name without any adjectives, Remember a person may be referenced by their name or using a pronoun'}, {'Object': \"Objects are inanimate things that a person uses, Do not add the definite article 'the' in the object name\"}, {'Event': 'An entity that happens at a specific time and place'}, {'Place': 'Places are locations where specific events took place and where persons can go to and where objects can be found'}, {'Miscellaneous': 'Any important concept can not be categorised with any other given label'}] relationships=['Relation between any pair of Entities']\u001b[39m\n",
      "\u001b[34m\u001b[39m\n"
     ]
    },
    {
     "name": "stdout",
     "output_type": "stream",
     "text": [
      "Using Model:  gpt-4o-mini\n"
     ]
    },
    {
     "name": "stderr",
     "output_type": "stream",
     "text": [
      "\u001b[34m\u001b[39m\n",
      "\u001b[34m▶︎ GRAPH MAKER VERBOSE - 2024-10-23 13:59:25 - INFO \u001b[39m\n",
      "\u001b[34mLLM Response:\n",
      "[\n",
      "    {\n",
      "        \"node_1\": {\n",
      "            \"label\": \"Person\",\n",
      "            \"name\": \"Normans\"\n",
      "        },\n",
      "        \"node_2\": {\n",
      "            \"label\": \"Place\",\n",
      "            \"name\": \"Normandy\"\n",
      "        },\n",
      "        \"relationship\": \"The Normans are the people associated with the name of Normandy.\"\n",
      "    }\n",
      "]\u001b[39m\n",
      "\u001b[34m\u001b[39m\n",
      "\u001b[92m\u001b[39m\n",
      "\u001b[92m▶︎ GRAPH MAKER LOG - 2024-10-23 13:59:25 - INFO \u001b[39m\n",
      "\u001b[92mTrying JSON Parsing: \n",
      "[\n",
      "    {\n",
      "        \"node_1\": {\n",
      "            \"label\": \"Person\",\n",
      "            \"name\": \"Normans\"\n",
      "        },\n",
      "        \"node_2\": {\n",
      "            \"label\": \"Place\",\n",
      "            \"name\": \"Normandy\"\n",
      "        },\n",
      "        \"relationship\": \"The Normans are the people associated with the name of Normandy.\"\n",
      "    }\n",
      "]\u001b[39m\n",
      "\u001b[92m\u001b[39m\n",
      "\u001b[92m\u001b[39m\n",
      "\u001b[92m▶︎ GRAPH MAKER LOG - 2024-10-23 13:59:25 - INFO \u001b[39m\n",
      "\u001b[92mJSON Parsing Successful!\u001b[39m\n",
      "\u001b[92m\u001b[39m\n",
      "\u001b[92m\u001b[39m\n",
      "\u001b[92m▶︎ GRAPH MAKER LOG - 2024-10-23 13:59:25 - INFO \u001b[39m\n",
      "\u001b[92mDocument: 2\u001b[39m\n",
      "\u001b[92m\u001b[39m\n",
      "\u001b[92m\u001b[39m\n",
      "\u001b[92m▶︎ GRAPH MAKER LOG - 2024-10-23 13:59:25 - INFO \u001b[39m\n",
      "\u001b[92mDocument Text: Normandy is a region in France.\u001b[39m\n",
      "\u001b[92m\u001b[39m\n",
      "\u001b[34m\u001b[39m\n",
      "\u001b[34m▶︎ GRAPH MAKER VERBOSE - 2024-10-23 13:59:25 - INFO \u001b[39m\n",
      "\u001b[34mUsing Ontology:\n",
      "labels=[{'Person': 'Person name without any adjectives, Remember a person may be referenced by their name or using a pronoun'}, {'Object': \"Objects are inanimate things that a person uses, Do not add the definite article 'the' in the object name\"}, {'Event': 'An entity that happens at a specific time and place'}, {'Place': 'Places are locations where specific events took place and where persons can go to and where objects can be found'}, {'Miscellaneous': 'Any important concept can not be categorised with any other given label'}] relationships=['Relation between any pair of Entities']\u001b[39m\n",
      "\u001b[34m\u001b[39m\n"
     ]
    },
    {
     "name": "stdout",
     "output_type": "stream",
     "text": [
      "Using Model:  gpt-4o-mini\n"
     ]
    },
    {
     "name": "stderr",
     "output_type": "stream",
     "text": [
      "\u001b[34m\u001b[39m\n",
      "\u001b[34m▶︎ GRAPH MAKER VERBOSE - 2024-10-23 13:59:26 - INFO \u001b[39m\n",
      "\u001b[34mLLM Response:\n",
      "[\n",
      "   {\n",
      "       \"node_1\": {\n",
      "           \"label\": \"Place\",\n",
      "           \"name\": \"Normandy\"\n",
      "       },\n",
      "       \"node_2\": {\n",
      "           \"label\": \"Place\",\n",
      "           \"name\": \"France\"\n",
      "       },\n",
      "       \"relationship\": \"Normandy is a region located within France.\"\n",
      "   }\n",
      "]\u001b[39m\n",
      "\u001b[34m\u001b[39m\n",
      "\u001b[92m\u001b[39m\n",
      "\u001b[92m▶︎ GRAPH MAKER LOG - 2024-10-23 13:59:26 - INFO \u001b[39m\n",
      "\u001b[92mTrying JSON Parsing: \n",
      "[\n",
      "   {\n",
      "       \"node_1\": {\n",
      "           \"label\": \"Place\",\n",
      "           \"name\": \"Normandy\"\n",
      "       },\n",
      "       \"node_2\": {\n",
      "           \"label\": \"Place\",\n",
      "           \"name\": \"France\"\n",
      "       },\n",
      "       \"relationship\": \"Normandy is a region located within France.\"\n",
      "   }\n",
      "]\u001b[39m\n",
      "\u001b[92m\u001b[39m\n",
      "\u001b[92m\u001b[39m\n",
      "\u001b[92m▶︎ GRAPH MAKER LOG - 2024-10-23 13:59:26 - INFO \u001b[39m\n",
      "\u001b[92mJSON Parsing Successful!\u001b[39m\n",
      "\u001b[92m\u001b[39m\n",
      "\u001b[92m\u001b[39m\n",
      "\u001b[92m▶︎ GRAPH MAKER LOG - 2024-10-23 13:59:26 - INFO \u001b[39m\n",
      "\u001b[92mDocument: 3\u001b[39m\n",
      "\u001b[92m\u001b[39m\n",
      "\u001b[92m\u001b[39m\n",
      "\u001b[92m▶︎ GRAPH MAKER LOG - 2024-10-23 13:59:26 - INFO \u001b[39m\n",
      "\u001b[92mDocument Text: The Normans lived in the 10th and 11th centuries.\u001b[39m\n",
      "\u001b[92m\u001b[39m\n",
      "\u001b[34m\u001b[39m\n",
      "\u001b[34m▶︎ GRAPH MAKER VERBOSE - 2024-10-23 13:59:26 - INFO \u001b[39m\n",
      "\u001b[34mUsing Ontology:\n",
      "labels=[{'Person': 'Person name without any adjectives, Remember a person may be referenced by their name or using a pronoun'}, {'Object': \"Objects are inanimate things that a person uses, Do not add the definite article 'the' in the object name\"}, {'Event': 'An entity that happens at a specific time and place'}, {'Place': 'Places are locations where specific events took place and where persons can go to and where objects can be found'}, {'Miscellaneous': 'Any important concept can not be categorised with any other given label'}] relationships=['Relation between any pair of Entities']\u001b[39m\n",
      "\u001b[34m\u001b[39m\n"
     ]
    },
    {
     "name": "stdout",
     "output_type": "stream",
     "text": [
      "Using Model:  gpt-4o-mini\n"
     ]
    },
    {
     "name": "stderr",
     "output_type": "stream",
     "text": [
      "\u001b[34m\u001b[39m\n",
      "\u001b[34m▶︎ GRAPH MAKER VERBOSE - 2024-10-23 13:59:28 - INFO \u001b[39m\n",
      "\u001b[34mLLM Response:\n",
      "[\n",
      "    {\n",
      "        \"node_1\": {\n",
      "            \"label\": \"Person\",\n",
      "            \"name\": \"Normans\"\n",
      "        },\n",
      "        \"node_2\": {\n",
      "            \"label\": \"Event\",\n",
      "            \"name\": \"10th and 11th centuries\"\n",
      "        },\n",
      "        \"relationship\": \"The Normans lived during the 10th and 11th centuries.\"\n",
      "    }\n",
      "]\u001b[39m\n",
      "\u001b[34m\u001b[39m\n",
      "\u001b[92m\u001b[39m\n",
      "\u001b[92m▶︎ GRAPH MAKER LOG - 2024-10-23 13:59:28 - INFO \u001b[39m\n",
      "\u001b[92mTrying JSON Parsing: \n",
      "[\n",
      "    {\n",
      "        \"node_1\": {\n",
      "            \"label\": \"Person\",\n",
      "            \"name\": \"Normans\"\n",
      "        },\n",
      "        \"node_2\": {\n",
      "            \"label\": \"Event\",\n",
      "            \"name\": \"10th and 11th centuries\"\n",
      "        },\n",
      "        \"relationship\": \"The Normans lived during the 10th and 11th centuries.\"\n",
      "    }\n",
      "]\u001b[39m\n",
      "\u001b[92m\u001b[39m\n",
      "\u001b[92m\u001b[39m\n",
      "\u001b[92m▶︎ GRAPH MAKER LOG - 2024-10-23 13:59:28 - INFO \u001b[39m\n",
      "\u001b[92mJSON Parsing Successful!\u001b[39m\n",
      "\u001b[92m\u001b[39m\n",
      "\u001b[92m\u001b[39m\n",
      "\u001b[92m▶︎ GRAPH MAKER LOG - 2024-10-23 13:59:28 - INFO \u001b[39m\n",
      "\u001b[92mDocument: 4\u001b[39m\n",
      "\u001b[92m\u001b[39m\n",
      "\u001b[92m\u001b[39m\n",
      "\u001b[92m▶︎ GRAPH MAKER LOG - 2024-10-23 13:59:28 - INFO \u001b[39m\n",
      "\u001b[92mDocument Text: Normans is also referred to as Nourmands in Norman.\u001b[39m\n",
      "\u001b[92m\u001b[39m\n",
      "\u001b[34m\u001b[39m\n",
      "\u001b[34m▶︎ GRAPH MAKER VERBOSE - 2024-10-23 13:59:28 - INFO \u001b[39m\n",
      "\u001b[34mUsing Ontology:\n",
      "labels=[{'Person': 'Person name without any adjectives, Remember a person may be referenced by their name or using a pronoun'}, {'Object': \"Objects are inanimate things that a person uses, Do not add the definite article 'the' in the object name\"}, {'Event': 'An entity that happens at a specific time and place'}, {'Place': 'Places are locations where specific events took place and where persons can go to and where objects can be found'}, {'Miscellaneous': 'Any important concept can not be categorised with any other given label'}] relationships=['Relation between any pair of Entities']\u001b[39m\n",
      "\u001b[34m\u001b[39m\n"
     ]
    },
    {
     "name": "stdout",
     "output_type": "stream",
     "text": [
      "Using Model:  gpt-4o-mini\n"
     ]
    },
    {
     "name": "stderr",
     "output_type": "stream",
     "text": [
      "\u001b[34m\u001b[39m\n",
      "\u001b[34m▶︎ GRAPH MAKER VERBOSE - 2024-10-23 13:59:30 - INFO \u001b[39m\n",
      "\u001b[34mLLM Response:\n",
      "[\n",
      "    {\n",
      "        \"node_1\": {\n",
      "            \"label\": \"Miscellaneous\",\n",
      "            \"name\": \"Normans\"\n",
      "        },\n",
      "        \"node_2\": {\n",
      "            \"label\": \"Miscellaneous\",\n",
      "            \"name\": \"Nourmands\"\n",
      "        },\n",
      "        \"relationship\": \"Normans is also referred to as Nourmands in the context of the Norman language.\"\n",
      "    }\n",
      "]\u001b[39m\n",
      "\u001b[34m\u001b[39m\n",
      "\u001b[92m\u001b[39m\n",
      "\u001b[92m▶︎ GRAPH MAKER LOG - 2024-10-23 13:59:30 - INFO \u001b[39m\n",
      "\u001b[92mTrying JSON Parsing: \n",
      "[\n",
      "    {\n",
      "        \"node_1\": {\n",
      "            \"label\": \"Miscellaneous\",\n",
      "            \"name\": \"Normans\"\n",
      "        },\n",
      "        \"node_2\": {\n",
      "            \"label\": \"Miscellaneous\",\n",
      "            \"name\": \"Nourmands\"\n",
      "        },\n",
      "        \"relationship\": \"Normans is also referred to as Nourmands in the context of the Norman language.\"\n",
      "    }\n",
      "]\u001b[39m\n",
      "\u001b[92m\u001b[39m\n",
      "\u001b[92m\u001b[39m\n",
      "\u001b[92m▶︎ GRAPH MAKER LOG - 2024-10-23 13:59:30 - INFO \u001b[39m\n",
      "\u001b[92mJSON Parsing Successful!\u001b[39m\n",
      "\u001b[92m\u001b[39m\n",
      "\u001b[92m\u001b[39m\n",
      "\u001b[92m▶︎ GRAPH MAKER LOG - 2024-10-23 13:59:30 - INFO \u001b[39m\n",
      "\u001b[92mDocument: 5\u001b[39m\n",
      "\u001b[92m\u001b[39m\n",
      "\u001b[92m\u001b[39m\n",
      "\u001b[92m▶︎ GRAPH MAKER LOG - 2024-10-23 13:59:30 - INFO \u001b[39m\n",
      "\u001b[92mDocument Text: Normans is also referred to as Normands in French.\u001b[39m\n",
      "\u001b[92m\u001b[39m\n",
      "\u001b[34m\u001b[39m\n",
      "\u001b[34m▶︎ GRAPH MAKER VERBOSE - 2024-10-23 13:59:30 - INFO \u001b[39m\n",
      "\u001b[34mUsing Ontology:\n",
      "labels=[{'Person': 'Person name without any adjectives, Remember a person may be referenced by their name or using a pronoun'}, {'Object': \"Objects are inanimate things that a person uses, Do not add the definite article 'the' in the object name\"}, {'Event': 'An entity that happens at a specific time and place'}, {'Place': 'Places are locations where specific events took place and where persons can go to and where objects can be found'}, {'Miscellaneous': 'Any important concept can not be categorised with any other given label'}] relationships=['Relation between any pair of Entities']\u001b[39m\n",
      "\u001b[34m\u001b[39m\n"
     ]
    },
    {
     "name": "stdout",
     "output_type": "stream",
     "text": [
      "Using Model:  gpt-4o-mini\n"
     ]
    },
    {
     "name": "stderr",
     "output_type": "stream",
     "text": [
      "\u001b[34m\u001b[39m\n",
      "\u001b[34m▶︎ GRAPH MAKER VERBOSE - 2024-10-23 13:59:31 - INFO \u001b[39m\n",
      "\u001b[34mLLM Response:\n",
      "[\n",
      "    {\n",
      "        \"node_1\": {\n",
      "            \"label\": \"Miscellaneous\",\n",
      "            \"name\": \"Normans\"\n",
      "        },\n",
      "        \"node_2\": {\n",
      "            \"label\": \"Miscellaneous\",\n",
      "            \"name\": \"Normands\"\n",
      "        },\n",
      "        \"relationship\": \"Normans is an alternate name for Normands in the French language.\"\n",
      "    }\n",
      "]\u001b[39m\n",
      "\u001b[34m\u001b[39m\n",
      "\u001b[92m\u001b[39m\n",
      "\u001b[92m▶︎ GRAPH MAKER LOG - 2024-10-23 13:59:31 - INFO \u001b[39m\n",
      "\u001b[92mTrying JSON Parsing: \n",
      "[\n",
      "    {\n",
      "        \"node_1\": {\n",
      "            \"label\": \"Miscellaneous\",\n",
      "            \"name\": \"Normans\"\n",
      "        },\n",
      "        \"node_2\": {\n",
      "            \"label\": \"Miscellaneous\",\n",
      "            \"name\": \"Normands\"\n",
      "        },\n",
      "        \"relationship\": \"Normans is an alternate name for Normands in the French language.\"\n",
      "    }\n",
      "]\u001b[39m\n",
      "\u001b[92m\u001b[39m\n",
      "\u001b[92m\u001b[39m\n",
      "\u001b[92m▶︎ GRAPH MAKER LOG - 2024-10-23 13:59:31 - INFO \u001b[39m\n",
      "\u001b[92mJSON Parsing Successful!\u001b[39m\n",
      "\u001b[92m\u001b[39m\n",
      "\u001b[92m\u001b[39m\n",
      "\u001b[92m▶︎ GRAPH MAKER LOG - 2024-10-23 13:59:31 - INFO \u001b[39m\n",
      "\u001b[92mDocument: 6\u001b[39m\n",
      "\u001b[92m\u001b[39m\n",
      "\u001b[92m\u001b[39m\n",
      "\u001b[92m▶︎ GRAPH MAKER LOG - 2024-10-23 13:59:31 - INFO \u001b[39m\n",
      "\u001b[92mDocument Text: Normans is also referred to as Normanni in Latin.\u001b[39m\n",
      "\u001b[92m\u001b[39m\n",
      "\u001b[34m\u001b[39m\n",
      "\u001b[34m▶︎ GRAPH MAKER VERBOSE - 2024-10-23 13:59:31 - INFO \u001b[39m\n",
      "\u001b[34mUsing Ontology:\n",
      "labels=[{'Person': 'Person name without any adjectives, Remember a person may be referenced by their name or using a pronoun'}, {'Object': \"Objects are inanimate things that a person uses, Do not add the definite article 'the' in the object name\"}, {'Event': 'An entity that happens at a specific time and place'}, {'Place': 'Places are locations where specific events took place and where persons can go to and where objects can be found'}, {'Miscellaneous': 'Any important concept can not be categorised with any other given label'}] relationships=['Relation between any pair of Entities']\u001b[39m\n",
      "\u001b[34m\u001b[39m\n"
     ]
    },
    {
     "name": "stdout",
     "output_type": "stream",
     "text": [
      "Using Model:  gpt-4o-mini\n"
     ]
    },
    {
     "name": "stderr",
     "output_type": "stream",
     "text": [
      "\u001b[34m\u001b[39m\n",
      "\u001b[34m▶︎ GRAPH MAKER VERBOSE - 2024-10-23 13:59:32 - INFO \u001b[39m\n",
      "\u001b[34mLLM Response:\n",
      "[\n",
      "    {\n",
      "        \"node_1\": {\n",
      "            \"label\": \"Miscellaneous\",\n",
      "            \"name\": \"Normans\"\n",
      "        },\n",
      "        \"node_2\": {\n",
      "            \"label\": \"Miscellaneous\",\n",
      "            \"name\": \"Normanni\"\n",
      "        },\n",
      "        \"relationship\": \"Normans is another name for Normanni in Latin.\"\n",
      "    }\n",
      "]\u001b[39m\n",
      "\u001b[34m\u001b[39m\n",
      "\u001b[92m\u001b[39m\n",
      "\u001b[92m▶︎ GRAPH MAKER LOG - 2024-10-23 13:59:32 - INFO \u001b[39m\n",
      "\u001b[92mTrying JSON Parsing: \n",
      "[\n",
      "    {\n",
      "        \"node_1\": {\n",
      "            \"label\": \"Miscellaneous\",\n",
      "            \"name\": \"Normans\"\n",
      "        },\n",
      "        \"node_2\": {\n",
      "            \"label\": \"Miscellaneous\",\n",
      "            \"name\": \"Normanni\"\n",
      "        },\n",
      "        \"relationship\": \"Normans is another name for Normanni in Latin.\"\n",
      "    }\n",
      "]\u001b[39m\n",
      "\u001b[92m\u001b[39m\n",
      "\u001b[92m\u001b[39m\n",
      "\u001b[92m▶︎ GRAPH MAKER LOG - 2024-10-23 13:59:32 - INFO \u001b[39m\n",
      "\u001b[92mJSON Parsing Successful!\u001b[39m\n",
      "\u001b[92m\u001b[39m\n",
      "\u001b[92m\u001b[39m\n",
      "\u001b[92m▶︎ GRAPH MAKER LOG - 2024-10-23 13:59:32 - INFO \u001b[39m\n",
      "\u001b[92mDocument: 7\u001b[39m\n",
      "\u001b[92m\u001b[39m\n",
      "\u001b[92m\u001b[39m\n",
      "\u001b[92m▶︎ GRAPH MAKER LOG - 2024-10-23 13:59:32 - INFO \u001b[39m\n",
      "\u001b[92mDocument Text: The individuals were descended from Norse raiders and pirates.\u001b[39m\n",
      "\u001b[92m\u001b[39m\n",
      "\u001b[34m\u001b[39m\n",
      "\u001b[34m▶︎ GRAPH MAKER VERBOSE - 2024-10-23 13:59:32 - INFO \u001b[39m\n",
      "\u001b[34mUsing Ontology:\n",
      "labels=[{'Person': 'Person name without any adjectives, Remember a person may be referenced by their name or using a pronoun'}, {'Object': \"Objects are inanimate things that a person uses, Do not add the definite article 'the' in the object name\"}, {'Event': 'An entity that happens at a specific time and place'}, {'Place': 'Places are locations where specific events took place and where persons can go to and where objects can be found'}, {'Miscellaneous': 'Any important concept can not be categorised with any other given label'}] relationships=['Relation between any pair of Entities']\u001b[39m\n",
      "\u001b[34m\u001b[39m\n"
     ]
    },
    {
     "name": "stdout",
     "output_type": "stream",
     "text": [
      "Using Model:  gpt-4o-mini\n"
     ]
    },
    {
     "name": "stderr",
     "output_type": "stream",
     "text": [
      "\u001b[34m\u001b[39m\n",
      "\u001b[34m▶︎ GRAPH MAKER VERBOSE - 2024-10-23 13:59:33 - INFO \u001b[39m\n",
      "\u001b[34mLLM Response:\n",
      "[\n",
      "    {\n",
      "        \"node_1\": {\n",
      "            \"label\": \"Person\",\n",
      "            \"name\": \"individuals\"\n",
      "        },\n",
      "        \"node_2\": {\n",
      "            \"label\": \"Miscellaneous\",\n",
      "            \"name\": \"Norse raiders and pirates\"\n",
      "        },\n",
      "        \"relationship\": \"The individuals have ancestry that traces back to Norse raiders and pirates.\"\n",
      "    }\n",
      "]\u001b[39m\n",
      "\u001b[34m\u001b[39m\n",
      "\u001b[92m\u001b[39m\n",
      "\u001b[92m▶︎ GRAPH MAKER LOG - 2024-10-23 13:59:33 - INFO \u001b[39m\n",
      "\u001b[92mTrying JSON Parsing: \n",
      "[\n",
      "    {\n",
      "        \"node_1\": {\n",
      "            \"label\": \"Person\",\n",
      "            \"name\": \"individuals\"\n",
      "        },\n",
      "        \"node_2\": {\n",
      "            \"label\": \"Miscellaneous\",\n",
      "            \"name\": \"Norse raiders and pirates\"\n",
      "        },\n",
      "        \"relationship\": \"The individuals have ancestry that traces back to Norse raiders and pirates.\"\n",
      "    }\n",
      "]\u001b[39m\n",
      "\u001b[92m\u001b[39m\n",
      "\u001b[92m\u001b[39m\n",
      "\u001b[92m▶︎ GRAPH MAKER LOG - 2024-10-23 13:59:33 - INFO \u001b[39m\n",
      "\u001b[92mJSON Parsing Successful!\u001b[39m\n",
      "\u001b[92m\u001b[39m\n",
      "\u001b[92m\u001b[39m\n",
      "\u001b[92m▶︎ GRAPH MAKER LOG - 2024-10-23 13:59:33 - INFO \u001b[39m\n",
      "\u001b[92mDocument: 8\u001b[39m\n",
      "\u001b[92m\u001b[39m\n",
      "\u001b[92m\u001b[39m\n",
      "\u001b[92m▶︎ GRAPH MAKER LOG - 2024-10-23 13:59:33 - INFO \u001b[39m\n",
      "\u001b[92mDocument Text: The term 'Norman' comes from 'Norseman'.\u001b[39m\n",
      "\u001b[92m\u001b[39m\n",
      "\u001b[34m\u001b[39m\n",
      "\u001b[34m▶︎ GRAPH MAKER VERBOSE - 2024-10-23 13:59:33 - INFO \u001b[39m\n",
      "\u001b[34mUsing Ontology:\n",
      "labels=[{'Person': 'Person name without any adjectives, Remember a person may be referenced by their name or using a pronoun'}, {'Object': \"Objects are inanimate things that a person uses, Do not add the definite article 'the' in the object name\"}, {'Event': 'An entity that happens at a specific time and place'}, {'Place': 'Places are locations where specific events took place and where persons can go to and where objects can be found'}, {'Miscellaneous': 'Any important concept can not be categorised with any other given label'}] relationships=['Relation between any pair of Entities']\u001b[39m\n",
      "\u001b[34m\u001b[39m\n"
     ]
    },
    {
     "name": "stdout",
     "output_type": "stream",
     "text": [
      "Using Model:  gpt-4o-mini\n"
     ]
    },
    {
     "name": "stderr",
     "output_type": "stream",
     "text": [
      "\u001b[34m\u001b[39m\n",
      "\u001b[34m▶︎ GRAPH MAKER VERBOSE - 2024-10-23 13:59:35 - INFO \u001b[39m\n",
      "\u001b[34mLLM Response:\n",
      "[\n",
      "    {\n",
      "        \"node_1\": {\n",
      "            \"label\": \"Miscellaneous\",\n",
      "            \"name\": \"Norman\"\n",
      "        },\n",
      "        \"node_2\": {\n",
      "            \"label\": \"Miscellaneous\",\n",
      "            \"name\": \"Norseman\"\n",
      "        },\n",
      "        \"relationship\": \"The term 'Norman' is derived from the term 'Norseman'.\"\n",
      "    }\n",
      "]\u001b[39m\n",
      "\u001b[34m\u001b[39m\n",
      "\u001b[92m\u001b[39m\n",
      "\u001b[92m▶︎ GRAPH MAKER LOG - 2024-10-23 13:59:35 - INFO \u001b[39m\n",
      "\u001b[92mTrying JSON Parsing: \n",
      "[\n",
      "    {\n",
      "        \"node_1\": {\n",
      "            \"label\": \"Miscellaneous\",\n",
      "            \"name\": \"Norman\"\n",
      "        },\n",
      "        \"node_2\": {\n",
      "            \"label\": \"Miscellaneous\",\n",
      "            \"name\": \"Norseman\"\n",
      "        },\n",
      "        \"relationship\": \"The term 'Norman' is derived from the term 'Norseman'.\"\n",
      "    }\n",
      "]\u001b[39m\n",
      "\u001b[92m\u001b[39m\n",
      "\u001b[92m\u001b[39m\n",
      "\u001b[92m▶︎ GRAPH MAKER LOG - 2024-10-23 13:59:35 - INFO \u001b[39m\n",
      "\u001b[92mJSON Parsing Successful!\u001b[39m\n",
      "\u001b[92m\u001b[39m\n",
      "\u001b[92m\u001b[39m\n",
      "\u001b[92m▶︎ GRAPH MAKER LOG - 2024-10-23 13:59:35 - INFO \u001b[39m\n",
      "\u001b[92mDocument: 9\u001b[39m\n",
      "\u001b[92m\u001b[39m\n",
      "\u001b[92m\u001b[39m\n",
      "\u001b[92m▶︎ GRAPH MAKER LOG - 2024-10-23 13:59:35 - INFO \u001b[39m\n",
      "\u001b[92mDocument Text: The Norse raiders and pirates originated from Denmark.\u001b[39m\n",
      "\u001b[92m\u001b[39m\n",
      "\u001b[34m\u001b[39m\n",
      "\u001b[34m▶︎ GRAPH MAKER VERBOSE - 2024-10-23 13:59:35 - INFO \u001b[39m\n",
      "\u001b[34mUsing Ontology:\n",
      "labels=[{'Person': 'Person name without any adjectives, Remember a person may be referenced by their name or using a pronoun'}, {'Object': \"Objects are inanimate things that a person uses, Do not add the definite article 'the' in the object name\"}, {'Event': 'An entity that happens at a specific time and place'}, {'Place': 'Places are locations where specific events took place and where persons can go to and where objects can be found'}, {'Miscellaneous': 'Any important concept can not be categorised with any other given label'}] relationships=['Relation between any pair of Entities']\u001b[39m\n",
      "\u001b[34m\u001b[39m\n"
     ]
    },
    {
     "name": "stdout",
     "output_type": "stream",
     "text": [
      "Using Model:  gpt-4o-mini\n"
     ]
    },
    {
     "name": "stderr",
     "output_type": "stream",
     "text": [
      "\u001b[34m\u001b[39m\n",
      "\u001b[34m▶︎ GRAPH MAKER VERBOSE - 2024-10-23 13:59:36 - INFO \u001b[39m\n",
      "\u001b[34mLLM Response:\n",
      "[\n",
      "   {\n",
      "       \"node_1\": {\"label\": \"Miscellaneous\", \"name\": \"Norse raiders and pirates\"},\n",
      "       \"node_2\": {\"label\": \"Place\", \"name\": \"Denmark\"},\n",
      "       \"relationship\": \"Norse raiders and pirates originated from Denmark.\"\n",
      "   }\n",
      "]\u001b[39m\n",
      "\u001b[34m\u001b[39m\n",
      "\u001b[92m\u001b[39m\n",
      "\u001b[92m▶︎ GRAPH MAKER LOG - 2024-10-23 13:59:36 - INFO \u001b[39m\n",
      "\u001b[92mTrying JSON Parsing: \n",
      "[\n",
      "   {\n",
      "       \"node_1\": {\"label\": \"Miscellaneous\", \"name\": \"Norse raiders and pirates\"},\n",
      "       \"node_2\": {\"label\": \"Place\", \"name\": \"Denmark\"},\n",
      "       \"relationship\": \"Norse raiders and pirates originated from Denmark.\"\n",
      "   }\n",
      "]\u001b[39m\n",
      "\u001b[92m\u001b[39m\n",
      "\u001b[92m\u001b[39m\n",
      "\u001b[92m▶︎ GRAPH MAKER LOG - 2024-10-23 13:59:36 - INFO \u001b[39m\n",
      "\u001b[92mJSON Parsing Successful!\u001b[39m\n",
      "\u001b[92m\u001b[39m\n",
      "\u001b[92m\u001b[39m\n",
      "\u001b[92m▶︎ GRAPH MAKER LOG - 2024-10-23 13:59:36 - INFO \u001b[39m\n",
      "\u001b[92mDocument: 10\u001b[39m\n",
      "\u001b[92m\u001b[39m\n",
      "\u001b[92m\u001b[39m\n",
      "\u001b[92m▶︎ GRAPH MAKER LOG - 2024-10-23 13:59:36 - INFO \u001b[39m\n",
      "\u001b[92mDocument Text: The Norse raiders and pirates originated from Iceland.\u001b[39m\n",
      "\u001b[92m\u001b[39m\n",
      "\u001b[34m\u001b[39m\n",
      "\u001b[34m▶︎ GRAPH MAKER VERBOSE - 2024-10-23 13:59:36 - INFO \u001b[39m\n",
      "\u001b[34mUsing Ontology:\n",
      "labels=[{'Person': 'Person name without any adjectives, Remember a person may be referenced by their name or using a pronoun'}, {'Object': \"Objects are inanimate things that a person uses, Do not add the definite article 'the' in the object name\"}, {'Event': 'An entity that happens at a specific time and place'}, {'Place': 'Places are locations where specific events took place and where persons can go to and where objects can be found'}, {'Miscellaneous': 'Any important concept can not be categorised with any other given label'}] relationships=['Relation between any pair of Entities']\u001b[39m\n",
      "\u001b[34m\u001b[39m\n"
     ]
    },
    {
     "name": "stdout",
     "output_type": "stream",
     "text": [
      "Using Model:  gpt-4o-mini\n"
     ]
    },
    {
     "name": "stderr",
     "output_type": "stream",
     "text": [
      "\u001b[34m\u001b[39m\n",
      "\u001b[34m▶︎ GRAPH MAKER VERBOSE - 2024-10-23 13:59:38 - INFO \u001b[39m\n",
      "\u001b[34mLLM Response:\n",
      "[\n",
      "    {\n",
      "        \"node_1\": {\n",
      "            \"label\": \"Miscellaneous\",\n",
      "            \"name\": \"Norse raiders and pirates\"\n",
      "        },\n",
      "        \"node_2\": {\n",
      "            \"label\": \"Place\",\n",
      "            \"name\": \"Iceland\"\n",
      "        },\n",
      "        \"relationship\": \"Norse raiders and pirates originated from Iceland.\"\n",
      "    }\n",
      "]\u001b[39m\n",
      "\u001b[34m\u001b[39m\n",
      "\u001b[92m\u001b[39m\n",
      "\u001b[92m▶︎ GRAPH MAKER LOG - 2024-10-23 13:59:38 - INFO \u001b[39m\n",
      "\u001b[92mTrying JSON Parsing: \n",
      "[\n",
      "    {\n",
      "        \"node_1\": {\n",
      "            \"label\": \"Miscellaneous\",\n",
      "            \"name\": \"Norse raiders and pirates\"\n",
      "        },\n",
      "        \"node_2\": {\n",
      "            \"label\": \"Place\",\n",
      "            \"name\": \"Iceland\"\n",
      "        },\n",
      "        \"relationship\": \"Norse raiders and pirates originated from Iceland.\"\n",
      "    }\n",
      "]\u001b[39m\n",
      "\u001b[92m\u001b[39m\n",
      "\u001b[92m\u001b[39m\n",
      "\u001b[92m▶︎ GRAPH MAKER LOG - 2024-10-23 13:59:38 - INFO \u001b[39m\n",
      "\u001b[92mJSON Parsing Successful!\u001b[39m\n",
      "\u001b[92m\u001b[39m\n",
      "\u001b[92m\u001b[39m\n",
      "\u001b[92m▶︎ GRAPH MAKER LOG - 2024-10-23 13:59:38 - INFO \u001b[39m\n",
      "\u001b[92mDocument: 11\u001b[39m\n",
      "\u001b[92m\u001b[39m\n",
      "\u001b[92m\u001b[39m\n",
      "\u001b[92m▶︎ GRAPH MAKER LOG - 2024-10-23 13:59:38 - INFO \u001b[39m\n",
      "\u001b[92mDocument Text: The Norse raiders and pirates originated from Norway.\u001b[39m\n",
      "\u001b[92m\u001b[39m\n",
      "\u001b[34m\u001b[39m\n",
      "\u001b[34m▶︎ GRAPH MAKER VERBOSE - 2024-10-23 13:59:38 - INFO \u001b[39m\n",
      "\u001b[34mUsing Ontology:\n",
      "labels=[{'Person': 'Person name without any adjectives, Remember a person may be referenced by their name or using a pronoun'}, {'Object': \"Objects are inanimate things that a person uses, Do not add the definite article 'the' in the object name\"}, {'Event': 'An entity that happens at a specific time and place'}, {'Place': 'Places are locations where specific events took place and where persons can go to and where objects can be found'}, {'Miscellaneous': 'Any important concept can not be categorised with any other given label'}] relationships=['Relation between any pair of Entities']\u001b[39m\n",
      "\u001b[34m\u001b[39m\n"
     ]
    },
    {
     "name": "stdout",
     "output_type": "stream",
     "text": [
      "Using Model:  gpt-4o-mini\n"
     ]
    },
    {
     "name": "stderr",
     "output_type": "stream",
     "text": [
      "\u001b[34m\u001b[39m\n",
      "\u001b[34m▶︎ GRAPH MAKER VERBOSE - 2024-10-23 13:59:39 - INFO \u001b[39m\n",
      "\u001b[34mLLM Response:\n",
      "[\n",
      "    {\n",
      "        \"node_1\": {\n",
      "            \"label\": \"Miscellaneous\",\n",
      "            \"name\": \"Norse raiders and pirates\"\n",
      "        },\n",
      "        \"node_2\": {\n",
      "            \"label\": \"Place\",\n",
      "            \"name\": \"Norway\"\n",
      "        },\n",
      "        \"relationship\": \"Norse raiders and pirates originated from Norway.\"\n",
      "    }\n",
      "]\u001b[39m\n",
      "\u001b[34m\u001b[39m\n",
      "\u001b[92m\u001b[39m\n",
      "\u001b[92m▶︎ GRAPH MAKER LOG - 2024-10-23 13:59:39 - INFO \u001b[39m\n",
      "\u001b[92mTrying JSON Parsing: \n",
      "[\n",
      "    {\n",
      "        \"node_1\": {\n",
      "            \"label\": \"Miscellaneous\",\n",
      "            \"name\": \"Norse raiders and pirates\"\n",
      "        },\n",
      "        \"node_2\": {\n",
      "            \"label\": \"Place\",\n",
      "            \"name\": \"Norway\"\n",
      "        },\n",
      "        \"relationship\": \"Norse raiders and pirates originated from Norway.\"\n",
      "    }\n",
      "]\u001b[39m\n",
      "\u001b[92m\u001b[39m\n",
      "\u001b[92m\u001b[39m\n",
      "\u001b[92m▶︎ GRAPH MAKER LOG - 2024-10-23 13:59:39 - INFO \u001b[39m\n",
      "\u001b[92mJSON Parsing Successful!\u001b[39m\n",
      "\u001b[92m\u001b[39m\n",
      "\u001b[92m\u001b[39m\n",
      "\u001b[92m▶︎ GRAPH MAKER LOG - 2024-10-23 13:59:39 - INFO \u001b[39m\n",
      "\u001b[92mDocument: 12\u001b[39m\n",
      "\u001b[92m\u001b[39m\n",
      "\u001b[92m\u001b[39m\n",
      "\u001b[92m▶︎ GRAPH MAKER LOG - 2024-10-23 13:59:39 - INFO \u001b[39m\n",
      "\u001b[92mDocument Text: The Norse raiders and pirates were led by Rollo.\u001b[39m\n",
      "\u001b[92m\u001b[39m\n",
      "\u001b[34m\u001b[39m\n",
      "\u001b[34m▶︎ GRAPH MAKER VERBOSE - 2024-10-23 13:59:39 - INFO \u001b[39m\n",
      "\u001b[34mUsing Ontology:\n",
      "labels=[{'Person': 'Person name without any adjectives, Remember a person may be referenced by their name or using a pronoun'}, {'Object': \"Objects are inanimate things that a person uses, Do not add the definite article 'the' in the object name\"}, {'Event': 'An entity that happens at a specific time and place'}, {'Place': 'Places are locations where specific events took place and where persons can go to and where objects can be found'}, {'Miscellaneous': 'Any important concept can not be categorised with any other given label'}] relationships=['Relation between any pair of Entities']\u001b[39m\n",
      "\u001b[34m\u001b[39m\n"
     ]
    },
    {
     "name": "stdout",
     "output_type": "stream",
     "text": [
      "Using Model:  gpt-4o-mini\n"
     ]
    },
    {
     "name": "stderr",
     "output_type": "stream",
     "text": [
      "\u001b[34m\u001b[39m\n",
      "\u001b[34m▶︎ GRAPH MAKER VERBOSE - 2024-10-23 13:59:40 - INFO \u001b[39m\n",
      "\u001b[34mLLM Response:\n",
      "[\n",
      "   {\n",
      "       \"node_1\": {\"label\": \"Person\", \"name\": \"Rollo\"},\n",
      "       \"node_2\": {\"label\": \"Miscellaneous\", \"name\": \"Norse raiders and pirates\"},\n",
      "       \"relationship\": \"Rollo led the Norse raiders and pirates.\"\n",
      "   }\n",
      "]\u001b[39m\n",
      "\u001b[34m\u001b[39m\n",
      "\u001b[92m\u001b[39m\n",
      "\u001b[92m▶︎ GRAPH MAKER LOG - 2024-10-23 13:59:40 - INFO \u001b[39m\n",
      "\u001b[92mTrying JSON Parsing: \n",
      "[\n",
      "   {\n",
      "       \"node_1\": {\"label\": \"Person\", \"name\": \"Rollo\"},\n",
      "       \"node_2\": {\"label\": \"Miscellaneous\", \"name\": \"Norse raiders and pirates\"},\n",
      "       \"relationship\": \"Rollo led the Norse raiders and pirates.\"\n",
      "   }\n",
      "]\u001b[39m\n",
      "\u001b[92m\u001b[39m\n",
      "\u001b[92m\u001b[39m\n",
      "\u001b[92m▶︎ GRAPH MAKER LOG - 2024-10-23 13:59:40 - INFO \u001b[39m\n",
      "\u001b[92mJSON Parsing Successful!\u001b[39m\n",
      "\u001b[92m\u001b[39m\n",
      "\u001b[92m\u001b[39m\n",
      "\u001b[92m▶︎ GRAPH MAKER LOG - 2024-10-23 13:59:40 - INFO \u001b[39m\n",
      "\u001b[92mDocument: 13\u001b[39m\n",
      "\u001b[92m\u001b[39m\n",
      "\u001b[92m\u001b[39m\n",
      "\u001b[92m▶︎ GRAPH MAKER LOG - 2024-10-23 13:59:40 - INFO \u001b[39m\n",
      "\u001b[92mDocument Text: Rollo agreed to swear fealty to King Charles III of West Francia.\u001b[39m\n",
      "\u001b[92m\u001b[39m\n",
      "\u001b[34m\u001b[39m\n",
      "\u001b[34m▶︎ GRAPH MAKER VERBOSE - 2024-10-23 13:59:40 - INFO \u001b[39m\n",
      "\u001b[34mUsing Ontology:\n",
      "labels=[{'Person': 'Person name without any adjectives, Remember a person may be referenced by their name or using a pronoun'}, {'Object': \"Objects are inanimate things that a person uses, Do not add the definite article 'the' in the object name\"}, {'Event': 'An entity that happens at a specific time and place'}, {'Place': 'Places are locations where specific events took place and where persons can go to and where objects can be found'}, {'Miscellaneous': 'Any important concept can not be categorised with any other given label'}] relationships=['Relation between any pair of Entities']\u001b[39m\n",
      "\u001b[34m\u001b[39m\n"
     ]
    },
    {
     "name": "stdout",
     "output_type": "stream",
     "text": [
      "Using Model:  gpt-4o-mini\n"
     ]
    },
    {
     "name": "stderr",
     "output_type": "stream",
     "text": [
      "\u001b[34m\u001b[39m\n",
      "\u001b[34m▶︎ GRAPH MAKER VERBOSE - 2024-10-23 13:59:42 - INFO \u001b[39m\n",
      "\u001b[34mLLM Response:\n",
      "[\n",
      "   {\n",
      "       \"node_1\": {\"label\": \"Person\", \"name\": \"Rollo\"},\n",
      "       \"node_2\": {\"label\": \"Person\", \"name\": \"King Charles III\"},\n",
      "       \"relationship\": \"Rollo agreed to swear fealty to King Charles III.\"\n",
      "   },\n",
      "   {\n",
      "       \"node_1\": {\"label\": \"Person\", \"name\": \"King Charles III\"},\n",
      "       \"node_2\": {\"label\": \"Place\", \"name\": \"West Francia\"},\n",
      "       \"relationship\": \"King Charles III is associated with West Francia.\"\n",
      "   }\n",
      "]\u001b[39m\n",
      "\u001b[34m\u001b[39m\n",
      "\u001b[92m\u001b[39m\n",
      "\u001b[92m▶︎ GRAPH MAKER LOG - 2024-10-23 13:59:42 - INFO \u001b[39m\n",
      "\u001b[92mTrying JSON Parsing: \n",
      "[\n",
      "   {\n",
      "       \"node_1\": {\"label\": \"Person\", \"name\": \"Rollo\"},\n",
      "       \"node_2\": {\"label\": \"Person\", \"name\": \"King Charles III\"},\n",
      "       \"relationship\": \"Rollo agreed to swear fealty to King Charles III.\"\n",
      "   },\n",
      "   {\n",
      "       \"node_1\": {\"label\": \"Person\", \"name\": \"King Charles III\"},\n",
      "       \"node_2\": {\"label\": \"Place\", \"name\": \"West Francia\"},\n",
      "       \"relationship\": \"King Charles III is associated with West Francia.\"\n",
      "   }\n",
      "]\u001b[39m\n",
      "\u001b[92m\u001b[39m\n",
      "\u001b[92m\u001b[39m\n",
      "\u001b[92m▶︎ GRAPH MAKER LOG - 2024-10-23 13:59:42 - INFO \u001b[39m\n",
      "\u001b[92mJSON Parsing Successful!\u001b[39m\n",
      "\u001b[92m\u001b[39m\n",
      "\u001b[92m\u001b[39m\n",
      "\u001b[92m▶︎ GRAPH MAKER LOG - 2024-10-23 13:59:42 - INFO \u001b[39m\n",
      "\u001b[92mDocument: 14\u001b[39m\n",
      "\u001b[92m\u001b[39m\n",
      "\u001b[92m\u001b[39m\n",
      "\u001b[92m▶︎ GRAPH MAKER LOG - 2024-10-23 13:59:42 - INFO \u001b[39m\n",
      "\u001b[92mDocument Text: Generations of assimilation and mixing occurred with the native Frankish populations.\u001b[39m\n",
      "\u001b[92m\u001b[39m\n",
      "\u001b[34m\u001b[39m\n",
      "\u001b[34m▶︎ GRAPH MAKER VERBOSE - 2024-10-23 13:59:42 - INFO \u001b[39m\n",
      "\u001b[34mUsing Ontology:\n",
      "labels=[{'Person': 'Person name without any adjectives, Remember a person may be referenced by their name or using a pronoun'}, {'Object': \"Objects are inanimate things that a person uses, Do not add the definite article 'the' in the object name\"}, {'Event': 'An entity that happens at a specific time and place'}, {'Place': 'Places are locations where specific events took place and where persons can go to and where objects can be found'}, {'Miscellaneous': 'Any important concept can not be categorised with any other given label'}] relationships=['Relation between any pair of Entities']\u001b[39m\n",
      "\u001b[34m\u001b[39m\n"
     ]
    },
    {
     "name": "stdout",
     "output_type": "stream",
     "text": [
      "Using Model:  gpt-4o-mini\n"
     ]
    },
    {
     "name": "stderr",
     "output_type": "stream",
     "text": [
      "\u001b[34m\u001b[39m\n",
      "\u001b[34m▶︎ GRAPH MAKER VERBOSE - 2024-10-23 13:59:44 - INFO \u001b[39m\n",
      "\u001b[34mLLM Response:\n",
      "[\n",
      "    {\n",
      "        \"node_1\": {\n",
      "            \"label\": \"Miscellaneous\",\n",
      "            \"name\": \"Generations of assimilation and mixing\"\n",
      "        },\n",
      "        \"node_2\": {\n",
      "            \"label\": \"Person\",\n",
      "            \"name\": \"Frankish populations\"\n",
      "        },\n",
      "        \"relationship\": \"Generations of assimilation and mixing occurred with the native Frankish populations.\"\n",
      "    }\n",
      "]\u001b[39m\n",
      "\u001b[34m\u001b[39m\n",
      "\u001b[92m\u001b[39m\n",
      "\u001b[92m▶︎ GRAPH MAKER LOG - 2024-10-23 13:59:44 - INFO \u001b[39m\n",
      "\u001b[92mTrying JSON Parsing: \n",
      "[\n",
      "    {\n",
      "        \"node_1\": {\n",
      "            \"label\": \"Miscellaneous\",\n",
      "            \"name\": \"Generations of assimilation and mixing\"\n",
      "        },\n",
      "        \"node_2\": {\n",
      "            \"label\": \"Person\",\n",
      "            \"name\": \"Frankish populations\"\n",
      "        },\n",
      "        \"relationship\": \"Generations of assimilation and mixing occurred with the native Frankish populations.\"\n",
      "    }\n",
      "]\u001b[39m\n",
      "\u001b[92m\u001b[39m\n",
      "\u001b[92m\u001b[39m\n",
      "\u001b[92m▶︎ GRAPH MAKER LOG - 2024-10-23 13:59:44 - INFO \u001b[39m\n",
      "\u001b[92mJSON Parsing Successful!\u001b[39m\n",
      "\u001b[92m\u001b[39m\n",
      "\u001b[92m\u001b[39m\n",
      "\u001b[92m▶︎ GRAPH MAKER LOG - 2024-10-23 13:59:44 - INFO \u001b[39m\n",
      "\u001b[92mDocument: 15\u001b[39m\n",
      "\u001b[92m\u001b[39m\n",
      "\u001b[92m\u001b[39m\n",
      "\u001b[92m▶︎ GRAPH MAKER LOG - 2024-10-23 13:59:44 - INFO \u001b[39m\n",
      "\u001b[92mDocument Text: Generations of assimilation and mixing occurred with the native Roman-Gaulish populations.\u001b[39m\n",
      "\u001b[92m\u001b[39m\n",
      "\u001b[34m\u001b[39m\n",
      "\u001b[34m▶︎ GRAPH MAKER VERBOSE - 2024-10-23 13:59:44 - INFO \u001b[39m\n",
      "\u001b[34mUsing Ontology:\n",
      "labels=[{'Person': 'Person name without any adjectives, Remember a person may be referenced by their name or using a pronoun'}, {'Object': \"Objects are inanimate things that a person uses, Do not add the definite article 'the' in the object name\"}, {'Event': 'An entity that happens at a specific time and place'}, {'Place': 'Places are locations where specific events took place and where persons can go to and where objects can be found'}, {'Miscellaneous': 'Any important concept can not be categorised with any other given label'}] relationships=['Relation between any pair of Entities']\u001b[39m\n",
      "\u001b[34m\u001b[39m\n"
     ]
    },
    {
     "name": "stdout",
     "output_type": "stream",
     "text": [
      "Using Model:  gpt-4o-mini\n"
     ]
    },
    {
     "name": "stderr",
     "output_type": "stream",
     "text": [
      "\u001b[34m\u001b[39m\n",
      "\u001b[34m▶︎ GRAPH MAKER VERBOSE - 2024-10-23 13:59:47 - INFO \u001b[39m\n",
      "\u001b[34mLLM Response:\n",
      "[\n",
      "    {\n",
      "        \"node_1\": {\n",
      "            \"label\": \"Miscellaneous\",\n",
      "            \"name\": \"Generations of assimilation and mixing\"\n",
      "        },\n",
      "        \"node_2\": {\n",
      "            \"label\": \"Miscellaneous\",\n",
      "            \"name\": \"native Roman-Gaulish populations\"\n",
      "        },\n",
      "        \"relationship\": \"Generations of assimilation and mixing occurred with the native Roman-Gaulish populations.\"\n",
      "    }\n",
      "]\u001b[39m\n",
      "\u001b[34m\u001b[39m\n",
      "\u001b[92m\u001b[39m\n",
      "\u001b[92m▶︎ GRAPH MAKER LOG - 2024-10-23 13:59:47 - INFO \u001b[39m\n",
      "\u001b[92mTrying JSON Parsing: \n",
      "[\n",
      "    {\n",
      "        \"node_1\": {\n",
      "            \"label\": \"Miscellaneous\",\n",
      "            \"name\": \"Generations of assimilation and mixing\"\n",
      "        },\n",
      "        \"node_2\": {\n",
      "            \"label\": \"Miscellaneous\",\n",
      "            \"name\": \"native Roman-Gaulish populations\"\n",
      "        },\n",
      "        \"relationship\": \"Generations of assimilation and mixing occurred with the native Roman-Gaulish populations.\"\n",
      "    }\n",
      "]\u001b[39m\n",
      "\u001b[92m\u001b[39m\n",
      "\u001b[92m\u001b[39m\n",
      "\u001b[92m▶︎ GRAPH MAKER LOG - 2024-10-23 13:59:47 - INFO \u001b[39m\n",
      "\u001b[92mJSON Parsing Successful!\u001b[39m\n",
      "\u001b[92m\u001b[39m\n",
      "\u001b[92m\u001b[39m\n",
      "\u001b[92m▶︎ GRAPH MAKER LOG - 2024-10-23 13:59:47 - INFO \u001b[39m\n",
      "\u001b[92mDocument: 16\u001b[39m\n",
      "\u001b[92m\u001b[39m\n",
      "\u001b[92m\u001b[39m\n",
      "\u001b[92m▶︎ GRAPH MAKER LOG - 2024-10-23 13:59:47 - INFO \u001b[39m\n",
      "\u001b[92mDocument Text: The descendants of the native Frankish and Roman-Gaulish populations would gradually merge with the Carolingian-based cultures of West Francia.\u001b[39m\n",
      "\u001b[92m\u001b[39m\n",
      "\u001b[34m\u001b[39m\n",
      "\u001b[34m▶︎ GRAPH MAKER VERBOSE - 2024-10-23 13:59:47 - INFO \u001b[39m\n",
      "\u001b[34mUsing Ontology:\n",
      "labels=[{'Person': 'Person name without any adjectives, Remember a person may be referenced by their name or using a pronoun'}, {'Object': \"Objects are inanimate things that a person uses, Do not add the definite article 'the' in the object name\"}, {'Event': 'An entity that happens at a specific time and place'}, {'Place': 'Places are locations where specific events took place and where persons can go to and where objects can be found'}, {'Miscellaneous': 'Any important concept can not be categorised with any other given label'}] relationships=['Relation between any pair of Entities']\u001b[39m\n",
      "\u001b[34m\u001b[39m\n"
     ]
    },
    {
     "name": "stdout",
     "output_type": "stream",
     "text": [
      "Using Model:  gpt-4o-mini\n"
     ]
    },
    {
     "name": "stderr",
     "output_type": "stream",
     "text": [
      "\u001b[34m\u001b[39m\n",
      "\u001b[34m▶︎ GRAPH MAKER VERBOSE - 2024-10-23 13:59:49 - INFO \u001b[39m\n",
      "\u001b[34mLLM Response:\n",
      "[\n",
      "    {\n",
      "        \"node_1\": {\n",
      "            \"label\": \"Miscellaneous\",\n",
      "            \"name\": \"descendants of the native Frankish and Roman-Gaulish populations\"\n",
      "        },\n",
      "        \"node_2\": {\n",
      "            \"label\": \"Miscellaneous\",\n",
      "            \"name\": \"Carolingian-based cultures of West Francia\"\n",
      "        },\n",
      "        \"relationship\": \"The descendants of the native Frankish and Roman-Gaulish populations would gradually merge with the Carolingian-based cultures of West Francia.\"\n",
      "    }\n",
      "]\u001b[39m\n",
      "\u001b[34m\u001b[39m\n",
      "\u001b[92m\u001b[39m\n",
      "\u001b[92m▶︎ GRAPH MAKER LOG - 2024-10-23 13:59:49 - INFO \u001b[39m\n",
      "\u001b[92mTrying JSON Parsing: \n",
      "[\n",
      "    {\n",
      "        \"node_1\": {\n",
      "            \"label\": \"Miscellaneous\",\n",
      "            \"name\": \"descendants of the native Frankish and Roman-Gaulish populations\"\n",
      "        },\n",
      "        \"node_2\": {\n",
      "            \"label\": \"Miscellaneous\",\n",
      "            \"name\": \"Carolingian-based cultures of West Francia\"\n",
      "        },\n",
      "        \"relationship\": \"The descendants of the native Frankish and Roman-Gaulish populations would gradually merge with the Carolingian-based cultures of West Francia.\"\n",
      "    }\n",
      "]\u001b[39m\n",
      "\u001b[92m\u001b[39m\n",
      "\u001b[92m\u001b[39m\n",
      "\u001b[92m▶︎ GRAPH MAKER LOG - 2024-10-23 13:59:49 - INFO \u001b[39m\n",
      "\u001b[92mJSON Parsing Successful!\u001b[39m\n",
      "\u001b[92m\u001b[39m\n",
      "\u001b[92m\u001b[39m\n",
      "\u001b[92m▶︎ GRAPH MAKER LOG - 2024-10-23 13:59:49 - INFO \u001b[39m\n",
      "\u001b[92mDocument: 17\u001b[39m\n",
      "\u001b[92m\u001b[39m\n",
      "\u001b[92m\u001b[39m\n",
      "\u001b[92m▶︎ GRAPH MAKER LOG - 2024-10-23 13:59:49 - INFO \u001b[39m\n",
      "\u001b[92mDocument Text: The distinct cultural and ethnic identity of the Normans emerged initially in the first half of the 10th century.\u001b[39m\n",
      "\u001b[92m\u001b[39m\n",
      "\u001b[34m\u001b[39m\n",
      "\u001b[34m▶︎ GRAPH MAKER VERBOSE - 2024-10-23 13:59:49 - INFO \u001b[39m\n",
      "\u001b[34mUsing Ontology:\n",
      "labels=[{'Person': 'Person name without any adjectives, Remember a person may be referenced by their name or using a pronoun'}, {'Object': \"Objects are inanimate things that a person uses, Do not add the definite article 'the' in the object name\"}, {'Event': 'An entity that happens at a specific time and place'}, {'Place': 'Places are locations where specific events took place and where persons can go to and where objects can be found'}, {'Miscellaneous': 'Any important concept can not be categorised with any other given label'}] relationships=['Relation between any pair of Entities']\u001b[39m\n",
      "\u001b[34m\u001b[39m\n"
     ]
    },
    {
     "name": "stdout",
     "output_type": "stream",
     "text": [
      "Using Model:  gpt-4o-mini\n"
     ]
    },
    {
     "name": "stderr",
     "output_type": "stream",
     "text": [
      "\u001b[34m\u001b[39m\n",
      "\u001b[34m▶︎ GRAPH MAKER VERBOSE - 2024-10-23 13:59:52 - INFO \u001b[39m\n",
      "\u001b[34mLLM Response:\n",
      "[\n",
      "    {\n",
      "        \"node_1\": {\n",
      "            \"label\": \"Miscellaneous\",\n",
      "            \"name\": \"cultural and ethnic identity\"\n",
      "        },\n",
      "        \"node_2\": {\n",
      "            \"label\": \"Person\",\n",
      "            \"name\": \"Normans\"\n",
      "        },\n",
      "        \"relationship\": \"The cultural and ethnic identity of the Normans emerged during a specific historical period.\"\n",
      "    },\n",
      "    {\n",
      "        \"node_1\": {\n",
      "            \"label\": \"Person\",\n",
      "            \"name\": \"Normans\"\n",
      "        },\n",
      "        \"node_2\": {\n",
      "            \"label\": \"Event\",\n",
      "            \"name\": \"emergence of identity\"\n",
      "        },\n",
      "        \"relationship\": \"The Normans are associated with the event of their cultural and ethnic identity emerging.\"\n",
      "    },\n",
      "    {\n",
      "        \"node_1\": {\n",
      "            \"label\": \"Event\",\n",
      "            \"name\": \"emergence of identity\"\n",
      "        },\n",
      "        \"node_2\": {\n",
      "            \"label\": \"Place\",\n",
      "            \"name\": \"10th century\"\n",
      "        },\n",
      "        \"relationship\": \"The emergence of identity occurred in the 10th century.\"\n",
      "    }\n",
      "]\u001b[39m\n",
      "\u001b[34m\u001b[39m\n",
      "\u001b[92m\u001b[39m\n",
      "\u001b[92m▶︎ GRAPH MAKER LOG - 2024-10-23 13:59:52 - INFO \u001b[39m\n",
      "\u001b[92mTrying JSON Parsing: \n",
      "[\n",
      "    {\n",
      "        \"node_1\": {\n",
      "            \"label\": \"Miscellaneous\",\n",
      "            \"name\": \"cultural and ethnic identity\"\n",
      "        },\n",
      "        \"node_2\": {\n",
      "            \"label\": \"Person\",\n",
      "            \"name\": \"Normans\"\n",
      "        },\n",
      "        \"relationship\": \"The cultural and ethnic identity of the Normans emerged during a specific historical period.\"\n",
      "    },\n",
      "    {\n",
      "        \"node_1\": {\n",
      "            \"label\": \"Person\",\n",
      "            \"name\": \"Normans\"\n",
      "        },\n",
      "        \"node_2\": {\n",
      "            \"label\": \"Event\",\n",
      "            \"name\": \"emergence of identity\"\n",
      "        },\n",
      "        \"relationship\": \"The Normans are associated with the event of their cultural and ethnic identity emerging.\"\n",
      "    },\n",
      "    {\n",
      "        \"node_1\": {\n",
      "            \"label\": \"Event\",\n",
      "            \"name\": \"emergence of identity\"\n",
      "        },\n",
      "        \"node_2\": {\n",
      "            \"label\": \"Place\",\n",
      "            \"name\": \"10th century\"\n",
      "        },\n",
      "        \"relationship\": \"The emergence of identity occurred in the 10th century.\"\n",
      "    }\n",
      "]\u001b[39m\n",
      "\u001b[92m\u001b[39m\n",
      "\u001b[92m\u001b[39m\n",
      "\u001b[92m▶︎ GRAPH MAKER LOG - 2024-10-23 13:59:52 - INFO \u001b[39m\n",
      "\u001b[92mJSON Parsing Successful!\u001b[39m\n",
      "\u001b[92m\u001b[39m\n",
      "\u001b[92m\u001b[39m\n",
      "\u001b[92m▶︎ GRAPH MAKER LOG - 2024-10-23 13:59:52 - INFO \u001b[39m\n",
      "\u001b[92mDocument: 18\u001b[39m\n",
      "\u001b[92m\u001b[39m\n",
      "\u001b[92m\u001b[39m\n",
      "\u001b[92m▶︎ GRAPH MAKER LOG - 2024-10-23 13:59:52 - INFO \u001b[39m\n",
      "\u001b[92mDocument Text: The distinct cultural and ethnic identity of the Normans continued to evolve over the succeeding centuries.\u001b[39m\n",
      "\u001b[92m\u001b[39m\n",
      "\u001b[34m\u001b[39m\n",
      "\u001b[34m▶︎ GRAPH MAKER VERBOSE - 2024-10-23 13:59:52 - INFO \u001b[39m\n",
      "\u001b[34mUsing Ontology:\n",
      "labels=[{'Person': 'Person name without any adjectives, Remember a person may be referenced by their name or using a pronoun'}, {'Object': \"Objects are inanimate things that a person uses, Do not add the definite article 'the' in the object name\"}, {'Event': 'An entity that happens at a specific time and place'}, {'Place': 'Places are locations where specific events took place and where persons can go to and where objects can be found'}, {'Miscellaneous': 'Any important concept can not be categorised with any other given label'}] relationships=['Relation between any pair of Entities']\u001b[39m\n",
      "\u001b[34m\u001b[39m\n"
     ]
    },
    {
     "name": "stdout",
     "output_type": "stream",
     "text": [
      "Using Model:  gpt-4o-mini\n"
     ]
    },
    {
     "name": "stderr",
     "output_type": "stream",
     "text": [
      "\u001b[34m\u001b[39m\n",
      "\u001b[34m▶︎ GRAPH MAKER VERBOSE - 2024-10-23 13:59:53 - INFO \u001b[39m\n",
      "\u001b[34mLLM Response:\n",
      "[\n",
      "    {\n",
      "        \"node_1\": {\n",
      "            \"label\": \"Miscellaneous\",\n",
      "            \"name\": \"cultural and ethnic identity\"\n",
      "        },\n",
      "        \"node_2\": {\n",
      "            \"label\": \"Person\",\n",
      "            \"name\": \"Normans\"\n",
      "        },\n",
      "        \"relationship\": \"The cultural and ethnic identity is associated with the Normans, indicating that it is a characteristic that defines them.\"\n",
      "    }\n",
      "]\u001b[39m\n",
      "\u001b[34m\u001b[39m\n",
      "\u001b[92m\u001b[39m\n",
      "\u001b[92m▶︎ GRAPH MAKER LOG - 2024-10-23 13:59:53 - INFO \u001b[39m\n",
      "\u001b[92mTrying JSON Parsing: \n",
      "[\n",
      "    {\n",
      "        \"node_1\": {\n",
      "            \"label\": \"Miscellaneous\",\n",
      "            \"name\": \"cultural and ethnic identity\"\n",
      "        },\n",
      "        \"node_2\": {\n",
      "            \"label\": \"Person\",\n",
      "            \"name\": \"Normans\"\n",
      "        },\n",
      "        \"relationship\": \"The cultural and ethnic identity is associated with the Normans, indicating that it is a characteristic that defines them.\"\n",
      "    }\n",
      "]\u001b[39m\n",
      "\u001b[92m\u001b[39m\n",
      "\u001b[92m\u001b[39m\n",
      "\u001b[92m▶︎ GRAPH MAKER LOG - 2024-10-23 13:59:53 - INFO \u001b[39m\n",
      "\u001b[92mJSON Parsing Successful!\u001b[39m\n",
      "\u001b[92m\u001b[39m\n"
     ]
    },
    {
     "name": "stdout",
     "output_type": "stream",
     "text": [
      "Success\n"
     ]
    }
   ],
   "source": [
    "if generate(propositions):\n",
    "    print(\"Success\")\n",
    "else:\n",
    "    print(\"Failed\")"
   ]
  },
  {
   "cell_type": "code",
   "execution_count": 47,
   "metadata": {},
   "outputs": [
    {
     "data": {
      "text/html": [
       "<div>\n",
       "<style scoped>\n",
       "    .dataframe tbody tr th:only-of-type {\n",
       "        vertical-align: middle;\n",
       "    }\n",
       "\n",
       "    .dataframe tbody tr th {\n",
       "        vertical-align: top;\n",
       "    }\n",
       "\n",
       "    .dataframe thead th {\n",
       "        text-align: right;\n",
       "    }\n",
       "</style>\n",
       "<table border=\"1\" class=\"dataframe\">\n",
       "  <thead>\n",
       "    <tr style=\"text-align: right;\">\n",
       "      <th></th>\n",
       "      <th>id</th>\n",
       "      <th>title</th>\n",
       "      <th>context</th>\n",
       "      <th>question</th>\n",
       "      <th>answers</th>\n",
       "    </tr>\n",
       "  </thead>\n",
       "  <tbody>\n",
       "    <tr>\n",
       "      <th>0</th>\n",
       "      <td>56ddde6b9a695914005b9628</td>\n",
       "      <td>Normans</td>\n",
       "      <td>The Normans (Norman: Nourmands; French: Norman...</td>\n",
       "      <td>In what country is Normandy located?</td>\n",
       "      <td>{'text': ['France', 'France', 'France', 'Franc...</td>\n",
       "    </tr>\n",
       "    <tr>\n",
       "      <th>1</th>\n",
       "      <td>56ddde6b9a695914005b9629</td>\n",
       "      <td>Normans</td>\n",
       "      <td>The Normans (Norman: Nourmands; French: Norman...</td>\n",
       "      <td>When were the Normans in Normandy?</td>\n",
       "      <td>{'text': ['10th and 11th centuries', 'in the 1...</td>\n",
       "    </tr>\n",
       "    <tr>\n",
       "      <th>2</th>\n",
       "      <td>56ddde6b9a695914005b962a</td>\n",
       "      <td>Normans</td>\n",
       "      <td>The Normans (Norman: Nourmands; French: Norman...</td>\n",
       "      <td>From which countries did the Norse originate?</td>\n",
       "      <td>{'text': ['Denmark, Iceland and Norway', 'Denm...</td>\n",
       "    </tr>\n",
       "    <tr>\n",
       "      <th>3</th>\n",
       "      <td>56ddde6b9a695914005b962b</td>\n",
       "      <td>Normans</td>\n",
       "      <td>The Normans (Norman: Nourmands; French: Norman...</td>\n",
       "      <td>Who was the Norse leader?</td>\n",
       "      <td>{'text': ['Rollo', 'Rollo', 'Rollo', 'Rollo'],...</td>\n",
       "    </tr>\n",
       "    <tr>\n",
       "      <th>4</th>\n",
       "      <td>56ddde6b9a695914005b962c</td>\n",
       "      <td>Normans</td>\n",
       "      <td>The Normans (Norman: Nourmands; French: Norman...</td>\n",
       "      <td>What century did the Normans first gain their ...</td>\n",
       "      <td>{'text': ['10th century', 'the first half of t...</td>\n",
       "    </tr>\n",
       "  </tbody>\n",
       "</table>\n",
       "</div>"
      ],
      "text/plain": [
       "                         id    title  \\\n",
       "0  56ddde6b9a695914005b9628  Normans   \n",
       "1  56ddde6b9a695914005b9629  Normans   \n",
       "2  56ddde6b9a695914005b962a  Normans   \n",
       "3  56ddde6b9a695914005b962b  Normans   \n",
       "4  56ddde6b9a695914005b962c  Normans   \n",
       "\n",
       "                                             context  \\\n",
       "0  The Normans (Norman: Nourmands; French: Norman...   \n",
       "1  The Normans (Norman: Nourmands; French: Norman...   \n",
       "2  The Normans (Norman: Nourmands; French: Norman...   \n",
       "3  The Normans (Norman: Nourmands; French: Norman...   \n",
       "4  The Normans (Norman: Nourmands; French: Norman...   \n",
       "\n",
       "                                            question  \\\n",
       "0               In what country is Normandy located?   \n",
       "1                 When were the Normans in Normandy?   \n",
       "2      From which countries did the Norse originate?   \n",
       "3                          Who was the Norse leader?   \n",
       "4  What century did the Normans first gain their ...   \n",
       "\n",
       "                                             answers  \n",
       "0  {'text': ['France', 'France', 'France', 'Franc...  \n",
       "1  {'text': ['10th and 11th centuries', 'in the 1...  \n",
       "2  {'text': ['Denmark, Iceland and Norway', 'Denm...  \n",
       "3  {'text': ['Rollo', 'Rollo', 'Rollo', 'Rollo'],...  \n",
       "4  {'text': ['10th century', 'the first half of t...  "
      ]
     },
     "execution_count": 47,
     "metadata": {},
     "output_type": "execute_result"
    }
   ],
   "source": [
    "df_squadv2_reduced = df_squadv2[0:5]\n",
    "df_squadv2_reduced"
   ]
  },
  {
   "cell_type": "code",
   "execution_count": 65,
   "metadata": {},
   "outputs": [],
   "source": [
    "my_dict = {}"
   ]
  },
  {
   "cell_type": "code",
   "execution_count": 66,
   "metadata": {},
   "outputs": [],
   "source": [
    "import json\n",
    "\n",
    "# Define a function to apply to each row\n",
    "def print_qa(row):\n",
    "    \n",
    "    question = row['question']\n",
    "    questionid = row['id']\n",
    "    print(\"Question:\", question)\n",
    "    print(\"Questionid:\", questionid)\n",
    "\n",
    "    result = query_graph(question)\n",
    "    model_answer = result['result']\n",
    "    real_answer = row['answers']['text'][0]\n",
    "\n",
    "    cypher_query = result['intermediate_steps'][0]['query']\n",
    "    context = result['intermediate_steps'][1]['context']\n",
    "    \n",
    "    if(len(context) < 1):\n",
    "        result = refine_query(cypher_query[6:], question)\n",
    "        model_answer = result['result'] \n",
    "\n",
    "        # f = open(\"results.txt\", \"a\")\n",
    "        # f.write(\"Question: \" + question)\n",
    "        # f.write(\"\\n\")\n",
    "        # f.write(\"Model Answer: \" + model_answer)\n",
    "        # f.write(\"\\n\")\n",
    "        # f.write(\"Real Answer: \" + real_answer)\n",
    "        # f.write(\"\\n\")\n",
    "        # f.write(\"\\n\")\n",
    "    my_dict.update({questionid: model_answer})"
   ]
  },
  {
   "cell_type": "code",
   "execution_count": 67,
   "metadata": {},
   "outputs": [
    {
     "name": "stdout",
     "output_type": "stream",
     "text": [
      "Question: In what country is Normandy located?\n",
      "Questionid: 56ddde6b9a695914005b9628\n",
      "\n",
      "\n",
      "\u001b[1m> Entering new GraphCypherQAChain chain...\u001b[0m\n",
      "Generated Cypher:\n",
      "\u001b[32;1m\u001b[1;3mcypher\n",
      "MATCH (e:Entity)-[r:RELATED]-(re:Entity)\n",
      "WHERE toLower(e.name) CONTAINS 'normandy'\n",
      "RETURN e.name, r.metadata, r.description, re.name\n",
      "\u001b[0m\n",
      "Full Context:\n",
      "\u001b[32;1m\u001b[1;3m[{'e.name': 'Normandy', 'r.metadata': '{\"summary\": \"Normandy is a region in France.\", \"generated_at\": \"2024-10-23 13:59:23.613801\"}', 'r.description': 'Normandy is a region located within France.', 're.name': 'France'}, {'e.name': 'Normandy', 'r.metadata': '{\"summary\": \"The Normans were the people who gave their name to Normandy.\", \"generated_at\": \"2024-10-23 13:59:23.613801\"}', 'r.description': 'The Normans are the people associated with the name of Normandy.', 're.name': 'Normans'}]\u001b[0m\n",
      "\n",
      "\u001b[1m> Finished chain.\u001b[0m\n",
      "Question: When were the Normans in Normandy?\n",
      "Questionid: 56ddde6b9a695914005b9629\n",
      "\n",
      "\n",
      "\u001b[1m> Entering new GraphCypherQAChain chain...\u001b[0m\n"
     ]
    },
    {
     "name": "stderr",
     "output_type": "stream",
     "text": [
      "/Users/user/miniconda3/envs/graphmaker/lib/python3.11/site-packages/neo4j/_sync/driver.py:511: DeprecationWarning: Relying on Driver's destructor to close the session is deprecated. Please make sure to close the session. Use it as a context (`with` statement) or make sure to call `.close()` explicitly. Future versions of the driver will not close drivers automatically.\n",
      "  deprecation_warn(\n"
     ]
    },
    {
     "name": "stdout",
     "output_type": "stream",
     "text": [
      "Generated Cypher:\n",
      "\u001b[32;1m\u001b[1;3mcypher\n",
      "MATCH (e:Entity)-[r:RELATED]-(re:Entity)\n",
      "WHERE toLower(r.description) CONTAINS 'normans' \n",
      "OR toLower(r.metadata) CONTAINS 'normans' \n",
      "OR toLower(e.name) CONTAINS 'normandy'\n",
      "RETURN e.name, r.metadata, r.description, re.name\n",
      "\u001b[0m\n",
      "Full Context:\n",
      "\u001b[32;1m\u001b[1;3m[{'e.name': 'cultural and ethnic identity', 'r.metadata': '{\"summary\": \"The distinct cultural and ethnic identity of the Normans continued to evolve over the succeeding centuries.\", \"generated_at\": \"2024-10-23 13:59:23.613801\"}', 'r.description': 'The cultural and ethnic identity is associated with the Normans, indicating that it is a characteristic that defines them.', 're.name': 'Normans'}, {'e.name': 'emergence of identity', 'r.metadata': '{\"summary\": \"The distinct cultural and ethnic identity of the Normans emerged initially in the first half of the 10th century.\", \"generated_at\": \"2024-10-23 13:59:23.613801\"}', 'r.description': 'The Normans are associated with the event of their cultural and ethnic identity emerging.', 're.name': 'Normans'}, {'e.name': 'cultural and ethnic identity', 'r.metadata': '{\"summary\": \"The distinct cultural and ethnic identity of the Normans emerged initially in the first half of the 10th century.\", \"generated_at\": \"2024-10-23 13:59:23.613801\"}', 'r.description': 'The cultural and ethnic identity of the Normans emerged during a specific historical period.', 're.name': 'Normans'}, {'e.name': 'Normanni', 'r.metadata': '{\"summary\": \"Normans is also referred to as Normanni in Latin.\", \"generated_at\": \"2024-10-23 13:59:23.613801\"}', 'r.description': 'Normans is another name for Normanni in Latin.', 're.name': 'Normans'}, {'e.name': 'Normands', 'r.metadata': '{\"summary\": \"Normans is also referred to as Normands in French.\", \"generated_at\": \"2024-10-23 13:59:23.613801\"}', 'r.description': 'Normans is an alternate name for Normands in the French language.', 're.name': 'Normans'}, {'e.name': 'Nourmands', 'r.metadata': '{\"summary\": \"Normans is also referred to as Nourmands in Norman.\", \"generated_at\": \"2024-10-23 13:59:23.613801\"}', 'r.description': 'Normans is also referred to as Nourmands in the context of the Norman language.', 're.name': 'Normans'}, {'e.name': '10th and 11th centuries', 'r.metadata': '{\"summary\": \"The Normans lived in the 10th and 11th centuries.\", \"generated_at\": \"2024-10-23 13:59:23.613801\"}', 'r.description': 'The Normans lived during the 10th and 11th centuries.', 're.name': 'Normans'}, {'e.name': 'Normandy', 'r.metadata': '{\"summary\": \"The Normans were the people who gave their name to Normandy.\", \"generated_at\": \"2024-10-23 13:59:23.613801\"}', 'r.description': 'The Normans are the people associated with the name of Normandy.', 're.name': 'Normans'}, {'e.name': 'Normans', 'r.metadata': '{\"summary\": \"The Normans were the people who gave their name to Normandy.\", \"generated_at\": \"2024-10-23 13:59:23.613801\"}', 'r.description': 'The Normans are the people associated with the name of Normandy.', 're.name': 'Normandy'}, {'e.name': 'Normandy', 'r.metadata': '{\"summary\": \"Normandy is a region in France.\", \"generated_at\": \"2024-10-23 13:59:23.613801\"}', 'r.description': 'Normandy is a region located within France.', 're.name': 'France'}]\u001b[0m\n",
      "\n",
      "\u001b[1m> Finished chain.\u001b[0m\n",
      "Question: From which countries did the Norse originate?\n",
      "Questionid: 56ddde6b9a695914005b962a\n",
      "\n",
      "\n",
      "\u001b[1m> Entering new GraphCypherQAChain chain...\u001b[0m\n"
     ]
    },
    {
     "name": "stderr",
     "output_type": "stream",
     "text": [
      "/Users/user/miniconda3/envs/graphmaker/lib/python3.11/site-packages/neo4j/_sync/driver.py:511: DeprecationWarning: Relying on Driver's destructor to close the session is deprecated. Please make sure to close the session. Use it as a context (`with` statement) or make sure to call `.close()` explicitly. Future versions of the driver will not close drivers automatically.\n",
      "  deprecation_warn(\n"
     ]
    },
    {
     "name": "stdout",
     "output_type": "stream",
     "text": [
      "Generated Cypher:\n",
      "\u001b[32;1m\u001b[1;3mcypher\n",
      "MATCH (e:Entity)-[r:RELATED]-(re:Entity)\n",
      "WHERE toLower(e.name) CONTAINS 'norse'\n",
      "RETURN e.name, r.metadata, r.description, re.name\n",
      "\u001b[0m\n",
      "Full Context:\n",
      "\u001b[32;1m\u001b[1;3m[{'e.name': 'Norse raiders and pirates', 'r.metadata': '{\"summary\": \"The Norse raiders and pirates were led by Rollo.\", \"generated_at\": \"2024-10-23 13:59:23.613801\"}', 'r.description': 'Rollo led the Norse raiders and pirates.', 're.name': 'Rollo'}, {'e.name': 'Norse raiders and pirates', 'r.metadata': '{\"summary\": \"The Norse raiders and pirates originated from Norway.\", \"generated_at\": \"2024-10-23 13:59:23.613801\"}', 'r.description': 'Norse raiders and pirates originated from Norway.', 're.name': 'Norway'}, {'e.name': 'Norse raiders and pirates', 'r.metadata': '{\"summary\": \"The Norse raiders and pirates originated from Iceland.\", \"generated_at\": \"2024-10-23 13:59:23.613801\"}', 'r.description': 'Norse raiders and pirates originated from Iceland.', 're.name': 'Iceland'}, {'e.name': 'Norse raiders and pirates', 'r.metadata': '{\"summary\": \"The Norse raiders and pirates originated from Denmark.\", \"generated_at\": \"2024-10-23 13:59:23.613801\"}', 'r.description': 'Norse raiders and pirates originated from Denmark.', 're.name': 'Denmark'}, {'e.name': 'Norse raiders and pirates', 'r.metadata': '{\"summary\": \"The individuals were descended from Norse raiders and pirates.\", \"generated_at\": \"2024-10-23 13:59:23.613801\"}', 'r.description': 'The individuals have ancestry that traces back to Norse raiders and pirates.', 're.name': 'individuals'}, {'e.name': 'Norseman', 'r.metadata': '{\"summary\": \"The term \\'Norman\\' comes from \\'Norseman\\'.\", \"generated_at\": \"2024-10-23 13:59:23.613801\"}', 'r.description': \"The term 'Norman' is derived from the term 'Norseman'.\", 're.name': 'Norman'}]\u001b[0m\n",
      "\n",
      "\u001b[1m> Finished chain.\u001b[0m\n",
      "Question: Who was the Norse leader?\n",
      "Questionid: 56ddde6b9a695914005b962b\n",
      "\n",
      "\n",
      "\u001b[1m> Entering new GraphCypherQAChain chain...\u001b[0m\n"
     ]
    },
    {
     "name": "stderr",
     "output_type": "stream",
     "text": [
      "/Users/user/miniconda3/envs/graphmaker/lib/python3.11/site-packages/neo4j/_sync/driver.py:511: DeprecationWarning: Relying on Driver's destructor to close the session is deprecated. Please make sure to close the session. Use it as a context (`with` statement) or make sure to call `.close()` explicitly. Future versions of the driver will not close drivers automatically.\n",
      "  deprecation_warn(\n"
     ]
    },
    {
     "name": "stdout",
     "output_type": "stream",
     "text": [
      "Generated Cypher:\n",
      "\u001b[32;1m\u001b[1;3mcypher\n",
      "MATCH (e:Entity)-[r:RELATED]-(re:Entity)\n",
      "WHERE toLower(r.description) CONTAINS 'norse' \n",
      "OR toLower(r.metadata) CONTAINS 'norse'\n",
      "RETURN e.name, r.metadata, r.description, re.name\n",
      "\u001b[0m\n",
      "Full Context:\n",
      "\u001b[32;1m\u001b[1;3m[{'e.name': 'Norse raiders and pirates', 'r.metadata': '{\"summary\": \"The individuals were descended from Norse raiders and pirates.\", \"generated_at\": \"2024-10-23 13:59:23.613801\"}', 'r.description': 'The individuals have ancestry that traces back to Norse raiders and pirates.', 're.name': 'individuals'}, {'e.name': 'Rollo', 'r.metadata': '{\"summary\": \"The Norse raiders and pirates were led by Rollo.\", \"generated_at\": \"2024-10-23 13:59:23.613801\"}', 'r.description': 'Rollo led the Norse raiders and pirates.', 're.name': 'Norse raiders and pirates'}, {'e.name': 'Norway', 'r.metadata': '{\"summary\": \"The Norse raiders and pirates originated from Norway.\", \"generated_at\": \"2024-10-23 13:59:23.613801\"}', 'r.description': 'Norse raiders and pirates originated from Norway.', 're.name': 'Norse raiders and pirates'}, {'e.name': 'Iceland', 'r.metadata': '{\"summary\": \"The Norse raiders and pirates originated from Iceland.\", \"generated_at\": \"2024-10-23 13:59:23.613801\"}', 'r.description': 'Norse raiders and pirates originated from Iceland.', 're.name': 'Norse raiders and pirates'}, {'e.name': 'Denmark', 'r.metadata': '{\"summary\": \"The Norse raiders and pirates originated from Denmark.\", \"generated_at\": \"2024-10-23 13:59:23.613801\"}', 'r.description': 'Norse raiders and pirates originated from Denmark.', 're.name': 'Norse raiders and pirates'}, {'e.name': 'individuals', 'r.metadata': '{\"summary\": \"The individuals were descended from Norse raiders and pirates.\", \"generated_at\": \"2024-10-23 13:59:23.613801\"}', 'r.description': 'The individuals have ancestry that traces back to Norse raiders and pirates.', 're.name': 'Norse raiders and pirates'}, {'e.name': 'Norseman', 'r.metadata': '{\"summary\": \"The term \\'Norman\\' comes from \\'Norseman\\'.\", \"generated_at\": \"2024-10-23 13:59:23.613801\"}', 'r.description': \"The term 'Norman' is derived from the term 'Norseman'.\", 're.name': 'Norman'}, {'e.name': 'Norman', 'r.metadata': '{\"summary\": \"The term \\'Norman\\' comes from \\'Norseman\\'.\", \"generated_at\": \"2024-10-23 13:59:23.613801\"}', 'r.description': \"The term 'Norman' is derived from the term 'Norseman'.\", 're.name': 'Norseman'}, {'e.name': 'Norse raiders and pirates', 'r.metadata': '{\"summary\": \"The Norse raiders and pirates originated from Denmark.\", \"generated_at\": \"2024-10-23 13:59:23.613801\"}', 'r.description': 'Norse raiders and pirates originated from Denmark.', 're.name': 'Denmark'}, {'e.name': 'Norse raiders and pirates', 'r.metadata': '{\"summary\": \"The Norse raiders and pirates originated from Iceland.\", \"generated_at\": \"2024-10-23 13:59:23.613801\"}', 'r.description': 'Norse raiders and pirates originated from Iceland.', 're.name': 'Iceland'}]\u001b[0m\n",
      "\n",
      "\u001b[1m> Finished chain.\u001b[0m\n",
      "Question: What century did the Normans first gain their separate identity?\n",
      "Questionid: 56ddde6b9a695914005b962c\n",
      "\n",
      "\n",
      "\u001b[1m> Entering new GraphCypherQAChain chain...\u001b[0m\n"
     ]
    },
    {
     "name": "stderr",
     "output_type": "stream",
     "text": [
      "/Users/user/miniconda3/envs/graphmaker/lib/python3.11/site-packages/neo4j/_sync/driver.py:511: DeprecationWarning: Relying on Driver's destructor to close the session is deprecated. Please make sure to close the session. Use it as a context (`with` statement) or make sure to call `.close()` explicitly. Future versions of the driver will not close drivers automatically.\n",
      "  deprecation_warn(\n"
     ]
    },
    {
     "name": "stdout",
     "output_type": "stream",
     "text": [
      "Generated Cypher:\n",
      "\u001b[32;1m\u001b[1;3mcypher\n",
      "MATCH (e:Entity)-[r:RELATED]-(re:Entity)\n",
      "WHERE toLower(r.description) CONTAINS 'normans' \n",
      "OR toLower(r.metadata) CONTAINS 'normans'\n",
      "RETURN e.name, r.metadata, r.description, re.name\n",
      "\u001b[0m\n",
      "Full Context:\n",
      "\u001b[32;1m\u001b[1;3m[{'e.name': 'cultural and ethnic identity', 'r.metadata': '{\"summary\": \"The distinct cultural and ethnic identity of the Normans continued to evolve over the succeeding centuries.\", \"generated_at\": \"2024-10-23 13:59:23.613801\"}', 'r.description': 'The cultural and ethnic identity is associated with the Normans, indicating that it is a characteristic that defines them.', 're.name': 'Normans'}, {'e.name': 'emergence of identity', 'r.metadata': '{\"summary\": \"The distinct cultural and ethnic identity of the Normans emerged initially in the first half of the 10th century.\", \"generated_at\": \"2024-10-23 13:59:23.613801\"}', 'r.description': 'The Normans are associated with the event of their cultural and ethnic identity emerging.', 're.name': 'Normans'}, {'e.name': 'cultural and ethnic identity', 'r.metadata': '{\"summary\": \"The distinct cultural and ethnic identity of the Normans emerged initially in the first half of the 10th century.\", \"generated_at\": \"2024-10-23 13:59:23.613801\"}', 'r.description': 'The cultural and ethnic identity of the Normans emerged during a specific historical period.', 're.name': 'Normans'}, {'e.name': 'Normanni', 'r.metadata': '{\"summary\": \"Normans is also referred to as Normanni in Latin.\", \"generated_at\": \"2024-10-23 13:59:23.613801\"}', 'r.description': 'Normans is another name for Normanni in Latin.', 're.name': 'Normans'}, {'e.name': 'Normands', 'r.metadata': '{\"summary\": \"Normans is also referred to as Normands in French.\", \"generated_at\": \"2024-10-23 13:59:23.613801\"}', 'r.description': 'Normans is an alternate name for Normands in the French language.', 're.name': 'Normans'}, {'e.name': 'Nourmands', 'r.metadata': '{\"summary\": \"Normans is also referred to as Nourmands in Norman.\", \"generated_at\": \"2024-10-23 13:59:23.613801\"}', 'r.description': 'Normans is also referred to as Nourmands in the context of the Norman language.', 're.name': 'Normans'}, {'e.name': '10th and 11th centuries', 'r.metadata': '{\"summary\": \"The Normans lived in the 10th and 11th centuries.\", \"generated_at\": \"2024-10-23 13:59:23.613801\"}', 'r.description': 'The Normans lived during the 10th and 11th centuries.', 're.name': 'Normans'}, {'e.name': 'Normandy', 'r.metadata': '{\"summary\": \"The Normans were the people who gave their name to Normandy.\", \"generated_at\": \"2024-10-23 13:59:23.613801\"}', 'r.description': 'The Normans are the people associated with the name of Normandy.', 're.name': 'Normans'}, {'e.name': 'Normans', 'r.metadata': '{\"summary\": \"The Normans were the people who gave their name to Normandy.\", \"generated_at\": \"2024-10-23 13:59:23.613801\"}', 'r.description': 'The Normans are the people associated with the name of Normandy.', 're.name': 'Normandy'}, {'e.name': 'Normans', 'r.metadata': '{\"summary\": \"The Normans lived in the 10th and 11th centuries.\", \"generated_at\": \"2024-10-23 13:59:23.613801\"}', 'r.description': 'The Normans lived during the 10th and 11th centuries.', 're.name': '10th and 11th centuries'}]\u001b[0m\n",
      "\n",
      "\u001b[1m> Finished chain.\u001b[0m\n"
     ]
    },
    {
     "name": "stderr",
     "output_type": "stream",
     "text": [
      "/Users/user/miniconda3/envs/graphmaker/lib/python3.11/site-packages/neo4j/_sync/driver.py:511: DeprecationWarning: Relying on Driver's destructor to close the session is deprecated. Please make sure to close the session. Use it as a context (`with` statement) or make sure to call `.close()` explicitly. Future versions of the driver will not close drivers automatically.\n",
      "  deprecation_warn(\n"
     ]
    }
   ],
   "source": [
    "# Apply the function to each row\n",
    "df_squadv2_reduced.apply(print_qa, axis=1)\n",
    "    \n",
    "with open(\"predictions.json\", \"a\") as json_file:\n",
    "    json.dump(my_dict, json_file, indent=4)"
   ]
  }
 ],
 "metadata": {
  "kernelspec": {
   "display_name": "graphmaker",
   "language": "python",
   "name": "python3"
  },
  "language_info": {
   "codemirror_mode": {
    "name": "ipython",
    "version": 3
   },
   "file_extension": ".py",
   "mimetype": "text/x-python",
   "name": "python",
   "nbconvert_exporter": "python",
   "pygments_lexer": "ipython3",
   "version": "3.11.0"
  }
 },
 "nbformat": 4,
 "nbformat_minor": 2
}
