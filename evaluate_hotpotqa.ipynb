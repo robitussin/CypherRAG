{
 "cells": [
  {
   "cell_type": "code",
   "execution_count": 1,
   "metadata": {},
   "outputs": [],
   "source": [
    "import pandas as pd\n",
    "import json\n",
    "from generate_graph import get_propositions, generateEdges, createGraph, get_propositions_nosplit\n",
    "from refine_graph import refine\n",
    "from query_graph import QueryGraph\n",
    "from tqdm import tqdm\n",
    "tqdm.pandas()\n",
    "\n",
    "df = pd.read_json('datasets/HotPotQA/hotpot_dev_distractor_v1.json')"
   ]
  },
  {
   "cell_type": "markdown",
   "metadata": {},
   "source": [
    "## Experiment\n"
   ]
  },
  {
   "cell_type": "markdown",
   "metadata": {},
   "source": [
    "### Graph creation and refinement section"
   ]
  },
  {
   "cell_type": "markdown",
   "metadata": {},
   "source": [
    "To run the evaluation script\n",
    "\n",
    "```\n",
    "python hotpot_evaluate_v1.py <path_to_prediction> <path_to_gold>\n",
    "```\n",
    "\n",
    "Example:\n",
    "\n",
    "```\n",
    "python hotpot_evaluate_v1.py <sample_dev_pred.json> <hotpot_dev_fullwiki_v1.json>\n",
    "```"
   ]
  },
  {
   "cell_type": "code",
   "execution_count": 2,
   "metadata": {},
   "outputs": [],
   "source": [
    "context_list = df['context']"
   ]
  },
  {
   "cell_type": "code",
   "execution_count": null,
   "metadata": {},
   "outputs": [],
   "source": [
    "df.head(31)"
   ]
  },
  {
   "cell_type": "code",
   "execution_count": null,
   "metadata": {},
   "outputs": [],
   "source": [
    "df.iloc[7]['context']"
   ]
  },
  {
   "cell_type": "code",
   "execution_count": null,
   "metadata": {},
   "outputs": [],
   "source": [
    "context_list[21:31]"
   ]
  },
  {
   "cell_type": "code",
   "execution_count": null,
   "metadata": {},
   "outputs": [],
   "source": [
    "propositions = []\n",
    "\n",
    "for i, value in enumerate(tqdm(context_list[21:31])):\n",
    "        for j, context in enumerate(value):\n",
    "                index = 1\n",
    "                if index < len(context):\n",
    "                    words = context[1]\n",
    "                    combined = \" \".join(words)\n",
    "                    get_propositions_nosplit(combined, propositions)"
   ]
  },
  {
   "cell_type": "code",
   "execution_count": null,
   "metadata": {},
   "outputs": [],
   "source": [
    "# Open the file in read mode\n",
    "with open('propositions.txt', 'r') as file:\n",
    "    # Read all lines and store them in a list\n",
    "    propositions_from_file = [line.strip() for line in file]\n",
    "\n",
    "print(propositions_from_file)"
   ]
  },
  {
   "cell_type": "code",
   "execution_count": null,
   "metadata": {},
   "outputs": [],
   "source": [
    "list_of_edges = generateEdges(propositions_from_file)"
   ]
  },
  {
   "cell_type": "code",
   "execution_count": null,
   "metadata": {},
   "outputs": [],
   "source": [
    "if createGraph(list_of_edges):\n",
    "    print(\"Success\")\n",
    "else:\n",
    "    print(\"Failed\")"
   ]
  },
  {
   "cell_type": "code",
   "execution_count": null,
   "metadata": {},
   "outputs": [],
   "source": [
    "qg = QueryGraph()\n",
    "\n",
    "if refine(qg, \"person\"):\n",
    "    print(\"yes\")\n",
    "else:\n",
    "    print(\"no\")"
   ]
  },
  {
   "cell_type": "markdown",
   "metadata": {},
   "source": [
    "### Q and A section"
   ]
  },
  {
   "cell_type": "code",
   "execution_count": null,
   "metadata": {},
   "outputs": [],
   "source": [
    "# def find_supporting_facts(question, answer, context):\n",
    "#     supporting_facts = []\n",
    "#     for passage in context:\n",
    "#         title, sentences = passage\n",
    "#         for i, sentence in enumerate(sentences):\n",
    "#             if answer in sentence or any(word in sentence for word in question.split()):\n",
    "#                 supporting_facts.append([title, i])\n",
    "#     return supporting_facts"
   ]
  },
  {
   "cell_type": "code",
   "execution_count": 2,
   "metadata": {},
   "outputs": [],
   "source": [
    "qg = QueryGraph()\n",
    "my_dict = {}\n",
    "\n",
    "# Define a function to apply to each row\n",
    "def print_qa(row):\n",
    "    \n",
    "    question = row['question']\n",
    "    questionid = row['_id']\n",
    "    req = qg.get_requirements(question)\n",
    "    result = qg.answer_question(question, req.content)\n",
    "\n",
    "    if result is not None:\n",
    "    \n",
    "        model_answer = result['result']\n",
    "\n",
    "        if \"don't know the answer\" in model_answer:\n",
    "            model_answer = \"\"\n",
    "    \n",
    "        if len(row['answer']) > 0:\n",
    "            real_answer = row['answer']\n",
    "        else:\n",
    "            real_answer = \"\\\"\\\"\"\n",
    "\n",
    "        if len(result['intermediate_steps']) > 0:\n",
    "            cypher_query = result['intermediate_steps'][0]['query']\n",
    "            context = result['intermediate_steps'][1]['context']\n",
    "       \n",
    "            if(len(context) < 1):\n",
    "            #     result = refine_query(cypher_query[6:], question)\n",
    "            #     model_answer = result['result'] \n",
    "                model_answer = \"\\\"\\\"\"\n",
    "                my_dict.update({questionid: \"\"})\n",
    "            else:\n",
    "                my_dict.update({questionid: model_answer})\n",
    "                \n",
    "        with open(\"preds.txt\", \"a\") as preds:\n",
    "            preds.write(\"question: \" + question + \"\\n\")\n",
    "            preds.write(\"real_answer: \" + real_answer + \"\\n\")\n",
    "            preds.write(\"model_answer: \" + model_answer + \"\\n\")  \n",
    "            preds.write(\"cypher_query: \" + cypher_query + \"\\n\")\n",
    "            preds.write(\"======================\" + \"\\n\")  \n",
    "        preds.close()\n",
    "\n",
    "    else: \n",
    "        my_dict.update({questionid: \"\"})\n",
    "        "
   ]
  },
  {
   "cell_type": "code",
   "execution_count": 3,
   "metadata": {},
   "outputs": [
    {
     "name": "stderr",
     "output_type": "stream",
     "text": [
      "  0%|          | 0/10 [00:00<?, ?it/s]"
     ]
    },
    {
     "name": "stdout",
     "output_type": "stream",
     "text": [
      "\n",
      "\n",
      "\u001b[1m> Entering new GraphCypherQAChain chain...\u001b[0m\n",
      "Generated Cypher:\n",
      "\u001b[32;1m\u001b[1;3mcypher\n",
      "MATCH (w)-[r1]-(x)-[r2]-(y)\n",
      "WHERE (\n",
      "    toLower(r1.metadata) =~ '.*\\\\b(a rather blustery day)\\\\b.*' OR\n",
      "    toLower(r1.description) =~ '.*\\\\b(singer)\\\\b.*'\n",
      ")\n",
      "AND (\n",
      "    toLower(r2.metadata) =~ '.*\\\\b(hedgehog)\\\\b.*' OR \n",
      "    toLower(r2.description) =~ '.*\\\\b(voiced)\\\\b.*'\n",
      ")\n",
      "RETURN DISTINCT r1.metadata, r1.description, r2.metadata, r2.description\n",
      "\u001b[0m\n",
      "Full Context:\n",
      "\u001b[32;1m\u001b[1;3m[{'r1.metadata': '{\"summary\": \"Catherine Davis \\'Kate\\' Higgins is a singer.\", \"generated_at\": \"2024-12-23 14:35:08.719204\"}', 'r1.description': \"Catherine Davis 'Kate' Higgins is identified as a singer.\", 'r2.metadata': '{\"summary\": \"Catherine Davis \\'Kate\\' Higgins has voiced C.C. in \\'Code Geass\\'.\", \"generated_at\": \"2024-12-23 14:35:08.719204\"}', 'r2.description': \"Catherine Davis 'Kate' Higgins has voiced the character C.C. in the series 'Code Geass'.\"}, {'r1.metadata': '{\"summary\": \"Catherine Davis \\'Kate\\' Higgins is a singer.\", \"generated_at\": \"2024-12-23 14:35:08.719204\"}', 'r1.description': \"Catherine Davis 'Kate' Higgins is identified as a singer.\", 'r2.metadata': '{\"summary\": \"Catherine Davis \\'Kate\\' Higgins has voiced Saber in the original \\'Fate/stay Night\\'.\", \"generated_at\": \"2024-12-23 14:35:08.719204\"}', 'r2.description': \"Catherine Davis 'Kate' Higgins has voiced the character Saber in the original Fate/stay Night.\"}, {'r1.metadata': '{\"summary\": \"Catherine Davis \\'Kate\\' Higgins is a singer.\", \"generated_at\": \"2024-12-23 14:35:08.719204\"}', 'r1.description': \"Catherine Davis 'Kate' Higgins is identified as a singer.\", 'r2.metadata': '{\"summary\": \"In 2010, Catherine Davis \\'Kate\\' Higgins voiced Miles \\'Tails\\' Prower in the video game series \\'Sonic the Hedgehog\\'.\", \"generated_at\": \"2024-12-23 14:35:08.719204\"}', 'r2.description': \"Catherine Davis 'Kate' Higgins voiced the video game series 'Sonic the Hedgehog'.\"}, {'r1.metadata': '{\"summary\": \"Catherine Davis \\'Kate\\' Higgins is a singer.\", \"generated_at\": \"2024-12-23 14:35:08.719204\"}', 'r1.description': \"Catherine Davis 'Kate' Higgins is identified as a singer.\", 'r2.metadata': '{\"summary\": \"In 2010, Catherine Davis \\'Kate\\' Higgins voiced Miles \\'Tails\\' Prower in the video game series \\'Sonic the Hedgehog\\'.\", \"generated_at\": \"2024-12-23 14:35:08.719204\"}', 'r2.description': \"Catherine Davis 'Kate' Higgins voiced the character Miles 'Tails' Prower.\"}, {'r1.metadata': '{\"summary\": \"James Jonah Cummings is a singer.\", \"generated_at\": \"2024-12-23 14:35:08.719204\"}', 'r1.description': 'James Jonah Cummings is identified as a singer.', 'r2.metadata': '{\"summary\": \"James Jonah Cummings is known for voicing Dr. Robotnik from \\'Sonic the Hedgehog\\'.\", \"generated_at\": \"2024-12-23 14:35:08.719204\"}', 'r2.description': 'James Jonah Cummings is known for voicing Dr. Robotnik.'}, {'r1.metadata': '{\"summary\": \"James Jonah Cummings is a singer.\", \"generated_at\": \"2024-12-23 14:35:08.719204\"}', 'r1.description': 'James Jonah Cummings is identified as a singer.', 'r2.metadata': '{\"summary\": \"James Jonah Cummings is known for voicing Dr. Robotnik from \\'Sonic the Hedgehog\\'.\", \"generated_at\": \"2024-12-23 14:35:08.719204\"}', 'r2.description': 'James Jonah Cummings is involved in the event of voicing Dr. Robotnik.'}, {'r1.metadata': '{\"summary\": \"James Jonah Cummings is a singer.\", \"generated_at\": \"2024-12-23 14:35:08.719204\"}', 'r1.description': 'James Jonah Cummings is identified as a singer.', 'r2.metadata': '{\"summary\": \"James Jonah Cummings has voiced other characters including Winnie the Pooh.\", \"generated_at\": \"2024-12-23 14:35:08.719204\"}', 'r2.description': 'James Jonah Cummings has voiced the character Winnie Pooh.'}, {'r1.metadata': '{\"summary\": \"James Jonah Cummings is a singer.\", \"generated_at\": \"2024-12-23 14:35:08.719204\"}', 'r1.description': 'James Jonah Cummings is identified as a singer.', 'r2.metadata': '{\"summary\": \"James Jonah Cummings has voiced other characters including Tigger.\", \"generated_at\": \"2024-12-23 14:35:08.719204\"}', 'r2.description': 'James Jonah Cummings has voiced the character Tigger.'}, {'r1.metadata': '{\"summary\": \"James Jonah Cummings is a singer.\", \"generated_at\": \"2024-12-23 14:35:08.719204\"}', 'r1.description': 'James Jonah Cummings is identified as a singer.', 'r2.metadata': '{\"summary\": \"James Jonah Cummings has voiced other characters including the Tasmanian Devil.\", \"generated_at\": \"2024-12-23 14:35:08.719204\"}', 'r2.description': 'James Jonah Cummings has voiced the character Tasmanian Devil.'}]\u001b[0m\n"
     ]
    },
    {
     "name": "stderr",
     "output_type": "stream",
     "text": [
      " 20%|██        | 2/10 [00:05<00:23,  2.97s/it]"
     ]
    },
    {
     "name": "stdout",
     "output_type": "stream",
     "text": [
      "\n",
      "\u001b[1m> Finished chain.\u001b[0m\n",
      "\n",
      "\n",
      "\u001b[1m> Entering new GraphCypherQAChain chain...\u001b[0m\n",
      "Generated Cypher:\n",
      "\u001b[32;1m\u001b[1;3mcypher\n",
      "MATCH (w)-[r1]-(x)-[r2]-(y)\n",
      "WHERE (\n",
      "    toLower(r1.metadata) =~ '.*\\\\b(apple remote)\\\\b.*' OR\n",
      "    toLower(r1.description) =~ '.*\\\\b(apple remote)\\\\b.*'\n",
      ")\n",
      "AND (\n",
      "    toLower(r2.metadata) =~ '.*\\\\b(control|device|program)\\\\b.*' OR \n",
      "    toLower(r2.description) =~ '.*\\\\b(control|device|program)\\\\b.*'\n",
      ")\n",
      "RETURN DISTINCT r1.metadata, r1.description, r2.metadata, r2.description\n",
      "\u001b[0m\n",
      "Full Context:\n",
      "\u001b[32;1m\u001b[1;3m[{'r1.metadata': '{\"summary\": \"The Apple Remote was released in or after October 2005.\", \"generated_at\": \"2024-12-23 14:35:08.719204\"}', 'r1.description': 'The Apple Remote is associated with the event of its release, which occurred in or after October 2005.', 'r2.metadata': '{\"summary\": \"The Apple Remote is a remote control device.\", \"generated_at\": \"2024-12-23 14:35:08.719204\"}', 'r2.description': 'Apple Remote is a type of remote control device.'}, {'r1.metadata': '{\"summary\": \"The Apple Remote was released in or after October 2005.\", \"generated_at\": \"2024-12-23 14:35:08.719204\"}', 'r1.description': 'The Apple Remote was released at the time of October 2005.', 'r2.metadata': '{\"summary\": \"The Apple Remote is a remote control device.\", \"generated_at\": \"2024-12-23 14:35:08.719204\"}', 'r2.description': 'Apple Remote is a type of remote control device.'}, {'r1.metadata': '{\"summary\": \"Apple Inc. is the manufacturer of the Apple Remote.\", \"generated_at\": \"2024-12-23 14:35:08.719204\"}', 'r1.description': 'Apple Inc. is the manufacturer of the Apple Remote.', 'r2.metadata': '{\"summary\": \"The Apple Remote is a remote control device.\", \"generated_at\": \"2024-12-23 14:35:08.719204\"}', 'r2.description': 'Apple Remote is a type of remote control device.'}, {'r1.metadata': '{\"summary\": \"The Apple Remote is designed for use with a number of Apple Inc. products.\", \"generated_at\": \"2024-12-23 14:35:08.719204\"}', 'r1.description': 'Apple Remote is designed for use with Apple Inc. products.', 'r2.metadata': '{\"summary\": \"The Apple Remote is a remote control device.\", \"generated_at\": \"2024-12-23 14:35:08.719204\"}', 'r2.description': 'Apple Remote is a type of remote control device.'}, {'r1.metadata': '{\"summary\": \"The products that use the Apple Remote have infrared capabilities.\", \"generated_at\": \"2024-12-23 14:35:08.719204\"}', 'r1.description': 'The Apple Remote is an object that is used by products, indicating a functional relationship where the products utilize the capabilities of the Apple Remote.', 'r2.metadata': '{\"summary\": \"The Apple Remote is a remote control device.\", \"generated_at\": \"2024-12-23 14:35:08.719204\"}', 'r2.description': 'Apple Remote is a type of remote control device.'}, {'r1.metadata': '{\"summary\": \"The products that use the Apple Remote have infrared capabilities.\", \"generated_at\": \"2024-12-23 14:35:08.719204\"}', 'r1.description': 'The Apple Remote possesses infrared capabilities, which are a characteristic feature of the object.', 'r2.metadata': '{\"summary\": \"The Apple Remote is a remote control device.\", \"generated_at\": \"2024-12-23 14:35:08.719204\"}', 'r2.description': 'Apple Remote is a type of remote control device.'}, {'r1.metadata': '{\"summary\": \"The Apple Remote was originally designed to interact with the Front Row media program.\", \"generated_at\": \"2024-12-23 14:35:08.719204\"}', 'r1.description': 'The Apple Remote was designed to interact with the Front Row media program.', 'r2.metadata': '{\"summary\": \"The Apple Remote is a remote control device.\", \"generated_at\": \"2024-12-23 14:35:08.719204\"}', 'r2.description': 'Apple Remote is a type of remote control device.'}, {'r1.metadata': '{\"summary\": \"The Apple Remote is compatible with some later desktop Macintosh computers.\", \"generated_at\": \"2024-12-23 14:35:08.719204\"}', 'r1.description': 'Apple Remote is compatible with some later Macintosh computers.', 'r2.metadata': '{\"summary\": \"The Apple Remote is a remote control device.\", \"generated_at\": \"2024-12-23 14:35:08.719204\"}', 'r2.description': 'Apple Remote is a type of remote control device.'}, {'r1.metadata': '{\"summary\": \"The Apple Remote is compatible with some later portable Macintosh computers.\", \"generated_at\": \"2024-12-23 14:35:08.719204\"}', 'r1.description': 'Apple Remote is compatible with some later portable Macintosh computers.', 'r2.metadata': '{\"summary\": \"The Apple Remote is a remote control device.\", \"generated_at\": \"2024-12-23 14:35:08.719204\"}', 'r2.description': 'Apple Remote is a type of remote control device.'}, {'r1.metadata': '{\"summary\": \"The first three generations of Apple TV used the Apple Remote as their primary control mechanism.\", \"generated_at\": \"2024-12-23 14:35:08.719204\"}', 'r1.description': 'Apple TV used Apple Remote as its primary control mechanism.', 'r2.metadata': '{\"summary\": \"The Apple Remote is a remote control device.\", \"generated_at\": \"2024-12-23 14:35:08.719204\"}', 'r2.description': 'Apple Remote is a type of remote control device.'}, {'r1.metadata': '{\"summary\": \"The Apple Remote has now been replaced with the Siri Remote in the fourth generation of Apple TV.\", \"generated_at\": \"2024-12-23 14:35:08.719204\"}', 'r1.description': 'Apple Remote has been replaced with Siri Remote.', 'r2.metadata': '{\"summary\": \"The Apple Remote is a remote control device.\", \"generated_at\": \"2024-12-23 14:35:08.719204\"}', 'r2.description': 'Apple Remote is a type of remote control device.'}, {'r1.metadata': '{\"summary\": \"The Apple Remote has now been replaced with the Siri Remote in the fourth generation of Apple TV.\", \"generated_at\": \"2024-12-23 14:35:08.719204\"}', 'r1.description': 'Apple Remote is associated with the fourth generation of Apple TV.', 'r2.metadata': '{\"summary\": \"The Apple Remote is a remote control device.\", \"generated_at\": \"2024-12-23 14:35:08.719204\"}', 'r2.description': 'Apple Remote is a type of remote control device.'}, {'r1.metadata': '{\"summary\": \"Prior to the Apple Remote, Apple Inc. produced several nameless IR remotes.\", \"generated_at\": \"2024-12-23 14:35:08.719204\"}', 'r1.description': 'Apple Inc. produced several IR remotes before the Apple Remote was introduced.', 'r2.metadata': '{\"summary\": \"The Apple Remote is a remote control device.\", \"generated_at\": \"2024-12-23 14:35:08.719204\"}', 'r2.description': 'Apple Remote is a type of remote control device.'}, {'r1.metadata': '{\"summary\": \"Prior to the Apple Remote, Apple Inc. produced several nameless IR remotes.\", \"generated_at\": \"2024-12-23 14:35:08.719204\"}', 'r1.description': 'Apple Inc. produced the Apple Remote.', 'r2.metadata': '{\"summary\": \"The Apple Remote is a remote control device.\", \"generated_at\": \"2024-12-23 14:35:08.719204\"}', 'r2.description': 'Apple Remote is a type of remote control device.'}, {'r1.metadata': '{\"summary\": \"The Siri Remote is a successor of the original Apple Remote.\", \"generated_at\": \"2024-12-23 14:35:08.719204\"}', 'r1.description': 'Siri Remote is a successor of Apple Remote.', 'r2.metadata': '{\"summary\": \"The Apple Remote is a remote control device.\", \"generated_at\": \"2024-12-23 14:35:08.719204\"}', 'r2.description': 'Apple Remote is a type of remote control device.'}, {'r1.metadata': '{\"summary\": \"Front Row is controlled by an Apple Remote.\", \"generated_at\": \"2024-12-23 14:35:08.719204\"}', 'r1.description': 'Front Row is controlled by Apple Remote.', 'r2.metadata': '{\"summary\": \"The Apple Remote is a remote control device.\", \"generated_at\": \"2024-12-23 14:35:08.719204\"}', 'r2.description': 'Apple Remote is a type of remote control device.'}, {'r1.metadata': '{\"summary\": \"The Apple Remote is a remote control device.\", \"generated_at\": \"2024-12-23 14:35:08.719204\"}', 'r1.description': 'Apple Remote is a type of remote control device.', 'r2.metadata': '{\"summary\": \"The Apple Remote was originally designed to interact with the Front Row media program.\", \"generated_at\": \"2024-12-23 14:35:08.719204\"}', 'r2.description': 'The Apple Remote was designed to interact with the Front Row media program.'}, {'r1.metadata': '{\"summary\": \"The Apple Remote was released in or after October 2005.\", \"generated_at\": \"2024-12-23 14:35:08.719204\"}', 'r1.description': 'The Apple Remote is associated with the event of its release, which occurred in or after October 2005.', 'r2.metadata': '{\"summary\": \"The Apple Remote was originally designed to interact with the Front Row media program.\", \"generated_at\": \"2024-12-23 14:35:08.719204\"}', 'r2.description': 'The Apple Remote was designed to interact with the Front Row media program.'}, {'r1.metadata': '{\"summary\": \"The Apple Remote was released in or after October 2005.\", \"generated_at\": \"2024-12-23 14:35:08.719204\"}', 'r1.description': 'The Apple Remote was released at the time of October 2005.', 'r2.metadata': '{\"summary\": \"The Apple Remote was originally designed to interact with the Front Row media program.\", \"generated_at\": \"2024-12-23 14:35:08.719204\"}', 'r2.description': 'The Apple Remote was designed to interact with the Front Row media program.'}, {'r1.metadata': '{\"summary\": \"Apple Inc. is the manufacturer of the Apple Remote.\", \"generated_at\": \"2024-12-23 14:35:08.719204\"}', 'r1.description': 'Apple Inc. is the manufacturer of the Apple Remote.', 'r2.metadata': '{\"summary\": \"The Apple Remote was originally designed to interact with the Front Row media program.\", \"generated_at\": \"2024-12-23 14:35:08.719204\"}', 'r2.description': 'The Apple Remote was designed to interact with the Front Row media program.'}, {'r1.metadata': '{\"summary\": \"The Apple Remote is designed for use with a number of Apple Inc. products.\", \"generated_at\": \"2024-12-23 14:35:08.719204\"}', 'r1.description': 'Apple Remote is designed for use with Apple Inc. products.', 'r2.metadata': '{\"summary\": \"The Apple Remote was originally designed to interact with the Front Row media program.\", \"generated_at\": \"2024-12-23 14:35:08.719204\"}', 'r2.description': 'The Apple Remote was designed to interact with the Front Row media program.'}, {'r1.metadata': '{\"summary\": \"The products that use the Apple Remote have infrared capabilities.\", \"generated_at\": \"2024-12-23 14:35:08.719204\"}', 'r1.description': 'The Apple Remote is an object that is used by products, indicating a functional relationship where the products utilize the capabilities of the Apple Remote.', 'r2.metadata': '{\"summary\": \"The Apple Remote was originally designed to interact with the Front Row media program.\", \"generated_at\": \"2024-12-23 14:35:08.719204\"}', 'r2.description': 'The Apple Remote was designed to interact with the Front Row media program.'}, {'r1.metadata': '{\"summary\": \"The products that use the Apple Remote have infrared capabilities.\", \"generated_at\": \"2024-12-23 14:35:08.719204\"}', 'r1.description': 'The Apple Remote possesses infrared capabilities, which are a characteristic feature of the object.', 'r2.metadata': '{\"summary\": \"The Apple Remote was originally designed to interact with the Front Row media program.\", \"generated_at\": \"2024-12-23 14:35:08.719204\"}', 'r2.description': 'The Apple Remote was designed to interact with the Front Row media program.'}, {'r1.metadata': '{\"summary\": \"The Apple Remote is compatible with some later desktop Macintosh computers.\", \"generated_at\": \"2024-12-23 14:35:08.719204\"}', 'r1.description': 'Apple Remote is compatible with some later Macintosh computers.', 'r2.metadata': '{\"summary\": \"The Apple Remote was originally designed to interact with the Front Row media program.\", \"generated_at\": \"2024-12-23 14:35:08.719204\"}', 'r2.description': 'The Apple Remote was designed to interact with the Front Row media program.'}, {'r1.metadata': '{\"summary\": \"The Apple Remote is compatible with some later portable Macintosh computers.\", \"generated_at\": \"2024-12-23 14:35:08.719204\"}', 'r1.description': 'Apple Remote is compatible with some later portable Macintosh computers.', 'r2.metadata': '{\"summary\": \"The Apple Remote was originally designed to interact with the Front Row media program.\", \"generated_at\": \"2024-12-23 14:35:08.719204\"}', 'r2.description': 'The Apple Remote was designed to interact with the Front Row media program.'}, {'r1.metadata': '{\"summary\": \"The first three generations of Apple TV used the Apple Remote as their primary control mechanism.\", \"generated_at\": \"2024-12-23 14:35:08.719204\"}', 'r1.description': 'Apple TV used Apple Remote as its primary control mechanism.', 'r2.metadata': '{\"summary\": \"The Apple Remote was originally designed to interact with the Front Row media program.\", \"generated_at\": \"2024-12-23 14:35:08.719204\"}', 'r2.description': 'The Apple Remote was designed to interact with the Front Row media program.'}, {'r1.metadata': '{\"summary\": \"The Apple Remote has now been replaced with the Siri Remote in the fourth generation of Apple TV.\", \"generated_at\": \"2024-12-23 14:35:08.719204\"}', 'r1.description': 'Apple Remote has been replaced with Siri Remote.', 'r2.metadata': '{\"summary\": \"The Apple Remote was originally designed to interact with the Front Row media program.\", \"generated_at\": \"2024-12-23 14:35:08.719204\"}', 'r2.description': 'The Apple Remote was designed to interact with the Front Row media program.'}, {'r1.metadata': '{\"summary\": \"The Apple Remote has now been replaced with the Siri Remote in the fourth generation of Apple TV.\", \"generated_at\": \"2024-12-23 14:35:08.719204\"}', 'r1.description': 'Apple Remote is associated with the fourth generation of Apple TV.', 'r2.metadata': '{\"summary\": \"The Apple Remote was originally designed to interact with the Front Row media program.\", \"generated_at\": \"2024-12-23 14:35:08.719204\"}', 'r2.description': 'The Apple Remote was designed to interact with the Front Row media program.'}, {'r1.metadata': '{\"summary\": \"Prior to the Apple Remote, Apple Inc. produced several nameless IR remotes.\", \"generated_at\": \"2024-12-23 14:35:08.719204\"}', 'r1.description': 'Apple Inc. produced several IR remotes before the Apple Remote was introduced.', 'r2.metadata': '{\"summary\": \"The Apple Remote was originally designed to interact with the Front Row media program.\", \"generated_at\": \"2024-12-23 14:35:08.719204\"}', 'r2.description': 'The Apple Remote was designed to interact with the Front Row media program.'}, {'r1.metadata': '{\"summary\": \"Prior to the Apple Remote, Apple Inc. produced several nameless IR remotes.\", \"generated_at\": \"2024-12-23 14:35:08.719204\"}', 'r1.description': 'Apple Inc. produced the Apple Remote.', 'r2.metadata': '{\"summary\": \"The Apple Remote was originally designed to interact with the Front Row media program.\", \"generated_at\": \"2024-12-23 14:35:08.719204\"}', 'r2.description': 'The Apple Remote was designed to interact with the Front Row media program.'}, {'r1.metadata': '{\"summary\": \"The Siri Remote is a successor of the original Apple Remote.\", \"generated_at\": \"2024-12-23 14:35:08.719204\"}', 'r1.description': 'Siri Remote is a successor of Apple Remote.', 'r2.metadata': '{\"summary\": \"The Apple Remote was originally designed to interact with the Front Row media program.\", \"generated_at\": \"2024-12-23 14:35:08.719204\"}', 'r2.description': 'The Apple Remote was designed to interact with the Front Row media program.'}, {'r1.metadata': '{\"summary\": \"Front Row is controlled by an Apple Remote.\", \"generated_at\": \"2024-12-23 14:35:08.719204\"}', 'r1.description': 'Front Row is controlled by Apple Remote.', 'r2.metadata': '{\"summary\": \"The Apple Remote was originally designed to interact with the Front Row media program.\", \"generated_at\": \"2024-12-23 14:35:08.719204\"}', 'r2.description': 'The Apple Remote was designed to interact with the Front Row media program.'}, {'r1.metadata': '{\"summary\": \"The Apple Remote was originally designed to interact with the Front Row media program.\", \"generated_at\": \"2024-12-23 14:35:08.719204\"}', 'r1.description': 'The Apple Remote was designed to interact with the Front Row media program.', 'r2.metadata': '{\"summary\": \"The Front Row media program was designed for the iSight iMac G5.\", \"generated_at\": \"2024-12-23 14:35:08.719204\"}', 'r2.description': 'The Front Row media program was designed for the iSight iMac G5.'}, {'r1.metadata': '{\"summary\": \"The Apple Remote has now been replaced with the Siri Remote in the fourth generation of Apple TV.\", \"generated_at\": \"2024-12-23 14:35:08.719204\"}', 'r1.description': 'Siri Remote is associated with the fourth generation of Apple TV.', 'r2.metadata': '{\"summary\": \"The first three generations of Apple TV used the Apple Remote as their primary control mechanism.\", \"generated_at\": \"2024-12-23 14:35:08.719204\"}', 'r2.description': 'Apple TV used Apple Remote as its primary control mechanism.'}, {'r1.metadata': '{\"summary\": \"The Apple Remote has now been replaced with the Siri Remote in the fourth generation of Apple TV.\", \"generated_at\": \"2024-12-23 14:35:08.719204\"}', 'r1.description': 'Apple Remote is associated with the fourth generation of Apple TV.', 'r2.metadata': '{\"summary\": \"The first three generations of Apple TV used the Apple Remote as their primary control mechanism.\", \"generated_at\": \"2024-12-23 14:35:08.719204\"}', 'r2.description': 'Apple TV used Apple Remote as its primary control mechanism.'}, {'r1.metadata': '{\"summary\": \"The Apple Remote is a remote control device.\", \"generated_at\": \"2024-12-23 14:35:08.719204\"}', 'r1.description': 'Apple Remote is a type of remote control device.', 'r2.metadata': '{\"summary\": \"The first three generations of Apple TV used the Apple Remote as their primary control mechanism.\", \"generated_at\": \"2024-12-23 14:35:08.719204\"}', 'r2.description': 'Apple TV used Apple Remote as its primary control mechanism.'}, {'r1.metadata': '{\"summary\": \"The Apple Remote was released in or after October 2005.\", \"generated_at\": \"2024-12-23 14:35:08.719204\"}', 'r1.description': 'The Apple Remote is associated with the event of its release, which occurred in or after October 2005.', 'r2.metadata': '{\"summary\": \"The first three generations of Apple TV used the Apple Remote as their primary control mechanism.\", \"generated_at\": \"2024-12-23 14:35:08.719204\"}', 'r2.description': 'Apple TV used Apple Remote as its primary control mechanism.'}, {'r1.metadata': '{\"summary\": \"The Apple Remote was released in or after October 2005.\", \"generated_at\": \"2024-12-23 14:35:08.719204\"}', 'r1.description': 'The Apple Remote was released at the time of October 2005.', 'r2.metadata': '{\"summary\": \"The first three generations of Apple TV used the Apple Remote as their primary control mechanism.\", \"generated_at\": \"2024-12-23 14:35:08.719204\"}', 'r2.description': 'Apple TV used Apple Remote as its primary control mechanism.'}, {'r1.metadata': '{\"summary\": \"Apple Inc. is the manufacturer of the Apple Remote.\", \"generated_at\": \"2024-12-23 14:35:08.719204\"}', 'r1.description': 'Apple Inc. is the manufacturer of the Apple Remote.', 'r2.metadata': '{\"summary\": \"The first three generations of Apple TV used the Apple Remote as their primary control mechanism.\", \"generated_at\": \"2024-12-23 14:35:08.719204\"}', 'r2.description': 'Apple TV used Apple Remote as its primary control mechanism.'}, {'r1.metadata': '{\"summary\": \"The Apple Remote is designed for use with a number of Apple Inc. products.\", \"generated_at\": \"2024-12-23 14:35:08.719204\"}', 'r1.description': 'Apple Remote is designed for use with Apple Inc. products.', 'r2.metadata': '{\"summary\": \"The first three generations of Apple TV used the Apple Remote as their primary control mechanism.\", \"generated_at\": \"2024-12-23 14:35:08.719204\"}', 'r2.description': 'Apple TV used Apple Remote as its primary control mechanism.'}, {'r1.metadata': '{\"summary\": \"The products that use the Apple Remote have infrared capabilities.\", \"generated_at\": \"2024-12-23 14:35:08.719204\"}', 'r1.description': 'The Apple Remote is an object that is used by products, indicating a functional relationship where the products utilize the capabilities of the Apple Remote.', 'r2.metadata': '{\"summary\": \"The first three generations of Apple TV used the Apple Remote as their primary control mechanism.\", \"generated_at\": \"2024-12-23 14:35:08.719204\"}', 'r2.description': 'Apple TV used Apple Remote as its primary control mechanism.'}, {'r1.metadata': '{\"summary\": \"The products that use the Apple Remote have infrared capabilities.\", \"generated_at\": \"2024-12-23 14:35:08.719204\"}', 'r1.description': 'The Apple Remote possesses infrared capabilities, which are a characteristic feature of the object.', 'r2.metadata': '{\"summary\": \"The first three generations of Apple TV used the Apple Remote as their primary control mechanism.\", \"generated_at\": \"2024-12-23 14:35:08.719204\"}', 'r2.description': 'Apple TV used Apple Remote as its primary control mechanism.'}, {'r1.metadata': '{\"summary\": \"The Apple Remote was originally designed to interact with the Front Row media program.\", \"generated_at\": \"2024-12-23 14:35:08.719204\"}', 'r1.description': 'The Apple Remote was designed to interact with the Front Row media program.', 'r2.metadata': '{\"summary\": \"The first three generations of Apple TV used the Apple Remote as their primary control mechanism.\", \"generated_at\": \"2024-12-23 14:35:08.719204\"}', 'r2.description': 'Apple TV used Apple Remote as its primary control mechanism.'}, {'r1.metadata': '{\"summary\": \"The Apple Remote is compatible with some later desktop Macintosh computers.\", \"generated_at\": \"2024-12-23 14:35:08.719204\"}', 'r1.description': 'Apple Remote is compatible with some later Macintosh computers.', 'r2.metadata': '{\"summary\": \"The first three generations of Apple TV used the Apple Remote as their primary control mechanism.\", \"generated_at\": \"2024-12-23 14:35:08.719204\"}', 'r2.description': 'Apple TV used Apple Remote as its primary control mechanism.'}, {'r1.metadata': '{\"summary\": \"The Apple Remote is compatible with some later portable Macintosh computers.\", \"generated_at\": \"2024-12-23 14:35:08.719204\"}', 'r1.description': 'Apple Remote is compatible with some later portable Macintosh computers.', 'r2.metadata': '{\"summary\": \"The first three generations of Apple TV used the Apple Remote as their primary control mechanism.\", \"generated_at\": \"2024-12-23 14:35:08.719204\"}', 'r2.description': 'Apple TV used Apple Remote as its primary control mechanism.'}, {'r1.metadata': '{\"summary\": \"The Apple Remote has now been replaced with the Siri Remote in the fourth generation of Apple TV.\", \"generated_at\": \"2024-12-23 14:35:08.719204\"}', 'r1.description': 'Apple Remote has been replaced with Siri Remote.', 'r2.metadata': '{\"summary\": \"The first three generations of Apple TV used the Apple Remote as their primary control mechanism.\", \"generated_at\": \"2024-12-23 14:35:08.719204\"}', 'r2.description': 'Apple TV used Apple Remote as its primary control mechanism.'}, {'r1.metadata': '{\"summary\": \"Prior to the Apple Remote, Apple Inc. produced several nameless IR remotes.\", \"generated_at\": \"2024-12-23 14:35:08.719204\"}', 'r1.description': 'Apple Inc. produced several IR remotes before the Apple Remote was introduced.', 'r2.metadata': '{\"summary\": \"The first three generations of Apple TV used the Apple Remote as their primary control mechanism.\", \"generated_at\": \"2024-12-23 14:35:08.719204\"}', 'r2.description': 'Apple TV used Apple Remote as its primary control mechanism.'}, {'r1.metadata': '{\"summary\": \"Prior to the Apple Remote, Apple Inc. produced several nameless IR remotes.\", \"generated_at\": \"2024-12-23 14:35:08.719204\"}', 'r1.description': 'Apple Inc. produced the Apple Remote.', 'r2.metadata': '{\"summary\": \"The first three generations of Apple TV used the Apple Remote as their primary control mechanism.\", \"generated_at\": \"2024-12-23 14:35:08.719204\"}', 'r2.description': 'Apple TV used Apple Remote as its primary control mechanism.'}, {'r1.metadata': '{\"summary\": \"The Siri Remote is a successor of the original Apple Remote.\", \"generated_at\": \"2024-12-23 14:35:08.719204\"}', 'r1.description': 'Siri Remote is a successor of Apple Remote.', 'r2.metadata': '{\"summary\": \"The first three generations of Apple TV used the Apple Remote as their primary control mechanism.\", \"generated_at\": \"2024-12-23 14:35:08.719204\"}', 'r2.description': 'Apple TV used Apple Remote as its primary control mechanism.'}, {'r1.metadata': '{\"summary\": \"Front Row is controlled by an Apple Remote.\", \"generated_at\": \"2024-12-23 14:35:08.719204\"}', 'r1.description': 'Front Row is controlled by Apple Remote.', 'r2.metadata': '{\"summary\": \"The first three generations of Apple TV used the Apple Remote as their primary control mechanism.\", \"generated_at\": \"2024-12-23 14:35:08.719204\"}', 'r2.description': 'Apple TV used Apple Remote as its primary control mechanism.'}]\u001b[0m\n"
     ]
    },
    {
     "name": "stderr",
     "output_type": "stream",
     "text": [
      " 30%|███       | 3/10 [00:15<00:41,  5.87s/it]"
     ]
    },
    {
     "name": "stdout",
     "output_type": "stream",
     "text": [
      "\n",
      "\u001b[1m> Finished chain.\u001b[0m\n",
      "\n",
      "\n",
      "\u001b[1m> Entering new GraphCypherQAChain chain...\u001b[0m\n"
     ]
    },
    {
     "name": "stderr",
     "output_type": "stream",
     "text": [
      " 40%|████      | 4/10 [00:20<00:33,  5.59s/it]"
     ]
    },
    {
     "name": "stdout",
     "output_type": "stream",
     "text": [
      "Generated Cypher:\n",
      "\u001b[32;1m\u001b[1;3mcypher\n",
      "MATCH ()-[r1]-()\n",
      "WHERE (\n",
      "    toLower(r1.metadata) =~ '.*\\\\b(badly drawn boy)\\\\b.*' OR\n",
      "    toLower(r1.description) =~ '.*\\\\b(badly drawn boy)\\\\b.*'\n",
      ")\n",
      "RETURN DISTINCT r1.metadata AS info1, \n",
      "       COUNT(DISTINCT r1.instrument) AS instruments_bdb, \n",
      "       COUNT(DISTINCT r1.performer) AS performers_bdb\n",
      "UNION ALL\n",
      "MATCH ()-[r2]-()\n",
      "WHERE (\n",
      "    toLower(r2.metadata) =~ '.*\\\\b(wolf alice)\\\\b.*' OR \n",
      "    toLower(r2.description) =~ '.*\\\\b(wolf alice)\\\\b.*'\n",
      ")\n",
      "RETURN DISTINCT r2.metadata AS info1, \n",
      "       COUNT(DISTINCT r2.instrument) AS instruments_wa, \n",
      "       COUNT(DISTINCT r2.performer) AS performers_wa\n",
      "\u001b[0m\n",
      "Generated Cypher Statement is not valid\n",
      "{code: Neo.ClientError.Statement.SyntaxError} {message: All sub queries in an UNION must have the same return column names (line 10, column 1 (offset: 307))\n",
      "\"UNION ALL\"\n",
      " ^}\n",
      "\n",
      "\n",
      "\u001b[1m> Entering new GraphCypherQAChain chain...\u001b[0m\n",
      "Generated Cypher:\n",
      "\u001b[32;1m\u001b[1;3mcypher\n",
      "MATCH (w)-[r1]-(x)-[r2]-(y)\n",
      "WHERE (\n",
      "    toLower(r1.metadata) =~ '.*\\\\b(kasper schmeichel)\\\\b.*' OR\n",
      "    toLower(r1.description) =~ '.*\\\\b(father)\\\\b.*'\n",
      ")\n",
      "AND (\n",
      "    toLower(r2.metadata) =~ '.*\\\\b(iffhs)\\\\b.*' OR \n",
      "    toLower(r2.description) =~ '.*\\\\b(voted)\\\\b.*'\n",
      ")\n",
      "AND toLower(r2.metadata) =~ '.*\\\\b(1992)\\\\b.*'\n",
      "RETURN DISTINCT r1.metadata, r1.description, r2.metadata, r2.description\n",
      "\u001b[0m\n",
      "Full Context:\n",
      "\u001b[32;1m\u001b[1;3m[]\u001b[0m\n"
     ]
    },
    {
     "name": "stderr",
     "output_type": "stream",
     "text": [
      " 50%|█████     | 5/10 [00:27<00:29,  5.96s/it]"
     ]
    },
    {
     "name": "stdout",
     "output_type": "stream",
     "text": [
      "\n",
      "\u001b[1m> Finished chain.\u001b[0m\n",
      "\n",
      "\n",
      "\u001b[1m> Entering new GraphCypherQAChain chain...\u001b[0m\n"
     ]
    },
    {
     "name": "stderr",
     "output_type": "stream",
     "text": [
      " 60%|██████    | 6/10 [00:34<00:24,  6.12s/it]"
     ]
    },
    {
     "name": "stdout",
     "output_type": "stream",
     "text": [
      "Generated Cypher:\n",
      "\u001b[32;1m\u001b[1;3mcypher\n",
      "MATCH (w)-[r1]-(x)\n",
      "WHERE (\n",
      "    toLower(r1.metadata) =~ '.*\\\\b(these boots are made for walkin\\')\\\\b.*' OR\n",
      "    toLower(r1.description) =~ '.*\\\\b(writer)\\\\b.*'\n",
      ")\n",
      "RETURN DISTINCT r1.metadata AS writer\n",
      "UNION ALL\n",
      "MATCH (y)-[r2]-(z)\n",
      "WHERE (\n",
      "    toLower(r2.metadata) =~ '.*\\\\b(died)\\\\b.*' AND\n",
      "    toLower(r2.metadata) =~ '.*\\\\b(2007)\\\\b.*' OR\n",
      "    toLower(r2.description) =~ '.*\\\\b(died)\\\\b.*' AND\n",
      "    toLower(r2.description) =~ '.*\\\\b(2007)\\\\b.*'\n",
      ")\n",
      "RETURN DISTINCT r2.metadata AS deceased\n",
      "\u001b[0m\n",
      "Generated Cypher Statement is not valid\n",
      "{code: Neo.ClientError.Statement.SyntaxError} {message: All sub queries in an UNION must have the same return column names (line 8, column 1 (offset: 205))\n",
      "\"UNION ALL\"\n",
      " ^}\n",
      "\n",
      "\n",
      "\u001b[1m> Entering new GraphCypherQAChain chain...\u001b[0m\n",
      "Generated Cypher:\n",
      "\u001b[32;1m\u001b[1;3mcypher\n",
      "MATCH (w)-[r1]-(x)-[r2]-(y)\n",
      "WHERE (\n",
      "    toLower(r1.metadata) =~ '.*\\\\b(2011–12 vcu rams men\\'s basketball team)\\\\b.*' OR\n",
      "    toLower(r1.description) =~ '.*\\\\b(shaka smart)\\\\b.*'\n",
      ")\n",
      "AND (\n",
      "    toLower(r2.metadata) =~ '.*\\\\b(virginia commonwealth university)\\\\b.*' OR \n",
      "    toLower(r2.description) =~ '.*\\\\b(virginia commonwealth university)\\\\b.*'\n",
      ")\n",
      "RETURN DISTINCT r1.metadata, r1.description, r2.metadata, r2.description\n",
      "\u001b[0m\n",
      "Full Context:\n",
      "\u001b[32;1m\u001b[1;3m[{'r1.metadata': '{\"summary\": \"This was Shaka Smart\\'s first season at Virginia Commonwealth University.\", \"generated_at\": \"2024-12-23 14:35:08.719204\"}', 'r1.description': 'Shaka Smart had his first season at Virginia Commonwealth University.', 'r2.metadata': '{\"summary\": \"The 2012\\\\u201313 VCU Rams men\\'s basketball team represented Virginia Commonwealth University during the 2012\\\\u201313 NCAA Division I men\\'s basketball season.\", \"generated_at\": \"2024-12-23 14:35:08.719204\"}', 'r2.description': \"The VCU Rams men's basketball team represented Virginia Commonwealth University during the 2012–13 NCAA Division I men's basketball season.\"}, {'r1.metadata': '{\"summary\": \"Shaka Smart resigned from Virginia Commonwealth University for the vacancy at Texas.\", \"generated_at\": \"2024-12-23 14:35:08.719204\"}', 'r1.description': 'Shaka Smart resigned from Virginia Commonwealth University.', 'r2.metadata': '{\"summary\": \"The 2012\\\\u201313 VCU Rams men\\'s basketball team represented Virginia Commonwealth University during the 2012\\\\u201313 NCAA Division I men\\'s basketball season.\", \"generated_at\": \"2024-12-23 14:35:08.719204\"}', 'r2.description': \"The VCU Rams men's basketball team represented Virginia Commonwealth University during the 2012–13 NCAA Division I men's basketball season.\"}, {'r1.metadata': '{\"summary\": \"This was Shaka Smart\\'s first season at Virginia Commonwealth University.\", \"generated_at\": \"2024-12-23 14:35:08.719204\"}', 'r1.description': 'Shaka Smart had his first season at Virginia Commonwealth University.', 'r2.metadata': '{\"summary\": \"The 2012\\\\u201313 season was the 45th season of Virginia Commonwealth University fielding a men\\'s basketball program.\", \"generated_at\": \"2024-12-23 14:35:08.719204\"}', 'r2.description': \"Virginia Commonwealth University is the place where the 2012–13 season of the men's basketball program took place.\"}, {'r1.metadata': '{\"summary\": \"Shaka Smart resigned from Virginia Commonwealth University for the vacancy at Texas.\", \"generated_at\": \"2024-12-23 14:35:08.719204\"}', 'r1.description': 'Shaka Smart resigned from Virginia Commonwealth University.', 'r2.metadata': '{\"summary\": \"The 2012\\\\u201313 season was the 45th season of Virginia Commonwealth University fielding a men\\'s basketball program.\", \"generated_at\": \"2024-12-23 14:35:08.719204\"}', 'r2.description': \"Virginia Commonwealth University is the place where the 2012–13 season of the men's basketball program took place.\"}, {'r1.metadata': '{\"summary\": \"This was Shaka Smart\\'s first season at Virginia Commonwealth University.\", \"generated_at\": \"2024-12-23 14:35:08.719204\"}', 'r1.description': 'Shaka Smart had his first season at Virginia Commonwealth University.', 'r2.metadata': '{\"summary\": \"The 2009\\\\u201310 VCU Rams men\\'s basketball team represented Virginia Commonwealth University during the 2009\\\\u201310 college basketball season.\", \"generated_at\": \"2024-12-23 14:35:08.719204\"}', 'r2.description': \"The VCU Rams men's basketball team represented Virginia Commonwealth University.\"}, {'r1.metadata': '{\"summary\": \"Shaka Smart resigned from Virginia Commonwealth University for the vacancy at Texas.\", \"generated_at\": \"2024-12-23 14:35:08.719204\"}', 'r1.description': 'Shaka Smart resigned from Virginia Commonwealth University.', 'r2.metadata': '{\"summary\": \"The 2009\\\\u201310 VCU Rams men\\'s basketball team represented Virginia Commonwealth University during the 2009\\\\u201310 college basketball season.\", \"generated_at\": \"2024-12-23 14:35:08.719204\"}', 'r2.description': \"The VCU Rams men's basketball team represented Virginia Commonwealth University.\"}, {'r1.metadata': '{\"summary\": \"Shaka Smart was the fourth-year head coach of the 2012\\\\u201313 VCU Rams men\\'s basketball team.\", \"generated_at\": \"2024-12-23 14:35:08.719204\"}', 'r1.description': \"Shaka Smart was the head coach of the 2012–13 VCU Rams men's basketball team during that season.\", 'r2.metadata': '{\"summary\": \"This was Shaka Smart\\'s first season at Virginia Commonwealth University.\", \"generated_at\": \"2024-12-23 14:35:08.719204\"}', 'r2.description': 'Shaka Smart had his first season at Virginia Commonwealth University.'}, {'r1.metadata': '{\"summary\": \"Shaka Smart was the head coach of the VCU Rams during the 2009\\\\u201310 season.\", \"generated_at\": \"2024-12-23 14:35:08.719204\"}', 'r1.description': 'Shaka Smart was the head coach of the VCU Rams.', 'r2.metadata': '{\"summary\": \"This was Shaka Smart\\'s first season at Virginia Commonwealth University.\", \"generated_at\": \"2024-12-23 14:35:08.719204\"}', 'r2.description': 'Shaka Smart had his first season at Virginia Commonwealth University.'}, {'r1.metadata': '{\"summary\": \"Shaka Smart was the head coach of the VCU Rams during the 2009\\\\u201310 season.\", \"generated_at\": \"2024-12-23 14:35:08.719204\"}', 'r1.description': 'Shaka Smart was associated with the 2009–10 season.', 'r2.metadata': '{\"summary\": \"This was Shaka Smart\\'s first season at Virginia Commonwealth University.\", \"generated_at\": \"2024-12-23 14:35:08.719204\"}', 'r2.description': 'Shaka Smart had his first season at Virginia Commonwealth University.'}, {'r1.metadata': '{\"summary\": \"Shaka Smart was the fifth-year head coach of the 2013\\\\u201314 VCU Rams men\\'s basketball team.\", \"generated_at\": \"2024-12-23 14:35:08.719204\"}', 'r1.description': \"Shaka Smart was the head coach of the 2013–14 VCU Rams men's basketball team.\", 'r2.metadata': '{\"summary\": \"This was Shaka Smart\\'s first season at Virginia Commonwealth University.\", \"generated_at\": \"2024-12-23 14:35:08.719204\"}', 'r2.description': 'Shaka Smart had his first season at Virginia Commonwealth University.'}, {'r1.metadata': '{\"summary\": \"Shaka Smart was the third-year head coach of the VCU Rams.\", \"generated_at\": \"2024-12-23 14:35:08.719204\"}', 'r1.description': 'Shaka Smart was the head coach of the VCU Rams.', 'r2.metadata': '{\"summary\": \"This was Shaka Smart\\'s first season at Virginia Commonwealth University.\", \"generated_at\": \"2024-12-23 14:35:08.719204\"}', 'r2.description': 'Shaka Smart had his first season at Virginia Commonwealth University.'}, {'r1.metadata': '{\"summary\": \"The VCU Rams were led by second year head coach Shaka Smart.\", \"generated_at\": \"2024-12-23 14:35:08.719204\"}', 'r1.description': 'Shaka Smart is the head coach of the VCU Rams.', 'r2.metadata': '{\"summary\": \"This was Shaka Smart\\'s first season at Virginia Commonwealth University.\", \"generated_at\": \"2024-12-23 14:35:08.719204\"}', 'r2.description': 'Shaka Smart had his first season at Virginia Commonwealth University.'}, {'r1.metadata': '{\"summary\": \"Will Wade replaced former head coach Shaka Smart.\", \"generated_at\": \"2024-12-23 14:35:08.719204\"}', 'r1.description': 'Will Wade replaced Shaka Smart as the head coach.', 'r2.metadata': '{\"summary\": \"This was Shaka Smart\\'s first season at Virginia Commonwealth University.\", \"generated_at\": \"2024-12-23 14:35:08.719204\"}', 'r2.description': 'Shaka Smart had his first season at Virginia Commonwealth University.'}, {'r1.metadata': '{\"summary\": \"Shaka Smart resigned from Virginia Commonwealth University for the vacancy at Texas.\", \"generated_at\": \"2024-12-23 14:35:08.719204\"}', 'r1.description': 'Shaka Smart resigned from Virginia Commonwealth University.', 'r2.metadata': '{\"summary\": \"This was Shaka Smart\\'s first season at Virginia Commonwealth University.\", \"generated_at\": \"2024-12-23 14:35:08.719204\"}', 'r2.description': 'Shaka Smart had his first season at Virginia Commonwealth University.'}, {'r1.metadata': '{\"summary\": \"Shaka Smart resigned from Virginia Commonwealth University for the vacancy at Texas.\", \"generated_at\": \"2024-12-23 14:35:08.719204\"}', 'r1.description': 'Shaka Smart resigned for the vacancy at Texas.', 'r2.metadata': '{\"summary\": \"This was Shaka Smart\\'s first season at Virginia Commonwealth University.\", \"generated_at\": \"2024-12-23 14:35:08.719204\"}', 'r2.description': 'Shaka Smart had his first season at Virginia Commonwealth University.'}, {'r1.metadata': '{\"summary\": \"Shaka Smart was the sixth-year head coach of the 2014\\\\u201315 VCU Rams men\\'s basketball team.\", \"generated_at\": \"2024-12-23 14:35:08.719204\"}', 'r1.description': \"Shaka Smart was the head coach of the 2014–15 VCU Rams men's basketball team during that season.\", 'r2.metadata': '{\"summary\": \"This was Shaka Smart\\'s first season at Virginia Commonwealth University.\", \"generated_at\": \"2024-12-23 14:35:08.719204\"}', 'r2.description': 'Shaka Smart had his first season at Virginia Commonwealth University.'}, {'r1.metadata': '{\"summary\": \"This was Shaka Smart\\'s first season at Virginia Commonwealth University.\", \"generated_at\": \"2024-12-23 14:35:08.719204\"}', 'r1.description': 'Shaka Smart had his first season at Virginia Commonwealth University.', 'r2.metadata': '{\"summary\": \"The 1995\\\\u201396 VCU Rams men\\'s basketball team represented Virginia Commonwealth University during the 1995\\\\u201396 NCAA Division I men\\'s basketball season.\", \"generated_at\": \"2024-12-23 14:35:08.719204\"}', 'r2.description': \"The VCU Rams men's basketball team represented Virginia Commonwealth University.\"}, {'r1.metadata': '{\"summary\": \"Shaka Smart resigned from Virginia Commonwealth University for the vacancy at Texas.\", \"generated_at\": \"2024-12-23 14:35:08.719204\"}', 'r1.description': 'Shaka Smart resigned from Virginia Commonwealth University.', 'r2.metadata': '{\"summary\": \"The 1995\\\\u201396 VCU Rams men\\'s basketball team represented Virginia Commonwealth University during the 1995\\\\u201396 NCAA Division I men\\'s basketball season.\", \"generated_at\": \"2024-12-23 14:35:08.719204\"}', 'r2.description': \"The VCU Rams men's basketball team represented Virginia Commonwealth University.\"}, {'r1.metadata': '{\"summary\": \"This was Shaka Smart\\'s first season at Virginia Commonwealth University.\", \"generated_at\": \"2024-12-23 14:35:08.719204\"}', 'r1.description': 'Shaka Smart had his first season at Virginia Commonwealth University.', 'r2.metadata': '{\"summary\": \"The 1995\\\\u201396 season was the 28th season of Virginia Commonwealth University fielding a men\\'s basketball program.\", \"generated_at\": \"2024-12-23 14:35:08.719204\"}', 'r2.description': 'The 1995–96 season took place at Virginia Commonwealth University.'}, {'r1.metadata': '{\"summary\": \"Shaka Smart resigned from Virginia Commonwealth University for the vacancy at Texas.\", \"generated_at\": \"2024-12-23 14:35:08.719204\"}', 'r1.description': 'Shaka Smart resigned from Virginia Commonwealth University.', 'r2.metadata': '{\"summary\": \"The 1995\\\\u201396 season was the 28th season of Virginia Commonwealth University fielding a men\\'s basketball program.\", \"generated_at\": \"2024-12-23 14:35:08.719204\"}', 'r2.description': 'The 1995–96 season took place at Virginia Commonwealth University.'}, {'r1.metadata': '{\"summary\": \"This was Shaka Smart\\'s first season at Virginia Commonwealth University.\", \"generated_at\": \"2024-12-23 14:35:08.719204\"}', 'r1.description': 'Shaka Smart had his first season at Virginia Commonwealth University.', 'r2.metadata': '{\"summary\": \"The 1995\\\\u201396 season was the 28th season of Virginia Commonwealth University fielding a men\\'s basketball program.\", \"generated_at\": \"2024-12-23 14:35:08.719204\"}', 'r2.description': \"Virginia Commonwealth University fielded a men's basketball program during the 1995–96 season.\"}, {'r1.metadata': '{\"summary\": \"Shaka Smart resigned from Virginia Commonwealth University for the vacancy at Texas.\", \"generated_at\": \"2024-12-23 14:35:08.719204\"}', 'r1.description': 'Shaka Smart resigned from Virginia Commonwealth University.', 'r2.metadata': '{\"summary\": \"The 1995\\\\u201396 season was the 28th season of Virginia Commonwealth University fielding a men\\'s basketball program.\", \"generated_at\": \"2024-12-23 14:35:08.719204\"}', 'r2.description': \"Virginia Commonwealth University fielded a men's basketball program during the 1995–96 season.\"}, {'r1.metadata': '{\"summary\": \"This was Shaka Smart\\'s first season at Virginia Commonwealth University.\", \"generated_at\": \"2024-12-23 14:35:08.719204\"}', 'r1.description': 'Shaka Smart had his first season at Virginia Commonwealth University.', 'r2.metadata': '{\"summary\": \"Virginia Commonwealth University is a public research university.\", \"generated_at\": \"2024-12-23 14:35:08.719204\"}', 'r2.description': 'Virginia Commonwealth University is categorized as a public research university.'}, {'r1.metadata': '{\"summary\": \"Shaka Smart resigned from Virginia Commonwealth University for the vacancy at Texas.\", \"generated_at\": \"2024-12-23 14:35:08.719204\"}', 'r1.description': 'Shaka Smart resigned from Virginia Commonwealth University.', 'r2.metadata': '{\"summary\": \"Virginia Commonwealth University is a public research university.\", \"generated_at\": \"2024-12-23 14:35:08.719204\"}', 'r2.description': 'Virginia Commonwealth University is categorized as a public research university.'}, {'r1.metadata': '{\"summary\": \"This was Shaka Smart\\'s first season at Virginia Commonwealth University.\", \"generated_at\": \"2024-12-23 14:35:08.719204\"}', 'r1.description': 'Shaka Smart had his first season at Virginia Commonwealth University.', 'r2.metadata': '{\"summary\": \"Virginia Commonwealth University is located in Richmond, Virginia.\", \"generated_at\": \"2024-12-23 14:35:08.719204\"}', 'r2.description': 'Virginia Commonwealth University is situated in Richmond.'}, {'r1.metadata': '{\"summary\": \"Shaka Smart resigned from Virginia Commonwealth University for the vacancy at Texas.\", \"generated_at\": \"2024-12-23 14:35:08.719204\"}', 'r1.description': 'Shaka Smart resigned from Virginia Commonwealth University.', 'r2.metadata': '{\"summary\": \"Virginia Commonwealth University is located in Richmond, Virginia.\", \"generated_at\": \"2024-12-23 14:35:08.719204\"}', 'r2.description': 'Virginia Commonwealth University is situated in Richmond.'}, {'r1.metadata': '{\"summary\": \"This was Shaka Smart\\'s first season at Virginia Commonwealth University.\", \"generated_at\": \"2024-12-23 14:35:08.719204\"}', 'r1.description': 'Shaka Smart had his first season at Virginia Commonwealth University.', 'r2.metadata': '{\"summary\": \"Virginia Commonwealth University was founded in 1838.\", \"generated_at\": \"2024-12-23 14:35:08.719204\"}', 'r2.description': 'Virginia Commonwealth University was founded in the event of its establishment.'}, {'r1.metadata': '{\"summary\": \"Shaka Smart resigned from Virginia Commonwealth University for the vacancy at Texas.\", \"generated_at\": \"2024-12-23 14:35:08.719204\"}', 'r1.description': 'Shaka Smart resigned from Virginia Commonwealth University.', 'r2.metadata': '{\"summary\": \"Virginia Commonwealth University was founded in 1838.\", \"generated_at\": \"2024-12-23 14:35:08.719204\"}', 'r2.description': 'Virginia Commonwealth University was founded in the event of its establishment.'}, {'r1.metadata': '{\"summary\": \"This was Shaka Smart\\'s first season at Virginia Commonwealth University.\", \"generated_at\": \"2024-12-23 14:35:08.719204\"}', 'r1.description': 'Shaka Smart had his first season at Virginia Commonwealth University.', 'r2.metadata': '{\"summary\": \"Virginia Commonwealth University was founded as the medical department of Hampden\\\\u2013Sydney College.\", \"generated_at\": \"2024-12-23 14:35:08.719204\"}', 'r2.description': 'Virginia Commonwealth University was established during the event of its founding.'}, {'r1.metadata': '{\"summary\": \"Shaka Smart resigned from Virginia Commonwealth University for the vacancy at Texas.\", \"generated_at\": \"2024-12-23 14:35:08.719204\"}', 'r1.description': 'Shaka Smart resigned from Virginia Commonwealth University.', 'r2.metadata': '{\"summary\": \"Virginia Commonwealth University was founded as the medical department of Hampden\\\\u2013Sydney College.\", \"generated_at\": \"2024-12-23 14:35:08.719204\"}', 'r2.description': 'Virginia Commonwealth University was established during the event of its founding.'}, {'r1.metadata': '{\"summary\": \"This was Shaka Smart\\'s first season at Virginia Commonwealth University.\", \"generated_at\": \"2024-12-23 14:35:08.719204\"}', 'r1.description': 'Shaka Smart had his first season at Virginia Commonwealth University.', 'r2.metadata': '{\"summary\": \"Virginia Commonwealth University was founded as the medical department of Hampden\\\\u2013Sydney College.\", \"generated_at\": \"2024-12-23 14:35:08.719204\"}', 'r2.description': 'Virginia Commonwealth University originated as the medical department of Hampden–Sydney College.'}, {'r1.metadata': '{\"summary\": \"Shaka Smart resigned from Virginia Commonwealth University for the vacancy at Texas.\", \"generated_at\": \"2024-12-23 14:35:08.719204\"}', 'r1.description': 'Shaka Smart resigned from Virginia Commonwealth University.', 'r2.metadata': '{\"summary\": \"Virginia Commonwealth University was founded as the medical department of Hampden\\\\u2013Sydney College.\", \"generated_at\": \"2024-12-23 14:35:08.719204\"}', 'r2.description': 'Virginia Commonwealth University originated as the medical department of Hampden–Sydney College.'}, {'r1.metadata': '{\"summary\": \"This was Shaka Smart\\'s first season at Virginia Commonwealth University.\", \"generated_at\": \"2024-12-23 14:35:08.719204\"}', 'r1.description': 'Shaka Smart had his first season at Virginia Commonwealth University.', 'r2.metadata': '{\"summary\": \"Virginia Commonwealth University became the Medical College of Virginia in 1854.\", \"generated_at\": \"2024-12-23 14:35:08.719204\"}', 'r2.description': 'Virginia Commonwealth University was renamed to Medical College of Virginia in 1854.'}, {'r1.metadata': '{\"summary\": \"Shaka Smart resigned from Virginia Commonwealth University for the vacancy at Texas.\", \"generated_at\": \"2024-12-23 14:35:08.719204\"}', 'r1.description': 'Shaka Smart resigned from Virginia Commonwealth University.', 'r2.metadata': '{\"summary\": \"Virginia Commonwealth University became the Medical College of Virginia in 1854.\", \"generated_at\": \"2024-12-23 14:35:08.719204\"}', 'r2.description': 'Virginia Commonwealth University was renamed to Medical College of Virginia in 1854.'}, {'r1.metadata': '{\"summary\": \"This was Shaka Smart\\'s first season at Virginia Commonwealth University.\", \"generated_at\": \"2024-12-23 14:35:08.719204\"}', 'r1.description': 'Shaka Smart had his first season at Virginia Commonwealth University.', 'r2.metadata': '{\"summary\": \"The merger in 1968 created Virginia Commonwealth University.\", \"generated_at\": \"2024-12-23 14:35:08.719204\"}', 'r2.description': 'The merger in 1968 resulted in the creation of Virginia Commonwealth University.'}, {'r1.metadata': '{\"summary\": \"Shaka Smart resigned from Virginia Commonwealth University for the vacancy at Texas.\", \"generated_at\": \"2024-12-23 14:35:08.719204\"}', 'r1.description': 'Shaka Smart resigned from Virginia Commonwealth University.', 'r2.metadata': '{\"summary\": \"The merger in 1968 created Virginia Commonwealth University.\", \"generated_at\": \"2024-12-23 14:35:08.719204\"}', 'r2.description': 'The merger in 1968 resulted in the creation of Virginia Commonwealth University.'}, {'r1.metadata': '{\"summary\": \"This was Shaka Smart\\'s first season at Virginia Commonwealth University.\", \"generated_at\": \"2024-12-23 14:35:08.719204\"}', 'r1.description': 'Shaka Smart had his first season at Virginia Commonwealth University.', 'r2.metadata': '{\"summary\": \"In 2015, more than 31,000 students pursued 226 degree and certificate programs through Virginia Commonwealth University\\'s 13 schools and one college.\", \"generated_at\": \"2024-12-23 14:35:08.719204\"}', 'r2.description': 'Degree and certificate programs were offered through Virginia Commonwealth University.'}, {'r1.metadata': '{\"summary\": \"Shaka Smart resigned from Virginia Commonwealth University for the vacancy at Texas.\", \"generated_at\": \"2024-12-23 14:35:08.719204\"}', 'r1.description': 'Shaka Smart resigned from Virginia Commonwealth University.', 'r2.metadata': '{\"summary\": \"In 2015, more than 31,000 students pursued 226 degree and certificate programs through Virginia Commonwealth University\\'s 13 schools and one college.\", \"generated_at\": \"2024-12-23 14:35:08.719204\"}', 'r2.description': 'Degree and certificate programs were offered through Virginia Commonwealth University.'}, {'r1.metadata': '{\"summary\": \"This was Shaka Smart\\'s first season at Virginia Commonwealth University.\", \"generated_at\": \"2024-12-23 14:35:08.719204\"}', 'r1.description': 'Shaka Smart had his first season at Virginia Commonwealth University.', 'r2.metadata': '{\"summary\": \"In 2015, more than 31,000 students pursued 226 degree and certificate programs through Virginia Commonwealth University\\'s 13 schools and one college.\", \"generated_at\": \"2024-12-23 14:35:08.719204\"}', 'r2.description': 'In 2015, Virginia Commonwealth University offered programs.'}, {'r1.metadata': '{\"summary\": \"Shaka Smart resigned from Virginia Commonwealth University for the vacancy at Texas.\", \"generated_at\": \"2024-12-23 14:35:08.719204\"}', 'r1.description': 'Shaka Smart resigned from Virginia Commonwealth University.', 'r2.metadata': '{\"summary\": \"In 2015, more than 31,000 students pursued 226 degree and certificate programs through Virginia Commonwealth University\\'s 13 schools and one college.\", \"generated_at\": \"2024-12-23 14:35:08.719204\"}', 'r2.description': 'In 2015, Virginia Commonwealth University offered programs.'}, {'r1.metadata': '{\"summary\": \"This was Shaka Smart\\'s first season at Virginia Commonwealth University.\", \"generated_at\": \"2024-12-23 14:35:08.719204\"}', 'r1.description': 'Shaka Smart had his first season at Virginia Commonwealth University.', 'r2.metadata': '{\"summary\": \"The VCU Health System supports Virginia Commonwealth University\\'s health care education, research and patient care mission.\", \"generated_at\": \"2024-12-23 14:35:08.719204\"}', 'r2.description': 'VCU Health System supports the health care education, research, and patient care mission of Virginia Commonwealth University.'}, {'r1.metadata': '{\"summary\": \"Shaka Smart resigned from Virginia Commonwealth University for the vacancy at Texas.\", \"generated_at\": \"2024-12-23 14:35:08.719204\"}', 'r1.description': 'Shaka Smart resigned from Virginia Commonwealth University.', 'r2.metadata': '{\"summary\": \"The VCU Health System supports Virginia Commonwealth University\\'s health care education, research and patient care mission.\", \"generated_at\": \"2024-12-23 14:35:08.719204\"}', 'r2.description': 'VCU Health System supports the health care education, research, and patient care mission of Virginia Commonwealth University.'}, {'r1.metadata': '{\"summary\": \"Shaka Smart was the fifth-year head coach of the 2013\\\\u201314 VCU Rams men\\'s basketball team.\", \"generated_at\": \"2024-12-23 14:35:08.719204\"}', 'r1.description': \"Shaka Smart was the head coach of the 2013–14 VCU Rams men's basketball team.\", 'r2.metadata': '{\"summary\": \"The 2013\\\\u201314 VCU Rams men\\'s basketball team represented Virginia Commonwealth University during the 2013\\\\u201314 NCAA Division I men\\'s basketball season.\", \"generated_at\": \"2024-12-23 14:35:08.719204\"}', 'r2.description': \"The 2013–14 VCU Rams men's basketball team represented Virginia Commonwealth University during the 2013–14 NCAA Division I men's basketball season.\"}, {'r1.metadata': '{\"summary\": \"This was Shaka Smart\\'s first season at Virginia Commonwealth University.\", \"generated_at\": \"2024-12-23 14:35:08.719204\"}', 'r1.description': 'Shaka Smart had his first season at Virginia Commonwealth University.', 'r2.metadata': '{\"summary\": \"The 2013\\\\u201314 VCU Rams men\\'s basketball team represented Virginia Commonwealth University during the 2013\\\\u201314 NCAA Division I men\\'s basketball season.\", \"generated_at\": \"2024-12-23 14:35:08.719204\"}', 'r2.description': \"The 2013–14 VCU Rams men's basketball team represented Virginia Commonwealth University during the 2013–14 NCAA Division I men's basketball season.\"}, {'r1.metadata': '{\"summary\": \"Shaka Smart resigned from Virginia Commonwealth University for the vacancy at Texas.\", \"generated_at\": \"2024-12-23 14:35:08.719204\"}', 'r1.description': 'Shaka Smart resigned from Virginia Commonwealth University.', 'r2.metadata': '{\"summary\": \"The 2013\\\\u201314 VCU Rams men\\'s basketball team represented Virginia Commonwealth University during the 2013\\\\u201314 NCAA Division I men\\'s basketball season.\", \"generated_at\": \"2024-12-23 14:35:08.719204\"}', 'r2.description': \"The 2013–14 VCU Rams men's basketball team represented Virginia Commonwealth University during the 2013–14 NCAA Division I men's basketball season.\"}, {'r1.metadata': '{\"summary\": \"Shaka Smart was the fifth-year head coach of the 2013\\\\u201314 VCU Rams men\\'s basketball team.\", \"generated_at\": \"2024-12-23 14:35:08.719204\"}', 'r1.description': \"Shaka Smart was the head coach of the 2013–14 VCU Rams men's basketball team.\", 'r2.metadata': '{\"summary\": \"The 2013\\\\u201314 VCU Rams men\\'s basketball team represented Virginia Commonwealth University during the 2013\\\\u201314 NCAA Division I men\\'s basketball season.\", \"generated_at\": \"2024-12-23 14:35:08.719204\"}', 'r2.description': \"The 2013–14 VCU Rams men's basketball team participated in the 2013–14 NCAA Division I men's basketball season.\"}, {'r1.metadata': '{\"summary\": \"This was Shaka Smart\\'s first season at Virginia Commonwealth University.\", \"generated_at\": \"2024-12-23 14:35:08.719204\"}', 'r1.description': 'Shaka Smart had his first season at Virginia Commonwealth University.', 'r2.metadata': '{\"summary\": \"The 2013\\\\u201314 season was the 46th season of Virginia Commonwealth University fielding a men\\'s basketball program.\", \"generated_at\": \"2024-12-23 14:35:08.719204\"}', 'r2.description': \"Virginia Commonwealth University is the location where the 2013–14 season of the men's basketball program took place.\"}, {'r1.metadata': '{\"summary\": \"Shaka Smart resigned from Virginia Commonwealth University for the vacancy at Texas.\", \"generated_at\": \"2024-12-23 14:35:08.719204\"}', 'r1.description': 'Shaka Smart resigned from Virginia Commonwealth University.', 'r2.metadata': '{\"summary\": \"The 2013\\\\u201314 season was the 46th season of Virginia Commonwealth University fielding a men\\'s basketball program.\", \"generated_at\": \"2024-12-23 14:35:08.719204\"}', 'r2.description': \"Virginia Commonwealth University is the location where the 2013–14 season of the men's basketball program took place.\"}, {'r1.metadata': '{\"summary\": \"This was Shaka Smart\\'s first season at Virginia Commonwealth University.\", \"generated_at\": \"2024-12-23 14:35:08.719204\"}', 'r1.description': 'Shaka Smart had his first season at Virginia Commonwealth University.', 'r2.metadata': '{\"summary\": \"The 2011\\\\u201312 VCU Rams men\\'s basketball team represented Virginia Commonwealth University during the 2011\\\\u201312 NCAA Division I men\\'s basketball season.\", \"generated_at\": \"2024-12-23 14:35:08.719204\"}', 'r2.description': \"The VCU Rams men's basketball team is associated with Virginia Commonwealth University as the team represents the university.\"}, {'r1.metadata': '{\"summary\": \"Shaka Smart resigned from Virginia Commonwealth University for the vacancy at Texas.\", \"generated_at\": \"2024-12-23 14:35:08.719204\"}', 'r1.description': 'Shaka Smart resigned from Virginia Commonwealth University.', 'r2.metadata': '{\"summary\": \"The 2011\\\\u201312 VCU Rams men\\'s basketball team represented Virginia Commonwealth University during the 2011\\\\u201312 NCAA Division I men\\'s basketball season.\", \"generated_at\": \"2024-12-23 14:35:08.719204\"}', 'r2.description': \"The VCU Rams men's basketball team is associated with Virginia Commonwealth University as the team represents the university.\"}]\u001b[0m\n"
     ]
    },
    {
     "name": "stderr",
     "output_type": "stream",
     "text": [
      " 70%|███████   | 7/10 [00:39<00:17,  5.83s/it]"
     ]
    },
    {
     "name": "stdout",
     "output_type": "stream",
     "text": [
      "\n",
      "\u001b[1m> Finished chain.\u001b[0m\n",
      "\n",
      "\n",
      "\u001b[1m> Entering new GraphCypherQAChain chain...\u001b[0m\n",
      "Generated Cypher:\n",
      "\u001b[32;1m\u001b[1;3mcypher\n",
      "MATCH ()-[r1]-()\n",
      "WHERE (\n",
      "    toLower(r1.metadata) =~ '.*\\\\b(dictyosperma)\\\\b.*' OR\n",
      "    toLower(r1.description) =~ '.*\\\\b(dictyosperma)\\\\b.*'\n",
      ")\n",
      "RETURN DISTINCT r1.metadata AS info1\n",
      "UNION ALL\n",
      "MATCH ()-[r2]-()\n",
      "WHERE (\n",
      "    toLower(r2.metadata) =~ '.*\\\\b(huernia)\\\\b.*' OR \n",
      "    toLower(r2.description) =~ '.*\\\\b(huernia)\\\\b.*'\n",
      ")\n",
      "RETURN DISTINCT r2.metadata AS info1\n",
      "\u001b[0m\n",
      "Full Context:\n",
      "\u001b[32;1m\u001b[1;3m[{'info1': '{\"summary\": \"Dictyosperma is a monotypic genus of flowering plant.\", \"generated_at\": \"2024-12-23 14:35:08.719204\"}'}, {'info1': '{\"summary\": \"Dictyosperma belongs to the palm family.\", \"generated_at\": \"2024-12-23 14:35:08.719204\"}'}, {'info1': '{\"summary\": \"Dictyosperma is found in the Mascarene Islands in the Indian Ocean.\", \"generated_at\": \"2024-12-23 14:35:08.719204\"}'}, {'info1': '{\"summary\": \"The sole species of Dictyosperma is Dictyosperma album.\", \"generated_at\": \"2024-12-23 14:35:08.719204\"}'}, {'info1': '{\"summary\": \"Dictyosperma album is widely cultivated in the tropics.\", \"generated_at\": \"2024-12-23 14:35:08.719204\"}'}, {'info1': '{\"summary\": \"Dictyosperma album has been farmed to near extinction in its native habitat.\", \"generated_at\": \"2024-12-23 14:35:08.719204\"}'}, {'info1': '{\"summary\": \"Dictyosperma album is commonly called princess palm.\", \"generated_at\": \"2024-12-23 14:35:08.719204\"}'}, {'info1': '{\"summary\": \"Dictyosperma album is also commonly called hurricane palm.\", \"generated_at\": \"2024-12-23 14:35:08.719204\"}'}, {'info1': '{\"summary\": \"The name hurricane palm is owing to Dictyosperma album\\'s ability to withstand strong winds.\", \"generated_at\": \"2024-12-23 14:35:08.719204\"}'}, {'info1': '{\"summary\": \"Dictyosperma album can easily shed leaves.\", \"generated_at\": \"2024-12-23 14:35:08.719204\"}'}, {'info1': '{\"summary\": \"Dictyosperma album is closely related to palms in the Archontophoenix genus.\", \"generated_at\": \"2024-12-23 14:35:08.719204\"}'}, {'info1': '{\"summary\": \"Dictyosperma album resembles palms in the Archontophoenix genus.\", \"generated_at\": \"2024-12-23 14:35:08.719204\"}'}, {'info1': '{\"summary\": \"The genus Dictyosperma is named from two Greek words meaning \\'net\\' and \\'seed\\'.\", \"generated_at\": \"2024-12-23 14:35:08.719204\"}'}, {'info1': '{\"summary\": \"The common color of the crownshaft at the top of the trunk of Dictyosperma album is white.\", \"generated_at\": \"2024-12-23 14:35:08.719204\"}'}, {'info1': '{\"summary\": \"The genus Huernia consists of stem succulents from Eastern and Southern Africa.\", \"generated_at\": \"2024-12-23 14:35:08.719204\"}'}, {'info1': '{\"summary\": \"The genus Huernia is part of the family Apocynaceae.\", \"generated_at\": \"2024-12-23 14:35:08.719204\"}'}, {'info1': '{\"summary\": \"The genus Huernia is part of the subfamily Asclepiadoideae.\", \"generated_at\": \"2024-12-23 14:35:08.719204\"}'}, {'info1': '{\"summary\": \"The genus Huernia was first described as a genus in 1810.\", \"generated_at\": \"2024-12-23 14:35:08.719204\"}'}, {'info1': '{\"summary\": \"The flowers of the genus Huernia are five-lobed.\", \"generated_at\": \"2024-12-23 14:35:08.719204\"}'}, {'info1': '{\"summary\": \"The flowers of the genus Huernia are usually somewhat more funnel- or bell-shaped than in the closely related genus Stapelia.\", \"generated_at\": \"2024-12-23 14:35:08.719204\"}'}, {'info1': '{\"summary\": \"The flowers of the genus Huernia are often striped vividly in contrasting colours or tones.\", \"generated_at\": \"2024-12-23 14:35:08.719204\"}'}, {'info1': '{\"summary\": \"Some flowers of the genus Huernia are glossy.\", \"generated_at\": \"2024-12-23 14:35:08.719204\"}'}, {'info1': '{\"summary\": \"Other flowers of the genus Huernia are matt and wrinkled depending on the species concerned.\", \"generated_at\": \"2024-12-23 14:35:08.719204\"}'}, {'info1': '{\"summary\": \"The flowers of the genus Huernia attract flies to pollinate.\", \"generated_at\": \"2024-12-23 14:35:08.719204\"}'}, {'info1': '{\"summary\": \"The flowers of the genus Huernia emit a scent similar to that of carrion to attract flies.\", \"generated_at\": \"2024-12-23 14:35:08.719204\"}'}, {'info1': '{\"summary\": \"The genus Huernia is considered close to the genus Stapelia.\", \"generated_at\": \"2024-12-23 14:35:08.719204\"}'}, {'info1': '{\"summary\": \"The genus Huernia is considered close to the genus Hoodia.\", \"generated_at\": \"2024-12-23 14:35:08.719204\"}'}, {'info1': '{\"summary\": \"The name Huernia is in honour of Justin Heurnius.\", \"generated_at\": \"2024-12-23 14:35:08.719204\"}'}]\u001b[0m\n"
     ]
    },
    {
     "name": "stderr",
     "output_type": "stream",
     "text": [
      " 80%|████████  | 8/10 [00:45<00:11,  5.97s/it]"
     ]
    },
    {
     "name": "stdout",
     "output_type": "stream",
     "text": [
      "\n",
      "\u001b[1m> Finished chain.\u001b[0m\n",
      "\n",
      "\n",
      "\u001b[1m> Entering new GraphCypherQAChain chain...\u001b[0m\n",
      "Generated Cypher:\n",
      "\u001b[32;1m\u001b[1;3mcypher\n",
      "MATCH (w)-[r1]-(x)-[r2]-(y)\n",
      "WHERE (\n",
      "    toLower(r1.metadata) =~ '.*\\\\b(kaiser ventures corporation)\\\\b.*' OR\n",
      "    toLower(r1.description) =~ '.*\\\\b(kaiser ventures corporation)\\\\b.*'\n",
      ")\n",
      "AND (\n",
      "    toLower(r2.metadata) =~ '.*\\\\b(american industrialist|father of modern american shipbuilding)\\\\b.*' OR \n",
      "    toLower(r2.description) =~ '.*\\\\b(american industrialist|father of modern american shipbuilding)\\\\b.*'\n",
      ")\n",
      "RETURN DISTINCT r1.metadata, r1.description, r2.metadata, r2.description\n",
      "\u001b[0m\n",
      "Full Context:\n",
      "\u001b[32;1m\u001b[1;3m[]\u001b[0m\n"
     ]
    },
    {
     "name": "stderr",
     "output_type": "stream",
     "text": [
      " 90%|█████████ | 9/10 [00:51<00:05,  5.95s/it]"
     ]
    },
    {
     "name": "stdout",
     "output_type": "stream",
     "text": [
      "\n",
      "\u001b[1m> Finished chain.\u001b[0m\n",
      "\n",
      "\n",
      "\u001b[1m> Entering new GraphCypherQAChain chain...\u001b[0m\n",
      "Generated Cypher:\n",
      "\u001b[32;1m\u001b[1;3mcypher\n",
      "MATCH (w)-[r1]-(x)-[r2]-(y)\n",
      "WHERE (\n",
      "    toLower(r1.metadata) =~ '.*\\\\b(tunnels and trolls)\\\\b.*' OR\n",
      "    toLower(r1.description) =~ '.*\\\\b(tunnels and trolls)\\\\b.*'\n",
      ")\n",
      "AND (\n",
      "    toLower(r2.metadata) =~ '.*\\\\b(ken st. andre)\\\\b.*' OR \n",
      "    toLower(r2.description) =~ '.*\\\\b(ken st. andre)\\\\b.*'\n",
      ")\n",
      "RETURN DISTINCT r1.metadata, r1.description, r2.metadata, r2.description\n",
      "\u001b[0m\n",
      "Full Context:\n",
      "\u001b[32;1m\u001b[1;3m[]\u001b[0m\n"
     ]
    },
    {
     "name": "stderr",
     "output_type": "stream",
     "text": [
      "100%|██████████| 10/10 [00:56<00:00,  5.69s/it]"
     ]
    },
    {
     "name": "stdout",
     "output_type": "stream",
     "text": [
      "\n",
      "\u001b[1m> Finished chain.\u001b[0m\n",
      "\n",
      "\n",
      "\u001b[1m> Entering new GraphCypherQAChain chain...\u001b[0m\n",
      "Generated Cypher:\n",
      "\u001b[32;1m\u001b[1;3mMATCH (w)-[r1]-(x)-[r2]-(y)\n",
      "WHERE (\n",
      "    toLower(r1.metadata) =~ '.*\\\\b(poison)\\\\b.*' OR\n",
      "    toLower(r1.description) =~ '.*\\\\b(poison)\\\\b.*'\n",
      ")\n",
      "AND (\n",
      "    toLower(r2.metadata) =~ '.*\\\\b(shut up, make love)\\\\b.*' OR \n",
      "    toLower(r2.description) =~ '.*\\\\b(shut up, make love)\\\\b.*'\n",
      ")\n",
      "RETURN DISTINCT r1.metadata, r1.description, r2.metadata, r2.description\u001b[0m\n",
      "Full Context:\n",
      "\u001b[32;1m\u001b[1;3m[{'r1.metadata': '{\"summary\": \"\\\\\"Shut Up, Make Love\\\\\" is a song by the American rock band Poison.\", \"generated_at\": \"2024-12-23 14:35:08.719204\"}', 'r1.description': \"The song 'Shut Up, Make Love' is created by the American rock band Poison.\", 'r2.metadata': '{\"summary\": \"The first b-side included in the single/sampler is the first single from the album Shut Up, Make Love.\", \"generated_at\": \"2024-12-23 14:35:08.719204\"}', 'r2.description': 'The album is titled Shut Up, Make Love.'}, {'r1.metadata': '{\"summary\": \"\\\\\"Shut Up, Make Love\\\\\" was the first Poison single with lead guitarist Blues Saraceno.\", \"generated_at\": \"2024-12-23 14:35:08.719204\"}', 'r1.description': \"Blues Saraceno was the lead guitarist for the event 'Shut Up, Make Love', which is the first single by Poison.\", 'r2.metadata': '{\"summary\": \"The first b-side included in the single/sampler is the first single from the album Shut Up, Make Love.\", \"generated_at\": \"2024-12-23 14:35:08.719204\"}', 'r2.description': 'The album is titled Shut Up, Make Love.'}, {'r1.metadata': '{\"summary\": \"\\\\\"Shut Up, Make Love\\\\\" was the first Poison single with lead guitarist Blues Saraceno.\", \"generated_at\": \"2024-12-23 14:35:08.719204\"}', 'r1.description': \"Blues Saraceno was the lead guitarist for the event 'Shut Up, Make Love', which is the first single by Poison.\", 'r2.metadata': '{\"summary\": \"\\\\\"Shut Up, Make Love\\\\\" is a song by the American rock band Poison.\", \"generated_at\": \"2024-12-23 14:35:08.719204\"}', 'r2.description': \"The song 'Shut Up, Make Love' is created by the American rock band Poison.\"}, {'r1.metadata': '{\"summary\": \"Tom Rothrock has worked with Poison.\", \"generated_at\": \"2024-12-23 14:35:08.719204\"}', 'r1.description': 'Tom Rothrock has collaborated or worked with Poison.', 'r2.metadata': '{\"summary\": \"\\\\\"Shut Up, Make Love\\\\\" is a song by the American rock band Poison.\", \"generated_at\": \"2024-12-23 14:35:08.719204\"}', 'r2.description': \"The song 'Shut Up, Make Love' is created by the American rock band Poison.\"}, {'r1.metadata': '{\"summary\": \"Be the One is performed by the American rock band Poison.\", \"generated_at\": \"2024-12-23 14:35:08.719204\"}', 'r1.description': 'Be the One is a musical event that is performed by the American rock band Poison.', 'r2.metadata': '{\"summary\": \"\\\\\"Shut Up, Make Love\\\\\" is a song by the American rock band Poison.\", \"generated_at\": \"2024-12-23 14:35:08.719204\"}', 'r2.description': \"The song 'Shut Up, Make Love' is created by the American rock band Poison.\"}, {'r1.metadata': '{\"summary\": \"Poison is an American rock band.\", \"generated_at\": \"2024-12-23 14:35:08.719204\"}', 'r1.description': 'Poison is categorized as an American rock band.', 'r2.metadata': '{\"summary\": \"\\\\\"Shut Up, Make Love\\\\\" is a song by the American rock band Poison.\", \"generated_at\": \"2024-12-23 14:35:08.719204\"}', 'r2.description': \"The song 'Shut Up, Make Love' is created by the American rock band Poison.\"}, {'r1.metadata': '{\"summary\": \"Poison achieved great commercial success in the mid-1980s to the mid-1990s.\", \"generated_at\": \"2024-12-23 14:35:08.719204\"}', 'r1.description': 'Poison achieved commercial success during the mid-1980s to the mid-1990s.', 'r2.metadata': '{\"summary\": \"\\\\\"Shut Up, Make Love\\\\\" is a song by the American rock band Poison.\", \"generated_at\": \"2024-12-23 14:35:08.719204\"}', 'r2.description': \"The song 'Shut Up, Make Love' is created by the American rock band Poison.\"}, {'r1.metadata': '{\"summary\": \"Poison has sold over 40 million records worldwide.\", \"generated_at\": \"2024-12-23 14:35:08.719204\"}', 'r1.description': 'Poison has sold 40 million records, indicating a commercial success in the music industry.', 'r2.metadata': '{\"summary\": \"\\\\\"Shut Up, Make Love\\\\\" is a song by the American rock band Poison.\", \"generated_at\": \"2024-12-23 14:35:08.719204\"}', 'r2.description': \"The song 'Shut Up, Make Love' is created by the American rock band Poison.\"}, {'r1.metadata': '{\"summary\": \"Poison has sold 15 million records in the United States alone.\", \"generated_at\": \"2024-12-23 14:35:08.719204\"}', 'r1.description': 'Poison has sold records in the United States.', 'r2.metadata': '{\"summary\": \"\\\\\"Shut Up, Make Love\\\\\" is a song by the American rock band Poison.\", \"generated_at\": \"2024-12-23 14:35:08.719204\"}', 'r2.description': \"The song 'Shut Up, Make Love' is created by the American rock band Poison.\"}, {'r1.metadata': '{\"summary\": \"The popularity of Poison continued into the new decade.\", \"generated_at\": \"2024-12-23 14:35:08.719204\"}', 'r1.description': 'Poison gained popularity during the new decade.', 'r2.metadata': '{\"summary\": \"\\\\\"Shut Up, Make Love\\\\\" is a song by the American rock band Poison.\", \"generated_at\": \"2024-12-23 14:35:08.719204\"}', 'r2.description': \"The song 'Shut Up, Make Love' is created by the American rock band Poison.\"}, {'r1.metadata': '{\"summary\": \"\\\\\"Crack a Smile\\\\\" is Poison\\'s fifth studio album.\", \"generated_at\": \"2024-12-23 14:35:08.719204\"}', 'r1.description': 'Crack a Smile is an album created by Poison.', 'r2.metadata': '{\"summary\": \"\\\\\"Shut Up, Make Love\\\\\" is a song by the American rock band Poison.\", \"generated_at\": \"2024-12-23 14:35:08.719204\"}', 'r2.description': \"The song 'Shut Up, Make Love' is created by the American rock band Poison.\"}, {'r1.metadata': '{\"summary\": \"\\\\\"Shut Up, Make Love\\\\\" is a song by the American rock band Poison.\", \"generated_at\": \"2024-12-23 14:35:08.719204\"}', 'r1.description': \"The song 'Shut Up, Make Love' is created by the American rock band Poison.\", 'r2.metadata': '{\"summary\": \"\\\\\"Shut Up, Make Love\\\\\" was released in 2000.\", \"generated_at\": \"2024-12-23 14:35:08.719204\"}', 'r2.description': \"The event 'Shut Up, Make Love' took place in the year 2000.\"}, {'r1.metadata': '{\"summary\": \"\\\\\"Shut Up, Make Love\\\\\" was the first Poison single with lead guitarist Blues Saraceno.\", \"generated_at\": \"2024-12-23 14:35:08.719204\"}', 'r1.description': \"Blues Saraceno was the lead guitarist for the event 'Shut Up, Make Love', which is the first single by Poison.\", 'r2.metadata': '{\"summary\": \"\\\\\"Shut Up, Make Love\\\\\" was released in 2000.\", \"generated_at\": \"2024-12-23 14:35:08.719204\"}', 'r2.description': \"The event 'Shut Up, Make Love' took place in the year 2000.\"}, {'r1.metadata': '{\"summary\": \"\\\\\"Shut Up, Make Love\\\\\" is a song by the American rock band Poison.\", \"generated_at\": \"2024-12-23 14:35:08.719204\"}', 'r1.description': \"The song 'Shut Up, Make Love' is created by the American rock band Poison.\", 'r2.metadata': '{\"summary\": \"\\\\\"Shut Up, Make Love\\\\\" was the first single presented to radio stations from the 2000 album \\\\\"Crack a Smile...and More!\\\\\".\", \"generated_at\": \"2024-12-23 14:35:08.719204\"}', 'r2.description': \"The event 'Shut Up, Make Love' is a single that was presented to radio stations from the object 'Crack a Smile...and More!', which is an album.\"}, {'r1.metadata': '{\"summary\": \"\\\\\"Shut Up, Make Love\\\\\" was the first Poison single with lead guitarist Blues Saraceno.\", \"generated_at\": \"2024-12-23 14:35:08.719204\"}', 'r1.description': \"Blues Saraceno was the lead guitarist for the event 'Shut Up, Make Love', which is the first single by Poison.\", 'r2.metadata': '{\"summary\": \"\\\\\"Shut Up, Make Love\\\\\" was the first single presented to radio stations from the 2000 album \\\\\"Crack a Smile...and More!\\\\\".\", \"generated_at\": \"2024-12-23 14:35:08.719204\"}', 'r2.description': \"The event 'Shut Up, Make Love' is a single that was presented to radio stations from the object 'Crack a Smile...and More!', which is an album.\"}, {'r1.metadata': '{\"summary\": \"\\\\\"Shut Up, Make Love\\\\\" is a song by the American rock band Poison.\", \"generated_at\": \"2024-12-23 14:35:08.719204\"}', 'r1.description': \"The song 'Shut Up, Make Love' is created by the American rock band Poison.\", 'r2.metadata': '{\"summary\": \"\\\\\"Shut Up, Make Love\\\\\" also appears on the second promo single \\\\\"Be the One\\\\\" as a B-side.\", \"generated_at\": \"2024-12-23 14:35:08.719204\"}', 'r2.description': \"The entity 'Shut Up, Make Love' is featured as a B-side on the promo single 'Be the One'.\"}, {'r1.metadata': '{\"summary\": \"\\\\\"Shut Up, Make Love\\\\\" was the first Poison single with lead guitarist Blues Saraceno.\", \"generated_at\": \"2024-12-23 14:35:08.719204\"}', 'r1.description': \"Blues Saraceno was the lead guitarist for the event 'Shut Up, Make Love', which is the first single by Poison.\", 'r2.metadata': '{\"summary\": \"\\\\\"Shut Up, Make Love\\\\\" also appears on the second promo single \\\\\"Be the One\\\\\" as a B-side.\", \"generated_at\": \"2024-12-23 14:35:08.719204\"}', 'r2.description': \"The entity 'Shut Up, Make Love' is featured as a B-side on the promo single 'Be the One'.\"}, {'r1.metadata': '{\"summary\": \"Be the One is performed by the American rock band Poison.\", \"generated_at\": \"2024-12-23 14:35:08.719204\"}', 'r1.description': 'Be the One is a musical event that is performed by the American rock band Poison.', 'r2.metadata': '{\"summary\": \"\\\\\"Shut Up, Make Love\\\\\" also appears on the second promo single \\\\\"Be the One\\\\\" as a B-side.\", \"generated_at\": \"2024-12-23 14:35:08.719204\"}', 'r2.description': \"The entity 'Shut Up, Make Love' is featured as a B-side on the promo single 'Be the One'.\"}, {'r1.metadata': '{\"summary\": \"\\\\\"Shut Up, Make Love\\\\\" is a song by the American rock band Poison.\", \"generated_at\": \"2024-12-23 14:35:08.719204\"}', 'r1.description': \"The song 'Shut Up, Make Love' is created by the American rock band Poison.\", 'r2.metadata': '{\"summary\": \"\\\\\"Shut Up, Make Love\\\\\" was the first Poison single with lead guitarist Blues Saraceno.\", \"generated_at\": \"2024-12-23 14:35:08.719204\"}', 'r2.description': \"Blues Saraceno was the lead guitarist for the event 'Shut Up, Make Love', which is the first single by Poison.\"}]\u001b[0m\n"
     ]
    },
    {
     "name": "stderr",
     "output_type": "stream",
     "text": [
      "100%|██████████| 10/10 [01:04<00:00,  6.41s/it]"
     ]
    },
    {
     "name": "stdout",
     "output_type": "stream",
     "text": [
      "\n",
      "\u001b[1m> Finished chain.\u001b[0m\n"
     ]
    },
    {
     "name": "stderr",
     "output_type": "stream",
     "text": [
      "\n"
     ]
    }
   ],
   "source": [
    "my_dict = {}\n",
    "# Apply the function to each row\n",
    "df[21:31].progress_apply(print_qa, axis=1)\n",
    "    \n",
    "with open(\"dev_fullwiki_pred.json\", \"a\") as json_file:\n",
    "    json.dump(my_dict, json_file, indent=4)"
   ]
  },
  {
   "cell_type": "code",
   "execution_count": null,
   "metadata": {},
   "outputs": [],
   "source": [
    "context_list[18]"
   ]
  },
  {
   "cell_type": "code",
   "execution_count": null,
   "metadata": {},
   "outputs": [],
   "source": [
    "x = df.iloc[31]\n",
    "question = x['question']\n",
    "print(\"question:\", question)\n",
    "answer = x['answer']\n",
    "print(\"answer:\", answer)\n",
    "\n",
    "qg = QueryGraph()\n",
    "req = qg.get_requirements(question)\n",
    "res = qg.answer_question(question, req.content)\n",
    "res"
   ]
  },
  {
   "cell_type": "markdown",
   "metadata": {},
   "source": [
    "## Graph refinement "
   ]
  },
  {
   "cell_type": "code",
   "execution_count": null,
   "metadata": {},
   "outputs": [],
   "source": [
    "qg = QueryGraph()\n",
    "\n",
    "QUERY = \"\"\"\n",
    "MATCH (N) RETURN N\n",
    "\"\"\"\n",
    "res = qg._graph.query(QUERY)\n",
    "res"
   ]
  },
  {
   "cell_type": "code",
   "execution_count": null,
   "metadata": {},
   "outputs": [],
   "source": [
    "from langchain_community.vectorstores import Neo4jVector\n",
    "from langchain_openai import OpenAIEmbeddings"
   ]
  },
  {
   "cell_type": "code",
   "execution_count": null,
   "metadata": {},
   "outputs": [],
   "source": [
    "neo4j_url = \"bolt://localhost:7687\"\n",
    "neo4j_user = \"neo4j\"\n",
    "neo4j_password = \"12345678\""
   ]
  },
  {
   "cell_type": "markdown",
   "metadata": {},
   "source": [
    "Create embeddings"
   ]
  },
  {
   "cell_type": "code",
   "execution_count": null,
   "metadata": {},
   "outputs": [],
   "source": [
    "# # Now we initialize from existing graph\n",
    "# existing_graph = Neo4jVector.from_existing_graph(\n",
    "#     embedding=OpenAIEmbeddings(model='text-embedding-3-small'),\n",
    "#     url=neo4j_url,\n",
    "#     username=neo4j_user,\n",
    "#     password=neo4j_password,\n",
    "#     index_name=\"person_index\",\n",
    "#     node_label=\"Person\",\n",
    "#     text_node_properties=[\"name\"],\n",
    "#     embedding_node_property=\"embedding\",\n",
    "# )"
   ]
  },
  {
   "cell_type": "markdown",
   "metadata": {},
   "source": [
    "Refactor node labels"
   ]
  },
  {
   "cell_type": "code",
   "execution_count": null,
   "metadata": {},
   "outputs": [],
   "source": [
    "# # cq = \"\"\"\n",
    "# # MATCH (en:Entity)\n",
    "# # WHERE en.label = 'Person'\n",
    "# # WITH collect(en) AS persons\n",
    "# # CALL apoc.refactor.rename.label(\"Entity\", \"Person\", persons)\n",
    "# # YIELD batches, total, timeTaken, committedOperations\n",
    "# # RETURN batches, total, timeTaken, committedOperations;\n",
    "# # \"\"\"\n",
    "# # res = qg._graph.query(cq)"
   ]
  },
  {
   "cell_type": "markdown",
   "metadata": {},
   "source": [
    "Create projection"
   ]
  },
  {
   "cell_type": "code",
   "execution_count": null,
   "metadata": {},
   "outputs": [],
   "source": [
    "cq = \"\"\"\n",
    "MATCH (p:Person)\n",
    "RETURN gds.graph.project(\n",
    "  'personproj',\n",
    "  p,\n",
    "  null,\n",
    "  {\n",
    "    sourceNodeProperties: p { .embedding },\n",
    "    targetNodeProperties: {}\n",
    "  }\n",
    ")\n",
    "\"\"\"\n",
    "\n",
    "res = qg._graph.query(cq)"
   ]
  },
  {
   "cell_type": "markdown",
   "metadata": {},
   "source": [
    "Use KNN to measure node similarities"
   ]
  },
  {
   "cell_type": "code",
   "execution_count": null,
   "metadata": {},
   "outputs": [],
   "source": [
    "cq = \"\"\"\n",
    "CALL gds.knn.stream('projection2', {\n",
    "topK: 1,\n",
    "nodeProperties: ['embedding'],\n",
    "// The following parameters are set to produce a deterministic result\n",
    "randomSeed: 1337,\n",
    "concurrency: 1,\n",
    "sampleRate: 1.0,\n",
    "deltaThreshold: 0.0\n",
    "})\n",
    "YIELD node1, node2, similarity\n",
    "WHERE similarity > .90\n",
    "RETURN gds.util.asNode(node1).name AS Person1, gds.util.asNode(node2).name AS Person2, similarity\n",
    "ORDER BY similarity DESCENDING, Person1, Person2\n",
    "\"\"\"\n",
    "\n",
    "res = qg._graph.query(cq)\n",
    "res"
   ]
  },
  {
   "cell_type": "code",
   "execution_count": null,
   "metadata": {},
   "outputs": [],
   "source": [
    "for i in res:\n",
    "    for key, value in i.items():\n",
    "        print(f\"{key}: {value}\")"
   ]
  },
  {
   "cell_type": "code",
   "execution_count": null,
   "metadata": {},
   "outputs": [],
   "source": [
    "def are_dictionaries_equivalent(d1, d2):\n",
    "    # Check if both have the same keys\n",
    "    if d1.keys() != d2.keys():\n",
    "        return False\n",
    "\n",
    "    # Check if Person1 and Person2 are swapped but equivalent\n",
    "    if (d1['Person1'] == d2['Person2'] and d1['Person2'] == d2['Person1'] and d1['similarity'] == d2['similarity']):\n",
    "        return True\n",
    "    \n",
    "    return False\n"
   ]
  },
  {
   "cell_type": "code",
   "execution_count": null,
   "metadata": {},
   "outputs": [],
   "source": [
    "newlist = res"
   ]
  },
  {
   "cell_type": "code",
   "execution_count": null,
   "metadata": {},
   "outputs": [],
   "source": [
    "for idx, val in enumerate(res):   \n",
    "    for idx2, val2 in enumerate(newlist):\n",
    "        if val != val2:\n",
    "            if are_dictionaries_equivalent(val, val2):\n",
    "                newlist.pop(idx2)\n"
   ]
  },
  {
   "cell_type": "code",
   "execution_count": null,
   "metadata": {},
   "outputs": [],
   "source": [
    "unique = []\n",
    "\n",
    "for value in newlist:\n",
    "    if value not in unique:\n",
    "        unique.append(value)\n",
    "\n",
    "unique"
   ]
  },
  {
   "cell_type": "code",
   "execution_count": null,
   "metadata": {},
   "outputs": [],
   "source": [
    "node_name = \"Shirley Temple\"\n",
    "\n",
    "query = f\"\"\"\n",
    "MATCH (n:Person {{name: '{node_name}'}})\n",
    "RETURN n\n",
    "\"\"\"\n",
    "print(query)\n",
    "\n",
    "res = qg._graph.query(query)\n",
    "res\n"
   ]
  },
  {
   "cell_type": "markdown",
   "metadata": {},
   "source": [
    "Merge similar nodes (Entity resolution)"
   ]
  },
  {
   "cell_type": "code",
   "execution_count": null,
   "metadata": {},
   "outputs": [],
   "source": [
    "for idx, val in enumerate(unique):\n",
    "    print(val)\n",
    "    p1 = val['Person1']\n",
    "    p2 = val['Person2']    \n",
    "    cq = f\"\"\"\n",
    "    MATCH (a1:Person {{name: '{p1}'}}), (a2:Person {{name: '{p2}'}})\n",
    "    WITH head(collect([a1,a2])) as nodes\n",
    "    CALL apoc.refactor.mergeNodes(nodes,{{\n",
    "    properties:\"discard\",\n",
    "    mergeRels:true\n",
    "    }})\n",
    "    YIELD node\n",
    "    RETURN node;\n",
    "    \"\"\"\n",
    "    res = qg._graph.query(cq)\n",
    "    res"
   ]
  }
 ],
 "metadata": {
  "kernelspec": {
   "display_name": "graphmaker",
   "language": "python",
   "name": "python3"
  },
  "language_info": {
   "codemirror_mode": {
    "name": "ipython",
    "version": 3
   },
   "file_extension": ".py",
   "mimetype": "text/x-python",
   "name": "python",
   "nbconvert_exporter": "python",
   "pygments_lexer": "ipython3",
   "version": "3.11.0"
  }
 },
 "nbformat": 4,
 "nbformat_minor": 2
}
