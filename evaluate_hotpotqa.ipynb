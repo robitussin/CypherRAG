{
 "cells": [
  {
   "cell_type": "code",
   "execution_count": 1,
   "metadata": {},
   "outputs": [],
   "source": [
    "import pandas as pd\n",
    "import json\n",
    "from generate_graph import get_propositions, generateEdges, createGraph, get_propositions_nosplit\n",
    "from refine_graph import refine\n",
    "from query_graph import QueryGraph\n",
    "from tqdm import tqdm\n",
    "tqdm.pandas()\n",
    "\n",
    "df = pd.read_json('datasets/HotPotQA/hotpot_dev_distractor_v1.json')"
   ]
  },
  {
   "cell_type": "markdown",
   "metadata": {},
   "source": [
    "## Experiment\n"
   ]
  },
  {
   "cell_type": "markdown",
   "metadata": {},
   "source": [
    "### Graph creation and refinement section"
   ]
  },
  {
   "cell_type": "markdown",
   "metadata": {},
   "source": [
    "To run the evaluation script\n",
    "\n",
    "```\n",
    "python hotpot_evaluate_v1.py <path_to_prediction> <path_to_gold>\n",
    "```\n",
    "\n",
    "Example:\n",
    "\n",
    "```\n",
    "python hotpot_evaluate_v1.py <sample_dev_pred.json> <hotpot_dev_fullwiki_v1.json>\n",
    "```"
   ]
  },
  {
   "cell_type": "code",
   "execution_count": 2,
   "metadata": {},
   "outputs": [],
   "source": [
    "context_list = df['context']"
   ]
  },
  {
   "cell_type": "code",
   "execution_count": 3,
   "metadata": {},
   "outputs": [
    {
     "data": {
      "text/html": [
       "<div>\n",
       "<style scoped>\n",
       "    .dataframe tbody tr th:only-of-type {\n",
       "        vertical-align: middle;\n",
       "    }\n",
       "\n",
       "    .dataframe tbody tr th {\n",
       "        vertical-align: top;\n",
       "    }\n",
       "\n",
       "    .dataframe thead th {\n",
       "        text-align: right;\n",
       "    }\n",
       "</style>\n",
       "<table border=\"1\" class=\"dataframe\">\n",
       "  <thead>\n",
       "    <tr style=\"text-align: right;\">\n",
       "      <th></th>\n",
       "      <th>_id</th>\n",
       "      <th>answer</th>\n",
       "      <th>question</th>\n",
       "      <th>supporting_facts</th>\n",
       "      <th>context</th>\n",
       "      <th>type</th>\n",
       "      <th>level</th>\n",
       "    </tr>\n",
       "  </thead>\n",
       "  <tbody>\n",
       "    <tr>\n",
       "      <th>0</th>\n",
       "      <td>5a8b57f25542995d1e6f1371</td>\n",
       "      <td>yes</td>\n",
       "      <td>Were Scott Derrickson and Ed Wood of the same ...</td>\n",
       "      <td>[[Scott Derrickson, 0], [Ed Wood, 0]]</td>\n",
       "      <td>[[Ed Wood (film), [Ed Wood is a 1994 American ...</td>\n",
       "      <td>comparison</td>\n",
       "      <td>hard</td>\n",
       "    </tr>\n",
       "    <tr>\n",
       "      <th>1</th>\n",
       "      <td>5a8c7595554299585d9e36b6</td>\n",
       "      <td>Chief of Protocol</td>\n",
       "      <td>What government position was held by the woman...</td>\n",
       "      <td>[[Kiss and Tell (1945 film), 0], [Shirley Temp...</td>\n",
       "      <td>[[Meet Corliss Archer, [Meet Corliss Archer, a...</td>\n",
       "      <td>bridge</td>\n",
       "      <td>hard</td>\n",
       "    </tr>\n",
       "    <tr>\n",
       "      <th>2</th>\n",
       "      <td>5a85ea095542994775f606a8</td>\n",
       "      <td>Animorphs</td>\n",
       "      <td>What science fantasy young adult series, told ...</td>\n",
       "      <td>[[The Hork-Bajir Chronicles, 0], [The Hork-Baj...</td>\n",
       "      <td>[[Andre Norton Award, [The Andre Norton Award ...</td>\n",
       "      <td>bridge</td>\n",
       "      <td>hard</td>\n",
       "    </tr>\n",
       "    <tr>\n",
       "      <th>3</th>\n",
       "      <td>5adbf0a255429947ff17385a</td>\n",
       "      <td>no</td>\n",
       "      <td>Are the Laleli Mosque and Esma Sultan Mansion ...</td>\n",
       "      <td>[[Laleli Mosque, 0], [Esma Sultan Mansion, 0]]</td>\n",
       "      <td>[[Esma Sultan (daughter of Abdülaziz), [Esma S...</td>\n",
       "      <td>comparison</td>\n",
       "      <td>hard</td>\n",
       "    </tr>\n",
       "    <tr>\n",
       "      <th>4</th>\n",
       "      <td>5a8e3ea95542995a26add48d</td>\n",
       "      <td>Greenwich Village, New York City</td>\n",
       "      <td>The director of the romantic comedy \"Big Stone...</td>\n",
       "      <td>[[Big Stone Gap (film), 0], [Adriana Trigiani,...</td>\n",
       "      <td>[[Just Another Romantic Wrestling Comedy, [Jus...</td>\n",
       "      <td>bridge</td>\n",
       "      <td>hard</td>\n",
       "    </tr>\n",
       "    <tr>\n",
       "      <th>5</th>\n",
       "      <td>5abd94525542992ac4f382d2</td>\n",
       "      <td>YG Entertainment</td>\n",
       "      <td>2014 S/S is the debut album of a South Korean ...</td>\n",
       "      <td>[[2014 S/S, 0], [Winner (band), 0]]</td>\n",
       "      <td>[[List of awards and nominations received by S...</td>\n",
       "      <td>bridge</td>\n",
       "      <td>hard</td>\n",
       "    </tr>\n",
       "    <tr>\n",
       "      <th>6</th>\n",
       "      <td>5a85b2d95542997b5ce40028</td>\n",
       "      <td>Eenasul Fateh</td>\n",
       "      <td>Who was known by his stage name Aladin and hel...</td>\n",
       "      <td>[[Eenasul Fateh, 0], [Management consulting, 0]]</td>\n",
       "      <td>[[James P. Comer, [James P. Comer (born James ...</td>\n",
       "      <td>bridge</td>\n",
       "      <td>hard</td>\n",
       "    </tr>\n",
       "    <tr>\n",
       "      <th>7</th>\n",
       "      <td>5a87ab905542996e4f3088c1</td>\n",
       "      <td>3,677 seated</td>\n",
       "      <td>The arena where the Lewiston Maineiacs played ...</td>\n",
       "      <td>[[Lewiston Maineiacs, 1], [Androscoggin Bank C...</td>\n",
       "      <td>[[Billings Bulls, [The Billings Bulls were a j...</td>\n",
       "      <td>bridge</td>\n",
       "      <td>hard</td>\n",
       "    </tr>\n",
       "    <tr>\n",
       "      <th>8</th>\n",
       "      <td>5a7bbb64554299042af8f7cc</td>\n",
       "      <td>Terry Richardson</td>\n",
       "      <td>Who is older, Annie Morton or Terry Richardson?</td>\n",
       "      <td>[[Annie Morton, 0], [Annie Morton, 2], [Terry ...</td>\n",
       "      <td>[[Annie Morton, [Annie Morton (born October 8,...</td>\n",
       "      <td>bridge</td>\n",
       "      <td>hard</td>\n",
       "    </tr>\n",
       "    <tr>\n",
       "      <th>9</th>\n",
       "      <td>5a8db19d5542994ba4e3dd00</td>\n",
       "      <td>yes</td>\n",
       "      <td>Are Local H and For Against both from the Unit...</td>\n",
       "      <td>[[Local H, 0], [For Against, 0]]</td>\n",
       "      <td>[[Mendocino County GMO Ban, [Mendocino County,...</td>\n",
       "      <td>comparison</td>\n",
       "      <td>hard</td>\n",
       "    </tr>\n",
       "    <tr>\n",
       "      <th>10</th>\n",
       "      <td>5a7166395542994082a3e814</td>\n",
       "      <td>Kansas Song</td>\n",
       "      <td>What is the name of the fight song of the univ...</td>\n",
       "      <td>[[Kansas Song, 0], [University of Kansas, 1], ...</td>\n",
       "      <td>[[North Kansas City, Missouri, [North Kansas C...</td>\n",
       "      <td>bridge</td>\n",
       "      <td>hard</td>\n",
       "    </tr>\n",
       "    <tr>\n",
       "      <th>11</th>\n",
       "      <td>5a877e5d5542993e715abf7d</td>\n",
       "      <td>David Weissman</td>\n",
       "      <td>What screenwriter with credits for \"Evolution\"...</td>\n",
       "      <td>[[David Weissman, 0], [David Weissman, 1], [Th...</td>\n",
       "      <td>[[Ungod, [Ungod is the debut album released in...</td>\n",
       "      <td>bridge</td>\n",
       "      <td>hard</td>\n",
       "    </tr>\n",
       "    <tr>\n",
       "      <th>12</th>\n",
       "      <td>5ab3b0bf5542992ade7c6e39</td>\n",
       "      <td>1999</td>\n",
       "      <td>What year did Guns N Roses perform a promo for...</td>\n",
       "      <td>[[Oh My God (Guns N' Roses song), 0], [Oh My G...</td>\n",
       "      <td>[[Arnold Schwarzenegger filmography, [Arnold S...</td>\n",
       "      <td>bridge</td>\n",
       "      <td>hard</td>\n",
       "    </tr>\n",
       "    <tr>\n",
       "      <th>13</th>\n",
       "      <td>5ab56e32554299637185c594</td>\n",
       "      <td>no</td>\n",
       "      <td>Are Random House Tower and 888 7th Avenue both...</td>\n",
       "      <td>[[Random House Tower, 0], [888 7th Avenue, 2]]</td>\n",
       "      <td>[[Real estate benchmarking, [Real estate bench...</td>\n",
       "      <td>comparison</td>\n",
       "      <td>hard</td>\n",
       "    </tr>\n",
       "    <tr>\n",
       "      <th>14</th>\n",
       "      <td>5ab6d09255429954757d337d</td>\n",
       "      <td>from 1986 to 2013</td>\n",
       "      <td>The football manager who recruited David Beckh...</td>\n",
       "      <td>[[1995–96 Manchester United F.C. season, 2], [...</td>\n",
       "      <td>[[Joshua Parlby, [Joshua Parlby (born 1855 in ...</td>\n",
       "      <td>bridge</td>\n",
       "      <td>hard</td>\n",
       "    </tr>\n",
       "    <tr>\n",
       "      <th>15</th>\n",
       "      <td>5a75e05c55429976ec32bc5f</td>\n",
       "      <td>9,984</td>\n",
       "      <td>Brown State Fishing Lake is in a country that ...</td>\n",
       "      <td>[[Brown State Fishing Lake, 0], [Brown County,...</td>\n",
       "      <td>[[Fishing Lake, [Fishing Lake is a lake in the...</td>\n",
       "      <td>bridge</td>\n",
       "      <td>hard</td>\n",
       "    </tr>\n",
       "    <tr>\n",
       "      <th>16</th>\n",
       "      <td>5ab3e45655429976abd1bcd4</td>\n",
       "      <td>the North Atlantic Conference</td>\n",
       "      <td>The Vermont Catamounts men's soccer team curre...</td>\n",
       "      <td>[[Vermont Catamounts men's soccer, 0], [Vermon...</td>\n",
       "      <td>[[2010–11 Vermont Catamounts men's basketball ...</td>\n",
       "      <td>bridge</td>\n",
       "      <td>hard</td>\n",
       "    </tr>\n",
       "    <tr>\n",
       "      <th>17</th>\n",
       "      <td>5ab29c24554299449642c932</td>\n",
       "      <td>yes</td>\n",
       "      <td>Are Giuseppe Verdi and Ambroise Thomas both Op...</td>\n",
       "      <td>[[Giuseppe Verdi, 0], [Ambroise Thomas, 0]]</td>\n",
       "      <td>[[Bernhard Bötel, [Bernhard Bötel (1883–1953) ...</td>\n",
       "      <td>comparison</td>\n",
       "      <td>hard</td>\n",
       "    </tr>\n",
       "    <tr>\n",
       "      <th>18</th>\n",
       "      <td>5ae0d4c9554299603e418468</td>\n",
       "      <td>1969 until 1974</td>\n",
       "      <td>Roger O. Egeberg was Assistant Secretary for H...</td>\n",
       "      <td>[[Roger O. Egeberg, 2], [Richard Nixon, 0]]</td>\n",
       "      <td>[[United States Assistant Secretary of State, ...</td>\n",
       "      <td>bridge</td>\n",
       "      <td>hard</td>\n",
       "    </tr>\n",
       "    <tr>\n",
       "      <th>19</th>\n",
       "      <td>5a8133725542995ce29dcbdb</td>\n",
       "      <td>Robert Erskine Childers DSC</td>\n",
       "      <td>Which writer was from England, Henry Roth or R...</td>\n",
       "      <td>[[Henry Roth, 0], [Robert Erskine Childers, 0]]</td>\n",
       "      <td>[[Asgard (yacht), [Asgard is a 51 ft gaff rigg...</td>\n",
       "      <td>comparison</td>\n",
       "      <td>hard</td>\n",
       "    </tr>\n",
       "    <tr>\n",
       "      <th>20</th>\n",
       "      <td>5ae7a8175542993210983ed8</td>\n",
       "      <td>Pedro Rodríguez</td>\n",
       "      <td>Which other Mexican Formula One race car drive...</td>\n",
       "      <td>[[Formula One drivers from Mexico, 1], [Formul...</td>\n",
       "      <td>[[2009 Singapore Grand Prix, [The 2009 Singapo...</td>\n",
       "      <td>bridge</td>\n",
       "      <td>hard</td>\n",
       "    </tr>\n",
       "  </tbody>\n",
       "</table>\n",
       "</div>"
      ],
      "text/plain": [
       "                         _id                            answer  \\\n",
       "0   5a8b57f25542995d1e6f1371                               yes   \n",
       "1   5a8c7595554299585d9e36b6                 Chief of Protocol   \n",
       "2   5a85ea095542994775f606a8                         Animorphs   \n",
       "3   5adbf0a255429947ff17385a                                no   \n",
       "4   5a8e3ea95542995a26add48d  Greenwich Village, New York City   \n",
       "5   5abd94525542992ac4f382d2                  YG Entertainment   \n",
       "6   5a85b2d95542997b5ce40028                     Eenasul Fateh   \n",
       "7   5a87ab905542996e4f3088c1                      3,677 seated   \n",
       "8   5a7bbb64554299042af8f7cc                  Terry Richardson   \n",
       "9   5a8db19d5542994ba4e3dd00                               yes   \n",
       "10  5a7166395542994082a3e814                       Kansas Song   \n",
       "11  5a877e5d5542993e715abf7d                    David Weissman   \n",
       "12  5ab3b0bf5542992ade7c6e39                              1999   \n",
       "13  5ab56e32554299637185c594                                no   \n",
       "14  5ab6d09255429954757d337d                 from 1986 to 2013   \n",
       "15  5a75e05c55429976ec32bc5f                             9,984   \n",
       "16  5ab3e45655429976abd1bcd4     the North Atlantic Conference   \n",
       "17  5ab29c24554299449642c932                               yes   \n",
       "18  5ae0d4c9554299603e418468                   1969 until 1974   \n",
       "19  5a8133725542995ce29dcbdb       Robert Erskine Childers DSC   \n",
       "20  5ae7a8175542993210983ed8                   Pedro Rodríguez   \n",
       "\n",
       "                                             question  \\\n",
       "0   Were Scott Derrickson and Ed Wood of the same ...   \n",
       "1   What government position was held by the woman...   \n",
       "2   What science fantasy young adult series, told ...   \n",
       "3   Are the Laleli Mosque and Esma Sultan Mansion ...   \n",
       "4   The director of the romantic comedy \"Big Stone...   \n",
       "5   2014 S/S is the debut album of a South Korean ...   \n",
       "6   Who was known by his stage name Aladin and hel...   \n",
       "7   The arena where the Lewiston Maineiacs played ...   \n",
       "8     Who is older, Annie Morton or Terry Richardson?   \n",
       "9   Are Local H and For Against both from the Unit...   \n",
       "10  What is the name of the fight song of the univ...   \n",
       "11  What screenwriter with credits for \"Evolution\"...   \n",
       "12  What year did Guns N Roses perform a promo for...   \n",
       "13  Are Random House Tower and 888 7th Avenue both...   \n",
       "14  The football manager who recruited David Beckh...   \n",
       "15  Brown State Fishing Lake is in a country that ...   \n",
       "16  The Vermont Catamounts men's soccer team curre...   \n",
       "17  Are Giuseppe Verdi and Ambroise Thomas both Op...   \n",
       "18  Roger O. Egeberg was Assistant Secretary for H...   \n",
       "19  Which writer was from England, Henry Roth or R...   \n",
       "20  Which other Mexican Formula One race car drive...   \n",
       "\n",
       "                                     supporting_facts  \\\n",
       "0               [[Scott Derrickson, 0], [Ed Wood, 0]]   \n",
       "1   [[Kiss and Tell (1945 film), 0], [Shirley Temp...   \n",
       "2   [[The Hork-Bajir Chronicles, 0], [The Hork-Baj...   \n",
       "3      [[Laleli Mosque, 0], [Esma Sultan Mansion, 0]]   \n",
       "4   [[Big Stone Gap (film), 0], [Adriana Trigiani,...   \n",
       "5                 [[2014 S/S, 0], [Winner (band), 0]]   \n",
       "6    [[Eenasul Fateh, 0], [Management consulting, 0]]   \n",
       "7   [[Lewiston Maineiacs, 1], [Androscoggin Bank C...   \n",
       "8   [[Annie Morton, 0], [Annie Morton, 2], [Terry ...   \n",
       "9                    [[Local H, 0], [For Against, 0]]   \n",
       "10  [[Kansas Song, 0], [University of Kansas, 1], ...   \n",
       "11  [[David Weissman, 0], [David Weissman, 1], [Th...   \n",
       "12  [[Oh My God (Guns N' Roses song), 0], [Oh My G...   \n",
       "13     [[Random House Tower, 0], [888 7th Avenue, 2]]   \n",
       "14  [[1995–96 Manchester United F.C. season, 2], [...   \n",
       "15  [[Brown State Fishing Lake, 0], [Brown County,...   \n",
       "16  [[Vermont Catamounts men's soccer, 0], [Vermon...   \n",
       "17        [[Giuseppe Verdi, 0], [Ambroise Thomas, 0]]   \n",
       "18        [[Roger O. Egeberg, 2], [Richard Nixon, 0]]   \n",
       "19    [[Henry Roth, 0], [Robert Erskine Childers, 0]]   \n",
       "20  [[Formula One drivers from Mexico, 1], [Formul...   \n",
       "\n",
       "                                              context        type level  \n",
       "0   [[Ed Wood (film), [Ed Wood is a 1994 American ...  comparison  hard  \n",
       "1   [[Meet Corliss Archer, [Meet Corliss Archer, a...      bridge  hard  \n",
       "2   [[Andre Norton Award, [The Andre Norton Award ...      bridge  hard  \n",
       "3   [[Esma Sultan (daughter of Abdülaziz), [Esma S...  comparison  hard  \n",
       "4   [[Just Another Romantic Wrestling Comedy, [Jus...      bridge  hard  \n",
       "5   [[List of awards and nominations received by S...      bridge  hard  \n",
       "6   [[James P. Comer, [James P. Comer (born James ...      bridge  hard  \n",
       "7   [[Billings Bulls, [The Billings Bulls were a j...      bridge  hard  \n",
       "8   [[Annie Morton, [Annie Morton (born October 8,...      bridge  hard  \n",
       "9   [[Mendocino County GMO Ban, [Mendocino County,...  comparison  hard  \n",
       "10  [[North Kansas City, Missouri, [North Kansas C...      bridge  hard  \n",
       "11  [[Ungod, [Ungod is the debut album released in...      bridge  hard  \n",
       "12  [[Arnold Schwarzenegger filmography, [Arnold S...      bridge  hard  \n",
       "13  [[Real estate benchmarking, [Real estate bench...  comparison  hard  \n",
       "14  [[Joshua Parlby, [Joshua Parlby (born 1855 in ...      bridge  hard  \n",
       "15  [[Fishing Lake, [Fishing Lake is a lake in the...      bridge  hard  \n",
       "16  [[2010–11 Vermont Catamounts men's basketball ...      bridge  hard  \n",
       "17  [[Bernhard Bötel, [Bernhard Bötel (1883–1953) ...  comparison  hard  \n",
       "18  [[United States Assistant Secretary of State, ...      bridge  hard  \n",
       "19  [[Asgard (yacht), [Asgard is a 51 ft gaff rigg...  comparison  hard  \n",
       "20  [[2009 Singapore Grand Prix, [The 2009 Singapo...      bridge  hard  "
      ]
     },
     "execution_count": 3,
     "metadata": {},
     "output_type": "execute_result"
    }
   ],
   "source": [
    "df.head(21)"
   ]
  },
  {
   "cell_type": "code",
   "execution_count": null,
   "metadata": {},
   "outputs": [],
   "source": [
    "df.iloc[7]['context']"
   ]
  },
  {
   "cell_type": "code",
   "execution_count": 6,
   "metadata": {},
   "outputs": [
    {
     "data": {
      "text/plain": [
       "11    [[Ungod, [Ungod is the debut album released in...\n",
       "12    [[Arnold Schwarzenegger filmography, [Arnold S...\n",
       "13    [[Real estate benchmarking, [Real estate bench...\n",
       "14    [[Joshua Parlby, [Joshua Parlby (born 1855 in ...\n",
       "15    [[Fishing Lake, [Fishing Lake is a lake in the...\n",
       "16    [[2010–11 Vermont Catamounts men's basketball ...\n",
       "17    [[Bernhard Bötel, [Bernhard Bötel (1883–1953) ...\n",
       "18    [[United States Assistant Secretary of State, ...\n",
       "19    [[Asgard (yacht), [Asgard is a 51 ft gaff rigg...\n",
       "20    [[2009 Singapore Grand Prix, [The 2009 Singapo...\n",
       "Name: context, dtype: object"
      ]
     },
     "execution_count": 6,
     "metadata": {},
     "output_type": "execute_result"
    }
   ],
   "source": [
    "context_list[11:21]"
   ]
  },
  {
   "cell_type": "code",
   "execution_count": 7,
   "metadata": {},
   "outputs": [
    {
     "name": "stderr",
     "output_type": "stream",
     "text": [
      "100%|██████████| 10/10 [15:37<00:00, 93.72s/it]\n"
     ]
    }
   ],
   "source": [
    "propositions = []\n",
    "\n",
    "for i, value in enumerate(tqdm(context_list[11:21])):\n",
    "        for j, context in enumerate(value):\n",
    "                index = 1\n",
    "                if index < len(context):\n",
    "                    words = context[1]\n",
    "                    combined = \" \".join(words)\n",
    "                    get_propositions_nosplit(combined, propositions)"
   ]
  },
  {
   "cell_type": "code",
   "execution_count": 8,
   "metadata": {},
   "outputs": [
    {
     "name": "stdout",
     "output_type": "stream",
     "text": [
      "['Ungod is the debut album released in 1994 on Columbia Records.', 'Ungod was released by the American industrial rock band Stabbing Westward.', 'The album was recorded in six weeks of 1993 in Chiswick, England.', 'Ungod was released on February 15, 1994.', 'Adequate album sales and touring with the likes of Depeche Mode warranted a second album.', \"The second album is titled 'Wither Blister Burn & Peel'.\", \"The guitar line in the chorus of the song 'Ungod' was later used in Filter's song 'Hey Man, Nice Shot.'\", 'Stuart Zechman was playing guitar for Filter at the time.', \"Stuart Zechman took the riff from the song 'Ungod' and showed it to Stabbing Westward.\", 'Stabbing Westward ended up using the riff as well.', \"The song 'Nothing' appeared in the movie 'Bad Boys'.\", \"The movie 'Bad Boys' starred Will Smith, Martin Lawrence, and Téa Leoni.\", \"The song 'Nothing' was not featured on the official soundtrack album of 'Bad Boys'.\", \"The song 'Nothing' accompanied the credits of the film 'Johnny Mnemonic'.\", \"The song 'Nothing' was included on the soundtrack of the film 'Johnny Mnemonic'.\", \"The song 'Lost' was also included on the soundtrack of the film 'Johnny Mnemonic'.\", \"'Lost', 'Lies', and 'Can't Happen Here' were used in the film 'Mortal Kombat'.\", \"Stabbing Westward refused to include 'Lost', 'Lies', and 'Can't Happen Here' in the official soundtrack of 'Mortal Kombat'.\", \"The 'Thread Mix' of 'Violent Mood Swings' was included in the Clerks soundtrack.\", 'Season of the Witch is a 2011 American historical fantasy adventure film.', 'Nicolas Cage is an actor who stars in Season of the Witch.', 'Ron Perlman is an actor who stars in Season of the Witch.', 'Dominic Sena is the director of Season of the Witch.', 'Brett Ratner conducted extensive uncredited reshoots for Season of the Witch.', 'Nicolas Cage and Ron Perlman star as Teutonic Knights in Season of the Witch.', 'The Teutonic Knights return from the Crusades in Season of the Witch.', 'The Teutonic Knights find their fatherland ruined by the Black Death.', 'Two church elders accuse a girl named Claire Foy of being a witch responsible for the destruction.', 'The two church elders command the two knights to transport Claire Foy to a monastery.', 'The monks at the monastery can lift the curse from the land.', \"Season of the Witch draws inspiration from the 1957 film 'The Seventh Seal'.\", \"Dominic Sena and Nicolas Cage previously worked together on the film 'Gone in 60 Seconds'.\", 'Time to Kill is a 1989 Italian drama film.', 'Time to Kill is also known as Tempo di uccidere in Italian.', 'Nicolas Cage is a star of the film Time to Kill.', 'Ricky Tognazzi is an Italian actor in the film Time to Kill.', 'Giancarlo Giannini is an Italian actor in the film Time to Kill.', 'Giuliano Montaldo is the director of the film Time to Kill.', 'The film Time to Kill is set in 1936.', 'In 1936, Ethiopia was an Italian colony.', 'The film Time to Kill was filmed in Zimbabwe.', 'The film Time to Kill is based on the novel with the same name.', 'The novel with the same name was written by Ennio Flaiano.', 'David Weissman is a screenwriter.', 'David Weissman is a director.', \"David Weissman has film credits that include 'The Family Man' released in 2000.\", \"David Weissman has film credits that include 'Evolution' released in 2001.\", \"David Weissman has film credits that include 'When in Rome' released in 2010.\", 'Deadfall is a 1993 crime drama film.', 'Christopher Coppola directed Deadfall.', 'Christopher Coppola co-wrote the script for Deadfall with Nick Vallelonga.', 'The film Deadfall stars Michael Biehn.', 'The film Deadfall stars Nicolas Cage.', 'The film Deadfall stars Charlie Sheen.', 'The film Deadfall stars James Coburn.', 'The film Deadfall stars Peter Fonda.', \"Deadfall is the prime influence on the song 'Deadfall'.\", \"The song 'Deadfall' was written by the American hardcore punk band Snot.\", \"A prequel/sequel titled 'Arsenal' was released in 2017.\", \"The film 'Arsenal' stars Nicolas Cage as his character Eddie King.\", 'Gone in 60 Seconds is a 2000 American action heist film.', 'Nicolas Cage is a star of Gone in 60 Seconds.', 'Angelina Jolie is a star of Gone in 60 Seconds.', 'Giovanni Ribisi is a star of Gone in 60 Seconds.', 'Christopher Eccleston is a star of Gone in 60 Seconds.', 'Robert Duvall is a star of Gone in 60 Seconds.', 'Vinnie Jones is a star of Gone in 60 Seconds.', 'Will Patton is a star of Gone in 60 Seconds.', 'Dominic Sena directed Gone in 60 Seconds.', 'Scott Rosenberg wrote Gone in 60 Seconds.', 'Jerry Bruckheimer produced Gone in 60 Seconds.', \"Jerry Bruckheimer is the producer of 'The Rock'.\", \"Jerry Bruckheimer is the producer of 'Con Air'.\", \"Both 'The Rock' and 'Con Air' starred Nicolas Cage.\", \"Jerry Bruckheimer is the producer of 'Armageddon'.\", 'Armageddon starred Will Patton.', 'Gone in 60 Seconds is a loose remake of the 1974 H.B. Halicki film of the same name.', 'Drive Angry is a 2011 American fantasy action film.', 'Drive Angry stars Nicolas Cage.', 'Drive Angry stars Amber Heard.', 'Drive Angry was directed by Patrick Lussier.', 'Drive Angry was released on February 25, 2011.', 'Drive Angry was shot in 3-D.', 'Drive Angry was met with a mixed reception.', 'Drive Angry grossed almost $29 million.', 'It Could Happen to You is a 1994 American romantic comedy-drama film.', 'Nicolas Cage is a star of the film It Could Happen to You.', 'Bridget Fonda is a star of the film It Could Happen to You.', 'The film tells the story of a New York City police officer.', 'The New York City police officer is portrayed by Nicolas Cage.', 'The New York City police officer wins the lottery.', 'The New York City police officer splits his winnings with a waitress.', 'The waitress is portrayed by Bridget Fonda.', 'The basic premise of the film was inspired by a real-life incident.', 'City of Angels is a 1998 American romantic fantasy film.', 'Brad Silberling directed City of Angels.', 'Nicolas Cage starred in City of Angels.', 'Meg Ryan starred in City of Angels.', 'City of Angels is set in Los Angeles, California.', \"City of Angels is a loose remake of Wim Wenders' 1987 film 'Wings of Desire'.\", \"Wim Wenders' 1987 film 'Wings of Desire' is set in Berlin.\", 'City of Angels tells the story of an angel who falls in love with a mortal woman.', 'Nicolas Cage plays the role of the angel in City of Angels.', 'Meg Ryan plays the role of the mortal woman in City of Angels.', 'The angel wishes to become human in order to be with the mortal woman.', 'A man who has already made the transition from immortality guides the angel.', 'Dennis Franz plays the role of the man who guides the angel.', 'The angel falls and discovers the human experience.', 'The Family Man is a 2000 American romantic comedy-drama film.', 'Brett Ratner directed The Family Man.', 'David Diamond and David Weissman wrote The Family Man.', 'Nicolas Cage starred in The Family Man.', 'Téa Leoni starred in The Family Man.', \"Cage's production company is Saturn Films.\", 'Saturn Films helped produce The Family Man.', 'The film centers on a man.', 'The man sees what could have been had he made a different decision 13 years prior.', 'Arnold Schwarzenegger is an actor.', 'Arnold Schwarzenegger has appeared in over 30 films.', 'Arnold Schwarzenegger has ventured into directing.', 'Arnold Schwarzenegger has ventured into producing.', 'Arnold Schwarzenegger began his acting career primarily with small roles in film.', 'Arnold Schwarzenegger began his acting career primarily with small roles in television.', \"For his first film role, Arnold Schwarzenegger was credited as 'Arnold Strong'.\", 'Arnold Schwarzenegger was credited with his birth name thereafter.', 'Arnold Schwarzenegger has appeared mainly in action films.', 'Arnold Schwarzenegger has appeared mainly in comedy films.', 'In addition to films, Arnold Schwarzenegger has appeared in television.', 'Arnold Schwarzenegger has appeared in music videos for AC/DC.', 'Arnold Schwarzenegger has appeared in music videos for Bon Jovi.', \"Arnold Schwarzenegger has appeared in music videos for Guns N' Roses.\", \"Guns N' Roses is an American hard rock band.\", \"Guns N' Roses was formed in Los Angeles, California in 1985.\", \"Guns N' Roses was formed by members of Hollywood Rose and L.A. Guns.\", \"Guns N' Roses has released six studio albums.\", \"Guns N' Roses has released two live albums.\", \"Guns N' Roses has released two compilation albums.\", \"Guns N' Roses has released two extended plays.\", \"Guns N' Roses has released seven video albums.\", \"Guns N' Roses has released eighteen singles.\", \"Guns N' Roses has released twenty four music videos.\", \"Guns N' Roses has released one video single.\", \"Guns N' Roses signed a deal with Geffen Records in 1986.\", \"Guns N' Roses independently released the EP 'Live ?! *@ Like a Suicide' a year before signing with Geffen Records.\", \"Guns N' Roses' debut studio album 'Appetite for Destruction' was released in 1987.\", \"'Appetite for Destruction' reached the top of the 'Billboard' 200.\", \"'Appetite for Destruction' sold 18 million units in the United States.\", \"'Appetite for Destruction' sold approximately 33 million units worldwide.\", 'Hammerjacks Concert Hall and Nightclub was a large concert hall in downtown Baltimore.', 'Hammerjacks Concert Hall and Nightclub operated through the 1980s and into the 1990s.', 'Hammerjacks Concert Hall and Nightclub was owned by Louis J. Principio III.', 'Hammerjacks Concert Hall and Nightclub attracted many big-name national acts.', 'Hammerjacks Concert Hall and Nightclub showcased many rising stars in the music world.', 'The bands at Hammerjacks Concert Hall and Nightclub ranged from punk acts.', 'The bands at Hammerjacks Concert Hall and Nightclub ranged from glam acts.', 'The bands at Hammerjacks Concert Hall and Nightclub ranged from heavy metal acts.', 'Guns n Roses was a band commonly associated with Hammerjacks Concert Hall and Nightclub.', 'Kix was a band commonly associated with Hammerjacks Concert Hall and Nightclub.', 'Ratt was a band commonly associated with Hammerjacks Concert Hall and Nightclub.', 'Skid Row was a band commonly associated with Hammerjacks Concert Hall and Nightclub.', 'Extreme was a band commonly associated with Hammerjacks Concert Hall and Nightclub.', 'Badfinger was a pop band that performed at Hammerjacks Concert Hall and Nightclub.', 'Goo Goo Dolls was an alternative rock group that performed at Hammerjacks Concert Hall and Nightclub.', 'Hammerjacks Concert Hall and Nightclub was often frequented by hard core patrons.', 'Musicians at Hammerjacks Concert Hall and Nightclub donned big hair.', 'Musicians at Hammerjacks Concert Hall and Nightclub donned leather.', 'Musicians at Hammerjacks Concert Hall and Nightclub donned lace.', 'Musicians at Hammerjacks Concert Hall and Nightclub donned spandex.', 'Musicians at Hammerjacks Concert Hall and Nightclub donned heavy makeup.', \"Hammerjacks Concert Hall and Nightclub was considered a 'hard rock shrine.'\", 'Hammerjacks Concert Hall and Nightclub attracted audiences with other attire as well.', 'Hammerjacks Concert Hall and Nightclub was torn down on June 12, 1997.', 'The demolition of Hammerjacks Concert Hall and Nightclub made way for M&T Bank Stadium parking lot.', \"Hammerjacks Concert Hall and Nightclub was billed as 'The largest nightclub on the east coast.'\", 'Steven Adler was born Michael Coletti on January 22, 1965.', 'Steven Adler is an American musician.', \"Steven Adler is best known as the former drummer and co-songwriter of the hard rock band Guns N' Roses.\", \"Steven Adler achieved worldwide success with Guns N' Roses in the late 1980s.\", \"Steven Adler was fired from Guns N' Roses over his heroin addiction in 1990.\", \"After being fired from Guns N' Roses, Steven Adler reformed his old band Road Crew.\", 'Steven Adler briefly joined the band BulletBoys after reuniting with Road Crew.', 'Both Road Crew and BulletBoys proved unsuccessful for Steven Adler.', \"During the 2000s, Steven Adler was the drummer of the band Adler's Appetite.\", 'From 2012, Steven Adler held the position of drummer in the band Adler.', 'In early 2017, Steven Adler declared that he has no intention to continue with the band Adler.', 'Steven Adler stated that the band Adler has now dissolved.', \"The reason for the dissolution of the band Adler is Steven Adler's lack of interest in performing during poorly attended concerts.\", \"Steven Adler appeared on the second and fifth seasons of the reality TV show 'Celebrity Rehab with Dr. Drew'.\", \"Steven Adler appeared on the first season of the spin-off 'Sober House'.\", \"Steven Adler was inducted into the Rock and Roll Hall of Fame in 2012 as a member of Guns N' Roses.\", 'Faction With Jason Ellis is an uncensored hard rock, punk, hip hop, and heavy metal music mixed channel on Sirius XM Satellite Radio.', 'Until mid-July 2017, Faction appeared on Sirius XM channel 41.', 'In mid-July 2017, Faction was temporarily replaced by Guns N Roses radio.', 'After August 16, 2017, channel 41 was rebranded to Turbo.', \"Turbo is Sirius XM's channel for hard rock from the 1990s and 2000s.\", 'Faction moved to channel 314.', \"Channel 314 was Turbo's previous channel.\", 'Faction is currently available on select Sirius XM radios.', 'Faction is currently available on Sirius XM streaming.', 'Faction is currently available on the Sirius XM smartphone app.', 'True Lies is a 1994 American action film.', 'True Lies was written by James Cameron.', 'True Lies was co-produced by James Cameron.', 'True Lies was directed by James Cameron.', 'True Lies stars Arnold Schwarzenegger.', 'True Lies stars Jamie Lee Curtis.', 'True Lies stars Tom Arnold.', 'True Lies stars Art Malik.', 'True Lies stars Tia Carrere.', 'True Lies stars Bill Paxton.', 'True Lies stars Eliza Dushku.', 'True Lies stars Grant Heslov.', 'True Lies stars Charlton Heston.', \"True Lies is a loose remake of the 1991 French comedy film 'La Totale!'.\", 'The film follows U.S. government agent Harry Tasker.', 'Harry Tasker is portrayed by Arnold Schwarzenegger.', 'Harry Tasker balances his life as a spy with his familial duties.', 'Last Action Hero is a 1993 American fantasy action comedy film.', 'John McTiernan directed Last Action Hero.', 'John McTiernan produced Last Action Hero.', 'Last Action Hero is a satire of the action genre.', 'Last Action Hero contains several parodies of action films.', 'The parodies in Last Action Hero are presented in the form of films within the film.', 'The film stars Arnold Schwarzenegger as Jack Slater.', 'Jack Slater is a Los Angeles police detective.', \"Jack Slater is a character within the 'Jack Slater' action film franchise.\", \"Austin O'Brien co-stars in Last Action Hero.\", \"Austin O'Brien plays a boy who is magically transported into the 'Slater' universe.\", 'Arnold Schwarzenegger also served as the executive producer of Last Action Hero.', 'Arnold Schwarzenegger plays himself as the actor portraying Jack Slater.', 'Charles Dance plays an assassin in Last Action Hero.', \"The assassin played by Charles Dance escapes from the 'Slater' world into the real world.\", 'End of Days is a 1999 American fantasy action horror thriller film.', 'Peter Hyams directed End of Days.', 'Arnold Schwarzenegger starred in End of Days.', 'Gabriel Byrne starred in End of Days.', 'Robin Tunney starred in End of Days.', 'Kevin Pollak starred in End of Days.', 'Rod Steiger starred in End of Days.', 'CCH Pounder starred in End of Days.', 'Udo Kier starred in End of Days.', 'The film follows former New York Police Department detective Jericho Cane.', 'Jericho Cane is portrayed by Arnold Schwarzenegger.', 'Jericho Cane saves a banker from an assassin.', 'The banker is portrayed by Gabriel Byrne.', 'Jericho Cane finds himself embroiled in a religious conflict.', 'Jericho Cane must protect an innocent young woman.', 'The innocent young woman is portrayed by Robin Tunney.', 'The innocent young woman is chosen by evil forces to conceive the Antichrist with Satan.', '\"Oh My God\" is a song by Guns N\\' Roses.', '\"Oh My God\" was released in 1999.', '\"Oh My God\" was released on the soundtrack to the film \"End of Days\".', 'The song was sent out to radio stations in November 1999.', 'The song was sent out as a promo for the soundtrack.', 'The song was sent out as a promo for the band.', \"The song was the band's first recorded release in almost five years.\", '\"Oh My God\" was never issued as a stand-alone single for public retail.', 'Get Christie Love! is a 1974 made-for-television film.', 'Get Christie Love! is a subsequent crime drama TV series.', 'Teresa Graves stars as an undercover female police detective in Get Christie Love!.', 'The undercover female police detective in Get Christie Love! is determined to overthrow a drug ring.', \"Get Christie Love! is based on Dorothy Uhnak's crime-thriller novel titled 'The Ledger'.\", 'The main character in the original novel is named Christie Opara.', 'Christie Opara is a white New York Police detective.', 'Christie Opara was dropped completely from the adaptation.', 'Christie Love emerged as the main character in the adaptation of Get Christie Love!.', 'Real estate benchmarking is the standard of measurement used to analyze the financial characteristics of a real estate investment property.', 'In the general sense, real estate benchmarking refers to the comparison of potential real estate investment properties against a predetermined framework of measurement.', 'In a narrow sense, the term real estate benchmarking refers to the specific real estate indicators used to measure the real estate properties.', 'Hounsfield Heights/Briar Hill is an inner suburban neighbourhood in northwest Calgary.', 'Hounsfield Heights/Briar Hill is located in Alberta, Canada.', 'Hounsfield Heights/Briar Hill is located north of the Hillhurst community.', 'Hounsfield Heights/Briar Hill is located north of the West Hillhurst community.', 'The boundaries of Hounsfield Heights/Briar Hill are 16th Avenue N (Trans-Canada Highway) to the north.', 'The boundaries of Hounsfield Heights/Briar Hill are 14th Street W to the east.', 'The boundaries of Hounsfield Heights/Briar Hill are Lane north of 7th Avenue N to 19th Street W and 8th Avenue N to the south.', 'The boundaries of Hounsfield Heights/Briar Hill are Crowchild Trail, 12th Avenue N, Juniper Road, and 22nd Street W to the west.', 'Lions Park C-Train station is located within the Hounsfield Heights/Briar Hill community.', 'The Hounsfield Heights/Briar Hill community is built on an escarpment.', 'Hounsfield Heights/Briar Hill is popular for its views of downtown Calgary to the south.', 'Hounsfield Heights/Briar Hill is popular for its views of the Rocky Mountains to the west.', 'Villard is a publishing imprint of Random House.', 'Random House is one of the largest publishing companies in the world.', 'Villard was founded in 1983.', 'Villard began as an independent imprint of Random House.', 'Villard is currently a sub-imprint of Ballantine Books.', 'Ballantine Books is an imprint of Random House.', 'Villard was named after a Stanford White brownstone mansion on Madison Avenue.', 'The Stanford White brownstone mansion on Madison Avenue was the home of Random House for twenty years.', '888 7th Avenue is a 628 ft tall modern-style office skyscraper in Midtown Manhattan.', '888 7th Avenue was completed in 1969.', '888 7th Avenue has 46 floors.', 'Emery Roth & Sons designed the building known as 888 7th Avenue.', '888 7th Avenue is tied with Central Park Place for the 65th tallest building in New York City.', '888 7th Avenue currently carries the Vornado Realty Trust corporate headquarters.', '888 7th Avenue was previously known as the Arlen Building.', 'The namesake of the Arlen Building is Arlen Realty & Development Corporation.', 'The Red Eye Grill is located in the building known as 888 7th Avenue at street level.', 'The Random House Tower is a 52-story mixed-use tower in New York City.', 'The Random House Tower is also known as the Park Imperial Apartments.', 'The Random House Tower is located in the United States.', 'The Random House Tower is used as the headquarters of the book publisher Random House.', 'The Random House Tower is used as a luxury apartment complex.', 'The entrance for the book publisher Random House is on Broadway.', 'The book publisher Random House occupies up to 27 floors of the Random House Tower.', 'The entrance for the apartment complex is on West 56th Street.', 'Pershing Square Capital Management is an American hedge fund management company.', 'Pershing Square Capital Management was founded by Bill Ackman.', 'Bill Ackman runs Pershing Square Capital Management.', 'Pershing Square Capital Management is located at 888 7th Avenue in New York.', 'The Carl B. Stokes Federal Court House Building is a skyscraper.', 'The Carl B. Stokes Federal Court House Building is located in downtown Cleveland, Ohio.', 'The Carl B. Stokes Federal Court House Building is also known as the Carl B. Stokes Federal Court House Tower.', 'The Carl B. Stokes Federal Court House Building is also known as the Federal Court House Tower.', 'The Carl B. Stokes Federal Court House Building is also known as the Stokes Tower.', 'The Carl B. Stokes Federal Court House Building is a 23-story building.', 'The height of the Carl B. Stokes Federal Court House Building is 430 ft.', 'The Carl B. Stokes Federal Court House Building is located at the corner of Huron Road and Superior Avenue.', 'The Carl B. Stokes Federal Court House Building is currently the fourth tallest United States courthouse in the country.', 'Real Estate Technology is often referred to as RE Tech.', 'Real Estate Technology is often referred to as Proptech.', 'Real Estate Technology is an economic industry composed of companies.', 'Companies in Real Estate Technology use technology to make real estate transactions more efficient.', 'Real Estate Technology is a sub-category under financial technology.', 'Real estate is an asset class which represents a significant investment.', 'There are investors who generate income and capital gains by investing in different categories of Real Estate properties over time.', 'The categories of Real Estate properties are broadly residential, commercial, and industrial.', 'Real estate has historically been used as a more tactical investment.', 'Real estate has been used for providing portfolio alpha.', 'Real estate has been used as part of a long-term core strategy due to increased market efficiency.', 'There are increasing concerns about the future long-term variability of stock and bond returns.', 'Real estate is known for its ability to serve as a portfolio diversifier.', 'Real estate is known for its ability to serve as an inflation hedge.', 'Loan modification is the systematic alteration of mortgage loan agreements.', 'Loan modification helps individuals having problems making mortgage payments.', 'Loan modification can reduce interest rates.', 'Loan modification can reduce monthly payments.', 'Loan modification can reduce principal balances.', 'Lending institutions could make one or more changes to relieve financial pressure on borrowers.', 'Lending institutions aim to prevent the condition of foreclosure.', 'Loan modifications have been practiced in the United States since The 2008 Crash Of The Housing Market.', 'The 2008 Crash Of The Housing Market involved Washington Mutual, Chase Home Finance, Chase, and JP Morgan & Chase.', \"Other contributors to The 2008 Crash Of The Housing Market included MER's.\", 'Crimes of Mortgage and Real Estate Staff had long assisted in unethical practices.', 'The deviant practices of Mortgage and Real Estate Staff broke the state and caused the crash.', 'Modification owners were ordered by The United States Department of Housing.', 'Modification owners were ordered by The United States IRS.', 'Modification owners received letters from President Obama.', 'Note Holders reached out to various departments asking for assistance.', 'The assistance sought was to help homeowners keep their homes.', 'The assistance sought was to protect homeowners from foreclosure.', 'The birth of Modifications occurred as a response to the crisis.', 'It is unclear how these enforcements came into existence.', 'Note holders from the Midwest reached out in the Democratic Process for assistance.', 'The FBI Mortgage Fraud Department came into existence to address mortgage fraud.', 'Modifications HMAP and HARP were created to help note holders obtain justice.', 'Modifications aimed to reduce mortgage terms and make them legal.', 'Modification of mortgage terms was introduced by IRS staff.', 'IRS staff addressed the crisis with HAMP TEAMS across the United States.', 'HAMP TEAMS aimed to assist homeowners that were victims of predatory lending practices.', 'Predatory lending practices involved unethical staff, brokers, attorneys, and lenders.', 'Modifications were a response to the crash as litigation ensued.', 'Lenders reorganized and renamed lending institutions after the crash.', 'Government agencies are to closely monitor lending institutions.', 'Prior to modifications, loan holders experiencing crisis used loan assumptions.', 'Prior to modifications, loan holders experiencing crisis used loan transfers.', 'Loan transfers, loan assumptions, and loan bail out programs took place during the Great Depression.', 'The Great Depression aimed to reduce levels of loan foreclosures at the state level.', 'The Federal Bureau of Investigation responded to lending institution violations of law.', 'The Federal Trade Commission responded to lending institution violations of law.', 'The Comptroller responded to lending institution violations of law.', 'The United States Government responded to lending institution violations of law.', 'State Government responded to lending institution violations of law.', 'Public court records were set as legal precedence for illegal actions.', 'Legal precedents and reporting agencies were created to address violations of laws to consumers.', 'Modifications were created to assist consumers that are victims of predatory lending practices.', 'During the Great Recession of the early 21st century, loan modification became a matter of national policy.', 'Various actions were taken to alter mortgage loan terms to prevent further economic destabilization.', 'Absorbent personal profits hindered education for homeowners and creditors.', 'Homeowners and creditors were unaware that equity and escrow money belonged to them.', 'The Loan Note Holder has monetary rights over their escrow and equity.', \"The Housing Crash was caused by the profit from obtaining the mortgage holders' escrow.\", \"Escrow and equity accrued from Note Holders' payments were claimed by various staff.\", 'Local residential Tax Assessing Staff, Real Estate Staff, Ordinance Staff, Police Staff, Brokers, and attorneys claimed escrow money.', 'Attorneys typically owned rental properties and were trained through bankruptcies.', 'Homeowners were often unaware of the money due to them and how they could lose their escrow.', 'Most creditors were unaware that note holders were due an annual or semi-annual equity check.', 'Banks and other lending institutions claimed the equity check instead of the note holders.', 'The money that note holders were unaware of was the prize of real estate.', 'The cause of the Real Estate Crash of 2008 was the profit from mortgages given to people who would eventually lose them.', 'Loan holders purchased Balloon Mortgages that were designed to make fast money off them.', 'The key to the crash was not the house, but the loan product used.', 'The immoral and illegal actions of predatory lending began with the inception of balloon mortgages.', 'Illegal activity has always existed in the lending arena.', 'The crash created watchdog agencies like HAMP TEAM, IRS, and the Federal Trade Commission.', 'The Consumer Protection Bureau was created to protect consumers.', 'The FBI and CIA were involved in examining illegal actions in the real estate market.', 'Local Police Departments were involved in monitoring lending institutions.', 'ICE investigates computer crimes related to fraudulent documents in the lending industry.', 'Many individuals were incarcerated for illegal actions in the lending industry.', 'Modifications fixed notes to proper lower interest rates, escrow, and tax fees.', 'Many people involved in real estate have been incarcerated for illegal actions.', 'Charging for a modification is illegal.', 'It is unlawful for banking staff to modify terms to increase a mortgage.', 'Changing lending products to a balloon mortgage to make homeowners foreclose is illegal.', \"The government's intended purpose of a modification is not to commit fraud.\", 'South Phoenix is a region of Phoenix, Arizona.', 'The boundaries of South Phoenix are the Gila River Indian Community to the south and west.', 'The boundaries of South Phoenix are 48th Street or Interstate-10 to the east.', 'The boundaries of South Phoenix are the Salt River to the north.', 'South Phoenix includes the following Urban Villages: South Mountain Village, Laveen Village, and Ahwatukee Village.', 'South Mountain Village is also known as South Mountain District.', \"Residents sometimes refer to South Phoenix as 'the Southside'.\", 'Major arterial east-west streets in South Phoenix include Broadway Road, Southern Avenue, Baseline Road, Dobbins Road, Elliott Road, Warner Road, Chandler Boulevard, and Pecos Road.', 'Most of the major arterial east-west streets connect South Phoenix with the suburbs of Tempe and Chandler.', 'Major arterial south-north streets in South Phoenix include 24th Street, 16th Street, 7th Street, Central Avenue, 7th Avenue, and 19th Avenue.', 'The major arterial south-north streets connect South Mountain Village to Central and North Phoenix.', 'Major arterial south-north streets also include 27th Avenue, 35th Avenue, 43rd Avenue, 51st Avenue, 59th Avenue, 67th Avenue, and 75th Avenue.', 'The major arterial south-north streets connect Laveen to west Phoenix.', 'Major arterial south-north streets also include 32nd Street, 40th Street, and 48th Street.', 'The major arterial south-north streets connect South Mountain Village to east Phoenix and Tempe.', 'Joshua Parlby was born in 1855.', 'Joshua Parlby was born in Longton, Staffordshire.', 'Joshua Parlby was an English football manager.', 'Joshua Parlby managed Manchester City in the 1890s.', 'The 1996 FA Charity Shield was the 74th FA Charity Shield.', 'The 1996 FA Charity Shield is also known as the Littlewoods FA Charity Shield for sponsorship reasons.', 'The FA Charity Shield is an annual football match.', \"The FA Charity Shield is played between the winners of the previous season's Premier League and FA Cup competitions.\", 'The match was played on 11 August 1996 at Wembley Stadium.', 'The match was contested by Manchester United.', 'Manchester United had won the Double of Premier League and FA Cup in 1995–96.', 'The match was contested by Newcastle United.', 'Newcastle United had finished as runners-up in the Premier League.', 'Manchester United won the match 4–0.', 'The goals for Manchester United were scored by Eric Cantona.', 'The goals for Manchester United were scored by Nicky Butt.', 'The goals for Manchester United were scored by David Beckham.', 'The goals for Manchester United were scored by Roy Keane.', 'The Sir Matt Busby Sports Complex is a public leisure centre.', 'The Sir Matt Busby Sports Complex is located in Bellshill.', 'Bellshill is in North Lanarkshire.', 'North Lanarkshire is in Scotland.', 'The Sir Matt Busby Sports Complex is named in honour of Sir Matt Busby.', 'Sir Matt Busby was a football manager.', 'Sir Matt Busby was born in Bellshill in 1909.', 'Sir Matt Busby managed Manchester United from 1945 to 1969.', 'Sir Matt Busby died in 1994.', 'James Ernest Mangnall was born on 4 January 1866.', 'James Ernest Mangnall died on 13 January 1932.', 'James Ernest Mangnall was an English football manager.', 'James Ernest Mangnall started his career with Burnley.', 'James Ernest Mangnall managed Manchester United between 1903 and 1912.', 'James Ernest Mangnall managed Manchester City from 1912 to 1924.', 'James Ernest Mangnall is the only man to date to have managed both Manchester United and Manchester City.', 'The David Beckham Academy was a football school.', 'The David Beckham Academy was founded by David Beckham.', 'David Beckham was an England international.', 'The David Beckham Academy was founded in 2005.', 'In 2009, the David Beckham Academy operated in two locations.', 'The two locations of the David Beckham Academy were in London, United Kingdom, and in Los Angeles, California, United States.', 'The David Beckham Academy pulled out of the London site at the end of the lease in October 2009.', 'The California branch of the David Beckham Academy closed soon after the London site.', \"The 1995–96 season was Manchester United's fourth season in the Premier League.\", \"The 1995–96 season was Manchester United's 21st consecutive season in the top division of English football.\", 'Manchester United finished the 1995–96 season by becoming the first English team to win the Double.', 'The Double consists of the league title and the FA Cup.', \"Manchester United's triumph in the 1995–96 season was made remarkable by the fact that Alex Ferguson had sold experienced players.\", 'The experienced players sold by Alex Ferguson before the start of the 1995–96 season included Paul Ince.', 'The experienced players sold by Alex Ferguson before the start of the 1995–96 season included Mark Hughes.', 'The experienced players sold by Alex Ferguson before the start of the 1995–96 season included Andrei Kanchelskis.', 'Alex Ferguson did not make any major signings before the start of the 1995–96 season.', 'Alex Ferguson drafted in young players for the 1995–96 season.', 'The young players drafted in by Alex Ferguson included Nicky Butt.', 'The young players drafted in by Alex Ferguson included David Beckham.', 'The young players drafted in by Alex Ferguson included Paul Scholes.', 'The young players drafted in by Alex Ferguson included the Neville brothers.', 'The Neville brothers include Gary Neville.', 'The Neville brothers include Phil Neville.', \"The Class of '92 is a 2013 British documentary film.\", \"The Class of '92 was released on 1 December 2013.\", 'The film centres on the rise of six young Manchester United footballers.', 'The six young Manchester United footballers are David Beckham, Nicky Butt, Ryan Giggs, Gary Neville, Phil Neville, and Paul Scholes.', 'The film details the careers of David Beckham, Nicky Butt, Ryan Giggs, Gary Neville, Phil Neville, and Paul Scholes for Manchester United.', 'The careers of David Beckham, Nicky Butt, Ryan Giggs, Gary Neville, Phil Neville, and Paul Scholes for Manchester United started in 1992.', \"David Beckham's Soccer USA was a football highlights and general discussion show.\", \"Tim Lovejoy presented David Beckham's Soccer USA.\", \"David Beckham's Soccer USA was produced and broadcast in the United Kingdom by Five.\", \"David Beckham's Soccer USA began following David Beckham's move to Los Angeles Galaxy.\", \"David Beckham often contributes to David Beckham's Soccer USA in the form of interviews.\", \"Each week there was a special guest in the studio on David Beckham's Soccer USA.\", \"The special guest on David Beckham's Soccer USA was usually a British sports personality.\", \"Tim Lovejoy chatted with the special guest about their career on David Beckham's Soccer USA.\", \"Tim Lovejoy chatted with the special guest about their views on Major League Soccer on David Beckham's Soccer USA.\", \"A slightly different version of David Beckham's Soccer USA was hosted by Natalie Pinkham.\", \"The slightly different version of David Beckham's Soccer USA was completely devoid of any content derived from British studio footage.\", \"The slightly different version of David Beckham's Soccer USA was broadcast in the USA on Fox Soccer Channel.\", 'Sir Alexander Matthew Busby was a Scottish football player.', 'Sir Alexander Matthew Busby was a Scottish football manager.', 'Sir Alexander Matthew Busby managed Manchester United between 1945 and 1969.', 'Sir Alexander Matthew Busby managed Manchester United again for the second half of the 1970–71 season.', 'Sir Alexander Matthew Busby is widely regarded as one of the greatest managers of all time.', \"Sir Alexander Matthew Busby's managerial records and longevity at the helm of Manchester United are surpassed only by Sir Alex Ferguson.\", 'Sir Alex Ferguson is another football manager.', 'Sir Alexander Chapman Ferguson is a Scottish former football manager and player.', 'Sir Alexander Chapman Ferguson was born on 31 December 1941.', 'Sir Alexander Chapman Ferguson managed Manchester United from 1986 to 2013.', 'Many players regard Sir Alexander Chapman Ferguson to be one of the greatest and most successful managers of all time.', 'Many managers regard Sir Alexander Chapman Ferguson to be one of the greatest and most successful managers of all time.', 'Many analysts regard Sir Alexander Chapman Ferguson to be one of the greatest and most successful managers of all time.', 'Fishing Lake is a lake in the Canadian province of Saskatchewan.', 'Fishing Lake is located between highway 5 and highway 16.', 'Fishing Lake is 22 km north of the town of Foam Lake, Saskatchewan.', 'Fishing Lake is 24 km east of the town of Wadena, Saskatchewan.', 'Fishing Lake does not have an effective outlet channel.', 'Fishing Lake is prone to flooding.', 'Record floods occurred in 2007.', 'The Government of Saskatchewan created a plan to lower the level of Fishing Lake by digging a drainage channel.', 'The Fishing Lake First Nation opposed the plan by the Government of Saskatchewan.', 'Flood control berms were constructed instead of digging a drainage channel.', 'Osage State Fishing Lake is located in northern Osage County, Kansas.', 'Osage State Fishing Lake is a mile east of US 75.', 'Scranton, Kansas, is to the northwest of Osage State Fishing Lake.', 'Overbrook, Kansas, is to the northeast of Osage State Fishing Lake.', 'Osage State Fishing Lake is a freshwater man-made lake.', 'Osage State Fishing Lake was constructed in 1955.', 'Osage State Fishing Lake has a surface area of 140 acres.', 'The parkland in which Osage State Fishing Lake is contained has 366 acres of land.', 'The land in the parkland is mostly tall grass prairie.', 'The parkland has numerous wooded areas.', 'Osage State Fishing Lake is owned by the State of Kansas.', 'Brown State Fishing Lake is a protected area in Brown County, Kansas in the United States.', 'Brown State Fishing Lake is sometimes also known as Brown State Fishing Lake And Wildlife Area.', 'The lake has an area of 62 acres.', '62 acres is equivalent to 0.25 km².', 'The lake is up to 13 feet deep.', '13 feet is equivalent to 4 meters.', 'The area was formerly known as Brown County State Park.', 'Brown State Fishing Lake is located 8 miles east of Hiawatha, Kansas.', '8 miles is equivalent to 13 kilometers.', 'Neosho State Fishing Lake is also known as Lake McKinley.', 'Neosho State Fishing Lake is located in the state of Kansas.', 'Neosho State Fishing Lake is located 5 miles north on highway 59 from the city of Parsons, Kansas, USA.', 'Neosho State Fishing Lake is located 4 miles east on 40th Rd from the city of Parsons, Kansas, USA.', 'The construction of Neosho State Fishing Lake was completed in 1927.', 'Neosho State Fishing Lake covers 92 acres of water.', 'There are 124 public use acres surrounding Neosho State Fishing Lake.', 'Fishing is a popular activity at Neosho State Fishing Lake.', 'Camping is a popular activity at Neosho State Fishing Lake.', 'Picnicking is a popular activity at Neosho State Fishing Lake.', 'The park at Neosho State Fishing Lake has a shelter house.', 'The park at Neosho State Fishing Lake has fishing piers.', 'The park at Neosho State Fishing Lake has picnic tables.', 'The park at Neosho State Fishing Lake has barbecue grills.', 'The park at Neosho State Fishing Lake has vault toilets.', 'The park at Neosho State Fishing Lake has a water hydrant.', 'Below Lake McKinley dam is a catch and release youth fishing pond.', 'The catch and release youth fishing pond is for anglers age 15 and under when accompanied by an adult.', 'Neosho State Fishing Lake is operated by the Kansas Department of Wildlife and Parks.', 'Narrow Hills Provincial Park is a provincial park in Saskatchewan.', 'Narrow Hills Provincial Park is located in Canada.', 'Narrow Hills Provincial Park contains a series of recreational facilities.', 'Narrow Hills Provincial Park contains a variety of lakes within its boundaries.', 'The lakes within Narrow Hills Provincial Park include the Gem Lakes.', 'The lakes within Narrow Hills Provincial Park include Lower Fishing Lake.', 'The lakes within Narrow Hills Provincial Park include Upper Fishing Lake.', 'The lakes within Narrow Hills Provincial Park include other lakes.', 'Shawnee State Fishing Lake is approximately eight miles northwest of Topeka, Kansas.', 'Shawnee State Fishing Lake is located in northern Shawnee County, Kansas.', 'Shawnee State Fishing Lake is sometimes confused with Lake Shawnee.', 'Lake Shawnee is located on the east side of Topeka.', 'Shawnee State Fishing Lake has a surface area of 135 acres.', 'Shawnee State Fishing Lake has a maximum depth of 25 feet.', 'Shawnee State Fishing Lake is a manmade freshwater lake.', 'Shawnee State Fishing Lake was constructed in the late 1960s.', 'Shawnee State Fishing Lake is widest at the dam.', 'The dam is located at the south end of Shawnee State Fishing Lake.', 'Shawnee State Fishing Lake can be reached by a number of roads.', 'The only asphalted road reaching Shawnee State Fishing Lake is on the southeast corner.', '94th Street is located to the north of Shawnee State Fishing Lake.', 'Humphrey Road is located on the west side of Shawnee State Fishing Lake.', 'Higgins Lake is a small unincorporated community along the southern and western shores of Higgins Lake.', 'Higgins Lake is a recreational and fishing lake in Roscommon County.', 'Roscommon County is located in the U.S. state of Michigan.', 'Higgins Lake is the name of the post office for the area.', 'The ZIP code for Higgins Lake is 48627.', 'The ZIP code 48627 includes several other small communities and locales along the shores of Higgins Lake.', 'The small communities and locales included in ZIP code 48627 are Hillcrest, Lyon Manor, Detroit Park, Cook Corner, Sharps Corner, Almeda Beach, Oak Grove, Ritz Corner, Pine Bluffs, and Cottage Grove.', 'The small communities and locales are listed in a counter-clockwise order around Higgins Lake.', 'All communities with Higgins Lake as a postal address are often considered as part of the Higgins Lake community.', 'Higgins Lake is situated on the boundary between Lyon Township on the west and Gerrish Township on the east.', 'US 127 passes on the west side of Higgins Lake.', 'I-75 and M-18 both pass a few miles to the east of Higgins Lake.', 'Houghton Lake is located just a few miles to the south of Higgins Lake.', 'Higgins Lake is a large recreational and fishing lake in Roscommon County.', 'Higgins Lake is located in the U.S. state of Michigan.', 'Higgins Lake covers an area of 9,900 acres.', '9,900 acres is equivalent to 40 km².', 'Higgins Lake is known for its deep, clear waters.', 'Higgins Lake is the 10th largest lake in Michigan.', 'Higgins Lake has a shoreline of 21 miles.', 'Higgins Lake is named after Sylvester Higgins.', 'Sylvester Higgins was the first chief of the topographical department of the Michigan Geological Survey.', 'Higgins Lake has a maximum width of 4 miles.', 'Higgins Lake has a length of 7 miles.', 'Higgins Lake has a maximum depth of 135 feet.', 'The mean depth of Higgins Lake is 44 feet.', 'Higgins Lake contains almost 20 billion cubic feet of water.', '20 billion cubic feet of water is equivalent to 570 million m³.', 'The retention time of Higgins Lake is about 12.5 years.', 'The watershed of Higgins Lake covers 19,000 acres.', '19,000 acres is equivalent to 77 km².', 'Higgins Lake receives half of its water from submerged springs.', 'Higgins Lake receives six percent of its water from incoming streams.', 'Higgins Lake receives the remainder of its water from direct rainfall and runoff.', 'Higgins Lake drains into Marl Lake by the Cut River.', 'The Cut River runs into Houghton Lake.', 'Houghton Lake eventually drains into Lake Michigan.', 'A mile north of Higgins Lake, water flows into the Lake Huron watershed.', 'Commanda Lake is a lake in central Ontario, Canada.', 'Commanda Lake is also known as Lake Commanda.', 'Commanda Lake is located on the border between Patterson Township and Pringle Township.', 'Commanda Lake is in the Almaguin Highlands region of the District of Parry Sound.', 'Commanda Lake is fed by Gee Creek.', 'Commanda Lake is fed by Commanda Creek.', 'Commanda Lake is fed by Beaudry Creek.', 'Commanda Lake is drained by the Restoule River.', \"Commanda Lake is shaped like the number '3'.\", 'The middle spur of Commanda Lake is called Deep Bay.', 'Commanda Lake is home to one permanent island.', 'The permanent island in Commanda Lake is located off a point in its east.', 'Commanda Lake has a mud bottom.', \"The water of Commanda Lake is 'tea coloured'.\", 'On the north shore of Commanda Lake is the community of Restoule.', 'Cottages line many of the shorelines of Commanda Lake.', 'Lots of crown land surrounds the shoreline of Commanda Lake.', 'The crown land surrounding Commanda Lake makes it a very peaceful lake for people of all ages to enjoy.', 'Commanda Lake has one public boat launch.', 'The public boat launch on Commanda Lake is located towards the southern end of the lake.', 'The public boat launch on Commanda Lake is accessible on Commanda Lake Road.', 'Commanda Lake is located at an altitude of 222 m (729 ft) above sea level.', 'Commanda Lake is home to the Northern pike species of fish.', 'Commanda Lake is home to the Walleye species of fish.', 'Commanda Lake is home to the Smallmouth bass species of fish.', 'Commanda Lake is home to the Largemouth bass species of fish.', 'Ice gets thick in the winter on Commanda Lake.', 'Commanda Lake is an all year round fishing lake.', 'Brown County is a county located in the northeast portion of the U.S. state of Kansas.', 'The county code for Brown County is BR.', 'As of the 2010 census, the population of Brown County was 9,984.', 'The county seat of Brown County is Hiawatha.', 'Hiawatha is the most populous city in Brown County.', 'Brown County is the location of the Kickapoo Indian Reservation of Kansas.', 'Brown County is the location of the majority of the Sac and Fox Reservation.', 'Brown County is the location of the majority of the Iowa Reservation of Kansas and Nebraska.', \"The 2010–11 Vermont Catamounts men's basketball team represented the University of Vermont in the 2010–11 NCAA Division I men's basketball season.\", 'The Vermont Catamounts won their third consecutive America East Conference regular season Championship.', 'The Vermont Catamounts lost in the semifinals of the America East Conference tournament to Stony Brook.', 'The Vermont Catamounts got invited to the National Invitation Tournament.', 'The Vermont Catamounts lost in the first round of the National Invitation Tournament to Cleveland State.', 'The final score of the game between the Vermont Catamounts and Cleveland State was 63–60.', \"The 2012–13 Vermont Catamounts men's basketball team represented the University of Vermont during the 2012–13 NCAA Division I men's basketball season.\", 'The Vermont Catamounts were led by John Becker.', 'John Becker was the second year head coach of the Vermont Catamounts.', 'The Vermont Catamounts played their home games at Patrick Gym.', 'The Vermont Catamounts were members of the America East Conference.', 'The Vermont Catamounts finished the season with a record of 21–12.', 'The Vermont Catamounts finished with a record of 11–5 in America East play.', 'The Vermont Catamounts finished in a tie for second place in the America East Conference.', 'The Vermont Catamounts advanced to the championship game of the America East Tournament.', 'The Vermont Catamounts lost to Albany in the championship game of the America East Tournament.', 'The Vermont Catamounts were invited to the 2013 College Basketball Invitational.', 'The Vermont Catamounts lost in the first round of the 2013 College Basketball Invitational to Santa Clara.', \"The 2013–14 Vermont Catamounts men's basketball team represented the University of Vermont during the 2013–14 NCAA Division I men's basketball season.\", 'The Vermont Catamounts were led by John Becker.', 'John Becker was the third year head coach of the Vermont Catamounts.', 'The Vermont Catamounts played their home games at Patrick Gym.', 'The Vermont Catamounts were members of the America East Conference.', 'The Vermont Catamounts finished the season with a record of 22–11.', 'The Vermont Catamounts had a record of 15–1 in America East play.', 'The Vermont Catamounts won the America East regular season championship.', 'The Vermont Catamounts advanced to the semifinals of the America East Conference Tournament.', 'The Vermont Catamounts lost to Albany in the semifinals of the America East Conference Tournament.', 'The Vermont Catamounts received an automatic bid to the National Invitation Tournament.', 'The Vermont Catamounts lost in the first round of the National Invitation Tournament to Georgia.', 'The America East Conference is a collegiate athletic conference.', 'The America East Conference is affiliated with the NCAA Division I.', 'The members of the America East Conference are located mainly in the Northeastern United States.', 'The conference was known as the Eastern College Athletic Conference-North from 1979 to 1988.', 'The conference was known as the North Atlantic Conference from 1988 to 1996.', \"The Vermont Catamounts men's soccer team represents the University of Vermont in all NCAA Division I men's college soccer competitions.\", \"The Vermont Catamounts men's soccer team competes in the America East Conference.\", \"The Vermont Catamounts men's ice hockey team is a National Collegiate Athletic Association Division I college ice hockey program.\", \"The Vermont Catamounts men's ice hockey team represents the University of Vermont.\", \"The Vermont Catamounts men's ice hockey team is a member of Hockey East.\", \"The Vermont Catamounts men's ice hockey team joined Hockey East in 2005.\", \"The Vermont Catamounts men's ice hockey team competed in ECAC Hockey from 1974 to 2005.\", \"The Vermont Catamounts men's ice hockey team plays home games at Gutterson Fieldhouse.\", 'Gutterson Fieldhouse is located in Burlington, Vermont.', \"The University of Vermont has appeared in the NCAA Men's Hockey Championship five times since making the move to Division I in the 1974-75 season.\", 'The University of Vermont made trips to the Frozen Four in 1996.', 'The University of Vermont made trips to the Frozen Four in 2009.', \"The 2015–16 Vermont Catamounts men's basketball team represented the University of Vermont during the 2015–16 NCAA Division I men's basketball season.\", 'The Vermont Catamounts were led by John Becker.', 'John Becker was the fifth year head coach of the Vermont Catamounts.', 'The Vermont Catamounts played their home games at Patrick Gym.', 'The Vermont Catamounts were members of the America East Conference.', 'The Vermont Catamounts finished the season with a record of 23–14.', 'The Vermont Catamounts had a record of 11–5 in America East play.', 'The Vermont Catamounts finished in a tie for third place in the America East Conference.', 'The Vermont Catamounts defeated Maine to advance to the championship game of the America East Tournament.', 'The Vermont Catamounts defeated New Hampshire to advance to the championship game of the America East Tournament.', 'The Vermont Catamounts lost to Stony Brook in the championship game of the America East Tournament.', 'The Vermont Catamounts were invited to the College Basketball Invitational.', 'The Vermont Catamounts defeated Western Carolina in the College Basketball Invitational.', 'The Vermont Catamounts defeated Seattle in the College Basketball Invitational.', 'The Vermont Catamounts advanced to the semifinals of the College Basketball Invitational.', 'The Vermont Catamounts lost to Nevada in the semifinals of the College Basketball Invitational.', \"The 2016–17 Vermont Catamounts men's basketball team represented the University of Vermont during the 2016–17 NCAA Division I men's basketball season.\", 'The Vermont Catamounts were led by John Becker.', 'John Becker was the sixth-year head coach of the Vermont Catamounts.', 'The Vermont Catamounts played their home games at Patrick Gym.', 'Patrick Gym is located in Burlington, Vermont.', 'The Vermont Catamounts were members of the America East Conference.', 'The Vermont Catamounts finished the season with a record of 29–6.', 'The Vermont Catamounts had a record of 16–0 in America East play.', 'The Vermont Catamounts won the America East regular season championship.', 'In the America East Tournament, the Vermont Catamounts defeated Maine.', 'In the America East Tournament, the Vermont Catamounts defeated New Hampshire.', 'In the America East Tournament, the Vermont Catamounts defeated Albany.', 'The Vermont Catamounts won the America East Tournament championship.', \"As a result of winning the America East Tournament championship, the Vermont Catamounts received the conference's automatic bid to the NCAA Tournament.\", 'The Vermont Catamounts were a No. 13 seed in the Midwest region of the NCAA Tournament.', 'The Vermont Catamounts lost to No. 4-seeded Purdue in the first round of the NCAA Tournament.', \"The 2011–12 Vermont Catamounts men's basketball team represented the University of Vermont during the 2011–12 NCAA Division I men's basketball season.\", 'The Vermont Catamounts were led by John Becker.', 'John Becker was the first year head coach of the Vermont Catamounts.', 'The Vermont Catamounts played their home games at Patrick Gym.', 'The Vermont Catamounts are members of the America East Conference.', 'The Vermont Catamounts finished the season with a record of 24–12.', 'The Vermont Catamounts finished with a record of 13–3 in America East play.', 'The Vermont Catamounts finished in second place in the America East Conference.', 'The Vermont Catamounts were champions of the America East Basketball Tournament.', \"The victory in the America East Basketball Tournament earned the Vermont Catamounts the conference's automatic bid into the 2012 NCAA Tournament.\", \"The Vermont Catamounts defeated Lamar in the 'First Four' round of the 2012 NCAA Tournament.\", 'The Vermont Catamounts fell to North Carolina in the second round of the 2012 NCAA Tournament.', 'The Vermont Catamounts Basketball team is the basketball team that represents the University of Vermont.', 'The University of Vermont is located in Burlington, Vermont.', 'The Vermont Catamounts Basketball team currently competes in the America East Conference.', 'The Vermont Catamounts Basketball team plays its home games at Patrick Gym.', \"The Vermont Catamounts Basketball team has reached the NCAA Division I Men's Basketball Tournament six times.\", \"The years in which the Vermont Catamounts Basketball team reached the NCAA Division I Men's Basketball Tournament are 2003, 2004, 2005, 2010, 2012, and 2017.\", 'The Vermont Catamounts Basketball team famously upset Syracuse University in the first round of the 2005 tournament.', 'John Becker is the coach of the Vermont Catamounts Basketball team.', 'Bernhard Bötel was a German operatic tenor and actor.', 'Bernhard Bötel had an active career in Germany during the first half of the 20th century.', 'Bernhard Bötel had an active career in Austria during the first half of the 20th century.', 'Bernhard Bötel made recordings for several record labels during the early years of the recording industry.', \"The record labels that Bernhard Bötel made recordings for include His Master's Voice, Odeon Records, Polydor Records, Tri-Ergon, and Vox Records.\", 'On the stage, Bernhard Bötel sang a variety of roles in operas and operettas.', 'Bernhard Bötel sang leading parts in operas and operettas.', 'Bernhard Bötel sang comprimario roles in operas and operettas.', \"Bernhard Bötel's stage repertoire included Belmonte in Wolfgang Amadeus Mozart's 'Die Entführung aus dem Serail'.\", \"Bernhard Bötel's stage repertoire included Chapelou in Adolphe Adam's 'Le postillon de Lonjumeau'.\", \"Bernhard Bötel's stage repertoire included Count Almaviva in Gioachino Rossini's 'The Barber of Seville'.\", \"Bernhard Bötel's stage repertoire included Daniel in Franz Lehár's 'The Merry Widow'.\", \"Bernhard Bötel's stage repertoire included the Duke of Mantua in Giuseppe Verdi's 'Rigoletto'.\", \"Bernhard Bötel's stage repertoire included Gabriel von Eisenstein in Johann Strauss II's 'Die Fledermaus'.\", \"Bernhard Bötel's stage repertoire included Indigo in Strauss' 'Indigo und die vierzig Räuber'.\", \"Bernhard Bötel's stage repertoire included Jeník in Bedřich Smetana's 'The Bartered Bride'.\", \"Bernhard Bötel's stage repertoire included Paolino in Domenico Cimarosa's 'Il matrimonio segreto'.\", \"Bernhard Bötel's stage repertoire included Pâris in Jacques Offenbach's 'La belle Hélène'.\", \"Bernhard Bötel's stage repertoire included Pietro in Franz von Suppé's 'Boccaccio'.\", \"Bernhard Bötel's stage repertoire included Wilhelm Meister in Ambroise Thomas' 'Mignon'.\", 'Giuseppe Verdi is a 1938 Italian biographical film.', 'Carmine Gallone directed the film Giuseppe Verdi.', 'Fosco Giachetti starred in the film Giuseppe Verdi.', 'Gaby Morlay starred in the film Giuseppe Verdi.', 'Germana Paolieri starred in the film Giuseppe Verdi.', 'The film portrays the life of the composer Giuseppe Verdi.', 'Giuseppe Verdi was born in 1813.', 'Giuseppe Verdi died in 1901.', \"The casting of Fosco Giachetti as Giuseppe Verdi was intended to emphasize the composer's patriotism.\", \"Fosco Giachetti had recently played patriotic roles in films such as 'The White Squadron'.\", 'The film was made at the Cinecittà Studios in Rome.', 'The film Giuseppe Verdi is also known by the alternative title The Life of Giuseppe Verdi.', 'Parma Airport is located 1.3 nautical miles northwest of Parma.', 'Parma is a city in the Emilia-Romagna region of Italy.', 'Parma Airport was opened on 5 May 1991.', 'Parma Airport is also known as Giuseppe Verdi Airport.', \"Parma Airport is also known as Parma 'Giuseppe Verdi' Airport.\", 'Parma Airport is named after Giuseppe Verdi.', 'Giuseppe Fortunino Francesco Verdi was an Italian opera composer.', 'Giuseppe Fortunino Francesco Verdi was born on 9 or 10 October 1813.', 'Giuseppe Fortunino Francesco Verdi died on 27 January 1901.', 'Teatro Giuseppe Verdi is a small opera house.', 'Teatro Giuseppe Verdi is located in a wing of the Rocca dei Marchesi Pallavicino.', 'Rocca dei Marchesi Pallavicino is situated on the Piazza Giuseppe Verdi.', 'Piazza Giuseppe Verdi is located in Busseto, Italy.', 'Busseto is a town closely associated with the life of the opera composer, Giuseppe Verdi.', 'From the 13th century, the rocca or fortress was the family’s palace.', 'The rocca is now the city hall.', 'The municipality acquired the rocca in 1856.', 'The theatre opened on 15 August 1868.', 'The theatre seats 300.', 'Charles Louis Ambroise Thomas was a French composer.', 'Charles Louis Ambroise Thomas was born on 5 August 1811.', 'Charles Louis Ambroise Thomas died on 12 February 1896.', \"Charles Louis Ambroise Thomas is best known for his operas 'Mignon' and 'Hamlet'.\", \"The opera 'Mignon' was composed in 1866.\", \"The opera 'Hamlet' was composed in 1868.\", \"The opera 'Hamlet' is based on the work of William Shakespeare.\", 'Charles Louis Ambroise Thomas served as Director of the Conservatoire de Paris from 1871 until his death.', 'Armand Castelmary was a French operatic bass.', \"Armand Castelmary's real name was Comte Armand de Castan.\", 'Armand Castelmary was born in Toulouse on 16 August 1834.', 'Armand Castelmary died in New York City on 10 February 1897.', 'Armand Castelmary created roles in three major premieres at the Paris Opera.', \"Armand Castelmary created the role of Don Diego in 'L'Africaine' by Meyerbeer in 1865.\", \"Armand Castelmary created the role of the Monk in Verdi's 'Don Carlos' in 1867.\", \"Armand Castelmary created the role of Horatio in Ambroise Thomas's 'Hamlet' in 1868.\", 'Armand Castelmary also appeared at opera houses in England.', 'Armand Castelmary also appeared at opera houses in the United States.', 'Armand Castelmary died onstage at the Metropolitan Opera House in New York.', \"Armand Castelmary died during a performance of 'Martha' by Friedrich von Flotow.\", 'Ferdinando Angelo Maria Provesi was a native of Parma, Italy.', 'Ferdinando Angelo Maria Provesi lived from 1770 to 1833.', 'Ferdinando Angelo Maria Provesi was regarded as one of the greatest Italian opera composers of the era.', 'Ferdinando Angelo Maria Provesi is best known as being an early tutor of Giuseppe Verdi.', \"Ferdinando Angelo Maria Provesi was the 'Maestro di cappella' at the St. Bartolomeo cathedral in Busseto.\", 'Busseto is the town very close to Le Roncole.', 'Le Roncole is the village where Giuseppe Verdi was born.', 'Ferdinando Angelo Maria Provesi was the director of the municipal music school.', 'Ferdinando Angelo Maria Provesi was the director of the local Philharmonic Society.', 'Ferdinando Angelo Maria Provesi began teaching Giuseppe Verdi in 1824.', 'Giuseppe Verdi was 11 years old when Ferdinando Angelo Maria Provesi began teaching him.', 'This list provides a guide to opera composers.', 'The guide is determined by the presence of opera composers on a majority of compiled lists of significant opera composers.', \"The 'Lists Consulted' section contains full details.\", 'The composers run from Jacopo Peri to John Adams.', 'Jacopo Peri wrote the first ever opera in late 16th century Italy.', 'John Adams is one of the leading figures in the contemporary operatic world.', 'The brief accompanying notes offer an explanation as to why each composer has been considered major.', 'A section about major women opera composers is included.', 'The section about major women opera composers is compiled from the same lists.', 'For an introduction to operatic history, one should see the entry on opera.', 'The organisation of the list is by birthdate.', 'Giuseppe Verdi is a 1953 Italian biographical film.', 'Giuseppe Verdi was released theatrically in the USA as The Life and Music of Giuseppe Verdi.', 'Giuseppe Verdi was released on video as Verdi, the King of Melody.', 'Pierre Cressoy stars in the film Giuseppe Verdi.', 'Raffaello Matarazzo directed the film Giuseppe Verdi.', 'The film Giuseppe Verdi is based on adult life events of the composer Giuseppe Verdi.', 'The film Giuseppe Verdi was a commercial success.', 'The film Giuseppe Verdi grossed over 957 million lire at the Italian box office.', 'Assistant Secretary of State is a title used for many executive positions in the United States Department of State.', 'Assistant Secretary of State ranks below the Under Secretaries.', 'A set of six Assistant Secretaries reports to the Under Secretary for Political Affairs.', 'The six Assistant Secretaries manage diplomatic missions within their designated geographic regions.', 'There is one Assistant Secretary dealing with international organizations.', 'Assistant Secretaries usually manage individual bureaus of the Department of State.', 'When the manager of a bureau or another agency holds a title other than Assistant Secretary, it can be said to be of Assistant Secretary equivalent rank.', \"Examples of titles other than Assistant Secretary include 'Director.'\", 'Assistant Secretaries typically have a set of deputies.', 'The deputies of Assistant Secretaries are referred to as Deputy Assistant Secretaries (DAS).', 'Douglas Joseph Doug Bennet, Jr. was born on June 23, 1938.', 'Douglas Joseph Doug Bennet, Jr. is a former national political official.', 'Douglas Joseph Doug Bennet, Jr. is a former college president.', 'Douglas Joseph Doug Bennet, Jr. was the fifteenth president of Wesleyan University.', 'Wesleyan University is located in Middletown, Connecticut.', 'Douglas Joseph Doug Bennet, Jr. served as president of Wesleyan University from 1995 to 2007.', 'Douglas Joseph Doug Bennet, Jr. served as Assistant Secretary of State for International Organization Affairs in the Clinton Administration.', 'The Clinton Administration lasted from 1993 to 1995.', 'Douglas Joseph Doug Bennet, Jr. served as Assistant Secretary of State for Legislative Affairs in the Carter Administration.', 'The Carter Administration lasted from 1977 to 1979.', 'Douglas Joseph Doug Bennet, Jr. was the President and CEO of National Public Radio.', 'Douglas Joseph Doug Bennet, Jr. served as President and CEO of National Public Radio from 1983 to 1993.', 'Douglas Joseph Doug Bennet, Jr. ran the U.S. Agency for International Development under President Carter.', 'Douglas Joseph Doug Bennet, Jr. ran the U.S. Agency for International Development from 1979 to 1981.', 'Richard Milhous Nixon was born on January 9, 1913.', 'Richard Milhous Nixon died on April 22, 1994.', 'Richard Milhous Nixon was the 37th President of the United States.', 'Richard Milhous Nixon served as President of the United States from 1969 until 1974.', 'Richard Milhous Nixon resigned from office in 1974.', 'Richard Milhous Nixon was the only U.S. president to resign from office.', 'Richard Milhous Nixon previously served as the 36th Vice President of the United States.', 'Richard Milhous Nixon served as Vice President of the United States from 1953 to 1961.', 'Richard Milhous Nixon served as a U.S. Representative from California.', 'Richard Milhous Nixon also served as a Senator from California.', 'Steven Kenneth Galson was born in 1956.', 'Steven Kenneth Galson is an American public health physician.', 'Steven Kenneth Galson is currently the Senior Vice President for Global Regulatory Affairs at Amgen.', 'Amgen is an innovative global biopharmaceutical company based in Southern California.', 'Steven Kenneth Galson is also a Professor-at-Large at the Keck Graduate Institute for Applied Life Sciences.', 'The Keck Graduate Institute for Applied Life Sciences is located in Claremont, California.', 'Steven Kenneth Galson is a retired rear admiral in the United States Public Health Service Commissioned Corps.', 'Steven Kenneth Galson is a public health administrator.', 'Steven Kenneth Galson served as the acting Surgeon General of the United States from October 1, 2007 to October 1, 2009.', 'Steven Kenneth Galson served concurrently as the acting Assistant Secretary for Health from January 22, 2009 to June 25, 2009.', 'Steven Kenneth Galson served as the Deputy Director of the Center for Drug Evaluation and Research at the Food and Drug Administration from 2001 to 2007.', 'Steven Kenneth Galson served as the Director of the Center for Drug Evaluation and Research at the Food and Drug Administration from 2001 to 2007.', 'As the Acting Surgeon General, Steven Kenneth Galson was the commander of the United States Public Health Service Commissioned Corps.', 'While serving as the Assistant Secretary for Health, Steven Kenneth Galson was the operational head of the Public Health Service.', 'Robert R. Hood is an American government official.', 'Robert R. Hood currently serves as Assistant Secretary of Defense for Legislative Affairs.', 'Robert R. Hood was previously vice president for government affairs for CH2M.', 'Robert R. Hood held a role at the White House as Special Assistant to the President in the Office of Legislative Affairs.', 'Robert R. Hood held posts at the United States Department of Defense as principal deputy assistant secretary for legislative affairs.', 'Robert R. Hood held posts at the United States Department of Defense as deputy under secretary of defense for budget and appropriations affairs.', 'Robert R. Hood was the director of congressional affairs at the National Nuclear Security Administration.', \"Robert D. 'Bob' Hormats was born on April 13, 1943, in Baltimore, Maryland.\", \"Robert D. 'Bob' Hormats is the Vice Chairman of Kissinger Associates.\", \"Robert D. 'Bob' Hormats served as Under Secretary of State for Economic Growth, Energy, and the Environment from 2009 to 2013.\", 'At the time, the position was entitled Under Secretary of State for Economic, Business, and Agricultural Affairs.', \"Robert D. 'Bob' Hormats was formerly the Vice Chairman of Goldman Sachs (International).\", \"Robert D. 'Bob' Hormats joined Goldman Sachs (International) in 1982.\", \"Robert D. 'Bob' Hormats served as Senior Deputy Assistant Secretary at the Bureau of Economic and Business Affairs from 1977 to 1979.\", \"Robert D. 'Bob' Hormats served as Assistant Secretary of State at the Bureau of Economic and Business Affairs from 1981 to 1982.\", 'The Bureau of Economic and Business Affairs was formerly known as the Bureau of Economic, Energy, and Business Affairs.', \"Robert D. 'Bob' Hormats was the Ambassador and Deputy U.S. Trade Representative from 1979 to 1981.\", \"Robert D. 'Bob' Hormats served as a senior staff member for International Economic Affairs on the United States National Security Council from 1969 to 1977.\", \"Robert D. 'Bob' Hormats was a senior economic adviser to Henry Kissinger.\", \"Robert D. 'Bob' Hormats was a senior economic adviser to General Brent Scowcroft.\", \"Robert D. 'Bob' Hormats was a senior economic adviser to Zbigniew Brzezinski.\", \"Robert D. 'Bob' Hormats helped to manage the Nixon administration's opening of diplomatic relations with China's communist government.\", \"Robert D. 'Bob' Hormats was a recipient of the French Legion of Honor in 1982.\", \"Robert D. 'Bob' Hormats was a recipient of the Arthur S. Flemming Award in 1974.\", 'Bradford P. Campbell was the Assistant Secretary for Employee Benefits Security of the United States Department of Labor.', 'The United States Department of Labor is abbreviated as DOL.', 'Bradford P. Campbell was the official in charge of the Employee Benefits Security Administration.', 'The Employee Benefits Security Administration is abbreviated as EBSA.', 'President George W. Bush nominated Bradford P. Campbell as Assistant Secretary on May 3, 2007.', 'The United States Senate unanimously confirmed Bradford P. Campbell on August 3, 2007.', 'Bradford P. Campbell held the position of Assistant Secretary until January 20, 2009.', 'Prior to his confirmation as Assistant Secretary, Bradford P. Campbell served as Acting Assistant Secretary since October 30, 2006.', \"Bradford P. Campbell served as EBSA's Deputy Assistant Secretary for Policy since March 5, 2004.\", 'The Office of Population Affairs is a part of the United States Department of Health and Human Services.', 'The Office of Population Affairs is within the Office of Public Health and Science.', 'The Office of Population Affairs serves as the focal point to advise the Secretary of Health and the Assistant Secretary for Health.', 'The Office of Population Affairs advises on a wide range of reproductive health topics.', 'The reproductive health topics include adolescent pregnancy, family planning, and sterilization.', 'The Office of Population Affairs also addresses other population issues.', 'The Office of Population Affairs was created by an Act of Congress in 1970.', 'The Act of Congress is known as Public Law 91-572.', 'The Public Law 91-572 was enacted on December 24, 1970.', 'The Office of Population Affairs operates under the direction of the Deputy Assistant Secretary of Population Affairs.', 'The Office of Population Affairs has three component offices.', 'The three component offices are the Office of Family Planning, the Office of Adolescent Pregnancy Programs, and the Office of Research and Evaluation.', 'The three component offices are responsible for the oversight of program functions.', 'Roger Olaf Egeberg, M.D. was born on 13 November 1902.', 'Roger Olaf Egeberg, M.D. died on 13 September 1997.', 'Roger Olaf Egeberg, M.D. was from Washington, D.C.', 'Roger Olaf Egeberg, M.D. was an American medical educator.', 'Roger Olaf Egeberg, M.D. was an administrator.', 'Roger Olaf Egeberg, M.D. was an advocate of public health.', \"Roger Olaf Egeberg, M.D. was General Douglas MacArthur's personal physician during World War II.\", 'Roger Olaf Egeberg, M.D. served in the Pacific theater during World War II.', 'Roger Olaf Egeberg, M.D. held the role of Assistant Secretary for Health and Scientific Affairs in the Department of Health, Education, and Welfare during the Nixon administration.', 'The Department of Health, Education, and Welfare is now known as the United States Department of Health and Human Services.', \"Roger Olaf Egeberg, M.D. was the Dean of the University of Southern California's medical school.\", 'Rear Admiral Edward Dana Martin is the former Acting Assistant Secretary of Defense (Health Affairs).', 'Edward Dana Martin was appointed to two terms as Acting Assistant Secretary of Defense (Health Affairs).', 'Edward Dana Martin was originally appointed in 1993.', 'Edward Dana Martin was appointed once again in 1997.', \"Edward Dana Martin served as the Secretary's principal advisor on matters related to the military health system.\", 'The military health system is represented by the website health.mil.', \"The mission of the Military Health System (MHS) is to provide optimal Health Services in support of the United States' military mission.\", 'The Military Health System (MHS) is a unique partnership of medical educators, medical researchers, and healthcare providers.', 'The Military Health System (MHS) includes support personnel worldwide.', 'The Department of Defense (DoD) enterprise consists of the Office of the Assistant Secretary of Defense (Health Affairs).', 'The Department of Defense (DoD) enterprise includes the medical departments of the Army.', 'The Department of Defense (DoD) enterprise includes the medical departments of the Navy.', 'The Department of Defense (DoD) enterprise includes the medical departments of the Marine Corps.', 'The Department of Defense (DoD) enterprise includes the medical departments of the Air Force.', 'The Department of Defense (DoD) enterprise includes the medical departments of the Coast Guard.', 'The Department of Defense (DoD) enterprise includes the Joint Chiefs of Staff.', 'The Department of Defense (DoD) enterprise includes the Combatant Command surgeons.', 'The Department of Defense (DoD) enterprise includes TRICARE providers.', 'TRICARE providers include private sector healthcare providers.', 'TRICARE providers include hospitals.', 'TRICARE providers include pharmacies.', 'Asgard is a 51 ft gaff rigged yacht.', 'Asgard was owned by Erskine Childers.', 'Erskine Childers was an English-born writer.', 'Erskine Childers was an Irish nationalist.', 'Asgard was owned by Molly Childers.', 'Asgard is most noted for her use in the Howth gun-running of 1914.', 'Henry Roth was an American novelist.', 'Henry Roth was a short story writer.', 'Henry Roth was born on February 8, 1906.', 'Henry Roth died on October 13, 1995.', 'The R509 road is a regional road in Ireland.', 'The R509 road follows part of the Childers Road.', 'The Childers Road is named after Erskine Childers.', 'The R509 road runs through the southeastern side of Limerick City.', 'The R509 road forms what is somewhat akin to an inner ring road.', 'The inner ring road is mostly two-lane only.', 'Mary Alden Osgood Childers was an American-born Irish writer.', 'Mary Alden Osgood Childers was an Irish nationalist.', 'Mary Alden Osgood Childers was born on 14 December 1875.', 'Mary Alden Osgood Childers died on 1 January 1964.', 'Mary Alden Osgood Childers was the daughter of Dr Hamilton Osgood.', 'Dr Hamilton Osgood was the father of Mary Alden Osgood Childers.', 'Mary Alden Osgood Childers was the daughter of Margaret Cushing Osgood.', 'Margaret Cushing Osgood was the mother of Mary Alden Osgood Childers.', 'Mary Alden Osgood Childers was from Beacon Hill, Boston, Massachusetts.', 'Gretchen Osgood Warren was the older sister of Mary Alden Osgood Childers.', 'Molly married Robert Erskine Childers.', 'Robert Erskine Childers was a writer.', 'Robert Erskine Childers was an Irish nationalist.', 'Erskine Hamilton Childers was the son of Mary Alden Osgood Childers and Robert Erskine Childers.', 'Erskine Hamilton Childers became the fourth President of Ireland.', 'Gretchen Osgood Warren was born on 19 March 1868.', 'Gretchen Osgood Warren died in September 1961.', 'Gretchen Osgood Warren was the wife of Fiske Warren.', 'Gretchen Osgood Warren was an actress.', 'Gretchen Osgood Warren was a singer.', 'Gretchen Osgood Warren was a poet.', 'Dr. Hamilton Osgood was the father of Gretchen Osgood Warren.', 'Margaret Cushing Osgood was the mother of Gretchen Osgood Warren.', 'Dr. Hamilton Osgood and Margaret Cushing Osgood lived in Beacon Hill, Boston, Massachusetts.', 'Mary Alden Childers was the younger sister of Gretchen Osgood Warren.', 'Mary Alden Childers was the wife of writer and Irish nationalist Robert Erskine Childers.', 'Erskine Hamilton Childers was the nephew of Gretchen Osgood Warren.', 'Erskine Hamilton Childers served as the fourth President of Ireland from 1973 to 1974.', 'Robert Caesar Childers was a British Orientalist scholar.', 'Robert Caesar Childers was born in 1838.', 'Robert Caesar Childers died on 25 July 1876.', 'Robert Caesar Childers was the compiler of the first Pāli-English dictionary.', 'Robert Caesar Childers was the husband of Anna Barton.', 'Anna Barton was from Ireland.', 'Robert Caesar Childers was the father of Robert Erskine Childers.', 'Robert Erskine Childers was an Irish nationalist.', 'Robert Caesar Childers was the grandfather of Erskine Hamilton Childers.', 'Erskine Hamilton Childers was the fourth President of Ireland.', 'Robert Erskine Childers was born on 25 June 1870.', 'Robert Erskine Childers died on 24 November 1922.', 'Robert Erskine Childers was universally known as Erskine Childers.', 'Erskine Childers was a British writer.', \"Erskine Childers wrote the influential novel 'The Riddle of the Sands'.\", 'Erskine Childers was a Fenian revolutionary.', \"Erskine Childers smuggled guns to Ireland in his sailing yacht 'Asgard'.\", 'Erskine Childers was executed by the authorities of the nascent Irish Free State during the Irish Civil War.', 'Robert Erskine Childers was the son of British Orientalist scholar Robert Caesar Childers.', 'Robert Erskine Childers was the cousin of Hugh Childers.', 'Robert Erskine Childers was the cousin of Robert Barton.', 'Robert Erskine Childers was the father of the fourth President of Ireland, Erskine Hamilton Childers.', 'The Irish Bulletin was the official gazette of the government of the Irish Republic.', 'The Irish Bulletin was produced by the Department of Propaganda during the Irish War of Independence.', 'The offices of the Irish Bulletin were originally located at No. 6 Harcourt Street, Dublin.', 'Desmond FitzGerald was the first editor of the Irish Bulletin.', 'Desmond FitzGerald was arrested and replaced by Robert Erskine Childers.', 'The Bulletin appeared in weekly editions from 11 November 1919 to 11 July 1921.', 'Erskine Barton Childers was an Irish writer.', 'Erskine Barton Childers was a BBC correspondent.', 'Erskine Barton Childers was a United Nations senior civil servant.', 'Erskine Barton Childers was born on 11 March 1929.', 'Erskine Barton Childers died on 25 August 1996.', 'Erskine Barton Childers was the eldest son of Erskine Hamilton Childers.', \"Erskine Hamilton Childers was Ireland's fourth President.\", 'Erskine Barton Childers was the son of Ruth Ellen Dow Childers.', 'Mary Alden Childers was the grandmother of Erskine Barton Childers.', 'Robert Erskine Childers was the grandfather of Erskine Barton Childers.', 'Robert Barton was the double first cousin of Robert Erskine Childers.', 'Mary Alden Childers, Robert Erskine Childers, and Robert Barton were all Irish nationalists.', 'Mary Alden Childers, Robert Erskine Childers, and Robert Barton were involved heavily with the negotiation of Irish independence.', 'The negotiation of Irish independence ultimately led to the execution of Robert Erskine Childers during the Irish Civil War.', 'Gretchen Osgood Warren was the great aunt of Erskine Barton Childers.', 'Robert Childers Barton was an Irish nationalist.', 'Robert Childers Barton was a politician.', 'Robert Childers Barton was a farmer.', 'Robert Childers Barton participated in the negotiations leading up to the signature of the Anglo-Irish Treaty.', 'Charles William Barton was the father of Robert Childers Barton.', 'Agnes Childers was the mother of Robert Childers Barton.', 'Rachel Warren was the wife of Robert Childers Barton.', 'Rachel Warren was from Boston.', 'Fiske Warren was the father of Rachel Warren.', 'Robert Erskine Childers was the double first cousin of Robert Childers Barton.', 'Robert Erskine Childers was a close friend of Robert Childers Barton.', 'The 2009 Singapore Grand Prix was formally known as the 2009 Formula 1 SingTel Singapore Grand Prix.', 'The 2009 Singapore Grand Prix was a Formula One motor race.', 'The 2009 Singapore Grand Prix was held at the Marina Bay Street Circuit in Singapore.', 'The 2009 Singapore Grand Prix took place on 27 September 2009.', 'The 61-lap race was the fourteenth round of the 2009 Formula One season.', 'The 2009 Singapore Grand Prix was the second Singapore Grand Prix to be part of a Formula One Championship.', 'The 2009 Singapore Grand Prix was the tenth Singapore Grand Prix overall.', 'The 2009 Singapore Grand Prix was the second Formula One race to be held at night.', 'The race was won by Lewis Hamilton.', 'Lewis Hamilton was a McLaren-Mercedes driver.', 'Lewis Hamilton was the reigning World Champion.', 'Timo Glock finished second in the race.', 'Timo Glock was a driver for Toyota.', 'Fernando Alonso took third position in the race.', 'Fernando Alonso was the 2008 race winner.', 'This race was the only race of the season with neither a Brawn nor a Red Bull driver on the podium.', 'This was the last race of 2009 for Timo Glock.', 'Timo Glock was injured during qualifying for the Japanese Grand Prix.', 'Timo Glock was replaced by test driver Kamui Kobayashi.', 'Heikki Kovalainen scored his last ever World Championship points at the 2009 Singapore Grand Prix.', 'Catharina Felser was born on October 2, 1982.', 'Catharina Felser is a German race car driver.', 'Catharina Felser was born in Siegburg, North Rhine-Westphalia.', 'Catharina Felser started her career in karting during 1997.', 'Catharina Felser moved up to Austrian Formula Ford in 2000.', \"Catharina Felser's performances in Austrian Formula Ford resulted in one race in German Formula Ford in 2000.\", 'In 2001, Catharina Felser competed in German Formula BMW.', 'Michael James Lewis is an American race car driver.', 'Michael James Lewis was born on December 24, 1990.', 'Michael James Lewis was born in Laguna Beach, California.', \"Michael James Lewis's parents are Steve Lewis and Loretta Lewis.\", 'Steve Lewis is the owner of the famed Nine Racing Midget Team.', 'Steve Lewis is a former owner of Performance Racing Industry.', 'Michael James Lewis is a young, up-and-coming race car driver.', 'Michael James Lewis has competed in a diverse number of racing vehicles.', 'The diverse number of racing vehicles includes Formula 3.', 'The diverse number of racing vehicles includes Formula BMW.', 'The diverse number of racing vehicles includes Ford Focus Midgets.', 'The diverse number of racing vehicles includes Touring Cars.', 'The diverse number of racing vehicles includes Late Model Stock Cars.', 'The diverse number of racing vehicles includes Quarter Midgets.', 'The diverse number of racing vehicles includes Go-Karts.', 'Michael James Lewis officially tested a Formula One car for Scuderia Ferrari F1.', 'Michael James Lewis tested the Formula One car in the F60 chassis.', 'Michael James Lewis tested the Formula One car on November 15, 2011.', \"Michael James Lewis's testing of the Formula One car was a result of his accomplishments in Formula 3 Italia.\", \"Michael James Lewis's passion for racing is paramount.\", 'Michael James Lewis enjoys every aspect of his racing career.', 'Michael James Lewis is a native of Laguna Beach, California.', 'Michael James Lewis is known for his professionalism.', 'Michael James Lewis is known for his work ethic.', 'Michael James Lewis lives every day for motorsport.', 'Sergio Pérez Mendoza was born on 26 January 1990.', \"Sergio Pérez Mendoza is also known as 'Checo' Pérez.\", 'Sergio Pérez Mendoza is a Mexican racing driver.', 'Sergio Pérez Mendoza is currently driving for Force India.', 'Eduardo Troconis is a Mexican race car driver.', 'Eduardo Troconis was born in Veracruz, Veracruz.', 'Eduardo Troconis is a two-time Mexican Formula Three International champion.', 'Eduardo Troconis is a Rookie of the Year Award winner in the Indy Lights de las Americas.', 'Eduardo Troconis is a Rookie of the Year Award winner in the Formula Vee Series.', 'Eduardo Troconis has competed in the NASCAR Toyota Series.', 'Eduardo Troconis has competed in the Desafío Corona Series.', 'Mike Shank was born on September 22, 1966.', 'Mike Shank is an American race car team owner.', 'Mike Shank is a former race car driver.', 'Mike Shank was born in Columbus, Ohio.', 'Mike Shank ran one race in the 1996–97 Indy Racing League season.', 'The race that Mike Shank ran was the 1997 Las Vegas 500K.', 'The 1997 Las Vegas 500K took place at Las Vegas Motor Speedway.', 'Mike Shank started racing in 1989.', \"Mike Shank won the SCCA Ohio Valley Region's Novice Driver of the Year award.\", 'Mike Shank won the 1996 Player’s/Toyota Atlantic C2 championship.', 'The Force India VJM04 is a Formula One racing car.', 'The Force India VJM04 was developed by Force India.', 'The Force India VJM04 was developed for the 2011 Formula One season.', 'The Force India VJM04 is the fourth car that Force India has made since entering the sport in 2008.', 'Adrian Sutil is a long-time Force India driver.', 'Paul di Resta is the 2010 Deutsche Tourenwagen Masters champion.', 'The Force India VJM04 was driven by Adrian Sutil.', 'The Force India VJM04 was driven by Paul di Resta.', 'The Force India VJM04 was launched online on 8 February 2011.', 'Tony Ave was born on November 10, 1968.', 'Tony Ave is a championship race car driver.', 'Tony Ave was born in Hurley, Wisconsin, U.S.', 'Tony Ave competed in the Grand-Am Series from 2000 until 2002.', 'Tony Ave competed in Formula Atlantic from 1996 until 2001.', 'Tony Ave competed in the Trans-Am in 2002.', 'Tony Ave made three Indy Lights starts in 1993.', 'Tony Ave made one Indy Pro Series start in 2003.', 'In 2004, Tony Ave raced one race in the NASCAR Nextel Cup Series at Watkins Glen.', 'Tony Ave finished 31st in the NASCAR Nextel Cup Series race at Watkins Glen.', 'There have been six Formula One drivers from Mexico who have taken part in races since the championship began in 1950.', 'Pedro Rodríguez is the most successful Mexican driver.', 'Pedro Rodríguez is the only Mexican driver to have won a grand prix.', 'Sergio Pérez is the only other Mexican driver to finish on the podium.', 'Sergio Pérez currently races with Sahara Force India F1 Team.', 'The 2014 Bahrain Grand Prix was formally known as the 2014 Formula 1 Gulf Air Bahrain Grand Prix.', 'The 2014 Bahrain Grand Prix was a Formula One motor race.', 'The 2014 Bahrain Grand Prix was held on 6 April at the Bahrain International Circuit in Sakhir, Bahrain.', 'The 2014 Bahrain Grand Prix was the third round of the 2014 Formula One season.', 'The 2014 Bahrain Grand Prix was the 900th Formula One World Championship event.', 'The 2014 Bahrain Grand Prix was the eleventh running of the race.', 'The 57-lap race was won by Lewis Hamilton.', 'Lewis Hamilton was a driver for Mercedes.', 'Lewis Hamilton started the race from second position.', \"Nico Rosberg was Lewis Hamilton's teammate.\", 'Nico Rosberg finished second in the race.', 'Sergio Pérez was a driver for Force India.', 'Sergio Pérez came in third in the race.', \"The victory at the 2014 Bahrain Grand Prix was Lewis Hamilton's second victory of the season.\", \"The victory at the 2014 Bahrain Grand Prix was Lewis Hamilton's first victory in Bahrain.\", \"The victory at the 2014 Bahrain Grand Prix was the 24th victory of Lewis Hamilton's Formula One career.\"]\n"
     ]
    }
   ],
   "source": [
    "# Open the file in read mode\n",
    "with open('propositions.txt', 'r') as file:\n",
    "    # Read all lines and store them in a list\n",
    "    propositions_from_file = [line.strip() for line in file]\n",
    "\n",
    "print(propositions_from_file)"
   ]
  },
  {
   "cell_type": "code",
   "execution_count": 9,
   "metadata": {},
   "outputs": [
    {
     "name": "stderr",
     "output_type": "stream",
     "text": [
      "100%|██████████| 1192/1192 [52:34<00:00,  2.65s/it] \n"
     ]
    }
   ],
   "source": [
    "list_of_edges = generateEdges(propositions_from_file)"
   ]
  },
  {
   "cell_type": "code",
   "execution_count": 10,
   "metadata": {},
   "outputs": [
    {
     "name": "stdout",
     "output_type": "stream",
     "text": [
      "Success\n"
     ]
    }
   ],
   "source": [
    "if createGraph(list_of_edges):\n",
    "    print(\"Success\")\n",
    "else:\n",
    "    print(\"Failed\")"
   ]
  },
  {
   "cell_type": "code",
   "execution_count": null,
   "metadata": {},
   "outputs": [],
   "source": [
    "qg = QueryGraph()\n",
    "\n",
    "if refine(qg, \"person\"):\n",
    "    print(\"yes\")\n",
    "else:\n",
    "    print(\"no\")"
   ]
  },
  {
   "cell_type": "markdown",
   "metadata": {},
   "source": [
    "### Q and A section"
   ]
  },
  {
   "cell_type": "code",
   "execution_count": null,
   "metadata": {},
   "outputs": [],
   "source": [
    "# def find_supporting_facts(question, answer, context):\n",
    "#     supporting_facts = []\n",
    "#     for passage in context:\n",
    "#         title, sentences = passage\n",
    "#         for i, sentence in enumerate(sentences):\n",
    "#             if answer in sentence or any(word in sentence for word in question.split()):\n",
    "#                 supporting_facts.append([title, i])\n",
    "#     return supporting_facts"
   ]
  },
  {
   "cell_type": "code",
   "execution_count": 12,
   "metadata": {},
   "outputs": [],
   "source": [
    "qg = QueryGraph()\n",
    "my_dict = {}\n",
    "\n",
    "# Define a function to apply to each row\n",
    "def print_qa(row):\n",
    "    \n",
    "    question = row['question']\n",
    "    questionid = row['_id']\n",
    "    req = qg.get_requirements(question)\n",
    "    result = qg.answer_question(question, req.content)\n",
    "\n",
    "    if result is not None:\n",
    "    \n",
    "        model_answer = result['result']\n",
    "\n",
    "        if \"don't know the answer\" in model_answer:\n",
    "            model_answer = \"\"\n",
    "    \n",
    "        if len(row['answer']) > 0:\n",
    "            real_answer = row['answer']\n",
    "        else:\n",
    "            real_answer = \"\\\"\\\"\"\n",
    "\n",
    "        if len(result['intermediate_steps']) > 0:\n",
    "            cypher_query = result['intermediate_steps'][0]['query']\n",
    "            context = result['intermediate_steps'][1]['context']\n",
    "       \n",
    "            if(len(context) < 1):\n",
    "            #     result = refine_query(cypher_query[6:], question)\n",
    "            #     model_answer = result['result'] \n",
    "                model_answer = \"\\\"\\\"\"\n",
    "                my_dict.update({questionid: \"\"})\n",
    "            else:\n",
    "                my_dict.update({questionid: model_answer})\n",
    "                \n",
    "        with open(\"preds.txt\", \"a\") as preds:\n",
    "            preds.write(\"question: \" + question + \"\\n\")\n",
    "            preds.write(\"real_answer: \" + real_answer + \"\\n\")\n",
    "            preds.write(\"model_answer: \" + model_answer + \"\\n\")  \n",
    "            preds.write(\"cypher_query: \" + cypher_query + \"\\n\")\n",
    "            preds.write(\"======================\" + \"\\n\")  \n",
    "        preds.close()\n",
    "\n",
    "    else: \n",
    "        my_dict.update({questionid: \"\"})\n",
    "        "
   ]
  },
  {
   "cell_type": "code",
   "execution_count": 13,
   "metadata": {},
   "outputs": [
    {
     "name": "stderr",
     "output_type": "stream",
     "text": [
      "  0%|          | 0/10 [00:00<?, ?it/s]"
     ]
    },
    {
     "name": "stdout",
     "output_type": "stream",
     "text": [
      "\n",
      "\n",
      "\u001b[1m> Entering new GraphCypherQAChain chain...\u001b[0m\n",
      "Generated Cypher:\n",
      "\u001b[32;1m\u001b[1;3mMATCH (w)-[r1]-(x)-[r2]-(y)\n",
      "WHERE (\n",
      "    toLower(r1.metadata) =~ '.*\\\\b(evolution)\\\\b.*' OR\n",
      "    toLower(r1.description) =~ '.*\\\\b(evolution)\\\\b.*'\n",
      ")\n",
      "AND (\n",
      "    toLower(r2.metadata) =~ '.*\\\\b(nicolas cage|téa leoni)\\\\b.*' OR \n",
      "    toLower(r2.description) =~ '.*\\\\b(nicolas cage|téa leoni)\\\\b.*'\n",
      ")\n",
      "RETURN DISTINCT r1.metadata, r1.description, r2.metadata, r2.description\u001b[0m\n",
      "Full Context:\n",
      "\u001b[32;1m\u001b[1;3m[]\u001b[0m\n"
     ]
    },
    {
     "name": "stderr",
     "output_type": "stream",
     "text": [
      " 20%|██        | 2/10 [00:05<00:23,  3.00s/it]"
     ]
    },
    {
     "name": "stdout",
     "output_type": "stream",
     "text": [
      "\n",
      "\u001b[1m> Finished chain.\u001b[0m\n",
      "\n",
      "\n",
      "\u001b[1m> Entering new GraphCypherQAChain chain...\u001b[0m\n",
      "Generated Cypher:\n",
      "\u001b[32;1m\u001b[1;3mMATCH (w)-[r1]-(x)-[r2]-(y)\n",
      "WHERE (\n",
      "    toLower(r1.metadata) =~ '.*\\\\b(guns n roses)\\\\b.*' OR\n",
      "    toLower(r1.description) =~ '.*\\\\b(guns n roses)\\\\b.*'\n",
      ")\n",
      "AND (\n",
      "    toLower(r2.metadata) =~ '.*\\\\b(arnold schwarzenegger)\\\\b.*' OR \n",
      "    toLower(r2.description) =~ '.*\\\\b(arnold schwarzenegger)\\\\b.*'\n",
      ")\n",
      "AND (\n",
      "    toLower(r2.metadata) =~ '.*\\\\b(former new york police detective)\\\\b.*' OR \n",
      "    toLower(r2.description) =~ '.*\\\\b(former new york police detective)\\\\b.*'\n",
      ")\n",
      "RETURN DISTINCT r1.metadata, r1.description, r2.metadata, r2.description\u001b[0m\n",
      "Full Context:\n",
      "\u001b[32;1m\u001b[1;3m[]\u001b[0m\n"
     ]
    },
    {
     "name": "stderr",
     "output_type": "stream",
     "text": [
      " 30%|███       | 3/10 [00:20<00:54,  7.83s/it]"
     ]
    },
    {
     "name": "stdout",
     "output_type": "stream",
     "text": [
      "\n",
      "\u001b[1m> Finished chain.\u001b[0m\n",
      "\n",
      "\n",
      "\u001b[1m> Entering new GraphCypherQAChain chain...\u001b[0m\n",
      "Generated Cypher:\n",
      "\u001b[32;1m\u001b[1;3mcypher\n",
      "MATCH (w)-[r1]-(x)-[r2]-(y)\n",
      "WHERE (\n",
      "    toLower(r1.metadata) =~ '.*\\\\b(random house tower)\\\\b.*' OR\n",
      "    toLower(r1.description) =~ '.*\\\\b(random house tower)\\\\b.*'\n",
      ")\n",
      "AND (\n",
      "    toLower(r2.metadata) =~ '.*\\\\b(888 7th avenue)\\\\b.*' OR \n",
      "    toLower(r2.description) =~ '.*\\\\b(888 7th avenue)\\\\b.*'\n",
      ")\n",
      "AND (\n",
      "    toLower(r1.metadata) =~ '.*\\\\b(real estate)\\\\b.*' OR\n",
      "    toLower(r1.description) =~ '.*\\\\b(real estate)\\\\b.*'\n",
      ")\n",
      "AND (\n",
      "    toLower(r2.metadata) =~ '.*\\\\b(real estate)\\\\b.*' OR\n",
      "    toLower(r2.description) =~ '.*\\\\b(real estate)\\\\b.*'\n",
      ")\n",
      "RETURN DISTINCT r1.metadata, r1.description, r2.metadata, r2.description\n",
      "\u001b[0m\n",
      "Full Context:\n",
      "\u001b[32;1m\u001b[1;3m[]\u001b[0m\n"
     ]
    },
    {
     "name": "stderr",
     "output_type": "stream",
     "text": [
      " 40%|████      | 4/10 [00:30<00:51,  8.57s/it]"
     ]
    },
    {
     "name": "stdout",
     "output_type": "stream",
     "text": [
      "\n",
      "\u001b[1m> Finished chain.\u001b[0m\n",
      "\n",
      "\n",
      "\u001b[1m> Entering new GraphCypherQAChain chain...\u001b[0m\n",
      "Generated Cypher:\n",
      "\u001b[32;1m\u001b[1;3mMATCH (w)-[r1]-(x)-[r2]-(y)\n",
      "WHERE (\n",
      "    toLower(r1.metadata) =~ '.*\\\\b(david beckham)\\\\b.*' OR\n",
      "    toLower(r1.description) =~ '.*\\\\b(recruited)\\\\b.*'\n",
      ")\n",
      "AND (\n",
      "    toLower(r2.metadata) =~ '.*\\\\b(manchester united)\\\\b.*' OR \n",
      "    toLower(r2.description) =~ '.*\\\\b(managed)\\\\b.*'\n",
      ")\n",
      "RETURN DISTINCT r1.metadata, r1.description, r2.metadata, r2.description\u001b[0m\n",
      "Full Context:\n",
      "\u001b[32;1m\u001b[1;3m[{'r1.metadata': '{\"summary\": \"The goals for Manchester United were scored by David Beckham.\", \"generated_at\": \"2024-12-18 16:16:05.915016\"}', 'r1.description': 'David Beckham is associated with Manchester United as a player.', 'r2.metadata': '{\"summary\": \"The match was contested by Manchester United.\", \"generated_at\": \"2024-12-18 16:16:05.915016\"}', 'r2.description': 'The match was contested by Manchester United.'}, {'r1.metadata': '{\"summary\": \"The film details the careers of David Beckham, Nicky Butt, Ryan Giggs, Gary Neville, Phil Neville, and Paul Scholes for Manchester United.\", \"generated_at\": \"2024-12-18 16:16:05.915016\"}', 'r1.description': 'The film details the careers of the persons associated with Manchester United.', 'r2.metadata': '{\"summary\": \"The match was contested by Manchester United.\", \"generated_at\": \"2024-12-18 16:16:05.915016\"}', 'r2.description': 'The match was contested by Manchester United.'}, {'r1.metadata': '{\"summary\": \"The careers of David Beckham, Nicky Butt, Ryan Giggs, Gary Neville, Phil Neville, and Paul Scholes for Manchester United started in 1992.\", \"generated_at\": \"2024-12-18 16:16:05.915016\"}', 'r1.description': 'The event of careers starting is associated with Manchester United.', 'r2.metadata': '{\"summary\": \"The match was contested by Manchester United.\", \"generated_at\": \"2024-12-18 16:16:05.915016\"}', 'r2.description': 'The match was contested by Manchester United.'}, {'r1.metadata': '{\"summary\": \"The goals for Manchester United were scored by David Beckham.\", \"generated_at\": \"2024-12-18 16:16:05.915016\"}', 'r1.description': 'David Beckham is associated with Manchester United as a player.', 'r2.metadata': '{\"summary\": \"Manchester United had won the Double of Premier League and FA Cup in 1995\\\\u201396.\", \"generated_at\": \"2024-12-18 16:16:05.915016\"}', 'r2.description': 'Manchester United achieved the Double in the context of their performance.'}, {'r1.metadata': '{\"summary\": \"The film details the careers of David Beckham, Nicky Butt, Ryan Giggs, Gary Neville, Phil Neville, and Paul Scholes for Manchester United.\", \"generated_at\": \"2024-12-18 16:16:05.915016\"}', 'r1.description': 'The film details the careers of the persons associated with Manchester United.', 'r2.metadata': '{\"summary\": \"Manchester United had won the Double of Premier League and FA Cup in 1995\\\\u201396.\", \"generated_at\": \"2024-12-18 16:16:05.915016\"}', 'r2.description': 'Manchester United achieved the Double in the context of their performance.'}, {'r1.metadata': '{\"summary\": \"The careers of David Beckham, Nicky Butt, Ryan Giggs, Gary Neville, Phil Neville, and Paul Scholes for Manchester United started in 1992.\", \"generated_at\": \"2024-12-18 16:16:05.915016\"}', 'r1.description': 'The event of careers starting is associated with Manchester United.', 'r2.metadata': '{\"summary\": \"Manchester United had won the Double of Premier League and FA Cup in 1995\\\\u201396.\", \"generated_at\": \"2024-12-18 16:16:05.915016\"}', 'r2.description': 'Manchester United achieved the Double in the context of their performance.'}, {'r1.metadata': '{\"summary\": \"The goals for Manchester United were scored by David Beckham.\", \"generated_at\": \"2024-12-18 16:16:05.915016\"}', 'r1.description': 'David Beckham is associated with Manchester United as a player.', 'r2.metadata': '{\"summary\": \"Manchester United had won the Double of Premier League and FA Cup in 1995\\\\u201396.\", \"generated_at\": \"2024-12-18 16:16:05.915016\"}', 'r2.description': 'Manchester United participated in the Premier League.'}, {'r1.metadata': '{\"summary\": \"The film details the careers of David Beckham, Nicky Butt, Ryan Giggs, Gary Neville, Phil Neville, and Paul Scholes for Manchester United.\", \"generated_at\": \"2024-12-18 16:16:05.915016\"}', 'r1.description': 'The film details the careers of the persons associated with Manchester United.', 'r2.metadata': '{\"summary\": \"Manchester United had won the Double of Premier League and FA Cup in 1995\\\\u201396.\", \"generated_at\": \"2024-12-18 16:16:05.915016\"}', 'r2.description': 'Manchester United participated in the Premier League.'}, {'r1.metadata': '{\"summary\": \"The careers of David Beckham, Nicky Butt, Ryan Giggs, Gary Neville, Phil Neville, and Paul Scholes for Manchester United started in 1992.\", \"generated_at\": \"2024-12-18 16:16:05.915016\"}', 'r1.description': 'The event of careers starting is associated with Manchester United.', 'r2.metadata': '{\"summary\": \"Manchester United had won the Double of Premier League and FA Cup in 1995\\\\u201396.\", \"generated_at\": \"2024-12-18 16:16:05.915016\"}', 'r2.description': 'Manchester United participated in the Premier League.'}, {'r1.metadata': '{\"summary\": \"The goals for Manchester United were scored by David Beckham.\", \"generated_at\": \"2024-12-18 16:16:05.915016\"}', 'r1.description': 'David Beckham is associated with Manchester United as a player.', 'r2.metadata': '{\"summary\": \"Manchester United had won the Double of Premier League and FA Cup in 1995\\\\u201396.\", \"generated_at\": \"2024-12-18 16:16:05.915016\"}', 'r2.description': 'Manchester United participated in the FA Cup.'}]\u001b[0m\n"
     ]
    },
    {
     "name": "stderr",
     "output_type": "stream",
     "text": [
      " 50%|█████     | 5/10 [00:35<00:37,  7.52s/it]"
     ]
    },
    {
     "name": "stdout",
     "output_type": "stream",
     "text": [
      "\n",
      "\u001b[1m> Finished chain.\u001b[0m\n",
      "\n",
      "\n",
      "\u001b[1m> Entering new GraphCypherQAChain chain...\u001b[0m\n",
      "Generated Cypher:\n",
      "\u001b[32;1m\u001b[1;3mMATCH (w)-[r1]-(x)-[r2]-(y)\n",
      "WHERE (\n",
      "    toLower(r1.metadata) =~ '.*\\\\b(brown state fishing lake)\\\\b.*' OR\n",
      "    toLower(r1.description) =~ '.*\\\\b(brown state fishing lake)\\\\b.*'\n",
      ")\n",
      "AND (\n",
      "    toLower(r2.metadata) =~ '.*\\\\b(country)\\\\b.*' OR \n",
      "    toLower(r2.description) =~ '.*\\\\b(country)\\\\b.*'\n",
      ")\n",
      "RETURN DISTINCT r1.metadata, r1.description, r2.metadata, r2.description\u001b[0m\n",
      "Full Context:\n",
      "\u001b[32;1m\u001b[1;3m[]\u001b[0m\n"
     ]
    },
    {
     "name": "stderr",
     "output_type": "stream",
     "text": [
      " 60%|██████    | 6/10 [00:42<00:28,  7.19s/it]"
     ]
    },
    {
     "name": "stdout",
     "output_type": "stream",
     "text": [
      "\n",
      "\u001b[1m> Finished chain.\u001b[0m\n",
      "\n",
      "\n",
      "\u001b[1m> Entering new GraphCypherQAChain chain...\u001b[0m\n",
      "Generated Cypher:\n",
      "\u001b[32;1m\u001b[1;3mMATCH (w)-[r1]-(x)-[r2]-(y)\n",
      "WHERE (\n",
      "    toLower(r1.metadata) =~ '.*\\\\b(vermont catamounts)\\\\b.*' OR\n",
      "    toLower(r1.description) =~ '.*\\\\b(vermont catamounts)\\\\b.*'\n",
      ")\n",
      "AND (\n",
      "    toLower(r2.metadata) =~ '.*\\\\b(current conference|conference)\\\\b.*' OR \n",
      "    toLower(r2.description) =~ '.*\\\\b(current conference|conference)\\\\b.*'\n",
      ")\n",
      "AND (\n",
      "    toLower(r2.metadata) =~ '.*\\\\b(1988|1996)\\\\b.*' OR \n",
      "    toLower(r2.description) =~ '.*\\\\b(1988|1996)\\\\b.*'\n",
      ")\n",
      "RETURN DISTINCT r1.metadata, r1.description, r2.metadata, r2.description\u001b[0m\n",
      "Full Context:\n",
      "\u001b[32;1m\u001b[1;3m[]\u001b[0m\n"
     ]
    },
    {
     "name": "stderr",
     "output_type": "stream",
     "text": [
      " 70%|███████   | 7/10 [00:50<00:22,  7.56s/it]"
     ]
    },
    {
     "name": "stdout",
     "output_type": "stream",
     "text": [
      "\n",
      "\u001b[1m> Finished chain.\u001b[0m\n",
      "\n",
      "\n",
      "\u001b[1m> Entering new GraphCypherQAChain chain...\u001b[0m\n",
      "Generated Cypher:\n",
      "\u001b[32;1m\u001b[1;3mMATCH (w)-[r1]-(x)-[r2]-(y)\n",
      "WHERE (\n",
      "    toLower(r1.metadata) =~ '.*\\\\b(giuseppe verdi)\\\\b.*' OR\n",
      "    toLower(r1.description) =~ '.*\\\\b(giuseppe verdi)\\\\b.*'\n",
      ")\n",
      "AND (\n",
      "    toLower(r2.metadata) =~ '.*\\\\b(ambroise thomas)\\\\b.*' OR \n",
      "    toLower(r2.description) =~ '.*\\\\b(ambroise thomas)\\\\b.*'\n",
      ")\n",
      "AND (\n",
      "    toLower(r1.metadata) =~ '.*\\\\b(opera composer)\\\\b.*' OR\n",
      "    toLower(r1.description) =~ '.*\\\\b(opera composer)\\\\b.*'\n",
      ")\n",
      "AND (\n",
      "    toLower(r2.metadata) =~ '.*\\\\b(opera composer)\\\\b.*' OR\n",
      "    toLower(r2.description) =~ '.*\\\\b(opera composer)\\\\b.*'\n",
      ")\n",
      "RETURN DISTINCT r1.metadata, r1.description, r2.metadata, r2.description\u001b[0m\n",
      "Full Context:\n",
      "\u001b[32;1m\u001b[1;3m[]\u001b[0m\n"
     ]
    },
    {
     "name": "stderr",
     "output_type": "stream",
     "text": [
      " 80%|████████  | 8/10 [00:57<00:14,  7.31s/it]"
     ]
    },
    {
     "name": "stdout",
     "output_type": "stream",
     "text": [
      "\n",
      "\u001b[1m> Finished chain.\u001b[0m\n",
      "\n",
      "\n",
      "\u001b[1m> Entering new GraphCypherQAChain chain...\u001b[0m\n",
      "Generated Cypher:\n",
      "\u001b[32;1m\u001b[1;3mMATCH (w)-[r1]-(x)-[r2]-(y)\n",
      "WHERE (\n",
      "    toLower(r1.metadata) =~ '.*\\\\b(roger o. egeberg)\\\\b.*' OR\n",
      "    toLower(r1.description) =~ '.*\\\\b(assistant secretary for health and scientific affairs)\\\\b.*'\n",
      ")\n",
      "AND (\n",
      "    toLower(r2.metadata) =~ '.*\\\\b(president)\\\\b.*' OR \n",
      "    toLower(r2.description) =~ '.*\\\\b(president)\\\\b.*'\n",
      ")\n",
      "RETURN DISTINCT r1.metadata, r1.description, r2.metadata, r2.description\u001b[0m\n",
      "Full Context:\n",
      "\u001b[32;1m\u001b[1;3m[]\u001b[0m\n"
     ]
    },
    {
     "name": "stderr",
     "output_type": "stream",
     "text": [
      " 90%|█████████ | 9/10 [01:03<00:06,  6.96s/it]"
     ]
    },
    {
     "name": "stdout",
     "output_type": "stream",
     "text": [
      "\n",
      "\u001b[1m> Finished chain.\u001b[0m\n",
      "\n",
      "\n",
      "\u001b[1m> Entering new GraphCypherQAChain chain...\u001b[0m\n",
      "Generated Cypher:\n",
      "\u001b[32;1m\u001b[1;3mMATCH (w)-[r1]-(x)-[r2]-(y)\n",
      "WHERE (\n",
      "    toLower(r1.metadata) =~ '.*\\\\b(henry roth)\\\\b.*' OR\n",
      "    toLower(r1.description) =~ '.*\\\\b(henry roth)\\\\b.*'\n",
      ")\n",
      "AND (\n",
      "    toLower(r2.metadata) =~ '.*\\\\b(robert erskine childers)\\\\b.*' OR \n",
      "    toLower(r2.description) =~ '.*\\\\b(robert erskine childers)\\\\b.*'\n",
      ")\n",
      "AND (\n",
      "    toLower(r1.metadata) =~ '.*\\\\b(england)\\\\b.*' OR\n",
      "    toLower(r1.description) =~ '.*\\\\b(england)\\\\b.*'\n",
      ")\n",
      "RETURN DISTINCT r1.metadata, r1.description, r2.metadata, r2.description\u001b[0m\n",
      "Full Context:\n",
      "\u001b[32;1m\u001b[1;3m[]\u001b[0m\n"
     ]
    },
    {
     "name": "stderr",
     "output_type": "stream",
     "text": [
      "100%|██████████| 10/10 [01:10<00:00,  6.80s/it]"
     ]
    },
    {
     "name": "stdout",
     "output_type": "stream",
     "text": [
      "\n",
      "\u001b[1m> Finished chain.\u001b[0m\n",
      "\n",
      "\n",
      "\u001b[1m> Entering new GraphCypherQAChain chain...\u001b[0m\n",
      "Generated Cypher:\n",
      "\u001b[32;1m\u001b[1;3mMATCH (w)-[r1]-(x)-[r2]-(y)\n",
      "WHERE (\n",
      "    toLower(r1.metadata) =~ '.*\\\\b(force india\\\\s+driver\\\\s+born\\\\s+in\\\\s+1990)\\\\b.*' OR\n",
      "    toLower(r1.description) =~ '.*\\\\b(force india\\\\s+driver\\\\s+born\\\\s+in\\\\s+1990)\\\\b.*'\n",
      ")\n",
      "AND (\n",
      "    toLower(r2.metadata) =~ '.*\\\\b(mexican\\\\s+formula\\\\s+one\\\\s+driver\\\\s+podium)\\\\b.*' OR \n",
      "    toLower(r2.description) =~ '.*\\\\b(mexican\\\\s+formula\\\\s+one\\\\s+driver\\\\s+podium)\\\\b.*'\n",
      ")\n",
      "RETURN DISTINCT r1.metadata, r1.description, r2.metadata, r2.description\u001b[0m\n",
      "Full Context:\n",
      "\u001b[32;1m\u001b[1;3m[]\u001b[0m\n"
     ]
    },
    {
     "name": "stderr",
     "output_type": "stream",
     "text": [
      "100%|██████████| 10/10 [01:21<00:00,  8.12s/it]"
     ]
    },
    {
     "name": "stdout",
     "output_type": "stream",
     "text": [
      "\n",
      "\u001b[1m> Finished chain.\u001b[0m\n"
     ]
    },
    {
     "name": "stderr",
     "output_type": "stream",
     "text": [
      "\n"
     ]
    }
   ],
   "source": [
    "my_dict = {}\n",
    "# Apply the function to each row\n",
    "df[11:21].progress_apply(print_qa, axis=1)\n",
    "    \n",
    "with open(\"dev_fullwiki_pred.json\", \"a\") as json_file:\n",
    "    json.dump(my_dict, json_file, indent=4)"
   ]
  },
  {
   "cell_type": "code",
   "execution_count": 12,
   "metadata": {},
   "outputs": [
    {
     "name": "stdout",
     "output_type": "stream",
     "text": [
      "question: Which other Mexican Formula One race car driver has held the podium besides the Force India driver born in 1990?\n",
      "answer: Pedro Rodríguez\n",
      "\n",
      "\n",
      "\u001b[1m> Entering new GraphCypherQAChain chain...\u001b[0m\n",
      "Generated Cypher:\n",
      "\u001b[32;1m\u001b[1;3mMATCH (w)-[r1]-(x)-[r2]-(y)\n",
      "WHERE (\n",
      "    toLower(r1.metadata) =~ '.*\\\\b(force india\\\\s*driver\\\\s*born\\\\s*in\\\\s*1990)\\\\b.*' OR\n",
      "    toLower(r1.description) =~ '.*\\\\b(force india\\\\s*driver\\\\s*born\\\\s*in\\\\s*1990)\\\\b.*'\n",
      ")\n",
      "AND (\n",
      "    toLower(r2.metadata) =~ '.*\\\\b(mexican\\\\s*formula\\\\s*one\\\\s*driver\\\\s*podium)\\\\b.*' OR \n",
      "    toLower(r2.description) =~ '.*\\\\b(mexican\\\\s*formula\\\\s*one\\\\s*driver\\\\s*podium)\\\\b.*'\n",
      ")\n",
      "RETURN DISTINCT r2.metadata, r2.description\u001b[0m\n",
      "Full Context:\n",
      "\u001b[32;1m\u001b[1;3m[]\u001b[0m\n",
      "\n",
      "\u001b[1m> Finished chain.\u001b[0m\n"
     ]
    },
    {
     "data": {
      "text/plain": [
       "{'query': 'Which other Mexican Formula One race car driver has held the podium besides the Force India driver born in 1990?',\n",
       " 'requirements': '1. Key components of the question:\\n   - Identification of a Mexican Formula One race car driver.\\n   - Reference to a specific driver born in 1990 who drove for Force India.\\n   - Inquiry about other drivers who have held a podium position.\\n\\n2. Requirements needed to answer the question:\\n   - Name of the Force India driver born in 1990.\\n   - List of Mexican Formula One drivers who have held a podium position.\\n   - Information on podium finishes of Mexican drivers in Formula One.\\n\\n3. Additional context or data needed:\\n   - Historical data on Formula One podium finishes by Mexican drivers.',\n",
       " 'result': \"I don't know the answer.\",\n",
       " 'intermediate_steps': [{'query': \"MATCH (w)-[r1]-(x)-[r2]-(y)\\nWHERE (\\n    toLower(r1.metadata) =~ '.*\\\\\\\\b(force india\\\\\\\\s*driver\\\\\\\\s*born\\\\\\\\s*in\\\\\\\\s*1990)\\\\\\\\b.*' OR\\n    toLower(r1.description) =~ '.*\\\\\\\\b(force india\\\\\\\\s*driver\\\\\\\\s*born\\\\\\\\s*in\\\\\\\\s*1990)\\\\\\\\b.*'\\n)\\nAND (\\n    toLower(r2.metadata) =~ '.*\\\\\\\\b(mexican\\\\\\\\s*formula\\\\\\\\s*one\\\\\\\\s*driver\\\\\\\\s*podium)\\\\\\\\b.*' OR \\n    toLower(r2.description) =~ '.*\\\\\\\\b(mexican\\\\\\\\s*formula\\\\\\\\s*one\\\\\\\\s*driver\\\\\\\\s*podium)\\\\\\\\b.*'\\n)\\nRETURN DISTINCT r2.metadata, r2.description\"},\n",
       "  {'context': []}]}"
      ]
     },
     "execution_count": 12,
     "metadata": {},
     "output_type": "execute_result"
    }
   ],
   "source": [
    "x = df.iloc[20]\n",
    "question = x['question']\n",
    "print(\"question:\", question)\n",
    "answer = x['answer']\n",
    "print(\"answer:\", answer)\n",
    "\n",
    "qg = QueryGraph()\n",
    "req = qg.get_requirements(question)\n",
    "res = qg.answer_question(question, req.content)\n",
    "res"
   ]
  },
  {
   "cell_type": "markdown",
   "metadata": {},
   "source": [
    "## Graph refinement "
   ]
  },
  {
   "cell_type": "code",
   "execution_count": null,
   "metadata": {},
   "outputs": [],
   "source": [
    "qg = QueryGraph()\n",
    "\n",
    "QUERY = \"\"\"\n",
    "MATCH (N) RETURN N\n",
    "\"\"\"\n",
    "res = qg._graph.query(QUERY)\n",
    "res"
   ]
  },
  {
   "cell_type": "code",
   "execution_count": null,
   "metadata": {},
   "outputs": [],
   "source": [
    "from langchain_community.vectorstores import Neo4jVector\n",
    "from langchain_openai import OpenAIEmbeddings"
   ]
  },
  {
   "cell_type": "code",
   "execution_count": null,
   "metadata": {},
   "outputs": [],
   "source": [
    "neo4j_url = \"bolt://localhost:7687\"\n",
    "neo4j_user = \"neo4j\"\n",
    "neo4j_password = \"12345678\""
   ]
  },
  {
   "cell_type": "markdown",
   "metadata": {},
   "source": [
    "Create embeddings"
   ]
  },
  {
   "cell_type": "code",
   "execution_count": null,
   "metadata": {},
   "outputs": [],
   "source": [
    "# # Now we initialize from existing graph\n",
    "# existing_graph = Neo4jVector.from_existing_graph(\n",
    "#     embedding=OpenAIEmbeddings(model='text-embedding-3-small'),\n",
    "#     url=neo4j_url,\n",
    "#     username=neo4j_user,\n",
    "#     password=neo4j_password,\n",
    "#     index_name=\"person_index\",\n",
    "#     node_label=\"Person\",\n",
    "#     text_node_properties=[\"name\"],\n",
    "#     embedding_node_property=\"embedding\",\n",
    "# )"
   ]
  },
  {
   "cell_type": "markdown",
   "metadata": {},
   "source": [
    "Refactor node labels"
   ]
  },
  {
   "cell_type": "code",
   "execution_count": null,
   "metadata": {},
   "outputs": [],
   "source": [
    "# # cq = \"\"\"\n",
    "# # MATCH (en:Entity)\n",
    "# # WHERE en.label = 'Person'\n",
    "# # WITH collect(en) AS persons\n",
    "# # CALL apoc.refactor.rename.label(\"Entity\", \"Person\", persons)\n",
    "# # YIELD batches, total, timeTaken, committedOperations\n",
    "# # RETURN batches, total, timeTaken, committedOperations;\n",
    "# # \"\"\"\n",
    "# # res = qg._graph.query(cq)"
   ]
  },
  {
   "cell_type": "markdown",
   "metadata": {},
   "source": [
    "Create projection"
   ]
  },
  {
   "cell_type": "code",
   "execution_count": null,
   "metadata": {},
   "outputs": [],
   "source": [
    "cq = \"\"\"\n",
    "MATCH (p:Person)\n",
    "RETURN gds.graph.project(\n",
    "  'personproj',\n",
    "  p,\n",
    "  null,\n",
    "  {\n",
    "    sourceNodeProperties: p { .embedding },\n",
    "    targetNodeProperties: {}\n",
    "  }\n",
    ")\n",
    "\"\"\"\n",
    "\n",
    "res = qg._graph.query(cq)"
   ]
  },
  {
   "cell_type": "markdown",
   "metadata": {},
   "source": [
    "Use KNN to measure node similarities"
   ]
  },
  {
   "cell_type": "code",
   "execution_count": null,
   "metadata": {},
   "outputs": [],
   "source": [
    "cq = \"\"\"\n",
    "CALL gds.knn.stream('projection2', {\n",
    "topK: 1,\n",
    "nodeProperties: ['embedding'],\n",
    "// The following parameters are set to produce a deterministic result\n",
    "randomSeed: 1337,\n",
    "concurrency: 1,\n",
    "sampleRate: 1.0,\n",
    "deltaThreshold: 0.0\n",
    "})\n",
    "YIELD node1, node2, similarity\n",
    "WHERE similarity > .90\n",
    "RETURN gds.util.asNode(node1).name AS Person1, gds.util.asNode(node2).name AS Person2, similarity\n",
    "ORDER BY similarity DESCENDING, Person1, Person2\n",
    "\"\"\"\n",
    "\n",
    "res = qg._graph.query(cq)\n",
    "res"
   ]
  },
  {
   "cell_type": "code",
   "execution_count": null,
   "metadata": {},
   "outputs": [],
   "source": [
    "for i in res:\n",
    "    for key, value in i.items():\n",
    "        print(f\"{key}: {value}\")"
   ]
  },
  {
   "cell_type": "code",
   "execution_count": null,
   "metadata": {},
   "outputs": [],
   "source": [
    "def are_dictionaries_equivalent(d1, d2):\n",
    "    # Check if both have the same keys\n",
    "    if d1.keys() != d2.keys():\n",
    "        return False\n",
    "\n",
    "    # Check if Person1 and Person2 are swapped but equivalent\n",
    "    if (d1['Person1'] == d2['Person2'] and d1['Person2'] == d2['Person1'] and d1['similarity'] == d2['similarity']):\n",
    "        return True\n",
    "    \n",
    "    return False\n"
   ]
  },
  {
   "cell_type": "code",
   "execution_count": null,
   "metadata": {},
   "outputs": [],
   "source": [
    "newlist = res"
   ]
  },
  {
   "cell_type": "code",
   "execution_count": null,
   "metadata": {},
   "outputs": [],
   "source": [
    "for idx, val in enumerate(res):   \n",
    "    for idx2, val2 in enumerate(newlist):\n",
    "        if val != val2:\n",
    "            if are_dictionaries_equivalent(val, val2):\n",
    "                newlist.pop(idx2)\n"
   ]
  },
  {
   "cell_type": "code",
   "execution_count": null,
   "metadata": {},
   "outputs": [],
   "source": [
    "unique = []\n",
    "\n",
    "for value in newlist:\n",
    "    if value not in unique:\n",
    "        unique.append(value)\n",
    "\n",
    "unique"
   ]
  },
  {
   "cell_type": "code",
   "execution_count": null,
   "metadata": {},
   "outputs": [],
   "source": [
    "node_name = \"Shirley Temple\"\n",
    "\n",
    "query = f\"\"\"\n",
    "MATCH (n:Person {{name: '{node_name}'}})\n",
    "RETURN n\n",
    "\"\"\"\n",
    "print(query)\n",
    "\n",
    "res = qg._graph.query(query)\n",
    "res\n"
   ]
  },
  {
   "cell_type": "markdown",
   "metadata": {},
   "source": [
    "Merge similar nodes (Entity resolution)"
   ]
  },
  {
   "cell_type": "code",
   "execution_count": null,
   "metadata": {},
   "outputs": [],
   "source": [
    "for idx, val in enumerate(unique):\n",
    "    print(val)\n",
    "    p1 = val['Person1']\n",
    "    p2 = val['Person2']    \n",
    "    cq = f\"\"\"\n",
    "    MATCH (a1:Person {{name: '{p1}'}}), (a2:Person {{name: '{p2}'}})\n",
    "    WITH head(collect([a1,a2])) as nodes\n",
    "    CALL apoc.refactor.mergeNodes(nodes,{{\n",
    "    properties:\"discard\",\n",
    "    mergeRels:true\n",
    "    }})\n",
    "    YIELD node\n",
    "    RETURN node;\n",
    "    \"\"\"\n",
    "    res = qg._graph.query(cq)\n",
    "    res"
   ]
  }
 ],
 "metadata": {
  "kernelspec": {
   "display_name": "graphmaker",
   "language": "python",
   "name": "python3"
  },
  "language_info": {
   "codemirror_mode": {
    "name": "ipython",
    "version": 3
   },
   "file_extension": ".py",
   "mimetype": "text/x-python",
   "name": "python",
   "nbconvert_exporter": "python",
   "pygments_lexer": "ipython3",
   "version": "3.11.0"
  }
 },
 "nbformat": 4,
 "nbformat_minor": 2
}
