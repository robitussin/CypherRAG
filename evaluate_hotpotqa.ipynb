{
 "cells": [
  {
   "cell_type": "code",
   "execution_count": 1,
   "metadata": {},
   "outputs": [
    {
     "name": "stderr",
     "output_type": "stream",
     "text": [
      "2024-11-07 00:34:45.217 WARNING streamlit.runtime.state.session_state_proxy: Session state does not function when running a script without `streamlit run`\n",
      "2024-11-07 00:34:45.423 \n",
      "  \u001b[33m\u001b[1mWarning:\u001b[0m to view this Streamlit app on a browser, run it with the following\n",
      "  command:\n",
      "\n",
      "    streamlit run C:\\Users\\SLY\\AppData\\Roaming\\Python\\Python311\\site-packages\\ipykernel_launcher.py [ARGUMENTS]\n"
     ]
    }
   ],
   "source": [
    "import pandas as pd\n",
    "import json\n",
    "\n",
    "from generate_graph import get_propositions, generateEdges, createGraph, get_propositions_nosplit\n",
    "from main import query_graph, refine_query\n",
    "from tqdm import tqdm\n",
    "tqdm.pandas()"
   ]
  },
  {
   "cell_type": "code",
   "execution_count": 2,
   "metadata": {},
   "outputs": [],
   "source": [
    "df = pd.read_json('datasets/HotPotQA/hotpot_dev_fullwiki_v1.json')"
   ]
  },
  {
   "cell_type": "code",
   "execution_count": 3,
   "metadata": {},
   "outputs": [
    {
     "name": "stdout",
     "output_type": "stream",
     "text": [
      "<class 'pandas.core.frame.DataFrame'>\n",
      "RangeIndex: 7405 entries, 0 to 7404\n",
      "Data columns (total 7 columns):\n",
      " #   Column            Non-Null Count  Dtype \n",
      "---  ------            --------------  ----- \n",
      " 0   _id               7405 non-null   object\n",
      " 1   answer            7405 non-null   object\n",
      " 2   question          7405 non-null   object\n",
      " 3   supporting_facts  7405 non-null   object\n",
      " 4   context           7405 non-null   object\n",
      " 5   type              7405 non-null   object\n",
      " 6   level             7405 non-null   object\n",
      "dtypes: object(7)\n",
      "memory usage: 405.1+ KB\n"
     ]
    }
   ],
   "source": [
    "df.info()"
   ]
  },
  {
   "cell_type": "code",
   "execution_count": 4,
   "metadata": {},
   "outputs": [
    {
     "data": {
      "text/html": [
       "<div>\n",
       "<style scoped>\n",
       "    .dataframe tbody tr th:only-of-type {\n",
       "        vertical-align: middle;\n",
       "    }\n",
       "\n",
       "    .dataframe tbody tr th {\n",
       "        vertical-align: top;\n",
       "    }\n",
       "\n",
       "    .dataframe thead th {\n",
       "        text-align: right;\n",
       "    }\n",
       "</style>\n",
       "<table border=\"1\" class=\"dataframe\">\n",
       "  <thead>\n",
       "    <tr style=\"text-align: right;\">\n",
       "      <th></th>\n",
       "      <th>_id</th>\n",
       "      <th>answer</th>\n",
       "      <th>question</th>\n",
       "      <th>supporting_facts</th>\n",
       "      <th>context</th>\n",
       "      <th>type</th>\n",
       "      <th>level</th>\n",
       "    </tr>\n",
       "  </thead>\n",
       "  <tbody>\n",
       "    <tr>\n",
       "      <th>0</th>\n",
       "      <td>5a8b57f25542995d1e6f1371</td>\n",
       "      <td>yes</td>\n",
       "      <td>Were Scott Derrickson and Ed Wood of the same ...</td>\n",
       "      <td>[[Scott Derrickson, 0], [Ed Wood, 0]]</td>\n",
       "      <td>[[Adam Collis, [Adam Collis is an American fil...</td>\n",
       "      <td>comparison</td>\n",
       "      <td>hard</td>\n",
       "    </tr>\n",
       "    <tr>\n",
       "      <th>1</th>\n",
       "      <td>5a8c7595554299585d9e36b6</td>\n",
       "      <td>Chief of Protocol</td>\n",
       "      <td>What government position was held by the woman...</td>\n",
       "      <td>[[Kiss and Tell (1945 film), 0], [Shirley Temp...</td>\n",
       "      <td>[[A Kiss for Corliss, [A Kiss for Corliss is a...</td>\n",
       "      <td>bridge</td>\n",
       "      <td>hard</td>\n",
       "    </tr>\n",
       "    <tr>\n",
       "      <th>2</th>\n",
       "      <td>5a85ea095542994775f606a8</td>\n",
       "      <td>Animorphs</td>\n",
       "      <td>What science fantasy young adult series, told ...</td>\n",
       "      <td>[[The Hork-Bajir Chronicles, 0], [The Hork-Baj...</td>\n",
       "      <td>[[Animorphs, [Animorphs is a science fantasy s...</td>\n",
       "      <td>bridge</td>\n",
       "      <td>hard</td>\n",
       "    </tr>\n",
       "    <tr>\n",
       "      <th>3</th>\n",
       "      <td>5adbf0a255429947ff17385a</td>\n",
       "      <td>no</td>\n",
       "      <td>Are the Laleli Mosque and Esma Sultan Mansion ...</td>\n",
       "      <td>[[Laleli Mosque, 0], [Esma Sultan Mansion, 0]]</td>\n",
       "      <td>[[Esma Sultan, [Esma Sultan is the name of thr...</td>\n",
       "      <td>comparison</td>\n",
       "      <td>hard</td>\n",
       "    </tr>\n",
       "    <tr>\n",
       "      <th>4</th>\n",
       "      <td>5a8e3ea95542995a26add48d</td>\n",
       "      <td>Greenwich Village, New York City</td>\n",
       "      <td>The director of the romantic comedy \"Big Stone...</td>\n",
       "      <td>[[Big Stone Gap (film), 0], [Adriana Trigiani,...</td>\n",
       "      <td>[[Great Eastern Conventions, [Great Eastern Co...</td>\n",
       "      <td>bridge</td>\n",
       "      <td>hard</td>\n",
       "    </tr>\n",
       "  </tbody>\n",
       "</table>\n",
       "</div>"
      ],
      "text/plain": [
       "                        _id                            answer  \\\n",
       "0  5a8b57f25542995d1e6f1371                               yes   \n",
       "1  5a8c7595554299585d9e36b6                 Chief of Protocol   \n",
       "2  5a85ea095542994775f606a8                         Animorphs   \n",
       "3  5adbf0a255429947ff17385a                                no   \n",
       "4  5a8e3ea95542995a26add48d  Greenwich Village, New York City   \n",
       "\n",
       "                                            question  \\\n",
       "0  Were Scott Derrickson and Ed Wood of the same ...   \n",
       "1  What government position was held by the woman...   \n",
       "2  What science fantasy young adult series, told ...   \n",
       "3  Are the Laleli Mosque and Esma Sultan Mansion ...   \n",
       "4  The director of the romantic comedy \"Big Stone...   \n",
       "\n",
       "                                    supporting_facts  \\\n",
       "0              [[Scott Derrickson, 0], [Ed Wood, 0]]   \n",
       "1  [[Kiss and Tell (1945 film), 0], [Shirley Temp...   \n",
       "2  [[The Hork-Bajir Chronicles, 0], [The Hork-Baj...   \n",
       "3     [[Laleli Mosque, 0], [Esma Sultan Mansion, 0]]   \n",
       "4  [[Big Stone Gap (film), 0], [Adriana Trigiani,...   \n",
       "\n",
       "                                             context        type level  \n",
       "0  [[Adam Collis, [Adam Collis is an American fil...  comparison  hard  \n",
       "1  [[A Kiss for Corliss, [A Kiss for Corliss is a...      bridge  hard  \n",
       "2  [[Animorphs, [Animorphs is a science fantasy s...      bridge  hard  \n",
       "3  [[Esma Sultan, [Esma Sultan is the name of thr...  comparison  hard  \n",
       "4  [[Great Eastern Conventions, [Great Eastern Co...      bridge  hard  "
      ]
     },
     "execution_count": 4,
     "metadata": {},
     "output_type": "execute_result"
    }
   ],
   "source": [
    "df.head(5)"
   ]
  },
  {
   "cell_type": "code",
   "execution_count": 5,
   "metadata": {},
   "outputs": [
    {
     "data": {
      "text/plain": [
       "[['Adam Collis',\n",
       "  ['Adam Collis is an American filmmaker and actor.',\n",
       "   ' He attended the Duke University from 1986 to 1990 and the University of California, Los Angeles from 2007 to 2010.',\n",
       "   ' He also studied cinema at the University of Southern California from 1991 to 1997.',\n",
       "   ' Collis first work was the assistant director for the Scott Derrickson\\'s short \"Love in the Ruins\" (1995).',\n",
       "   ' In 1998, he played \"Crankshaft\" in Eric Koyanagi\\'s \"Hundred Percent\".']],\n",
       " ['Ed Wood (film)',\n",
       "  ['Ed Wood is a 1994 American biographical period comedy-drama film directed and produced by Tim Burton, and starring Johnny Depp as cult filmmaker Ed Wood.',\n",
       "   \" The film concerns the period in Wood's life when he made his best-known films as well as his relationship with actor Bela Lugosi, played by Martin Landau.\",\n",
       "   ' Sarah Jessica Parker, Patricia Arquette, Jeffrey Jones, Lisa Marie, and Bill Murray are among the supporting cast.']],\n",
       " ['Tyler Bates',\n",
       "  ['Tyler Bates (born June 5, 1965) is an American musician, music producer, and composer for films, television, and video games.',\n",
       "   ' Much of his work is in the action and horror film genres, with films like \"Dawn of the Dead, 300, Sucker Punch,\" and \"John Wick.\"',\n",
       "   ' He has collaborated with directors like Zack Snyder, Rob Zombie, Neil Marshall, William Friedkin, Scott Derrickson, and James Gunn.',\n",
       "   ' With Gunn, he has scored every one of the director\\'s films; including \"Guardians of the Galaxy\", which became one of the highest grossing domestic movies of 2014, and its 2017 sequel.',\n",
       "   ' In addition, he is also the lead guitarist of the American rock band Marilyn Manson, and produced its albums \"The Pale Emperor\" and \"Heaven Upside Down\".']],\n",
       " ['Doctor Strange (2016 film)',\n",
       "  ['Doctor Strange is a 2016 American superhero film based on the Marvel Comics character of the same name, produced by Marvel Studios and distributed by Walt Disney Studios Motion Pictures.',\n",
       "   ' It is the fourteenth film of the Marvel Cinematic Universe (MCU).',\n",
       "   ' The film was directed by Scott Derrickson, who wrote it with Jon Spaihts and C. Robert Cargill, and stars Benedict Cumberbatch as Stephen Strange, along with Chiwetel Ejiofor, Rachel McAdams, Benedict Wong, Michael Stuhlbarg, Benjamin Bratt, Scott Adkins, Mads Mikkelsen, and Tilda Swinton.',\n",
       "   ' In \"Doctor Strange\", surgeon Strange learns the mystic arts after a career-ending car accident.']],\n",
       " ['Hellraiser: Inferno',\n",
       "  ['Hellraiser: Inferno (also known as Hellraiser V: Inferno) is a 2000 American horror film.',\n",
       "   ' It is the fifth installment in the \"Hellraiser\" series and the first \"Hellraiser\" film to go straight-to-DVD.',\n",
       "   ' It was directed by Scott Derrickson and released on October 3, 2000.',\n",
       "   \" The film concerns a corrupt detective who discovers Lemarchand's box at a crime scene.\",\n",
       "   \" The film's reviews were mixed.\"]],\n",
       " ['Sinister (film)',\n",
       "  ['Sinister is a 2012 supernatural horror film directed by Scott Derrickson and written by Derrickson and C. Robert Cargill.',\n",
       "   ' It stars Ethan Hawke as fictional true-crime writer Ellison Oswalt who discovers a box of home movies in his attic that puts his family in danger.']],\n",
       " ['Deliver Us from Evil (2014 film)',\n",
       "  ['Deliver Us from Evil is a 2014 American supernatural horror film directed by Scott Derrickson and produced by Jerry Bruckheimer.',\n",
       "   ' The film is officially based on a 2001 non-fiction book entitled \"Beware the Night\" by Ralph Sarchie and Lisa Collier Cool, and its marketing campaign highlighted that it was \"inspired by actual accounts\".',\n",
       "   ' The film stars Eric Bana, Édgar Ramírez, Sean Harris, Olivia Munn, and Joel McHale in the main roles and was released on July 2, 2014.']],\n",
       " ['Woodson, Arkansas',\n",
       "  ['Woodson is a census-designated place (CDP) in Pulaski County, Arkansas, in the United States.',\n",
       "   ' Its population was 403 at the 2010 census.',\n",
       "   ' It is part of the Little Rock–North Little Rock–Conway Metropolitan Statistical Area.',\n",
       "   ' Woodson and its accompanying Woodson Lake and Wood Hollow are the namesake for Ed Wood Sr., a prominent plantation owner, trader, and businessman at the turn of the 20th century.',\n",
       "   ' Woodson is adjacent to the Wood Plantation, the largest of the plantations own by Ed Wood Sr.']],\n",
       " ['Conrad Brooks',\n",
       "  ['Conrad Brooks (born Conrad Biedrzycki on January 3, 1931 in Baltimore, Maryland) is an American actor.',\n",
       "   ' He moved to Hollywood, California in 1948 to pursue a career in acting.',\n",
       "   ' He got his start in movies appearing in Ed Wood films such as \"Plan 9 from Outer Space\", \"Glen or Glenda\", and \"Jail Bait.\"',\n",
       "   ' He took a break from acting during the 1960s and 1970s but due to the ongoing interest in the films of Ed Wood, he reemerged in the 1980s and has become a prolific actor.',\n",
       "   ' He also has since gone on to write, produce and direct several films.']],\n",
       " ['The Exorcism of Emily Rose',\n",
       "  ['The Exorcism of Emily Rose is a 2005 American legal drama horror film directed by Scott Derrickson and starring Laura Linney and Tom Wilkinson.',\n",
       "   ' The film is loosely based on the story of Anneliese Michel and follows a self-proclaimed agnostic who acts as defense counsel (Linney) representing a parish priest (Wilkinson), accused by the state of negligent homicide after he performed an exorcism.']]]"
      ]
     },
     "execution_count": 5,
     "metadata": {},
     "output_type": "execute_result"
    }
   ],
   "source": [
    "df.iloc[0]['context']"
   ]
  },
  {
   "cell_type": "code",
   "execution_count": 6,
   "metadata": {},
   "outputs": [
    {
     "data": {
      "text/plain": [
       "[['Adam Collis',\n",
       "  ['Adam Collis is an American filmmaker and actor.',\n",
       "   ' He attended the Duke University from 1986 to 1990 and the University of California, Los Angeles from 2007 to 2010.',\n",
       "   ' He also studied cinema at the University of Southern California from 1991 to 1997.',\n",
       "   ' Collis first work was the assistant director for the Scott Derrickson\\'s short \"Love in the Ruins\" (1995).',\n",
       "   ' In 1998, he played \"Crankshaft\" in Eric Koyanagi\\'s \"Hundred Percent\".']],\n",
       " ['Ed Wood (film)',\n",
       "  ['Ed Wood is a 1994 American biographical period comedy-drama film directed and produced by Tim Burton, and starring Johnny Depp as cult filmmaker Ed Wood.',\n",
       "   \" The film concerns the period in Wood's life when he made his best-known films as well as his relationship with actor Bela Lugosi, played by Martin Landau.\",\n",
       "   ' Sarah Jessica Parker, Patricia Arquette, Jeffrey Jones, Lisa Marie, and Bill Murray are among the supporting cast.']],\n",
       " ['Tyler Bates',\n",
       "  ['Tyler Bates (born June 5, 1965) is an American musician, music producer, and composer for films, television, and video games.',\n",
       "   ' Much of his work is in the action and horror film genres, with films like \"Dawn of the Dead, 300, Sucker Punch,\" and \"John Wick.\"',\n",
       "   ' He has collaborated with directors like Zack Snyder, Rob Zombie, Neil Marshall, William Friedkin, Scott Derrickson, and James Gunn.',\n",
       "   ' With Gunn, he has scored every one of the director\\'s films; including \"Guardians of the Galaxy\", which became one of the highest grossing domestic movies of 2014, and its 2017 sequel.',\n",
       "   ' In addition, he is also the lead guitarist of the American rock band Marilyn Manson, and produced its albums \"The Pale Emperor\" and \"Heaven Upside Down\".']],\n",
       " ['Doctor Strange (2016 film)',\n",
       "  ['Doctor Strange is a 2016 American superhero film based on the Marvel Comics character of the same name, produced by Marvel Studios and distributed by Walt Disney Studios Motion Pictures.',\n",
       "   ' It is the fourteenth film of the Marvel Cinematic Universe (MCU).',\n",
       "   ' The film was directed by Scott Derrickson, who wrote it with Jon Spaihts and C. Robert Cargill, and stars Benedict Cumberbatch as Stephen Strange, along with Chiwetel Ejiofor, Rachel McAdams, Benedict Wong, Michael Stuhlbarg, Benjamin Bratt, Scott Adkins, Mads Mikkelsen, and Tilda Swinton.',\n",
       "   ' In \"Doctor Strange\", surgeon Strange learns the mystic arts after a career-ending car accident.']],\n",
       " ['Hellraiser: Inferno',\n",
       "  ['Hellraiser: Inferno (also known as Hellraiser V: Inferno) is a 2000 American horror film.',\n",
       "   ' It is the fifth installment in the \"Hellraiser\" series and the first \"Hellraiser\" film to go straight-to-DVD.',\n",
       "   ' It was directed by Scott Derrickson and released on October 3, 2000.',\n",
       "   \" The film concerns a corrupt detective who discovers Lemarchand's box at a crime scene.\",\n",
       "   \" The film's reviews were mixed.\"]],\n",
       " ['Sinister (film)',\n",
       "  ['Sinister is a 2012 supernatural horror film directed by Scott Derrickson and written by Derrickson and C. Robert Cargill.',\n",
       "   ' It stars Ethan Hawke as fictional true-crime writer Ellison Oswalt who discovers a box of home movies in his attic that puts his family in danger.']],\n",
       " ['Deliver Us from Evil (2014 film)',\n",
       "  ['Deliver Us from Evil is a 2014 American supernatural horror film directed by Scott Derrickson and produced by Jerry Bruckheimer.',\n",
       "   ' The film is officially based on a 2001 non-fiction book entitled \"Beware the Night\" by Ralph Sarchie and Lisa Collier Cool, and its marketing campaign highlighted that it was \"inspired by actual accounts\".',\n",
       "   ' The film stars Eric Bana, Édgar Ramírez, Sean Harris, Olivia Munn, and Joel McHale in the main roles and was released on July 2, 2014.']],\n",
       " ['Woodson, Arkansas',\n",
       "  ['Woodson is a census-designated place (CDP) in Pulaski County, Arkansas, in the United States.',\n",
       "   ' Its population was 403 at the 2010 census.',\n",
       "   ' It is part of the Little Rock–North Little Rock–Conway Metropolitan Statistical Area.',\n",
       "   ' Woodson and its accompanying Woodson Lake and Wood Hollow are the namesake for Ed Wood Sr., a prominent plantation owner, trader, and businessman at the turn of the 20th century.',\n",
       "   ' Woodson is adjacent to the Wood Plantation, the largest of the plantations own by Ed Wood Sr.']],\n",
       " ['Conrad Brooks',\n",
       "  ['Conrad Brooks (born Conrad Biedrzycki on January 3, 1931 in Baltimore, Maryland) is an American actor.',\n",
       "   ' He moved to Hollywood, California in 1948 to pursue a career in acting.',\n",
       "   ' He got his start in movies appearing in Ed Wood films such as \"Plan 9 from Outer Space\", \"Glen or Glenda\", and \"Jail Bait.\"',\n",
       "   ' He took a break from acting during the 1960s and 1970s but due to the ongoing interest in the films of Ed Wood, he reemerged in the 1980s and has become a prolific actor.',\n",
       "   ' He also has since gone on to write, produce and direct several films.']],\n",
       " ['The Exorcism of Emily Rose',\n",
       "  ['The Exorcism of Emily Rose is a 2005 American legal drama horror film directed by Scott Derrickson and starring Laura Linney and Tom Wilkinson.',\n",
       "   ' The film is loosely based on the story of Anneliese Michel and follows a self-proclaimed agnostic who acts as defense counsel (Linney) representing a parish priest (Wilkinson), accused by the state of negligent homicide after he performed an exorcism.']]]"
      ]
     },
     "execution_count": 6,
     "metadata": {},
     "output_type": "execute_result"
    }
   ],
   "source": [
    "df.iloc[0]['context']"
   ]
  },
  {
   "cell_type": "code",
   "execution_count": 7,
   "metadata": {},
   "outputs": [
    {
     "data": {
      "text/plain": [
       "'Were Scott Derrickson and Ed Wood of the same nationality?'"
      ]
     },
     "execution_count": 7,
     "metadata": {},
     "output_type": "execute_result"
    }
   ],
   "source": [
    "df.iloc[0]['question']"
   ]
  },
  {
   "cell_type": "markdown",
   "metadata": {},
   "source": [
    "## Experiment\n"
   ]
  },
  {
   "cell_type": "markdown",
   "metadata": {},
   "source": [
    "To run the evaluation script\n",
    "\n",
    "```\n",
    "python hotpot_evaluate_v1.py <path_to_prediction> <path_to_gold>\n",
    "```\n",
    "\n",
    "Example:\n",
    "\n",
    "```\n",
    "python hotpot_evaluate_v1.py <sample_dev_pred.json> <hotpot_dev_fullwiki_v1.json>\n",
    "```"
   ]
  },
  {
   "cell_type": "code",
   "execution_count": 8,
   "metadata": {},
   "outputs": [],
   "source": [
    "nested_list = df.iloc[0]['context']"
   ]
  },
  {
   "cell_type": "code",
   "execution_count": 9,
   "metadata": {},
   "outputs": [
    {
     "data": {
      "text/plain": [
       "['Adam Collis is an American filmmaker and actor.',\n",
       " ' He attended the Duke University from 1986 to 1990 and the University of California, Los Angeles from 2007 to 2010.',\n",
       " ' He also studied cinema at the University of Southern California from 1991 to 1997.',\n",
       " ' Collis first work was the assistant director for the Scott Derrickson\\'s short \"Love in the Ruins\" (1995).',\n",
       " ' In 1998, he played \"Crankshaft\" in Eric Koyanagi\\'s \"Hundred Percent\".']"
      ]
     },
     "execution_count": 9,
     "metadata": {},
     "output_type": "execute_result"
    }
   ],
   "source": [
    "nested_list[0][1]"
   ]
  },
  {
   "cell_type": "code",
   "execution_count": 10,
   "metadata": {},
   "outputs": [
    {
     "data": {
      "text/plain": [
       "[['Adam Collis',\n",
       "  ['Adam Collis is an American filmmaker and actor.',\n",
       "   ' He attended the Duke University from 1986 to 1990 and the University of California, Los Angeles from 2007 to 2010.',\n",
       "   ' He also studied cinema at the University of Southern California from 1991 to 1997.',\n",
       "   ' Collis first work was the assistant director for the Scott Derrickson\\'s short \"Love in the Ruins\" (1995).',\n",
       "   ' In 1998, he played \"Crankshaft\" in Eric Koyanagi\\'s \"Hundred Percent\".']],\n",
       " ['Ed Wood (film)',\n",
       "  ['Ed Wood is a 1994 American biographical period comedy-drama film directed and produced by Tim Burton, and starring Johnny Depp as cult filmmaker Ed Wood.',\n",
       "   \" The film concerns the period in Wood's life when he made his best-known films as well as his relationship with actor Bela Lugosi, played by Martin Landau.\",\n",
       "   ' Sarah Jessica Parker, Patricia Arquette, Jeffrey Jones, Lisa Marie, and Bill Murray are among the supporting cast.']]]"
      ]
     },
     "execution_count": 10,
     "metadata": {},
     "output_type": "execute_result"
    }
   ],
   "source": [
    "nested_list[0:2]"
   ]
  },
  {
   "cell_type": "code",
   "execution_count": 11,
   "metadata": {},
   "outputs": [
    {
     "name": "stderr",
     "output_type": "stream",
     "text": [
      "100%|██████████| 2/2 [00:16<00:00,  8.27s/it]\n"
     ]
    }
   ],
   "source": [
    "propositions = []\n",
    "\n",
    "for i, value in enumerate(tqdm(nested_list[0:2])):\n",
    "        # print(nested_list[i][1])\n",
    "        context = nested_list[i][1]\n",
    "        context = \" \".join(context)\n",
    "        # print(context)\n",
    "        get_propositions_nosplit(context, propositions)"
   ]
  },
  {
   "cell_type": "code",
   "execution_count": 18,
   "metadata": {},
   "outputs": [
    {
     "name": "stdout",
     "output_type": "stream",
     "text": [
      "['Adam Collis is an American filmmaker.', 'Adam Collis is an actor.', 'Adam Collis attended Duke University from 1986 to 1990.', 'Adam Collis attended the University of California, Los Angeles from 2007 to 2010.', 'Adam Collis studied cinema at the University of Southern California from 1991 to 1997.', \"Adam Collis's first work was as the assistant director for Scott Derrickson's short 'Love in the Ruins' in 1995.\", \"In 1998, Adam Collis played 'Crankshaft' in Eric Koyanagi's film 'Hundred Percent'.\", 'Ed Wood is a 1994 American biographical period comedy-drama film.', 'Tim Burton directed and produced Ed Wood.', 'Johnny Depp stars as cult filmmaker Ed Wood in Ed Wood.', \"The film concerns the period in Ed Wood's life when Ed Wood made his best-known films.\", \"The film also concerns Ed Wood's relationship with actor Bela Lugosi.\", 'Martin Landau plays the role of Bela Lugosi in Ed Wood.', 'Sarah Jessica Parker is among the supporting cast of Ed Wood.', 'Patricia Arquette is among the supporting cast of Ed Wood.', 'Jeffrey Jones is among the supporting cast of Ed Wood.', 'Lisa Marie is among the supporting cast of Ed Wood.', 'Bill Murray is among the supporting cast of Ed Wood.']\n"
     ]
    }
   ],
   "source": [
    "# Open the file in read mode\n",
    "with open('propositions.txt', 'r') as file:\n",
    "    # Read all lines and store them in a list\n",
    "    propositions_from_file = [line.strip() for line in file]\n",
    "\n",
    "print(propositions_from_file)"
   ]
  },
  {
   "cell_type": "code",
   "execution_count": 20,
   "metadata": {},
   "outputs": [
    {
     "data": {
      "text/plain": [
       "['Adam Collis is an American filmmaker.',\n",
       " 'Adam Collis is an actor.',\n",
       " 'Adam Collis attended Duke University from 1986 to 1990.',\n",
       " 'Adam Collis attended the University of California, Los Angeles from 2007 to 2010.',\n",
       " 'Adam Collis studied cinema at the University of Southern California from 1991 to 1997.',\n",
       " \"Adam Collis's first work was as the assistant director for Scott Derrickson's short 'Love in the Ruins' in 1995.\",\n",
       " \"In 1998, Adam Collis played 'Crankshaft' in Eric Koyanagi's film 'Hundred Percent'.\",\n",
       " 'Ed Wood is a 1994 American biographical period comedy-drama film.',\n",
       " 'Tim Burton directed and produced Ed Wood.',\n",
       " 'Johnny Depp stars as cult filmmaker Ed Wood in Ed Wood.',\n",
       " \"The film concerns the period in Ed Wood's life when Ed Wood made his best-known films.\",\n",
       " \"The film also concerns Ed Wood's relationship with actor Bela Lugosi.\",\n",
       " 'Martin Landau plays the role of Bela Lugosi in Ed Wood.',\n",
       " 'Sarah Jessica Parker is among the supporting cast of Ed Wood.',\n",
       " 'Patricia Arquette is among the supporting cast of Ed Wood.',\n",
       " 'Jeffrey Jones is among the supporting cast of Ed Wood.',\n",
       " 'Lisa Marie is among the supporting cast of Ed Wood.',\n",
       " 'Bill Murray is among the supporting cast of Ed Wood.']"
      ]
     },
     "execution_count": 20,
     "metadata": {},
     "output_type": "execute_result"
    }
   ],
   "source": [
    "propositions_from_file"
   ]
  },
  {
   "cell_type": "code",
   "execution_count": 21,
   "metadata": {},
   "outputs": [
    {
     "name": "stderr",
     "output_type": "stream",
     "text": [
      "  0%|          | 0/18 [00:00<?, ?it/s]"
     ]
    },
    {
     "name": "stderr",
     "output_type": "stream",
     "text": [
      "100%|██████████| 18/18 [00:44<00:00,  2.45s/it]\n"
     ]
    }
   ],
   "source": [
    "list_of_edges = generateEdges(propositions_from_file)"
   ]
  },
  {
   "cell_type": "code",
   "execution_count": 22,
   "metadata": {},
   "outputs": [
    {
     "name": "stdout",
     "output_type": "stream",
     "text": [
      "Success\n"
     ]
    }
   ],
   "source": [
    "if createGraph(list_of_edges):\n",
    "    print(\"Success\")\n",
    "else:\n",
    "    print(\"Failed\")"
   ]
  },
  {
   "cell_type": "code",
   "execution_count": 13,
   "metadata": {},
   "outputs": [],
   "source": [
    "# propositions = []\n",
    "\n",
    "# for context in context_list:\n",
    "#     get_propositions(context, propositions)"
   ]
  },
  {
   "cell_type": "code",
   "execution_count": 14,
   "metadata": {},
   "outputs": [],
   "source": [
    "# # Define a function to apply to each row\n",
    "# def print_qa(row):\n",
    "    \n",
    "#     question = row['question']\n",
    "#     questionid = row['id']\n",
    "#     result = query_graph(question)\n",
    "    \n",
    "    \n",
    "#     if result is not None:\n",
    "    \n",
    "#         model_answer = result['result']\n",
    "\n",
    "#         if \"don't know the answer\" in model_answer:\n",
    "#             model_answer = \"\"\n",
    "    \n",
    "#         if len(row['answers']['text']) > 0:\n",
    "#             real_answer = row['answers']['text'][0]\n",
    "#         else:\n",
    "#             real_answer = \"\\\"\\\"\"\n",
    "\n",
    "#         if len(result['intermediate_steps']) > 0:\n",
    "#             cypher_query = result['intermediate_steps'][0]['query']\n",
    "#             context = result['intermediate_steps'][1]['context']\n",
    "       \n",
    "#             if(len(context) < 1):\n",
    "#             #     result = refine_query(cypher_query[6:], question)\n",
    "#             #     model_answer = result['result'] \n",
    "#                 model_answer = \"\\\"\\\"\"\n",
    "#                 my_dict.update({questionid: \"\"})\n",
    "#             else:\n",
    "#                 my_dict.update({questionid: model_answer})\n",
    "                \n",
    "#         with open(\"preds.txt\", \"a\") as preds:\n",
    "#             preds.write(\"question: \" + question + \"\\n\")\n",
    "#             preds.write(\"real_answer: \" + real_answer + \"\\n\")\n",
    "#             preds.write(\"model_answer: \" + model_answer + \"\\n\")  \n",
    "#             preds.write(\"cypher_query: \" + cypher_query + \"\\n\")\n",
    "#             preds.write(\"======================\" + \"\\n\")  \n",
    "#         preds.close()\n",
    "\n",
    "#     else: \n",
    "#         my_dict.update({questionid: \"\"})\n",
    "        "
   ]
  }
 ],
 "metadata": {
  "kernelspec": {
   "display_name": "graphmaker",
   "language": "python",
   "name": "python3"
  },
  "language_info": {
   "codemirror_mode": {
    "name": "ipython",
    "version": 3
   },
   "file_extension": ".py",
   "mimetype": "text/x-python",
   "name": "python",
   "nbconvert_exporter": "python",
   "pygments_lexer": "ipython3",
   "version": "3.11.0"
  }
 },
 "nbformat": 4,
 "nbformat_minor": 2
}
