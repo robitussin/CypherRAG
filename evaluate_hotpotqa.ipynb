{
 "cells": [
  {
   "cell_type": "code",
   "execution_count": 1,
   "metadata": {},
   "outputs": [],
   "source": [
    "import pandas as pd\n",
    "import json\n",
    "from generate_graph import get_propositions, generateEdges, createGraph, get_propositions_nosplit\n",
    "from refine_graph import refine\n",
    "from query_graph import QueryGraph\n",
    "from tqdm import tqdm\n",
    "tqdm.pandas()\n",
    "\n",
    "df = pd.read_json('datasets/HotPotQA/hotpot_dev_distractor_v1.json')"
   ]
  },
  {
   "cell_type": "markdown",
   "metadata": {},
   "source": [
    "## Experiment\n"
   ]
  },
  {
   "cell_type": "markdown",
   "metadata": {},
   "source": [
    "### Graph creation and refinement section"
   ]
  },
  {
   "cell_type": "markdown",
   "metadata": {},
   "source": [
    "To run the evaluation script\n",
    "\n",
    "```\n",
    "python hotpot_evaluate_v1.py <path_to_prediction> <path_to_gold>\n",
    "```\n",
    "\n",
    "Example:\n",
    "\n",
    "```\n",
    "python evalscripts/HotPotQA/hotpot_evaluate_v1.py evalscripts/HotPotQA/sample_dev_pred.json evalscripts/HotPotQA/hotpot_dev_distractor_v1.json\n",
    "```"
   ]
  },
  {
   "cell_type": "code",
   "execution_count": 2,
   "metadata": {},
   "outputs": [],
   "source": [
    "context_list = df['context']"
   ]
  },
  {
   "cell_type": "code",
   "execution_count": null,
   "metadata": {},
   "outputs": [],
   "source": [
    "df.head(31)"
   ]
  },
  {
   "cell_type": "code",
   "execution_count": null,
   "metadata": {},
   "outputs": [],
   "source": [
    "df.iloc[7]['context']"
   ]
  },
  {
   "cell_type": "code",
   "execution_count": null,
   "metadata": {},
   "outputs": [],
   "source": [
    "context_list[21:31]"
   ]
  },
  {
   "cell_type": "code",
   "execution_count": null,
   "metadata": {},
   "outputs": [],
   "source": [
    "propositions = []\n",
    "\n",
    "for i, value in enumerate(tqdm(context_list[21:31])):\n",
    "        for j, context in enumerate(value):\n",
    "                index = 1\n",
    "                if index < len(context):\n",
    "                    words = context[1]\n",
    "                    combined = \" \".join(words)\n",
    "                    get_propositions_nosplit(combined, propositions)"
   ]
  },
  {
   "cell_type": "code",
   "execution_count": null,
   "metadata": {},
   "outputs": [],
   "source": [
    "# Open the file in read mode\n",
    "with open('propositions.txt', 'r') as file:\n",
    "    # Read all lines and store them in a list\n",
    "    propositions_from_file = [line.strip() for line in file]\n",
    "\n",
    "print(propositions_from_file)"
   ]
  },
  {
   "cell_type": "code",
   "execution_count": null,
   "metadata": {},
   "outputs": [],
   "source": [
    "list_of_edges = generateEdges(propositions_from_file)"
   ]
  },
  {
   "cell_type": "code",
   "execution_count": null,
   "metadata": {},
   "outputs": [],
   "source": [
    "if createGraph(list_of_edges):\n",
    "    print(\"Success\")\n",
    "else:\n",
    "    print(\"Failed\")"
   ]
  },
  {
   "cell_type": "code",
   "execution_count": null,
   "metadata": {},
   "outputs": [],
   "source": [
    "qg = QueryGraph()\n",
    "\n",
    "if refine(qg, \"person\"):\n",
    "    print(\"yes\")\n",
    "else:\n",
    "    print(\"no\")"
   ]
  },
  {
   "cell_type": "markdown",
   "metadata": {},
   "source": [
    "### Q and A section"
   ]
  },
  {
   "cell_type": "code",
   "execution_count": null,
   "metadata": {},
   "outputs": [],
   "source": [
    "# def find_supporting_facts(question, answer, context):\n",
    "#     supporting_facts = []\n",
    "#     for passage in context:\n",
    "#         title, sentences = passage\n",
    "#         for i, sentence in enumerate(sentences):\n",
    "#             if answer in sentence or any(word in sentence for word in question.split()):\n",
    "#                 supporting_facts.append([title, i])\n",
    "#     return supporting_facts"
   ]
  },
  {
   "cell_type": "code",
   "execution_count": 2,
   "metadata": {},
   "outputs": [],
   "source": [
    "qg = QueryGraph()\n",
    "my_dict = {}\n",
    "\n",
    "# Define a function to apply to each row\n",
    "def print_qa(row):\n",
    "    \n",
    "    question = row['question']\n",
    "    questionid = row['_id']\n",
    "    req = qg.get_requirements(question)\n",
    "    result = qg.answer_question(question, req.content)\n",
    "\n",
    "    if result is not None:\n",
    "    \n",
    "        model_answer = result['result']\n",
    "\n",
    "        if \"don't know the answer\" in model_answer:\n",
    "            model_answer = \"\"\n",
    "    \n",
    "        if len(row['answer']) > 0:\n",
    "            real_answer = row['answer']\n",
    "        else:\n",
    "            real_answer = \"\\\"\\\"\"\n",
    "\n",
    "        if len(result['intermediate_steps']) > 0:\n",
    "            cypher_query = result['intermediate_steps'][0]['query']\n",
    "            context = result['intermediate_steps'][1]['context']\n",
    "       \n",
    "            if(len(context) < 1):\n",
    "            #     result = refine_query(cypher_query[6:], question)\n",
    "            #     model_answer = result['result'] \n",
    "                model_answer = \"\\\"\\\"\"\n",
    "                my_dict.update({questionid: \"\"})\n",
    "            else:\n",
    "                my_dict.update({questionid: model_answer})\n",
    "                \n",
    "        with open(\"preds.txt\", \"a\") as preds:\n",
    "            preds.write(\"question: \" + question + \"\\n\")\n",
    "            preds.write(\"real_answer: \" + real_answer + \"\\n\")\n",
    "            preds.write(\"model_answer: \" + model_answer + \"\\n\")  \n",
    "            preds.write(\"cypher_query: \" + cypher_query + \"\\n\")\n",
    "            preds.write(\"======================\" + \"\\n\")  \n",
    "        preds.close()\n",
    "\n",
    "    else: \n",
    "        my_dict.update({questionid: \"\"})\n",
    "        "
   ]
  },
  {
   "cell_type": "code",
   "execution_count": 3,
   "metadata": {},
   "outputs": [
    {
     "name": "stderr",
     "output_type": "stream",
     "text": [
      "  0%|          | 0/31 [00:00<?, ?it/s]"
     ]
    },
    {
     "name": "stdout",
     "output_type": "stream",
     "text": [
      "\n",
      "\n",
      "\u001b[1m> Entering new GraphCypherQAChain chain...\u001b[0m\n",
      "Generated Cypher:\n",
      "\u001b[32;1m\u001b[1;3mcypher\n",
      "MATCH ()-[r1]-()\n",
      "WHERE (\n",
      "    toLower(r1.metadata) =~ '.*\\\\b(scott derrickson)\\\\b.*' OR\n",
      "    toLower(r1.description) =~ '.*\\\\b(scott derrickson)\\\\b.*'\n",
      ")\n",
      "RETURN DISTINCT r1.metadata AS info1\n",
      "UNION ALL\n",
      "MATCH ()-[r2]-()\n",
      "WHERE (\n",
      "    toLower(r2.metadata) =~ '.*\\\\b(ed wood)\\\\b.*' OR \n",
      "    toLower(r2.description) =~ '.*\\\\b(ed wood)\\\\b.*'\n",
      ")\n",
      "RETURN DISTINCT r2.metadata AS info1\n",
      "\u001b[0m\n",
      "Full Context:\n",
      "\u001b[32;1m\u001b[1;3m[{'info1': '{\"summary\": \"Adam Collis\\'s first work was as the assistant director for Scott Derrickson\\'s short film \\'Love in the Ruins\\' in 1995.\", \"generated_at\": \"2024-11-07 13:49:30.781924\"}'}, {'info1': '{\"summary\": \"Tyler Bates has collaborated with Scott Derrickson.\", \"generated_at\": \"2024-11-07 13:49:30.781924\"}'}, {'info1': '{\"summary\": \"The film Doctor Strange was directed by Scott Derrickson.\", \"generated_at\": \"2024-11-07 13:49:30.781924\"}'}, {'info1': '{\"summary\": \"Scott Derrickson wrote the film Doctor Strange with Jon Spaihts and C. Robert Cargill.\", \"generated_at\": \"2024-11-07 13:49:30.781924\"}'}, {'info1': '{\"summary\": \"Scott Derrickson directed Hellraiser: Inferno.\", \"generated_at\": \"2024-11-07 13:49:30.781924\"}'}, {'info1': '{\"summary\": \"Scott Derrickson directed Sinister.\", \"generated_at\": \"2024-11-07 13:49:30.781924\"}'}, {'info1': '{\"summary\": \"Scott Derrickson co-wrote Sinister with C. Robert Cargill.\", \"generated_at\": \"2024-11-07 13:49:30.781924\"}'}, {'info1': '{\"summary\": \"Scott Derrickson directed Deliver Us from Evil.\", \"generated_at\": \"2024-11-07 13:49:30.781924\"}'}, {'info1': '{\"summary\": \"Scott Derrickson directed The Exorcism of Emily Rose.\", \"generated_at\": \"2024-11-07 13:49:30.781924\"}'}, {'info1': '{\"summary\": \"Ed Wood is a 1994 American biographical period comedy-drama film.\", \"generated_at\": \"2024-11-07 13:49:30.781924\"}'}, {'info1': '{\"summary\": \"Tim Burton directed and produced Ed Wood.\", \"generated_at\": \"2024-11-07 13:49:30.781924\"}'}, {'info1': '{\"summary\": \"Johnny Depp stars as cult filmmaker Ed Wood in Ed Wood.\", \"generated_at\": \"2024-11-07 13:49:30.781924\"}'}, {'info1': '{\"summary\": \"The film concerns the period in Ed Wood\\'s life when Ed Wood made his best-known films.\", \"generated_at\": \"2024-11-07 13:49:30.781924\"}'}, {'info1': '{\"summary\": \"The film also concerns Ed Wood\\'s relationship with actor Bela Lugosi.\", \"generated_at\": \"2024-11-07 13:49:30.781924\"}'}, {'info1': '{\"summary\": \"Martin Landau plays the role of Bela Lugosi in Ed Wood.\", \"generated_at\": \"2024-11-07 13:49:30.781924\"}'}, {'info1': '{\"summary\": \"Sarah Jessica Parker is among the supporting cast of Ed Wood.\", \"generated_at\": \"2024-11-07 13:49:30.781924\"}'}, {'info1': '{\"summary\": \"Patricia Arquette is among the supporting cast of Ed Wood.\", \"generated_at\": \"2024-11-07 13:49:30.781924\"}'}, {'info1': '{\"summary\": \"Jeffrey Jones is among the supporting cast of Ed Wood.\", \"generated_at\": \"2024-11-07 13:49:30.781924\"}'}, {'info1': '{\"summary\": \"Lisa Marie is among the supporting cast of Ed Wood.\", \"generated_at\": \"2024-11-07 13:49:30.781924\"}'}, {'info1': '{\"summary\": \"Bill Murray is among the supporting cast of Ed Wood.\", \"generated_at\": \"2024-11-07 13:49:30.781924\"}'}, {'info1': '{\"summary\": \"Woodson is named after Ed Wood Sr.\", \"generated_at\": \"2024-11-07 13:49:30.781924\"}'}, {'info1': '{\"summary\": \"Ed Wood Sr. was a prominent plantation owner, trader, and businessman at the turn of the 20th century.\", \"generated_at\": \"2024-11-07 13:49:30.781924\"}'}, {'info1': '{\"summary\": \"The Wood Plantation is the largest of the plantations owned by Ed Wood Sr.\", \"generated_at\": \"2024-11-07 13:49:30.781924\"}'}, {'info1': '{\"summary\": \"Conrad Brooks got his start in movies by appearing in Ed Wood films.\", \"generated_at\": \"2024-11-07 13:49:30.781924\"}'}, {'info1': '{\"summary\": \"Conrad Brooks appeared in the Ed Wood film \\'Plan 9 from Outer Space.\\'\", \"generated_at\": \"2024-11-07 13:49:30.781924\"}'}, {'info1': '{\"summary\": \"Conrad Brooks appeared in the Ed Wood film \\'Glen or Glenda.\\'\", \"generated_at\": \"2024-11-07 13:49:30.781924\"}'}, {'info1': '{\"summary\": \"Conrad Brooks appeared in the Ed Wood film \\'Jail Bait.\\'\", \"generated_at\": \"2024-11-07 13:49:30.781924\"}'}, {'info1': '{\"summary\": \"Due to the ongoing interest in the films of Ed Wood, Conrad Brooks reemerged in the 1980s.\", \"generated_at\": \"2024-11-07 13:49:30.781924\"}'}]\u001b[0m\n"
     ]
    },
    {
     "name": "stderr",
     "output_type": "stream",
     "text": [
      "  6%|▋         | 2/31 [00:07<01:49,  3.78s/it]"
     ]
    },
    {
     "name": "stdout",
     "output_type": "stream",
     "text": [
      "\n",
      "\u001b[1m> Finished chain.\u001b[0m\n",
      "\n",
      "\n",
      "\u001b[1m> Entering new GraphCypherQAChain chain...\u001b[0m\n",
      "Generated Cypher:\n",
      "\u001b[32;1m\u001b[1;3mcypher\n",
      "MATCH (w)-[r1]-(x)-[r2]-(y)\n",
      "WHERE (\n",
      "    toLower(r1.metadata) =~ '.*\\\\b(kiss and tell)\\\\b.*' OR\n",
      "    toLower(r1.description) =~ '.*\\\\b(corliss archer)\\\\b.*'\n",
      ")\n",
      "AND (\n",
      "    toLower(r2.metadata) =~ '.*\\\\b(government|position)\\\\b.*' OR \n",
      "    toLower(r2.description) =~ '.*\\\\b(government|position)\\\\b.*'\n",
      ")\n",
      "RETURN DISTINCT r1.metadata, r1.description, r2.metadata, r2.description\n",
      "\u001b[0m\n",
      "Full Context:\n",
      "\u001b[32;1m\u001b[1;3m[]\u001b[0m\n"
     ]
    },
    {
     "name": "stderr",
     "output_type": "stream",
     "text": [
      " 10%|▉         | 3/31 [00:13<02:14,  4.79s/it]"
     ]
    },
    {
     "name": "stdout",
     "output_type": "stream",
     "text": [
      "\n",
      "\u001b[1m> Finished chain.\u001b[0m\n",
      "\n",
      "\n",
      "\u001b[1m> Entering new GraphCypherQAChain chain...\u001b[0m\n",
      "Generated Cypher:\n",
      "\u001b[32;1m\u001b[1;3mcypher\n",
      "MATCH (w)-[r1]-(x)-[r2]-(y)\n",
      "WHERE (\n",
      "    toLower(r1.metadata) =~ '.*\\\\b(science fantasy)\\\\b.*' OR\n",
      "    toLower(r1.description) =~ '.*\\\\b(science fantasy)\\\\b.*'\n",
      ")\n",
      "AND (\n",
      "    toLower(r1.metadata) =~ '.*\\\\b(young adult)\\\\b.*' OR\n",
      "    toLower(r1.description) =~ '.*\\\\b(young adult)\\\\b.*'\n",
      ")\n",
      "AND (\n",
      "    toLower(r1.metadata) =~ '.*\\\\b(first person)\\\\b.*' OR\n",
      "    toLower(r1.description) =~ '.*\\\\b(first person)\\\\b.*'\n",
      ")\n",
      "AND (\n",
      "    toLower(r2.metadata) =~ '.*\\\\b(companion books)\\\\b.*' OR\n",
      "    toLower(r2.description) =~ '.*\\\\b(companion books)\\\\b.*'\n",
      ")\n",
      "AND (\n",
      "    toLower(r2.metadata) =~ '.*\\\\b(enslaved worlds)\\\\b.*' OR\n",
      "    toLower(r2.description) =~ '.*\\\\b(enslaved worlds)\\\\b.*'\n",
      "    OR\n",
      "    toLower(r2.metadata) =~ '.*\\\\b(alien species)\\\\b.*' OR\n",
      "    toLower(r2.description) =~ '.*\\\\b(alien species)\\\\b.*'\n",
      ")\n",
      "RETURN DISTINCT r1.metadata, r1.description, r2.metadata, r2.description\n",
      "\u001b[0m\n",
      "Full Context:\n",
      "\u001b[32;1m\u001b[1;3m[]\u001b[0m\n"
     ]
    },
    {
     "name": "stderr",
     "output_type": "stream",
     "text": [
      " 13%|█▎        | 4/31 [00:24<03:10,  7.04s/it]"
     ]
    },
    {
     "name": "stdout",
     "output_type": "stream",
     "text": [
      "\n",
      "\u001b[1m> Finished chain.\u001b[0m\n",
      "\n",
      "\n",
      "\u001b[1m> Entering new GraphCypherQAChain chain...\u001b[0m\n",
      "Generated Cypher:\n",
      "\u001b[32;1m\u001b[1;3mcypher\n",
      "MATCH ()-[r1]-()\n",
      "WHERE (\n",
      "    toLower(r1.metadata) =~ '.*\\\\b(laleli mosque)\\\\b.*' OR\n",
      "    toLower(r1.description) =~ '.*\\\\b(laleli mosque)\\\\b.*'\n",
      ")\n",
      "RETURN DISTINCT r1.metadata AS info1\n",
      "UNION ALL\n",
      "MATCH ()-[r2]-()\n",
      "WHERE (\n",
      "    toLower(r2.metadata) =~ '.*\\\\b(esma sultan mansion)\\\\b.*' OR \n",
      "    toLower(r2.description) =~ '.*\\\\b(esma sultan mansion)\\\\b.*'\n",
      ")\n",
      "RETURN DISTINCT r2.metadata AS info1\n",
      "\u001b[0m\n",
      "Full Context:\n",
      "\u001b[32;1m\u001b[1;3m[{'info1': '{\"summary\": \"The Laleli Mosque is an 18th-century Ottoman imperial mosque.\", \"generated_at\": \"2024-11-07 19:27:15.009521\"}'}, {'info1': '{\"summary\": \"The Laleli Mosque is located in Laleli, Fatih, Istanbul, Turkey.\", \"generated_at\": \"2024-11-07 19:27:15.009521\"}'}, {'info1': '{\"summary\": \"Laleli Mosque is also known as Laleli Camii or Tulip Mosque.\", \"generated_at\": \"2024-11-07 19:27:15.009521\"}'}, {'info1': '{\"summary\": \"The Esma Sultan Mansion is a historical yal\\\\u0131.\", \"generated_at\": \"2024-11-07 19:27:15.009521\"}'}, {'info1': '{\"summary\": \"The Esma Sultan Mansion is located at the Bosphorus in the Ortak\\\\u00f6y neighborhood of Istanbul, Turkey.\", \"generated_at\": \"2024-11-07 19:27:15.009521\"}'}, {'info1': '{\"summary\": \"The Esma Sultan Mansion is named after its original owner, Esma Sultan.\", \"generated_at\": \"2024-11-07 19:27:15.009521\"}'}, {'info1': '{\"summary\": \"The Esma Sultan Mansion is used today as a cultural center.\", \"generated_at\": \"2024-11-07 19:27:15.009521\"}'}, {'info1': '{\"summary\": \"The Esma Sultan Mansion was redeveloped.\", \"generated_at\": \"2024-11-07 19:27:15.009521\"}'}]\u001b[0m\n"
     ]
    },
    {
     "name": "stderr",
     "output_type": "stream",
     "text": [
      " 16%|█▌        | 5/31 [00:34<03:26,  7.95s/it]"
     ]
    },
    {
     "name": "stdout",
     "output_type": "stream",
     "text": [
      "\n",
      "\u001b[1m> Finished chain.\u001b[0m\n",
      "\n",
      "\n",
      "\u001b[1m> Entering new GraphCypherQAChain chain...\u001b[0m\n",
      "Generated Cypher:\n",
      "\u001b[32;1m\u001b[1;3mcypher\n",
      "MATCH (w)-[r1]-(x)-[r2]-(y)\n",
      "WHERE (\n",
      "    toLower(r1.metadata) =~ '.*\\\\b(big stone gap)\\\\b.*' OR\n",
      "    toLower(r1.description) =~ '.*\\\\b(director)\\\\b.*'\n",
      ")\n",
      "AND (\n",
      "    toLower(r2.metadata) =~ '.*\\\\b(new york)\\\\b.*' OR \n",
      "    toLower(r2.description) =~ '.*\\\\b(new york)\\\\b.*'\n",
      ")\n",
      "RETURN DISTINCT r1.metadata, r1.description, r2.metadata, r2.description\n",
      "\u001b[0m\n",
      "Full Context:\n",
      "\u001b[32;1m\u001b[1;3m[{'r1.metadata': '{\"summary\": \"Kingston Morning was recorded in Big Stone Gap, Virginia.\", \"generated_at\": \"2024-11-07 19:27:15.009521\"}', 'r1.description': 'Kingston Morning was recorded in Big Stone Gap.', 'r2.metadata': '{\"summary\": \"Kingston Morning was recorded in Brooklyn, New York.\", \"generated_at\": \"2024-11-07 19:27:15.009521\"}', 'r2.description': 'Kingston Morning was recorded in Brooklyn.'}, {'r1.metadata': '{\"summary\": \"Kingston Morning was recorded in Big Stone Gap, Virginia.\", \"generated_at\": \"2024-11-07 19:27:15.009521\"}', 'r1.description': 'Kingston Morning was recorded in Big Stone Gap.', 'r2.metadata': '{\"summary\": \"Kingston Morning was recorded in Brooklyn, New York.\", \"generated_at\": \"2024-11-07 19:27:15.009521\"}', 'r2.description': 'Kingston Morning was recorded in New York.'}, {'r1.metadata': '{\"summary\": \"David Jonathan Waksberg first served as Assistant Director of the Bay Area Council for Soviet Jews.\", \"generated_at\": \"2024-11-07 19:27:15.009521\"}', 'r1.description': 'David Jonathan Waksberg served in the capacity of Assistant Director.', 'r2.metadata': '{\"summary\": \"David Jonathan Waksberg was born on December 14, 1956 in New York City.\", \"generated_at\": \"2024-11-07 19:27:15.009521\"}', 'r2.description': 'David Jonathan Waksberg was born in New York City.'}, {'r1.metadata': '{\"summary\": \"David Jonathan Waksberg later served as Executive Director of the Bay Area Council for Soviet Jews.\", \"generated_at\": \"2024-11-07 19:27:15.009521\"}', 'r1.description': 'David Jonathan Waksberg served as Executive Director of the Bay Area Council for Soviet Jews.', 'r2.metadata': '{\"summary\": \"David Jonathan Waksberg was born on December 14, 1956 in New York City.\", \"generated_at\": \"2024-11-07 19:27:15.009521\"}', 'r2.description': 'David Jonathan Waksberg was born in New York City.'}, {'r1.metadata': '{\"summary\": \"In 1990, David Jonathan Waksberg took on the role of Director of the Center for Jewish Renewal.\", \"generated_at\": \"2024-11-07 19:27:15.009521\"}', 'r1.description': 'David Jonathan Waksberg took on the role of Director.', 'r2.metadata': '{\"summary\": \"David Jonathan Waksberg was born on December 14, 1956 in New York City.\", \"generated_at\": \"2024-11-07 19:27:15.009521\"}', 'r2.description': 'David Jonathan Waksberg was born in New York City.'}, {'r1.metadata': '{\"summary\": \"David Jonathan Waksberg served as Director of Development and Communication of the Union of Councils for Soviet Jews.\", \"generated_at\": \"2024-11-07 19:27:15.009521\"}', 'r1.description': 'David Jonathan Waksberg held the position of Director of Development and Communication.', 'r2.metadata': '{\"summary\": \"David Jonathan Waksberg was born on December 14, 1956 in New York City.\", \"generated_at\": \"2024-11-07 19:27:15.009521\"}', 'r2.description': 'David Jonathan Waksberg was born in New York City.'}, {'r1.metadata': '{\"summary\": \"Since 2007, David Jonathan Waksberg has served as Executive Director of the Bureau of Jewish Education of San Francisco.\", \"generated_at\": \"2024-11-07 19:27:15.009521\"}', 'r1.description': 'David Jonathan Waksberg has served in the role of Executive Director.', 'r2.metadata': '{\"summary\": \"David Jonathan Waksberg was born on December 14, 1956 in New York City.\", \"generated_at\": \"2024-11-07 19:27:15.009521\"}', 'r2.description': 'David Jonathan Waksberg was born in New York City.'}, {'r1.metadata': '{\"summary\": \"David Jonathan Waksberg first served as Assistant Director of the Bay Area Council for Soviet Jews.\", \"generated_at\": \"2024-11-07 19:27:15.009521\"}', 'r1.description': 'David Jonathan Waksberg served in the capacity of Assistant Director.', 'r2.metadata': '{\"summary\": \"David Jonathan Waksberg was born on December 14, 1956 in New York City.\", \"generated_at\": \"2024-11-07 19:27:15.009521\"}', 'r2.description': \"David Jonathan Waksberg's birth occurred on December 14, 1956.\"}, {'r1.metadata': '{\"summary\": \"David Jonathan Waksberg later served as Executive Director of the Bay Area Council for Soviet Jews.\", \"generated_at\": \"2024-11-07 19:27:15.009521\"}', 'r1.description': 'David Jonathan Waksberg served as Executive Director of the Bay Area Council for Soviet Jews.', 'r2.metadata': '{\"summary\": \"David Jonathan Waksberg was born on December 14, 1956 in New York City.\", \"generated_at\": \"2024-11-07 19:27:15.009521\"}', 'r2.description': \"David Jonathan Waksberg's birth occurred on December 14, 1956.\"}, {'r1.metadata': '{\"summary\": \"In 1990, David Jonathan Waksberg took on the role of Director of the Center for Jewish Renewal.\", \"generated_at\": \"2024-11-07 19:27:15.009521\"}', 'r1.description': 'David Jonathan Waksberg took on the role of Director.', 'r2.metadata': '{\"summary\": \"David Jonathan Waksberg was born on December 14, 1956 in New York City.\", \"generated_at\": \"2024-11-07 19:27:15.009521\"}', 'r2.description': \"David Jonathan Waksberg's birth occurred on December 14, 1956.\"}, {'r1.metadata': '{\"summary\": \"David Jonathan Waksberg served as Director of Development and Communication of the Union of Councils for Soviet Jews.\", \"generated_at\": \"2024-11-07 19:27:15.009521\"}', 'r1.description': 'David Jonathan Waksberg held the position of Director of Development and Communication.', 'r2.metadata': '{\"summary\": \"David Jonathan Waksberg was born on December 14, 1956 in New York City.\", \"generated_at\": \"2024-11-07 19:27:15.009521\"}', 'r2.description': \"David Jonathan Waksberg's birth occurred on December 14, 1956.\"}, {'r1.metadata': '{\"summary\": \"Since 2007, David Jonathan Waksberg has served as Executive Director of the Bureau of Jewish Education of San Francisco.\", \"generated_at\": \"2024-11-07 19:27:15.009521\"}', 'r1.description': 'David Jonathan Waksberg has served in the role of Executive Director.', 'r2.metadata': '{\"summary\": \"David Jonathan Waksberg was born on December 14, 1956 in New York City.\", \"generated_at\": \"2024-11-07 19:27:15.009521\"}', 'r2.description': \"David Jonathan Waksberg's birth occurred on December 14, 1956.\"}, {'r1.metadata': '{\"summary\": \"Hope Charlotte Hicks is the current White House Communications Director for President Donald Trump.\", \"generated_at\": \"2024-11-07 19:27:15.009521\"}', 'r1.description': 'Hope Charlotte Hicks is the White House Communications Director for Donald Trump.', 'r2.metadata': '{\"summary\": \"Donald Trump was from New York.\", \"generated_at\": \"2024-11-07 19:27:15.009521\"}', 'r2.description': 'Donald Trump is associated with New York as his place of origin.'}, {'r1.metadata': '{\"summary\": \"Brad Parscale served as the digital media director for Donald Trump\\'s 2016 presidential campaign.\", \"generated_at\": \"2024-11-07 19:27:15.009521\"}', 'r1.description': \"Brad Parscale served as the digital media director for Donald Trump's 2016 presidential campaign.\", 'r2.metadata': '{\"summary\": \"Donald Trump was from New York.\", \"generated_at\": \"2024-11-07 19:27:15.009521\"}', 'r2.description': 'Donald Trump is associated with New York as his place of origin.'}]\u001b[0m\n"
     ]
    },
    {
     "name": "stderr",
     "output_type": "stream",
     "text": [
      " 19%|█▉        | 6/31 [00:42<03:19,  7.96s/it]"
     ]
    },
    {
     "name": "stdout",
     "output_type": "stream",
     "text": [
      "\n",
      "\u001b[1m> Finished chain.\u001b[0m\n",
      "\n",
      "\n",
      "\u001b[1m> Entering new GraphCypherQAChain chain...\u001b[0m\n",
      "Generated Cypher:\n",
      "\u001b[32;1m\u001b[1;3mcypher\n",
      "MATCH (w)-[r1]-(x)-[r2]-(y)\n",
      "WHERE (\n",
      "    toLower(r1.metadata) =~ '.*\\\\b(2014 s/s)\\\\b.*' OR\n",
      "    toLower(r1.description) =~ '.*\\\\b(debut album)\\\\b.*'\n",
      ")\n",
      "AND (\n",
      "    toLower(r2.metadata) =~ '.*\\\\b(south korean boy group)\\\\b.*' OR \n",
      "    toLower(r2.description) =~ '.*\\\\b(south korean boy group)\\\\b.*'\n",
      ")\n",
      "RETURN DISTINCT r1.metadata, r1.description, r2.metadata, r2.description\n",
      "\u001b[0m\n",
      "Full Context:\n",
      "\u001b[32;1m\u001b[1;3m[{'r1.metadata': '{\"summary\": \"Warrior is the first single from B.A.P\\'s self-titled debut album.\", \"generated_at\": \"2024-11-07 19:27:15.009521\"}', 'r1.description': \"Warrior is a single that is part of B.A.P's self-titled debut album.\", 'r2.metadata': '{\"summary\": \"Warrior is a song recorded by the South Korean boy group B.A.P.\", \"generated_at\": \"2024-11-07 19:27:15.009521\"}', 'r2.description': 'Warrior is a song that was recorded by the boy group B.A.P.'}, {'r1.metadata': '{\"summary\": \"Madtown\\'s debut album is titled \\'Mad Town\\'.\", \"generated_at\": \"2024-11-07 19:27:15.009521\"}', 'r1.description': \"Madtown's debut album is titled Mad Town.\", 'r2.metadata': '{\"summary\": \"Madtown is a South Korean boy group.\", \"generated_at\": \"2024-11-07 19:27:15.009521\"}', 'r2.description': 'Madtown is classified as a South Korean boy group.'}]\u001b[0m\n"
     ]
    },
    {
     "name": "stderr",
     "output_type": "stream",
     "text": [
      " 23%|██▎       | 7/31 [00:50<03:12,  8.02s/it]"
     ]
    },
    {
     "name": "stdout",
     "output_type": "stream",
     "text": [
      "\n",
      "\u001b[1m> Finished chain.\u001b[0m\n",
      "\n",
      "\n",
      "\u001b[1m> Entering new GraphCypherQAChain chain...\u001b[0m\n",
      "Generated Cypher:\n",
      "\u001b[32;1m\u001b[1;3mcypher\n",
      "MATCH (w)-[r1]-(x)-[r2]-(y)\n",
      "WHERE (\n",
      "    toLower(r1.metadata) =~ '.*\\\\b(aladin)\\\\b.*' OR\n",
      "    toLower(r1.description) =~ '.*\\\\b(aladin)\\\\b.*'\n",
      ")\n",
      "AND (\n",
      "    toLower(r2.metadata) =~ '.*\\\\b(consultant)\\\\b.*' OR \n",
      "    toLower(r2.description) =~ '.*\\\\b(consultant)\\\\b.*'\n",
      ")\n",
      "RETURN DISTINCT r1.metadata, r1.description, r2.metadata, r2.description\n",
      "\u001b[0m\n",
      "Full Context:\n",
      "\u001b[32;1m\u001b[1;3m[{'r1.metadata': '{\"summary\": \"Eenasul Fateh is also known by the stage name Aladin.\", \"generated_at\": \"2024-11-07 19:27:15.009521\"}', 'r1.description': 'Eenasul Fateh is known by the stage name Aladin.', 'r2.metadata': '{\"summary\": \"Eenasul Fateh is a former international management consultant.\", \"generated_at\": \"2024-11-07 19:27:15.009521\"}', 'r2.description': 'Eenasul Fateh is identified as a former international management consultant.'}]\u001b[0m\n"
     ]
    },
    {
     "name": "stderr",
     "output_type": "stream",
     "text": [
      " 26%|██▌       | 8/31 [00:56<02:53,  7.55s/it]"
     ]
    },
    {
     "name": "stdout",
     "output_type": "stream",
     "text": [
      "\n",
      "\u001b[1m> Finished chain.\u001b[0m\n",
      "\n",
      "\n",
      "\u001b[1m> Entering new GraphCypherQAChain chain...\u001b[0m\n",
      "Generated Cypher:\n",
      "\u001b[32;1m\u001b[1;3mMATCH (w)-[r1]-(x)-[r2]-(y)\n",
      "WHERE (\n",
      "    toLower(r1.metadata) =~ '.*\\\\b(lewiston maineiacs)\\\\b.*' OR\n",
      "    toLower(r1.description) =~ '.*\\\\b(lewiston maineiacs)\\\\b.*'\n",
      ")\n",
      "AND (\n",
      "    toLower(r2.metadata) =~ '.*\\\\b(arena)\\\\b.*' OR \n",
      "    toLower(r2.description) =~ '.*\\\\b(arena)\\\\b.*'\n",
      ")\n",
      "RETURN DISTINCT r1.metadata, r1.description, r2.metadata, r2.description\u001b[0m\n",
      "Full Context:\n",
      "\u001b[32;1m\u001b[1;3m[{'r1.metadata': '{\"summary\": \"The Lewiston Maineiacs were the second QMJHL team in the United States.\", \"generated_at\": \"2024-11-07 19:27:15.009521\"}', 'r1.description': 'The Lewiston Maineiacs were located in the United States, marking them as the second team from this country in the QMJHL.', 'r2.metadata': '{\"summary\": \"The Robert and Concetta Dwyer Arena is located on Niagara University\\'s campus in Lewiston, New York, United States.\", \"generated_at\": \"2024-11-07 19:27:15.009521\"}', 'r2.description': 'New York is a state in the United States.'}, {'r1.metadata': '{\"summary\": \"The Lewiston Maineiacs played their home games at the Androscoggin Bank Colis\\\\u00e9e.\", \"generated_at\": \"2024-11-07 19:27:15.009521\"}', 'r1.description': 'The home games of the Lewiston Maineiacs took place at the Androscoggin Bank Colisée.', 'r2.metadata': '{\"summary\": \"The Billings Bulls most recently played home games at the Centennial Ice Arena.\", \"generated_at\": \"2024-11-07 19:27:15.009521\"}', 'r2.description': 'The home games of the Billings Bulls took place at the Centennial Ice Arena.'}]\u001b[0m\n"
     ]
    },
    {
     "name": "stderr",
     "output_type": "stream",
     "text": [
      " 29%|██▉       | 9/31 [01:01<02:22,  6.48s/it]"
     ]
    },
    {
     "name": "stdout",
     "output_type": "stream",
     "text": [
      "\n",
      "\u001b[1m> Finished chain.\u001b[0m\n",
      "\n",
      "\n",
      "\u001b[1m> Entering new GraphCypherQAChain chain...\u001b[0m\n",
      "Generated Cypher:\n",
      "\u001b[32;1m\u001b[1;3mcypher\n",
      "MATCH ()-[r1]-()\n",
      "WHERE (\n",
      "    toLower(r1.metadata) =~ '.*\\\\b(annie morton)\\\\b.*' OR\n",
      "    toLower(r1.description) =~ '.*\\\\b(annie morton)\\\\b.*'\n",
      ")\n",
      "RETURN DISTINCT r1.metadata AS info1\n",
      "UNION ALL\n",
      "MATCH ()-[r2]-()\n",
      "WHERE (\n",
      "    toLower(r2.metadata) =~ '.*\\\\b(terry richardson)\\\\b.*' OR \n",
      "    toLower(r2.description) =~ '.*\\\\b(terry richardson)\\\\b.*'\n",
      ")\n",
      "RETURN DISTINCT r2.metadata AS info1\n",
      "\u001b[0m\n",
      "Full Context:\n",
      "\u001b[32;1m\u001b[1;3m[{'info1': '{\"summary\": \"Annie Morton was born on October 8, 1970.\", \"generated_at\": \"2024-11-07 19:27:15.009521\"}'}, {'info1': '{\"summary\": \"Annie Morton is an American model.\", \"generated_at\": \"2024-11-07 19:27:15.009521\"}'}, {'info1': '{\"summary\": \"Annie Morton was born in Pennsylvania.\", \"generated_at\": \"2024-11-07 19:27:15.009521\"}'}, {'info1': '{\"summary\": \"Annie Morton has appeared on the covers of British Vogue.\", \"generated_at\": \"2024-11-07 19:27:15.009521\"}'}, {'info1': '{\"summary\": \"Annie Morton has appeared on the covers of ID.\", \"generated_at\": \"2024-11-07 19:27:15.009521\"}'}, {'info1': '{\"summary\": \"Annie Morton has appeared on the covers of Marie Claire.\", \"generated_at\": \"2024-11-07 19:27:15.009521\"}'}, {'info1': '{\"summary\": \"Annie Morton has appeared on the covers of other magazines.\", \"generated_at\": \"2024-11-07 19:27:15.009521\"}'}, {'info1': '{\"summary\": \"Annie Morton has been photographed by Helmut Newton.\", \"generated_at\": \"2024-11-07 19:27:15.009521\"}'}, {'info1': '{\"summary\": \"Annie Morton has been photographed by Peter Lindbergh.\", \"generated_at\": \"2024-11-07 19:27:15.009521\"}'}, {'info1': '{\"summary\": \"Annie Morton has been photographed by Annie Leibovitz.\", \"generated_at\": \"2024-11-07 19:27:15.009521\"}'}, {'info1': '{\"summary\": \"Annie Morton has been photographed by Richard Avedon.\", \"generated_at\": \"2024-11-07 19:27:15.009521\"}'}, {'info1': '{\"summary\": \"Annie Morton has been photographed by Juergen Teller.\", \"generated_at\": \"2024-11-07 19:27:15.009521\"}'}, {'info1': '{\"summary\": \"Annie Morton has been photographed by Paul Jasmin.\", \"generated_at\": \"2024-11-07 19:27:15.009521\"}'}, {'info1': '{\"summary\": \"Annie Morton has been photographed by Mary Ellen Mark.\", \"generated_at\": \"2024-11-07 19:27:15.009521\"}'}, {'info1': '{\"summary\": \"Annie Morton has been photographed by Terry Richardson.\", \"generated_at\": \"2024-11-07 19:27:15.009521\"}'}, {'info1': '{\"summary\": \"Annie Morton has modeled for Donna Karan.\", \"generated_at\": \"2024-11-07 19:27:15.009521\"}'}, {'info1': '{\"summary\": \"Annie Morton has modeled for Givenchy.\", \"generated_at\": \"2024-11-07 19:27:15.009521\"}'}, {'info1': '{\"summary\": \"Annie Morton has modeled for Guerlain.\", \"generated_at\": \"2024-11-07 19:27:15.009521\"}'}, {'info1': '{\"summary\": \"Annie Morton has modeled for Chanel.\", \"generated_at\": \"2024-11-07 19:27:15.009521\"}'}, {'info1': '{\"summary\": \"Annie Morton has modeled for Harper\\'s Bazaar.\", \"generated_at\": \"2024-11-07 19:27:15.009521\"}'}, {'info1': '{\"summary\": \"Annie Morton has modeled for Sports Illustrated.\", \"generated_at\": \"2024-11-07 19:27:15.009521\"}'}, {'info1': '{\"summary\": \"Annie Morton has modeled for Victoria\\'s Secret.\", \"generated_at\": \"2024-11-07 19:27:15.009521\"}'}, {'info1': '{\"summary\": \"Annie Morton is a long-time vegetarian.\", \"generated_at\": \"2024-11-07 19:27:15.009521\"}'}, {'info1': '{\"summary\": \"Annie Morton is an advocate for organic lifestyle choices.\", \"generated_at\": \"2024-11-07 19:27:15.009521\"}'}, {'info1': '{\"summary\": \"Annie Morton is an advocate for natural healthcare.\", \"generated_at\": \"2024-11-07 19:27:15.009521\"}'}, {'info1': '{\"summary\": \"Annie Morton co-founded Tsi-La Organics.\", \"generated_at\": \"2024-11-07 19:27:15.009521\"}'}, {'info1': '{\"summary\": \"Lady Gaga x Terry Richardson is a photo-book.\", \"generated_at\": \"2024-11-07 19:27:15.009521\"}'}, {'info1': '{\"summary\": \"Terry Richardson is an American photographer.\", \"generated_at\": \"2024-11-07 19:27:15.009521\"}'}, {'info1': '{\"summary\": \"Lady Gaga x Terry Richardson was released on November 22, 2011.\", \"generated_at\": \"2024-11-07 19:27:15.009521\"}'}, {'info1': '{\"summary\": \"Lady Gaga x Terry Richardson was released by Grand Central Publishing.\", \"generated_at\": \"2024-11-07 19:27:15.009521\"}'}, {'info1': '{\"summary\": \"The pictures of Lady Gaga were taken by Terry Richardson.\", \"generated_at\": \"2024-11-07 19:27:15.009521\"}'}, {'info1': '{\"summary\": \"The foreword discusses Lady Gaga\\'s relationship with Terry Richardson.\", \"generated_at\": \"2024-11-07 19:27:15.009521\"}'}, {'info1': '{\"summary\": \"Lady Gaga and Terry Richardson had collaborated on other projects prior to the shooting of the book.\", \"generated_at\": \"2024-11-07 19:27:15.009521\"}'}, {'info1': '{\"summary\": \"Terry Richardson is a writer for Today\\'s Zaman.\", \"generated_at\": \"2024-11-07 19:27:15.009521\"}'}, {'info1': '{\"summary\": \"According to Terry Richardson, the audience at the 46th Antalya Golden Orange Film Festival gave Piano Girl a standing ovation.\", \"generated_at\": \"2024-11-07 19:27:15.009521\"}'}, {'info1': '{\"summary\": \"The magazine has featured artists such as Terry Richardson.\", \"generated_at\": \"2024-11-07 19:27:15.009521\"}'}, {'info1': '{\"summary\": \"Kenton Terry Richardson was born on 26 July 1999.\", \"generated_at\": \"2024-11-07 19:27:15.009521\"}'}, {'info1': '{\"summary\": \"Kenton Terry Richardson is an English professional footballer.\", \"generated_at\": \"2024-11-07 19:27:15.009521\"}'}, {'info1': '{\"summary\": \"Kenton Terry Richardson plays as a defender.\", \"generated_at\": \"2024-11-07 19:27:15.009521\"}'}, {'info1': '{\"summary\": \"Kenton Terry Richardson plays for Hartlepool United.\", \"generated_at\": \"2024-11-07 19:27:15.009521\"}'}, {'info1': '{\"summary\": \"Terry Richardson is one of the photographers who has worked with Amanda Lepore.\", \"generated_at\": \"2024-11-07 19:27:15.009521\"}'}, {'info1': '{\"summary\": \"index Magazine regularly employed rising photographers such as Juergen Teller, Terry Richardson, Wolfgang Tillmans, and Ryan McGinley.\", \"generated_at\": \"2024-11-07 19:27:15.009521\"}'}, {'info1': '{\"summary\": \"Annie Morton has been photographed by Terry Richardson.\", \"generated_at\": \"2024-11-07 19:27:15.009521\"}'}]\u001b[0m\n"
     ]
    },
    {
     "name": "stderr",
     "output_type": "stream",
     "text": [
      " 32%|███▏      | 10/31 [01:06<02:07,  6.09s/it]"
     ]
    },
    {
     "name": "stdout",
     "output_type": "stream",
     "text": [
      "\n",
      "\u001b[1m> Finished chain.\u001b[0m\n",
      "\n",
      "\n",
      "\u001b[1m> Entering new GraphCypherQAChain chain...\u001b[0m\n",
      "Generated Cypher:\n",
      "\u001b[32;1m\u001b[1;3mcypher\n",
      "MATCH ()-[r1]-()\n",
      "WHERE (\n",
      "    toLower(r1.metadata) =~ '.*\\\\b(local h)\\\\b.*' OR\n",
      "    toLower(r1.description) =~ '.*\\\\b(local h)\\\\b.*'\n",
      ")\n",
      "RETURN DISTINCT r1.metadata AS info1\n",
      "UNION ALL\n",
      "MATCH ()-[r2]-()\n",
      "WHERE (\n",
      "    toLower(r2.metadata) =~ '.*\\\\b(for against)\\\\b.*' OR \n",
      "    toLower(r2.description) =~ '.*\\\\b(for against)\\\\b.*'\n",
      ")\n",
      "RETURN DISTINCT r2.metadata AS info1\n",
      "\u001b[0m\n",
      "Full Context:\n",
      "\u001b[32;1m\u001b[1;3m[{'info1': '{\"summary\": \"Ophur performed with national acts including Local H.\", \"generated_at\": \"2024-11-07 19:27:15.009521\"}'}, {'info1': '{\"summary\": \"Suffrajett has toured with Local H.\", \"generated_at\": \"2024-11-07 19:27:15.009521\"}'}, {'info1': '{\"summary\": \"Hallelujah! I\\'m A Bum is the seventh studio album by Local H.\", \"generated_at\": \"2024-11-07 19:27:15.009521\"}'}, {'info1': '{\"summary\": \"Local H is a Chicago-based rock band.\", \"generated_at\": \"2024-11-07 19:27:15.009521\"}'}, {'info1': '{\"summary\": \"Interviews with Local H have revealed that Hallelujah! I\\'m A Bum is a concept album based on politics in the United States.\", \"generated_at\": \"2024-11-07 19:27:15.009521\"}'}, {'info1': '{\"summary\": \"Local H chose to release Hallelujah! I\\'m A Bum in September.\", \"generated_at\": \"2024-11-07 19:27:15.009521\"}'}]\u001b[0m\n"
     ]
    },
    {
     "name": "stderr",
     "output_type": "stream",
     "text": [
      " 35%|███▌      | 11/31 [01:11<01:53,  5.69s/it]"
     ]
    },
    {
     "name": "stdout",
     "output_type": "stream",
     "text": [
      "\n",
      "\u001b[1m> Finished chain.\u001b[0m\n",
      "\n",
      "\n",
      "\u001b[1m> Entering new GraphCypherQAChain chain...\u001b[0m\n",
      "Generated Cypher:\n",
      "\u001b[32;1m\u001b[1;3mcypher\n",
      "MATCH (w)-[r1]-(x)-[r2]-(y)\n",
      "WHERE (\n",
      "    toLower(r1.metadata) =~ '.*\\\\b(lawrence)\\\\b.*' OR\n",
      "    toLower(r1.description) =~ '.*\\\\b(lawrence)\\\\b.*'\n",
      ")\n",
      "AND (\n",
      "    toLower(r2.metadata) =~ '.*\\\\b(kansas city metropolitan area)\\\\b.*' OR \n",
      "    toLower(r2.description) =~ '.*\\\\b(kansas city metropolitan area)\\\\b.*'\n",
      ")\n",
      "RETURN DISTINCT r1.metadata, r1.description, r2.metadata, r2.description\n",
      "\u001b[0m\n",
      "Full Context:\n",
      "\u001b[32;1m\u001b[1;3m[{'r1.metadata': '{\"summary\": \"Lawrence is one of the largest college towns in Kansas.\", \"generated_at\": \"2024-11-07 19:27:15.009521\"}', 'r1.description': 'Lawrence is located in Kansas.', 'r2.metadata': '{\"summary\": \"The Kansas City metropolitan area straddles the border between Missouri and Kansas.\", \"generated_at\": \"2024-11-07 19:27:15.009521\"}', 'r2.description': 'The Kansas City metropolitan area is located on the border between Missouri and Kansas.'}, {'r1.metadata': '{\"summary\": \"Lawrence is one of the largest college towns in Kansas.\", \"generated_at\": \"2024-11-07 19:27:15.009521\"}', 'r1.description': 'Lawrence is located in Kansas.', 'r2.metadata': '{\"summary\": \"The Kansas City metropolitan area straddles the border between the U.S. states of Missouri and Kansas.\", \"generated_at\": \"2024-11-07 19:27:15.009521\"}', 'r2.description': 'The Kansas City metropolitan area is located on the border of Kansas.'}, {'r1.metadata': '{\"summary\": \"Lawrence is one of the largest college towns in Kansas.\", \"generated_at\": \"2024-11-07 19:27:15.009521\"}', 'r1.description': 'Lawrence is located in Kansas.', 'r2.metadata': '{\"summary\": \"The largest city in the Kansas City metropolitan area is Overland Park, Kansas.\", \"generated_at\": \"2024-11-07 19:27:15.009521\"}', 'r2.description': 'Overland Park is a city in the state of Kansas.'}, {'r1.metadata': '{\"summary\": \"Lawrence is one of the largest college towns in Kansas.\", \"generated_at\": \"2024-11-07 19:27:15.009521\"}', 'r1.description': 'Lawrence is located in Kansas.', 'r2.metadata': '{\"summary\": \"The largest city in the Kansas City metropolitan area is Olathe, Kansas.\", \"generated_at\": \"2024-11-07 19:27:15.009521\"}', 'r2.description': 'Olathe is situated in the state of Kansas.'}, {'r1.metadata': '{\"summary\": \"The main campus of the University of Kansas is in Lawrence.\", \"generated_at\": \"2024-11-07 19:27:15.009521\"}', 'r1.description': 'The University of Kansas is located in Lawrence.', 'r2.metadata': '{\"summary\": \"Two branch campuses of the University of Kansas are in the Kansas City metropolitan area.\", \"generated_at\": \"2024-11-07 19:27:15.009521\"}', 'r2.description': 'The branch campuses belong to the University of Kansas.'}, {'r1.metadata': '{\"summary\": \"Lawrence is one of the largest college towns in Kansas.\", \"generated_at\": \"2024-11-07 19:27:15.009521\"}', 'r1.description': 'Lawrence is located in Kansas.', 'r2.metadata': '{\"summary\": \"The Kansas City Metropolitan Area is located in both Missouri and Kansas.\", \"generated_at\": \"2024-11-07 19:27:15.009521\"}', 'r2.description': 'Kansas City Metropolitan Area is located in Kansas.'}]\u001b[0m\n"
     ]
    },
    {
     "name": "stderr",
     "output_type": "stream",
     "text": [
      " 39%|███▊      | 12/31 [01:16<01:46,  5.58s/it]"
     ]
    },
    {
     "name": "stdout",
     "output_type": "stream",
     "text": [
      "\n",
      "\u001b[1m> Finished chain.\u001b[0m\n",
      "\n",
      "\n",
      "\u001b[1m> Entering new GraphCypherQAChain chain...\u001b[0m\n",
      "Generated Cypher:\n",
      "\u001b[32;1m\u001b[1;3mcypher\n",
      "MATCH (w)-[r1]-(x)-[r2]-(y)\n",
      "WHERE (\n",
      "    toLower(r1.metadata) =~ '.*\\\\b(evolution)\\\\b.*' OR\n",
      "    toLower(r1.description) =~ '.*\\\\b(evolution)\\\\b.*'\n",
      ")\n",
      "AND (\n",
      "    toLower(r2.metadata) =~ '.*\\\\b(nicolas cage|téa leoni)\\\\b.*' OR \n",
      "    toLower(r2.description) =~ '.*\\\\b(nicolas cage|téa leoni)\\\\b.*'\n",
      ")\n",
      "RETURN DISTINCT r1.metadata, r1.description, r2.metadata, r2.description\n",
      "\u001b[0m\n",
      "Full Context:\n",
      "\u001b[32;1m\u001b[1;3m[]\u001b[0m\n"
     ]
    },
    {
     "name": "stderr",
     "output_type": "stream",
     "text": [
      " 42%|████▏     | 13/31 [01:22<01:41,  5.61s/it]"
     ]
    },
    {
     "name": "stdout",
     "output_type": "stream",
     "text": [
      "\n",
      "\u001b[1m> Finished chain.\u001b[0m\n",
      "\n",
      "\n",
      "\u001b[1m> Entering new GraphCypherQAChain chain...\u001b[0m\n",
      "Generated Cypher:\n",
      "\u001b[32;1m\u001b[1;3mcypher\n",
      "MATCH (w)-[r1]-(x)-[r2]-(y)\n",
      "WHERE (\n",
      "    toLower(r1.metadata) =~ '.*\\\\b(guns n roses)\\\\b.*' OR\n",
      "    toLower(r1.description) =~ '.*\\\\b(guns n roses)\\\\b.*'\n",
      ")\n",
      "AND (\n",
      "    toLower(r2.metadata) =~ '.*\\\\b(arnold schwarzenegger)\\\\b.*' OR \n",
      "    toLower(r2.description) =~ '.*\\\\b(former new york police detective)\\\\b.*'\n",
      ")\n",
      "RETURN DISTINCT r1.metadata, r1.description, r2.metadata, r2.description\n",
      "\u001b[0m\n",
      "Full Context:\n",
      "\u001b[32;1m\u001b[1;3m[]\u001b[0m\n"
     ]
    },
    {
     "name": "stderr",
     "output_type": "stream",
     "text": [
      " 45%|████▌     | 14/31 [01:30<01:52,  6.60s/it]"
     ]
    },
    {
     "name": "stdout",
     "output_type": "stream",
     "text": [
      "\n",
      "\u001b[1m> Finished chain.\u001b[0m\n",
      "\n",
      "\n",
      "\u001b[1m> Entering new GraphCypherQAChain chain...\u001b[0m\n",
      "Generated Cypher:\n",
      "\u001b[32;1m\u001b[1;3mcypher\n",
      "MATCH ()-[r1]-()\n",
      "WHERE (\n",
      "    toLower(r1.metadata) =~ '.*\\\\b(random house tower)\\\\b.*' OR\n",
      "    toLower(r1.description) =~ '.*\\\\b(random house tower)\\\\b.*'\n",
      ")\n",
      "RETURN DISTINCT r1.metadata AS info1\n",
      "UNION ALL\n",
      "MATCH ()-[r2]-()\n",
      "WHERE (\n",
      "    toLower(r2.metadata) =~ '.*\\\\b(888 7th avenue)\\\\b.*' OR \n",
      "    toLower(r2.description) =~ '.*\\\\b(888 7th avenue)\\\\b.*'\n",
      ")\n",
      "RETURN DISTINCT r2.metadata AS info1\n",
      "\u001b[0m\n",
      "Full Context:\n",
      "\u001b[32;1m\u001b[1;3m[{'info1': '{\"summary\": \"The Random House Tower is a 52-story mixed-use tower in New York City.\", \"generated_at\": \"2024-11-07 19:27:15.009521\"}'}, {'info1': '{\"summary\": \"The Random House Tower is also known as the Park Imperial Apartments.\", \"generated_at\": \"2024-11-07 19:27:15.009521\"}'}, {'info1': '{\"summary\": \"The Random House Tower is used as the headquarters of the book publisher Random House.\", \"generated_at\": \"2024-11-07 19:27:15.009521\"}'}, {'info1': '{\"summary\": \"The Random House Tower is used as a luxury apartment complex.\", \"generated_at\": \"2024-11-07 19:27:15.009521\"}'}, {'info1': '{\"summary\": \"Pershing Square Capital Management is located at 888 7th Avenue in New York.\", \"generated_at\": \"2024-11-07 19:27:15.009521\"}'}, {'info1': '{\"summary\": \"888 7th Avenue is a 628 ft tall modern-style office skyscraper in Midtown Manhattan.\", \"generated_at\": \"2024-11-07 19:27:15.009521\"}'}, {'info1': '{\"summary\": \"888 7th Avenue was completed in 1969.\", \"generated_at\": \"2024-11-07 19:27:15.009521\"}'}, {'info1': '{\"summary\": \"888 7th Avenue has 46 floors.\", \"generated_at\": \"2024-11-07 19:27:15.009521\"}'}, {'info1': '{\"summary\": \"Emery Roth & Sons designed the building known as 888 7th Avenue.\", \"generated_at\": \"2024-11-07 19:27:15.009521\"}'}, {'info1': '{\"summary\": \"888 7th Avenue is tied with Central Park Place for the 65th tallest building in New York City.\", \"generated_at\": \"2024-11-07 19:27:15.009521\"}'}, {'info1': '{\"summary\": \"888 7th Avenue currently carries the Vornado Realty Trust corporate headquarters.\", \"generated_at\": \"2024-11-07 19:27:15.009521\"}'}, {'info1': '{\"summary\": \"888 7th Avenue was previously known as the Arlen Building.\", \"generated_at\": \"2024-11-07 19:27:15.009521\"}'}, {'info1': '{\"summary\": \"The Red Eye Grill is located in 888 7th Avenue at street level.\", \"generated_at\": \"2024-11-07 19:27:15.009521\"}'}]\u001b[0m\n"
     ]
    },
    {
     "name": "stderr",
     "output_type": "stream",
     "text": [
      " 48%|████▊     | 15/31 [01:39<01:53,  7.12s/it]"
     ]
    },
    {
     "name": "stdout",
     "output_type": "stream",
     "text": [
      "\n",
      "\u001b[1m> Finished chain.\u001b[0m\n",
      "\n",
      "\n",
      "\u001b[1m> Entering new GraphCypherQAChain chain...\u001b[0m\n",
      "Generated Cypher:\n",
      "\u001b[32;1m\u001b[1;3mcypher\n",
      "MATCH (w)-[r1]-(x)-[r2]-(y)\n",
      "WHERE (\n",
      "    toLower(r1.metadata) =~ '.*\\\\b(david beckham)\\\\b.*' OR\n",
      "    toLower(r1.description) =~ '.*\\\\b(recruited)\\\\b.*'\n",
      ")\n",
      "AND (\n",
      "    toLower(r2.metadata) =~ '.*\\\\b(manchester united)\\\\b.*' OR \n",
      "    toLower(r2.description) =~ '.*\\\\b(managed)\\\\b.*'\n",
      ")\n",
      "RETURN DISTINCT r1.metadata, r1.description, r2.metadata, r2.description\n",
      "\u001b[0m\n",
      "Full Context:\n",
      "\u001b[32;1m\u001b[1;3m[{'r1.metadata': '{\"summary\": \"The six young Manchester United footballers are David Beckham, Nicky Butt, Ryan Giggs, Gary Neville, Phil Neville, and Paul Scholes.\", \"generated_at\": \"2024-11-07 19:27:15.009521\"}', 'r1.description': 'David Beckham is a footballer associated with Manchester United.', 'r2.metadata': '{\"summary\": \"Sir Matt Busby managed Manchester United from 1945 to 1969.\", \"generated_at\": \"2024-11-07 19:27:15.009521\"}', 'r2.description': 'Matt Busby managed Manchester United during his tenure.'}, {'r1.metadata': '{\"summary\": \"The six young Manchester United footballers are David Beckham, Nicky Butt, Ryan Giggs, Gary Neville, Phil Neville, and Paul Scholes.\", \"generated_at\": \"2024-11-07 19:27:15.009521\"}', 'r1.description': 'Nicky Butt is a footballer associated with Manchester United.', 'r2.metadata': '{\"summary\": \"Sir Matt Busby managed Manchester United from 1945 to 1969.\", \"generated_at\": \"2024-11-07 19:27:15.009521\"}', 'r2.description': 'Matt Busby managed Manchester United during his tenure.'}, {'r1.metadata': '{\"summary\": \"The six young Manchester United footballers are David Beckham, Nicky Butt, Ryan Giggs, Gary Neville, Phil Neville, and Paul Scholes.\", \"generated_at\": \"2024-11-07 19:27:15.009521\"}', 'r1.description': 'Ryan Giggs is a footballer associated with Manchester United.', 'r2.metadata': '{\"summary\": \"Sir Matt Busby managed Manchester United from 1945 to 1969.\", \"generated_at\": \"2024-11-07 19:27:15.009521\"}', 'r2.description': 'Matt Busby managed Manchester United during his tenure.'}, {'r1.metadata': '{\"summary\": \"The six young Manchester United footballers are David Beckham, Nicky Butt, Ryan Giggs, Gary Neville, Phil Neville, and Paul Scholes.\", \"generated_at\": \"2024-11-07 19:27:15.009521\"}', 'r1.description': 'Gary Neville is a footballer associated with Manchester United.', 'r2.metadata': '{\"summary\": \"Sir Matt Busby managed Manchester United from 1945 to 1969.\", \"generated_at\": \"2024-11-07 19:27:15.009521\"}', 'r2.description': 'Matt Busby managed Manchester United during his tenure.'}, {'r1.metadata': '{\"summary\": \"The six young Manchester United footballers are David Beckham, Nicky Butt, Ryan Giggs, Gary Neville, Phil Neville, and Paul Scholes.\", \"generated_at\": \"2024-11-07 19:27:15.009521\"}', 'r1.description': 'Phil Neville is a footballer associated with Manchester United.', 'r2.metadata': '{\"summary\": \"Sir Matt Busby managed Manchester United from 1945 to 1969.\", \"generated_at\": \"2024-11-07 19:27:15.009521\"}', 'r2.description': 'Matt Busby managed Manchester United during his tenure.'}, {'r1.metadata': '{\"summary\": \"The six young Manchester United footballers are David Beckham, Nicky Butt, Ryan Giggs, Gary Neville, Phil Neville, and Paul Scholes.\", \"generated_at\": \"2024-11-07 19:27:15.009521\"}', 'r1.description': 'Paul Scholes is a footballer associated with Manchester United.', 'r2.metadata': '{\"summary\": \"Sir Matt Busby managed Manchester United from 1945 to 1969.\", \"generated_at\": \"2024-11-07 19:27:15.009521\"}', 'r2.description': 'Matt Busby managed Manchester United during his tenure.'}, {'r1.metadata': '{\"summary\": \"The film details the careers of David Beckham, Nicky Butt, Ryan Giggs, Gary Neville, Phil Neville, and Paul Scholes for Manchester United.\", \"generated_at\": \"2024-11-07 19:27:15.009521\"}', 'r1.description': 'The film details the careers of the persons for Manchester United.', 'r2.metadata': '{\"summary\": \"Sir Matt Busby managed Manchester United from 1945 to 1969.\", \"generated_at\": \"2024-11-07 19:27:15.009521\"}', 'r2.description': 'Matt Busby managed Manchester United during his tenure.'}, {'r1.metadata': '{\"summary\": \"The careers of David Beckham, Nicky Butt, Ryan Giggs, Gary Neville, Phil Neville, and Paul Scholes for Manchester United started in 1992.\", \"generated_at\": \"2024-11-07 19:27:15.009521\"}', 'r1.description': 'David Beckham had a career for Manchester United.', 'r2.metadata': '{\"summary\": \"Sir Matt Busby managed Manchester United from 1945 to 1969.\", \"generated_at\": \"2024-11-07 19:27:15.009521\"}', 'r2.description': 'Matt Busby managed Manchester United during his tenure.'}, {'r1.metadata': '{\"summary\": \"The careers of David Beckham, Nicky Butt, Ryan Giggs, Gary Neville, Phil Neville, and Paul Scholes for Manchester United started in 1992.\", \"generated_at\": \"2024-11-07 19:27:15.009521\"}', 'r1.description': 'Nicky Butt had a career for Manchester United.', 'r2.metadata': '{\"summary\": \"Sir Matt Busby managed Manchester United from 1945 to 1969.\", \"generated_at\": \"2024-11-07 19:27:15.009521\"}', 'r2.description': 'Matt Busby managed Manchester United during his tenure.'}, {'r1.metadata': '{\"summary\": \"The careers of David Beckham, Nicky Butt, Ryan Giggs, Gary Neville, Phil Neville, and Paul Scholes for Manchester United started in 1992.\", \"generated_at\": \"2024-11-07 19:27:15.009521\"}', 'r1.description': 'Ryan Giggs had a career for Manchester United.', 'r2.metadata': '{\"summary\": \"Sir Matt Busby managed Manchester United from 1945 to 1969.\", \"generated_at\": \"2024-11-07 19:27:15.009521\"}', 'r2.description': 'Matt Busby managed Manchester United during his tenure.'}, {'r1.metadata': '{\"summary\": \"The careers of David Beckham, Nicky Butt, Ryan Giggs, Gary Neville, Phil Neville, and Paul Scholes for Manchester United started in 1992.\", \"generated_at\": \"2024-11-07 19:27:15.009521\"}', 'r1.description': 'Gary Neville had a career for Manchester United.', 'r2.metadata': '{\"summary\": \"Sir Matt Busby managed Manchester United from 1945 to 1969.\", \"generated_at\": \"2024-11-07 19:27:15.009521\"}', 'r2.description': 'Matt Busby managed Manchester United during his tenure.'}, {'r1.metadata': '{\"summary\": \"The careers of David Beckham, Nicky Butt, Ryan Giggs, Gary Neville, Phil Neville, and Paul Scholes for Manchester United started in 1992.\", \"generated_at\": \"2024-11-07 19:27:15.009521\"}', 'r1.description': 'Phil Neville had a career for Manchester United.', 'r2.metadata': '{\"summary\": \"Sir Matt Busby managed Manchester United from 1945 to 1969.\", \"generated_at\": \"2024-11-07 19:27:15.009521\"}', 'r2.description': 'Matt Busby managed Manchester United during his tenure.'}, {'r1.metadata': '{\"summary\": \"The careers of David Beckham, Nicky Butt, Ryan Giggs, Gary Neville, Phil Neville, and Paul Scholes for Manchester United started in 1992.\", \"generated_at\": \"2024-11-07 19:27:15.009521\"}', 'r1.description': 'Paul Scholes had a career for Manchester United.', 'r2.metadata': '{\"summary\": \"Sir Matt Busby managed Manchester United from 1945 to 1969.\", \"generated_at\": \"2024-11-07 19:27:15.009521\"}', 'r2.description': 'Matt Busby managed Manchester United during his tenure.'}, {'r1.metadata': '{\"summary\": \"The careers of David Beckham, Nicky Butt, Ryan Giggs, Gary Neville, Phil Neville, and Paul Scholes for Manchester United started in 1992.\", \"generated_at\": \"2024-11-07 19:27:15.009521\"}', 'r1.description': 'The careers of the mentioned players started at Manchester United.', 'r2.metadata': '{\"summary\": \"Sir Matt Busby managed Manchester United from 1945 to 1969.\", \"generated_at\": \"2024-11-07 19:27:15.009521\"}', 'r2.description': 'Matt Busby managed Manchester United during his tenure.'}, {'r1.metadata': '{\"summary\": \"The six young Manchester United footballers are David Beckham, Nicky Butt, Ryan Giggs, Gary Neville, Phil Neville, and Paul Scholes.\", \"generated_at\": \"2024-11-07 19:27:15.009521\"}', 'r1.description': 'David Beckham is a footballer associated with Manchester United.', 'r2.metadata': '{\"summary\": \"Sir Matt Busby managed Manchester United from 1945 to 1969.\", \"generated_at\": \"2024-11-07 19:27:15.009521\"}', 'r2.description': 'The management of Manchester United took place during the time Matt Busby was in charge.'}, {'r1.metadata': '{\"summary\": \"The six young Manchester United footballers are David Beckham, Nicky Butt, Ryan Giggs, Gary Neville, Phil Neville, and Paul Scholes.\", \"generated_at\": \"2024-11-07 19:27:15.009521\"}', 'r1.description': 'Nicky Butt is a footballer associated with Manchester United.', 'r2.metadata': '{\"summary\": \"Sir Matt Busby managed Manchester United from 1945 to 1969.\", \"generated_at\": \"2024-11-07 19:27:15.009521\"}', 'r2.description': 'The management of Manchester United took place during the time Matt Busby was in charge.'}, {'r1.metadata': '{\"summary\": \"The six young Manchester United footballers are David Beckham, Nicky Butt, Ryan Giggs, Gary Neville, Phil Neville, and Paul Scholes.\", \"generated_at\": \"2024-11-07 19:27:15.009521\"}', 'r1.description': 'Ryan Giggs is a footballer associated with Manchester United.', 'r2.metadata': '{\"summary\": \"Sir Matt Busby managed Manchester United from 1945 to 1969.\", \"generated_at\": \"2024-11-07 19:27:15.009521\"}', 'r2.description': 'The management of Manchester United took place during the time Matt Busby was in charge.'}, {'r1.metadata': '{\"summary\": \"The six young Manchester United footballers are David Beckham, Nicky Butt, Ryan Giggs, Gary Neville, Phil Neville, and Paul Scholes.\", \"generated_at\": \"2024-11-07 19:27:15.009521\"}', 'r1.description': 'Gary Neville is a footballer associated with Manchester United.', 'r2.metadata': '{\"summary\": \"Sir Matt Busby managed Manchester United from 1945 to 1969.\", \"generated_at\": \"2024-11-07 19:27:15.009521\"}', 'r2.description': 'The management of Manchester United took place during the time Matt Busby was in charge.'}, {'r1.metadata': '{\"summary\": \"The six young Manchester United footballers are David Beckham, Nicky Butt, Ryan Giggs, Gary Neville, Phil Neville, and Paul Scholes.\", \"generated_at\": \"2024-11-07 19:27:15.009521\"}', 'r1.description': 'Phil Neville is a footballer associated with Manchester United.', 'r2.metadata': '{\"summary\": \"Sir Matt Busby managed Manchester United from 1945 to 1969.\", \"generated_at\": \"2024-11-07 19:27:15.009521\"}', 'r2.description': 'The management of Manchester United took place during the time Matt Busby was in charge.'}, {'r1.metadata': '{\"summary\": \"The six young Manchester United footballers are David Beckham, Nicky Butt, Ryan Giggs, Gary Neville, Phil Neville, and Paul Scholes.\", \"generated_at\": \"2024-11-07 19:27:15.009521\"}', 'r1.description': 'Paul Scholes is a footballer associated with Manchester United.', 'r2.metadata': '{\"summary\": \"Sir Matt Busby managed Manchester United from 1945 to 1969.\", \"generated_at\": \"2024-11-07 19:27:15.009521\"}', 'r2.description': 'The management of Manchester United took place during the time Matt Busby was in charge.'}, {'r1.metadata': '{\"summary\": \"The film details the careers of David Beckham, Nicky Butt, Ryan Giggs, Gary Neville, Phil Neville, and Paul Scholes for Manchester United.\", \"generated_at\": \"2024-11-07 19:27:15.009521\"}', 'r1.description': 'The film details the careers of the persons for Manchester United.', 'r2.metadata': '{\"summary\": \"Sir Matt Busby managed Manchester United from 1945 to 1969.\", \"generated_at\": \"2024-11-07 19:27:15.009521\"}', 'r2.description': 'The management of Manchester United took place during the time Matt Busby was in charge.'}, {'r1.metadata': '{\"summary\": \"The careers of David Beckham, Nicky Butt, Ryan Giggs, Gary Neville, Phil Neville, and Paul Scholes for Manchester United started in 1992.\", \"generated_at\": \"2024-11-07 19:27:15.009521\"}', 'r1.description': 'David Beckham had a career for Manchester United.', 'r2.metadata': '{\"summary\": \"Sir Matt Busby managed Manchester United from 1945 to 1969.\", \"generated_at\": \"2024-11-07 19:27:15.009521\"}', 'r2.description': 'The management of Manchester United took place during the time Matt Busby was in charge.'}, {'r1.metadata': '{\"summary\": \"The careers of David Beckham, Nicky Butt, Ryan Giggs, Gary Neville, Phil Neville, and Paul Scholes for Manchester United started in 1992.\", \"generated_at\": \"2024-11-07 19:27:15.009521\"}', 'r1.description': 'Nicky Butt had a career for Manchester United.', 'r2.metadata': '{\"summary\": \"Sir Matt Busby managed Manchester United from 1945 to 1969.\", \"generated_at\": \"2024-11-07 19:27:15.009521\"}', 'r2.description': 'The management of Manchester United took place during the time Matt Busby was in charge.'}, {'r1.metadata': '{\"summary\": \"The careers of David Beckham, Nicky Butt, Ryan Giggs, Gary Neville, Phil Neville, and Paul Scholes for Manchester United started in 1992.\", \"generated_at\": \"2024-11-07 19:27:15.009521\"}', 'r1.description': 'Ryan Giggs had a career for Manchester United.', 'r2.metadata': '{\"summary\": \"Sir Matt Busby managed Manchester United from 1945 to 1969.\", \"generated_at\": \"2024-11-07 19:27:15.009521\"}', 'r2.description': 'The management of Manchester United took place during the time Matt Busby was in charge.'}, {'r1.metadata': '{\"summary\": \"The careers of David Beckham, Nicky Butt, Ryan Giggs, Gary Neville, Phil Neville, and Paul Scholes for Manchester United started in 1992.\", \"generated_at\": \"2024-11-07 19:27:15.009521\"}', 'r1.description': 'Gary Neville had a career for Manchester United.', 'r2.metadata': '{\"summary\": \"Sir Matt Busby managed Manchester United from 1945 to 1969.\", \"generated_at\": \"2024-11-07 19:27:15.009521\"}', 'r2.description': 'The management of Manchester United took place during the time Matt Busby was in charge.'}, {'r1.metadata': '{\"summary\": \"The careers of David Beckham, Nicky Butt, Ryan Giggs, Gary Neville, Phil Neville, and Paul Scholes for Manchester United started in 1992.\", \"generated_at\": \"2024-11-07 19:27:15.009521\"}', 'r1.description': 'Phil Neville had a career for Manchester United.', 'r2.metadata': '{\"summary\": \"Sir Matt Busby managed Manchester United from 1945 to 1969.\", \"generated_at\": \"2024-11-07 19:27:15.009521\"}', 'r2.description': 'The management of Manchester United took place during the time Matt Busby was in charge.'}, {'r1.metadata': '{\"summary\": \"The careers of David Beckham, Nicky Butt, Ryan Giggs, Gary Neville, Phil Neville, and Paul Scholes for Manchester United started in 1992.\", \"generated_at\": \"2024-11-07 19:27:15.009521\"}', 'r1.description': 'Paul Scholes had a career for Manchester United.', 'r2.metadata': '{\"summary\": \"Sir Matt Busby managed Manchester United from 1945 to 1969.\", \"generated_at\": \"2024-11-07 19:27:15.009521\"}', 'r2.description': 'The management of Manchester United took place during the time Matt Busby was in charge.'}, {'r1.metadata': '{\"summary\": \"The careers of David Beckham, Nicky Butt, Ryan Giggs, Gary Neville, Phil Neville, and Paul Scholes for Manchester United started in 1992.\", \"generated_at\": \"2024-11-07 19:27:15.009521\"}', 'r1.description': 'The careers of the mentioned players started at Manchester United.', 'r2.metadata': '{\"summary\": \"Sir Matt Busby managed Manchester United from 1945 to 1969.\", \"generated_at\": \"2024-11-07 19:27:15.009521\"}', 'r2.description': 'The management of Manchester United took place during the time Matt Busby was in charge.'}, {'r1.metadata': '{\"summary\": \"The six young Manchester United footballers are David Beckham, Nicky Butt, Ryan Giggs, Gary Neville, Phil Neville, and Paul Scholes.\", \"generated_at\": \"2024-11-07 19:27:15.009521\"}', 'r1.description': 'David Beckham is a footballer associated with Manchester United.', 'r2.metadata': '{\"summary\": \"The 1995\\\\u201396 season was Manchester United\\'s fourth season in the Premier League.\", \"generated_at\": \"2024-11-07 19:27:15.009521\"}', 'r2.description': 'The 1995–96 season is an event that took place involving Manchester United.'}, {'r1.metadata': '{\"summary\": \"The six young Manchester United footballers are David Beckham, Nicky Butt, Ryan Giggs, Gary Neville, Phil Neville, and Paul Scholes.\", \"generated_at\": \"2024-11-07 19:27:15.009521\"}', 'r1.description': 'Nicky Butt is a footballer associated with Manchester United.', 'r2.metadata': '{\"summary\": \"The 1995\\\\u201396 season was Manchester United\\'s fourth season in the Premier League.\", \"generated_at\": \"2024-11-07 19:27:15.009521\"}', 'r2.description': 'The 1995–96 season is an event that took place involving Manchester United.'}, {'r1.metadata': '{\"summary\": \"The six young Manchester United footballers are David Beckham, Nicky Butt, Ryan Giggs, Gary Neville, Phil Neville, and Paul Scholes.\", \"generated_at\": \"2024-11-07 19:27:15.009521\"}', 'r1.description': 'Ryan Giggs is a footballer associated with Manchester United.', 'r2.metadata': '{\"summary\": \"The 1995\\\\u201396 season was Manchester United\\'s fourth season in the Premier League.\", \"generated_at\": \"2024-11-07 19:27:15.009521\"}', 'r2.description': 'The 1995–96 season is an event that took place involving Manchester United.'}, {'r1.metadata': '{\"summary\": \"The six young Manchester United footballers are David Beckham, Nicky Butt, Ryan Giggs, Gary Neville, Phil Neville, and Paul Scholes.\", \"generated_at\": \"2024-11-07 19:27:15.009521\"}', 'r1.description': 'Gary Neville is a footballer associated with Manchester United.', 'r2.metadata': '{\"summary\": \"The 1995\\\\u201396 season was Manchester United\\'s fourth season in the Premier League.\", \"generated_at\": \"2024-11-07 19:27:15.009521\"}', 'r2.description': 'The 1995–96 season is an event that took place involving Manchester United.'}, {'r1.metadata': '{\"summary\": \"The six young Manchester United footballers are David Beckham, Nicky Butt, Ryan Giggs, Gary Neville, Phil Neville, and Paul Scholes.\", \"generated_at\": \"2024-11-07 19:27:15.009521\"}', 'r1.description': 'Phil Neville is a footballer associated with Manchester United.', 'r2.metadata': '{\"summary\": \"The 1995\\\\u201396 season was Manchester United\\'s fourth season in the Premier League.\", \"generated_at\": \"2024-11-07 19:27:15.009521\"}', 'r2.description': 'The 1995–96 season is an event that took place involving Manchester United.'}, {'r1.metadata': '{\"summary\": \"The six young Manchester United footballers are David Beckham, Nicky Butt, Ryan Giggs, Gary Neville, Phil Neville, and Paul Scholes.\", \"generated_at\": \"2024-11-07 19:27:15.009521\"}', 'r1.description': 'Paul Scholes is a footballer associated with Manchester United.', 'r2.metadata': '{\"summary\": \"The 1995\\\\u201396 season was Manchester United\\'s fourth season in the Premier League.\", \"generated_at\": \"2024-11-07 19:27:15.009521\"}', 'r2.description': 'The 1995–96 season is an event that took place involving Manchester United.'}, {'r1.metadata': '{\"summary\": \"The film details the careers of David Beckham, Nicky Butt, Ryan Giggs, Gary Neville, Phil Neville, and Paul Scholes for Manchester United.\", \"generated_at\": \"2024-11-07 19:27:15.009521\"}', 'r1.description': 'The film details the careers of the persons for Manchester United.', 'r2.metadata': '{\"summary\": \"The 1995\\\\u201396 season was Manchester United\\'s fourth season in the Premier League.\", \"generated_at\": \"2024-11-07 19:27:15.009521\"}', 'r2.description': 'The 1995–96 season is an event that took place involving Manchester United.'}, {'r1.metadata': '{\"summary\": \"The careers of David Beckham, Nicky Butt, Ryan Giggs, Gary Neville, Phil Neville, and Paul Scholes for Manchester United started in 1992.\", \"generated_at\": \"2024-11-07 19:27:15.009521\"}', 'r1.description': 'David Beckham had a career for Manchester United.', 'r2.metadata': '{\"summary\": \"The 1995\\\\u201396 season was Manchester United\\'s fourth season in the Premier League.\", \"generated_at\": \"2024-11-07 19:27:15.009521\"}', 'r2.description': 'The 1995–96 season is an event that took place involving Manchester United.'}, {'r1.metadata': '{\"summary\": \"The careers of David Beckham, Nicky Butt, Ryan Giggs, Gary Neville, Phil Neville, and Paul Scholes for Manchester United started in 1992.\", \"generated_at\": \"2024-11-07 19:27:15.009521\"}', 'r1.description': 'Nicky Butt had a career for Manchester United.', 'r2.metadata': '{\"summary\": \"The 1995\\\\u201396 season was Manchester United\\'s fourth season in the Premier League.\", \"generated_at\": \"2024-11-07 19:27:15.009521\"}', 'r2.description': 'The 1995–96 season is an event that took place involving Manchester United.'}, {'r1.metadata': '{\"summary\": \"The careers of David Beckham, Nicky Butt, Ryan Giggs, Gary Neville, Phil Neville, and Paul Scholes for Manchester United started in 1992.\", \"generated_at\": \"2024-11-07 19:27:15.009521\"}', 'r1.description': 'Ryan Giggs had a career for Manchester United.', 'r2.metadata': '{\"summary\": \"The 1995\\\\u201396 season was Manchester United\\'s fourth season in the Premier League.\", \"generated_at\": \"2024-11-07 19:27:15.009521\"}', 'r2.description': 'The 1995–96 season is an event that took place involving Manchester United.'}, {'r1.metadata': '{\"summary\": \"The careers of David Beckham, Nicky Butt, Ryan Giggs, Gary Neville, Phil Neville, and Paul Scholes for Manchester United started in 1992.\", \"generated_at\": \"2024-11-07 19:27:15.009521\"}', 'r1.description': 'Gary Neville had a career for Manchester United.', 'r2.metadata': '{\"summary\": \"The 1995\\\\u201396 season was Manchester United\\'s fourth season in the Premier League.\", \"generated_at\": \"2024-11-07 19:27:15.009521\"}', 'r2.description': 'The 1995–96 season is an event that took place involving Manchester United.'}, {'r1.metadata': '{\"summary\": \"The careers of David Beckham, Nicky Butt, Ryan Giggs, Gary Neville, Phil Neville, and Paul Scholes for Manchester United started in 1992.\", \"generated_at\": \"2024-11-07 19:27:15.009521\"}', 'r1.description': 'Phil Neville had a career for Manchester United.', 'r2.metadata': '{\"summary\": \"The 1995\\\\u201396 season was Manchester United\\'s fourth season in the Premier League.\", \"generated_at\": \"2024-11-07 19:27:15.009521\"}', 'r2.description': 'The 1995–96 season is an event that took place involving Manchester United.'}, {'r1.metadata': '{\"summary\": \"The careers of David Beckham, Nicky Butt, Ryan Giggs, Gary Neville, Phil Neville, and Paul Scholes for Manchester United started in 1992.\", \"generated_at\": \"2024-11-07 19:27:15.009521\"}', 'r1.description': 'Paul Scholes had a career for Manchester United.', 'r2.metadata': '{\"summary\": \"The 1995\\\\u201396 season was Manchester United\\'s fourth season in the Premier League.\", \"generated_at\": \"2024-11-07 19:27:15.009521\"}', 'r2.description': 'The 1995–96 season is an event that took place involving Manchester United.'}, {'r1.metadata': '{\"summary\": \"The careers of David Beckham, Nicky Butt, Ryan Giggs, Gary Neville, Phil Neville, and Paul Scholes for Manchester United started in 1992.\", \"generated_at\": \"2024-11-07 19:27:15.009521\"}', 'r1.description': 'The careers of the mentioned players started at Manchester United.', 'r2.metadata': '{\"summary\": \"The 1995\\\\u201396 season was Manchester United\\'s fourth season in the Premier League.\", \"generated_at\": \"2024-11-07 19:27:15.009521\"}', 'r2.description': 'The 1995–96 season is an event that took place involving Manchester United.'}, {'r1.metadata': '{\"summary\": \"The six young Manchester United footballers are David Beckham, Nicky Butt, Ryan Giggs, Gary Neville, Phil Neville, and Paul Scholes.\", \"generated_at\": \"2024-11-07 19:27:15.009521\"}', 'r1.description': 'David Beckham is a footballer associated with Manchester United.', 'r2.metadata': '{\"summary\": \"The 1995\\\\u201396 season was Manchester United\\'s fourth season in the Premier League.\", \"generated_at\": \"2024-11-07 19:27:15.009521\"}', 'r2.description': 'Manchester United participated in the Premier League during the 1995–96 season.'}, {'r1.metadata': '{\"summary\": \"The six young Manchester United footballers are David Beckham, Nicky Butt, Ryan Giggs, Gary Neville, Phil Neville, and Paul Scholes.\", \"generated_at\": \"2024-11-07 19:27:15.009521\"}', 'r1.description': 'Nicky Butt is a footballer associated with Manchester United.', 'r2.metadata': '{\"summary\": \"The 1995\\\\u201396 season was Manchester United\\'s fourth season in the Premier League.\", \"generated_at\": \"2024-11-07 19:27:15.009521\"}', 'r2.description': 'Manchester United participated in the Premier League during the 1995–96 season.'}, {'r1.metadata': '{\"summary\": \"The six young Manchester United footballers are David Beckham, Nicky Butt, Ryan Giggs, Gary Neville, Phil Neville, and Paul Scholes.\", \"generated_at\": \"2024-11-07 19:27:15.009521\"}', 'r1.description': 'Ryan Giggs is a footballer associated with Manchester United.', 'r2.metadata': '{\"summary\": \"The 1995\\\\u201396 season was Manchester United\\'s fourth season in the Premier League.\", \"generated_at\": \"2024-11-07 19:27:15.009521\"}', 'r2.description': 'Manchester United participated in the Premier League during the 1995–96 season.'}, {'r1.metadata': '{\"summary\": \"The six young Manchester United footballers are David Beckham, Nicky Butt, Ryan Giggs, Gary Neville, Phil Neville, and Paul Scholes.\", \"generated_at\": \"2024-11-07 19:27:15.009521\"}', 'r1.description': 'Gary Neville is a footballer associated with Manchester United.', 'r2.metadata': '{\"summary\": \"The 1995\\\\u201396 season was Manchester United\\'s fourth season in the Premier League.\", \"generated_at\": \"2024-11-07 19:27:15.009521\"}', 'r2.description': 'Manchester United participated in the Premier League during the 1995–96 season.'}, {'r1.metadata': '{\"summary\": \"The six young Manchester United footballers are David Beckham, Nicky Butt, Ryan Giggs, Gary Neville, Phil Neville, and Paul Scholes.\", \"generated_at\": \"2024-11-07 19:27:15.009521\"}', 'r1.description': 'Phil Neville is a footballer associated with Manchester United.', 'r2.metadata': '{\"summary\": \"The 1995\\\\u201396 season was Manchester United\\'s fourth season in the Premier League.\", \"generated_at\": \"2024-11-07 19:27:15.009521\"}', 'r2.description': 'Manchester United participated in the Premier League during the 1995–96 season.'}, {'r1.metadata': '{\"summary\": \"The six young Manchester United footballers are David Beckham, Nicky Butt, Ryan Giggs, Gary Neville, Phil Neville, and Paul Scholes.\", \"generated_at\": \"2024-11-07 19:27:15.009521\"}', 'r1.description': 'Paul Scholes is a footballer associated with Manchester United.', 'r2.metadata': '{\"summary\": \"The 1995\\\\u201396 season was Manchester United\\'s fourth season in the Premier League.\", \"generated_at\": \"2024-11-07 19:27:15.009521\"}', 'r2.description': 'Manchester United participated in the Premier League during the 1995–96 season.'}, {'r1.metadata': '{\"summary\": \"The film details the careers of David Beckham, Nicky Butt, Ryan Giggs, Gary Neville, Phil Neville, and Paul Scholes for Manchester United.\", \"generated_at\": \"2024-11-07 19:27:15.009521\"}', 'r1.description': 'The film details the careers of the persons for Manchester United.', 'r2.metadata': '{\"summary\": \"The 1995\\\\u201396 season was Manchester United\\'s fourth season in the Premier League.\", \"generated_at\": \"2024-11-07 19:27:15.009521\"}', 'r2.description': 'Manchester United participated in the Premier League during the 1995–96 season.'}, {'r1.metadata': '{\"summary\": \"The careers of David Beckham, Nicky Butt, Ryan Giggs, Gary Neville, Phil Neville, and Paul Scholes for Manchester United started in 1992.\", \"generated_at\": \"2024-11-07 19:27:15.009521\"}', 'r1.description': 'David Beckham had a career for Manchester United.', 'r2.metadata': '{\"summary\": \"The 1995\\\\u201396 season was Manchester United\\'s fourth season in the Premier League.\", \"generated_at\": \"2024-11-07 19:27:15.009521\"}', 'r2.description': 'Manchester United participated in the Premier League during the 1995–96 season.'}]\u001b[0m\n"
     ]
    },
    {
     "name": "stderr",
     "output_type": "stream",
     "text": [
      " 52%|█████▏    | 16/31 [01:45<01:43,  6.91s/it]"
     ]
    },
    {
     "name": "stdout",
     "output_type": "stream",
     "text": [
      "\n",
      "\u001b[1m> Finished chain.\u001b[0m\n",
      "\n",
      "\n",
      "\u001b[1m> Entering new GraphCypherQAChain chain...\u001b[0m\n",
      "Generated Cypher:\n",
      "\u001b[32;1m\u001b[1;3mcypher\n",
      "MATCH (w)-[r1]-(x)-[r2]-(y)\n",
      "WHERE (\n",
      "    toLower(r1.metadata) =~ '.*\\\\b(brown state fishing lake)\\\\b.*' OR\n",
      "    toLower(r1.description) =~ '.*\\\\b(brown state fishing lake)\\\\b.*'\n",
      ")\n",
      "AND (\n",
      "    toLower(r2.metadata) =~ '.*\\\\b(country)\\\\b.*' OR \n",
      "    toLower(r2.description) =~ '.*\\\\b(country)\\\\b.*'\n",
      ")\n",
      "RETURN DISTINCT r1.metadata, r1.description, r2.metadata, r2.description\n",
      "\u001b[0m\n",
      "Full Context:\n",
      "\u001b[32;1m\u001b[1;3m[{'r1.metadata': '{\"summary\": \"Brown State Fishing Lake is a protected area in Brown County, Kansas in the United States.\", \"generated_at\": \"2024-11-07 19:27:15.009521\"}', 'r1.description': 'Kansas is a state in the United States.', 'r2.metadata': '{\"summary\": \"The Lewiston Maineiacs were the second QMJHL team in the United States.\", \"generated_at\": \"2024-11-07 19:27:15.009521\"}', 'r2.description': 'The Lewiston Maineiacs were located in the United States, marking them as the second team from this country in the QMJHL.'}]\u001b[0m\n"
     ]
    },
    {
     "name": "stderr",
     "output_type": "stream",
     "text": [
      " 55%|█████▍    | 17/31 [01:51<01:31,  6.51s/it]"
     ]
    },
    {
     "name": "stdout",
     "output_type": "stream",
     "text": [
      "\n",
      "\u001b[1m> Finished chain.\u001b[0m\n",
      "\n",
      "\n",
      "\u001b[1m> Entering new GraphCypherQAChain chain...\u001b[0m\n"
     ]
    },
    {
     "name": "stderr",
     "output_type": "stream",
     "text": [
      " 58%|█████▊    | 18/31 [01:56<01:21,  6.25s/it]"
     ]
    },
    {
     "name": "stdout",
     "output_type": "stream",
     "text": [
      "Generated Cypher:\n",
      "\u001b[32;1m\u001b[1;3mcypher\n",
      "MATCH (w)-[r1]-(x)-[r2]-(y)\n",
      "WHERE (\n",
      "    toLower(r1.metadata) =~ '.*\\\\b(vermont catamounts)\\\\b.*' OR\n",
      "    toLower(r1.description) =~ '.*\\\\b(vermont catamounts)\\\\b.*'\n",
      ")\n",
      "AND (\n",
      "    toLower(r2.metadata) =~ '.*\\\\b(current conference)\\\\b.*' OR \n",
      "    toLower(r2.description) =~ '.*\\\\b(current conference)\\\\b.*'\n",
      ")\n",
      "RETURN DISTINCT r1.metadata, r1.description, r2.metadata, r2.description\n",
      "UNION ALL\n",
      "MATCH (x)-[r3]-(y)\n",
      "WHERE (\n",
      "    toLower(r3.metadata) =~ '.*\\\\b(current conference)\\\\b.*' OR\n",
      "    toLower(r3.description) =~ '.*\\\\b(current conference)\\\\b.*'\n",
      ")\n",
      "AND (\n",
      "    toLower(r3.metadata) =~ '.*\\\\b(1988|1996)\\\\b.*' OR \n",
      "    toLower(r3.description) =~ '.*\\\\b(1988|1996)\\\\b.*'\n",
      ")\n",
      "RETURN DISTINCT r3.metadata AS historical_name\n",
      "\u001b[0m\n",
      "Generated Cypher Statement is not valid\n",
      "{code: Neo.ClientError.Statement.SyntaxError} {message: All sub queries in an UNION must have the same return column names (line 12, column 1 (offset: 383))\n",
      "\"UNION ALL\"\n",
      " ^}\n",
      "\n",
      "\n",
      "\u001b[1m> Entering new GraphCypherQAChain chain...\u001b[0m\n",
      "Generated Cypher:\n",
      "\u001b[32;1m\u001b[1;3mcypher\n",
      "MATCH ()-[r1]-()\n",
      "WHERE (\n",
      "    toLower(r1.metadata) =~ '.*\\\\b(giuseppe verdi)\\\\b.*' OR\n",
      "    toLower(r1.description) =~ '.*\\\\b(giuseppe verdi)\\\\b.*'\n",
      ")\n",
      "RETURN DISTINCT r1.metadata AS info1\n",
      "UNION ALL\n",
      "MATCH ()-[r2]-()\n",
      "WHERE (\n",
      "    toLower(r2.metadata) =~ '.*\\\\b(ambroise thomas)\\\\b.*' OR \n",
      "    toLower(r2.description) =~ '.*\\\\b(ambroise thomas)\\\\b.*'\n",
      ")\n",
      "RETURN DISTINCT r2.metadata AS info1\n",
      "\u001b[0m\n",
      "Full Context:\n",
      "\u001b[32;1m\u001b[1;3m[{'info1': '{\"summary\": \"Teatro Giuseppe Verdi is a small opera house.\", \"generated_at\": \"2024-11-07 19:27:15.009521\"}'}, {'info1': '{\"summary\": \"Teatro Giuseppe Verdi is located in a wing of the Rocca dei Marchesi Pallavicino.\", \"generated_at\": \"2024-11-07 19:27:15.009521\"}'}, {'info1': '{\"summary\": \"Rocca dei Marchesi Pallavicino is on the Piazza Giuseppe Verdi in Busseto, Italy.\", \"generated_at\": \"2024-11-07 19:27:15.009521\"}'}, {'info1': '{\"summary\": \"Busseto is a town closely associated with the life of the opera composer, Giuseppe Verdi.\", \"generated_at\": \"2024-11-07 19:27:15.009521\"}'}, {'info1': '{\"summary\": \"Teatro Giuseppe Verdi seats 300 people.\", \"generated_at\": \"2024-11-07 19:27:15.009521\"}'}, {'info1': '{\"summary\": \"Parma Airport is also known as Giuseppe Verdi Airport.\", \"generated_at\": \"2024-11-07 19:27:15.009521\"}'}, {'info1': '{\"summary\": \"Parma Airport is also known as Parma \\'Giuseppe Verdi\\' Airport.\", \"generated_at\": \"2024-11-07 19:27:15.009521\"}'}, {'info1': '{\"summary\": \"Parma Airport is named after Giuseppe Verdi.\", \"generated_at\": \"2024-11-07 19:27:15.009521\"}'}, {'info1': '{\"summary\": \"Giuseppe Verdi is a 1953 Italian biographical film.\", \"generated_at\": \"2024-11-07 19:27:15.009521\"}'}, {'info1': '{\"summary\": \"Giuseppe Verdi was released theatrically in the USA as The Life and Music of Giuseppe Verdi.\", \"generated_at\": \"2024-11-07 19:27:15.009521\"}'}, {'info1': '{\"summary\": \"Giuseppe Verdi was released on video as Verdi, the King of Melody.\", \"generated_at\": \"2024-11-07 19:27:15.009521\"}'}, {'info1': '{\"summary\": \"Pierre Cressoy stars in the film Giuseppe Verdi.\", \"generated_at\": \"2024-11-07 19:27:15.009521\"}'}, {'info1': '{\"summary\": \"Raffaello Matarazzo directed the film Giuseppe Verdi.\", \"generated_at\": \"2024-11-07 19:27:15.009521\"}'}, {'info1': '{\"summary\": \"The film Giuseppe Verdi is based on adult life events of the composer Giuseppe Verdi.\", \"generated_at\": \"2024-11-07 19:27:15.009521\"}'}, {'info1': '{\"summary\": \"The film Giuseppe Verdi was a commercial success.\", \"generated_at\": \"2024-11-07 19:27:15.009521\"}'}, {'info1': '{\"summary\": \"The film Giuseppe Verdi grossed over 957 million lire at the Italian box office.\", \"generated_at\": \"2024-11-07 19:27:15.009521\"}'}, {'info1': '{\"summary\": \"Giuseppe Verdi is a 1938 Italian biographical film.\", \"generated_at\": \"2024-11-07 19:27:15.009521\"}'}, {'info1': '{\"summary\": \"Carmine Gallone directed the film Giuseppe Verdi.\", \"generated_at\": \"2024-11-07 19:27:15.009521\"}'}, {'info1': '{\"summary\": \"Fosco Giachetti starred in the film Giuseppe Verdi.\", \"generated_at\": \"2024-11-07 19:27:15.009521\"}'}, {'info1': '{\"summary\": \"Gaby Morlay starred in the film Giuseppe Verdi.\", \"generated_at\": \"2024-11-07 19:27:15.009521\"}'}, {'info1': '{\"summary\": \"Germana Paolieri starred in the film Giuseppe Verdi.\", \"generated_at\": \"2024-11-07 19:27:15.009521\"}'}, {'info1': '{\"summary\": \"The film portrays the life of the composer Giuseppe Verdi.\", \"generated_at\": \"2024-11-07 19:27:15.009521\"}'}, {'info1': '{\"summary\": \"Giuseppe Verdi was born in 1813.\", \"generated_at\": \"2024-11-07 19:27:15.009521\"}'}, {'info1': '{\"summary\": \"Giuseppe Verdi died in 1901.\", \"generated_at\": \"2024-11-07 19:27:15.009521\"}'}, {'info1': '{\"summary\": \"The casting of Fosco Giachetti as Giuseppe Verdi was intended to emphasize the composer\\'s patriotism.\", \"generated_at\": \"2024-11-07 19:27:15.009521\"}'}, {'info1': '{\"summary\": \"The film Giuseppe Verdi is also known by the alternative title The Life of Giuseppe Verdi.\", \"generated_at\": \"2024-11-07 19:27:15.009521\"}'}, {'info1': '{\"summary\": \"The Giuseppe Verdi Monument is a sculpture in honor of composer Giuseppe Verdi.\", \"generated_at\": \"2024-11-07 19:27:15.009521\"}'}, {'info1': '{\"summary\": \"The Giuseppe Verdi Monument is located in Verdi Square Park.\", \"generated_at\": \"2024-11-07 19:27:15.009521\"}'}, {'info1': '{\"summary\": \"The statue depicts Giuseppe Verdi flanked by four of his most popular characters.\", \"generated_at\": \"2024-11-07 19:27:15.009521\"}'}, {'info1': '{\"summary\": \"Falstaff is located on the west side of the statue of Giuseppe Verdi.\", \"generated_at\": \"2024-11-07 19:27:15.009521\"}'}, {'info1': '{\"summary\": \"Leonora of \\'La forza del destino\\' is located on the south side of the statue of Giuseppe Verdi.\", \"generated_at\": \"2024-11-07 19:27:15.009521\"}'}, {'info1': '{\"summary\": \"Aida is located on the north side of the statue of Giuseppe Verdi.\", \"generated_at\": \"2024-11-07 19:27:15.009521\"}'}, {'info1': '{\"summary\": \"Otello is located on the east side of the statue of Giuseppe Verdi.\", \"generated_at\": \"2024-11-07 19:27:15.009521\"}'}, {'info1': '{\"summary\": \"Ferdinando Angelo Maria Provesi is best known as being an early tutor of Giuseppe Verdi.\", \"generated_at\": \"2024-11-07 19:27:15.009521\"}'}, {'info1': '{\"summary\": \"Le Roncole is the village where Giuseppe Verdi was born.\", \"generated_at\": \"2024-11-07 19:27:15.009521\"}'}, {'info1': '{\"summary\": \"Ferdinando Angelo Maria Provesi began teaching Giuseppe Verdi in 1824.\", \"generated_at\": \"2024-11-07 19:27:15.009521\"}'}, {'info1': '{\"summary\": \"Giuseppe Verdi was 11 years old when Ferdinando Angelo Maria Provesi began teaching him.\", \"generated_at\": \"2024-11-07 19:27:15.009521\"}'}, {'info1': '{\"summary\": \"Bernhard B\\\\u00f6tel\\'s stage repertoire included the Duke of Mantua in Giuseppe Verdi\\'s \\'Rigoletto\\'.\", \"generated_at\": \"2024-11-07 19:27:15.009521\"}'}, {'info1': '{\"summary\": \"Mignon was composed by Ambroise Thomas.\", \"generated_at\": \"2024-11-07 19:27:15.009521\"}'}, {'info1': '{\"summary\": \"Mignon Nevada is the goddaughter of Ambroise Thomas.\", \"generated_at\": \"2024-11-07 19:27:15.009521\"}'}, {'info1': '{\"summary\": \"Armand Castelmary created the role of Horatio in Ambroise Thomas\\'s \\'Hamlet\\' in 1868.\", \"generated_at\": \"2024-11-07 19:27:15.009521\"}'}, {'info1': '{\"summary\": \"Bernhard B\\\\u00f6tel\\'s stage repertoire included Wilhelm Meister in Ambroise Thomas\\' \\'Mignon\\'.\", \"generated_at\": \"2024-11-07 19:27:15.009521\"}'}]\u001b[0m\n"
     ]
    },
    {
     "name": "stderr",
     "output_type": "stream",
     "text": [
      " 61%|██████▏   | 19/31 [02:01<01:09,  5.83s/it]"
     ]
    },
    {
     "name": "stdout",
     "output_type": "stream",
     "text": [
      "\n",
      "\u001b[1m> Finished chain.\u001b[0m\n",
      "\n",
      "\n",
      "\u001b[1m> Entering new GraphCypherQAChain chain...\u001b[0m\n",
      "Generated Cypher:\n",
      "\u001b[32;1m\u001b[1;3mcypher\n",
      "MATCH (w)-[r1]-(x)-[r2]-(y)\n",
      "WHERE (\n",
      "    toLower(r1.metadata) =~ '.*\\\\b(roger o. egeberg)\\\\b.*' OR\n",
      "    toLower(r1.description) =~ '.*\\\\b(assistant secretary for health and scientific affairs)\\\\b.*'\n",
      ")\n",
      "AND (\n",
      "    toLower(r2.metadata) =~ '.*\\\\b(president)\\\\b.*' OR \n",
      "    toLower(r2.description) =~ '.*\\\\b(president)\\\\b.*'\n",
      ")\n",
      "RETURN DISTINCT r1.metadata, r1.description, r2.metadata, r2.description\n",
      "\u001b[0m\n",
      "Full Context:\n",
      "\u001b[32;1m\u001b[1;3m[]\u001b[0m\n"
     ]
    },
    {
     "name": "stderr",
     "output_type": "stream",
     "text": [
      " 65%|██████▍   | 20/31 [02:08<01:06,  6.03s/it]"
     ]
    },
    {
     "name": "stdout",
     "output_type": "stream",
     "text": [
      "\n",
      "\u001b[1m> Finished chain.\u001b[0m\n",
      "\n",
      "\n",
      "\u001b[1m> Entering new GraphCypherQAChain chain...\u001b[0m\n",
      "Generated Cypher:\n",
      "\u001b[32;1m\u001b[1;3mcypher\n",
      "MATCH ()-[r1]-()\n",
      "WHERE (\n",
      "    toLower(r1.metadata) =~ '.*\\\\b(henry roth)\\\\b.*' OR\n",
      "    toLower(r1.description) =~ '.*\\\\b(henry roth)\\\\b.*'\n",
      ")\n",
      "RETURN DISTINCT r1.metadata AS info1\n",
      "UNION ALL\n",
      "MATCH ()-[r2]-()\n",
      "WHERE (\n",
      "    toLower(r2.metadata) =~ '.*\\\\b(robert erskine childers)\\\\b.*' OR \n",
      "    toLower(r2.description) =~ '.*\\\\b(robert erskine childers)\\\\b.*'\n",
      ")\n",
      "RETURN DISTINCT r2.metadata AS info1\n",
      "\u001b[0m\n",
      "Full Context:\n",
      "\u001b[32;1m\u001b[1;3m[{'info1': '{\"summary\": \"Mary Alden Childers was the wife of writer and Irish nationalist Robert Erskine Childers.\", \"generated_at\": \"2024-11-07 19:27:15.009521\"}'}, {'info1': '{\"summary\": \"Robert Erskine Childers was the grandfather of Erskine Barton Childers.\", \"generated_at\": \"2024-11-07 19:27:15.009521\"}'}, {'info1': '{\"summary\": \"Robert Barton was the double first cousin of Robert Erskine Childers.\", \"generated_at\": \"2024-11-07 19:27:15.009521\"}'}, {'info1': '{\"summary\": \"Mary Alden Childers, Robert Erskine Childers, and Robert Barton were all Irish nationalists.\", \"generated_at\": \"2024-11-07 19:27:15.009521\"}'}, {'info1': '{\"summary\": \"Mary Alden Childers, Robert Erskine Childers, and Robert Barton were involved heavily with the negotiation of Irish independence.\", \"generated_at\": \"2024-11-07 19:27:15.009521\"}'}, {'info1': '{\"summary\": \"The negotiation of Irish independence ultimately led to the execution of Robert Erskine Childers during the Irish Civil War.\", \"generated_at\": \"2024-11-07 19:27:15.009521\"}'}, {'info1': '{\"summary\": \"Robert Caesar Childers was the father of Robert Erskine Childers.\", \"generated_at\": \"2024-11-07 19:27:15.009521\"}'}, {'info1': '{\"summary\": \"Robert Erskine Childers was an Irish nationalist.\", \"generated_at\": \"2024-11-07 19:27:15.009521\"}'}, {'info1': '{\"summary\": \"Robert Erskine Childers was born on 25 June 1870.\", \"generated_at\": \"2024-11-07 19:27:15.009521\"}'}, {'info1': '{\"summary\": \"Robert Erskine Childers died on 24 November 1922.\", \"generated_at\": \"2024-11-07 19:27:15.009521\"}'}, {'info1': '{\"summary\": \"Robert Erskine Childers was universally known as Erskine Childers.\", \"generated_at\": \"2024-11-07 19:27:15.009521\"}'}, {'info1': '{\"summary\": \"Robert Erskine Childers was the son of British Orientalist scholar Robert Caesar Childers.\", \"generated_at\": \"2024-11-07 19:27:15.009521\"}'}, {'info1': '{\"summary\": \"Robert Erskine Childers was the cousin of Hugh Childers.\", \"generated_at\": \"2024-11-07 19:27:15.009521\"}'}, {'info1': '{\"summary\": \"Robert Erskine Childers was the cousin of Robert Barton.\", \"generated_at\": \"2024-11-07 19:27:15.009521\"}'}, {'info1': '{\"summary\": \"Robert Erskine Childers was the father of the fourth President of Ireland, Erskine Hamilton Childers.\", \"generated_at\": \"2024-11-07 19:27:15.009521\"}'}, {'info1': '{\"summary\": \"Robert Erskine Childers was the double first cousin of Robert Childers Barton.\", \"generated_at\": \"2024-11-07 19:27:15.009521\"}'}, {'info1': '{\"summary\": \"Robert Erskine Childers was a close friend of Robert Childers Barton.\", \"generated_at\": \"2024-11-07 19:27:15.009521\"}'}, {'info1': '{\"summary\": \"Desmond FitzGerald was arrested and replaced by Robert Erskine Childers as the editor of the Irish Bulletin.\", \"generated_at\": \"2024-11-07 19:27:15.009521\"}'}, {'info1': '{\"summary\": \"Mary Alden Osgood Childers married Robert Erskine Childers.\", \"generated_at\": \"2024-11-07 19:27:15.009521\"}'}, {'info1': '{\"summary\": \"Robert Erskine Childers was a writer.\", \"generated_at\": \"2024-11-07 19:27:15.009521\"}'}, {'info1': '{\"summary\": \"Erskine Hamilton Childers was the son of Mary Alden Osgood Childers and Robert Erskine Childers.\", \"generated_at\": \"2024-11-07 19:27:15.009521\"}'}]\u001b[0m\n"
     ]
    },
    {
     "name": "stderr",
     "output_type": "stream",
     "text": [
      " 68%|██████▊   | 21/31 [02:13<00:57,  5.80s/it]"
     ]
    },
    {
     "name": "stdout",
     "output_type": "stream",
     "text": [
      "\n",
      "\u001b[1m> Finished chain.\u001b[0m\n",
      "\n",
      "\n",
      "\u001b[1m> Entering new GraphCypherQAChain chain...\u001b[0m\n",
      "Generated Cypher:\n",
      "\u001b[32;1m\u001b[1;3mcypher\n",
      "MATCH (w)-[r1]-(x)-[r2]-(y)\n",
      "WHERE (\n",
      "    toLower(r1.metadata) =~ '.*\\\\b(force india\\\\s*driver)\\\\b.*' OR\n",
      "    toLower(r1.description) =~ '.*\\\\b(force india\\\\s*driver)\\\\b.*'\n",
      ")\n",
      "AND (\n",
      "    toLower(r2.metadata) =~ '.*\\\\b(mexican\\\\s*formula\\\\s*one\\\\s*driver)\\\\b.*' OR \n",
      "    toLower(r2.description) =~ '.*\\\\b(mexican\\\\s*formula\\\\s*one\\\\s*driver)\\\\b.*'\n",
      ")\n",
      "RETURN DISTINCT r1.metadata, r1.description, r2.metadata, r2.description\n",
      "\u001b[0m\n",
      "Full Context:\n",
      "\u001b[32;1m\u001b[1;3m[]\u001b[0m\n"
     ]
    },
    {
     "name": "stderr",
     "output_type": "stream",
     "text": [
      " 71%|███████   | 22/31 [02:19<00:53,  5.99s/it]"
     ]
    },
    {
     "name": "stdout",
     "output_type": "stream",
     "text": [
      "\n",
      "\u001b[1m> Finished chain.\u001b[0m\n",
      "\n",
      "\n",
      "\u001b[1m> Entering new GraphCypherQAChain chain...\u001b[0m\n",
      "Generated Cypher:\n",
      "\u001b[32;1m\u001b[1;3mcypher\n",
      "MATCH (w)-[r1]-(x)-[r2]-(y)\n",
      "WHERE (\n",
      "    toLower(r1.metadata) =~ '.*\\\\b(a rather blustery day)\\\\b.*' OR\n",
      "    toLower(r1.description) =~ '.*\\\\b(singer)\\\\b.*'\n",
      ")\n",
      "AND (\n",
      "    toLower(r2.metadata) =~ '.*\\\\b(hedgehog)\\\\b.*' OR \n",
      "    toLower(r2.description) =~ '.*\\\\b(voiced)\\\\b.*'\n",
      ")\n",
      "RETURN DISTINCT r1.metadata, r1.description, r2.metadata, r2.description\n",
      "\u001b[0m\n",
      "Full Context:\n",
      "\u001b[32;1m\u001b[1;3m[{'r1.metadata': '{\"summary\": \"Catherine Davis \\'Kate\\' Higgins is a singer.\", \"generated_at\": \"2024-11-07 19:27:15.009521\"}', 'r1.description': \"Catherine Davis 'Kate' Higgins is identified as a singer.\", 'r2.metadata': '{\"summary\": \"Catherine Davis \\'Kate\\' Higgins has voiced C.C. in \\'Code Geass\\'.\", \"generated_at\": \"2024-11-07 19:27:15.009521\"}', 'r2.description': \"Catherine Davis 'Kate' Higgins has voiced the character C.C. in the anime 'Code Geass'.\"}, {'r1.metadata': '{\"summary\": \"Catherine Davis \\'Kate\\' Higgins is a singer.\", \"generated_at\": \"2024-11-07 19:27:15.009521\"}', 'r1.description': \"Catherine Davis 'Kate' Higgins is identified as a singer.\", 'r2.metadata': '{\"summary\": \"Catherine Davis \\'Kate\\' Higgins has voiced Saber in the original \\'Fate/stay Night\\'.\", \"generated_at\": \"2024-11-07 19:27:15.009521\"}', 'r2.description': \"Catherine Davis 'Kate' Higgins has voiced the character Saber in the original Fate/stay Night.\"}, {'r1.metadata': '{\"summary\": \"Catherine Davis \\'Kate\\' Higgins is a singer.\", \"generated_at\": \"2024-11-07 19:27:15.009521\"}', 'r1.description': \"Catherine Davis 'Kate' Higgins is identified as a singer.\", 'r2.metadata': '{\"summary\": \"In 2010, Catherine Davis \\'Kate\\' Higgins voiced Miles \\'Tails\\' Prower in the video game series \\'Sonic the Hedgehog\\'.\", \"generated_at\": \"2024-11-07 19:27:15.009521\"}', 'r2.description': \"Catherine Davis 'Kate' Higgins voiced Miles 'Tails' Prower in the video game series 'Sonic the Hedgehog'.\"}, {'r1.metadata': '{\"summary\": \"Catherine Davis \\'Kate\\' Higgins is a singer.\", \"generated_at\": \"2024-11-07 19:27:15.009521\"}', 'r1.description': \"Catherine Davis 'Kate' Higgins is identified as a singer.\", 'r2.metadata': '{\"summary\": \"In 2010, Catherine Davis \\'Kate\\' Higgins voiced Miles \\'Tails\\' Prower in the video game series \\'Sonic the Hedgehog\\'.\", \"generated_at\": \"2024-11-07 19:27:15.009521\"}', 'r2.description': \"Catherine Davis 'Kate' Higgins is associated with the video game series 'Sonic the Hedgehog' as a voice actor.\"}]\u001b[0m\n"
     ]
    },
    {
     "name": "stderr",
     "output_type": "stream",
     "text": [
      " 74%|███████▍  | 23/31 [02:27<00:51,  6.49s/it]"
     ]
    },
    {
     "name": "stdout",
     "output_type": "stream",
     "text": [
      "\n",
      "\u001b[1m> Finished chain.\u001b[0m\n",
      "\n",
      "\n",
      "\u001b[1m> Entering new GraphCypherQAChain chain...\u001b[0m\n",
      "Generated Cypher:\n",
      "\u001b[32;1m\u001b[1;3mcypher\n",
      "MATCH (w)-[r1]-(x)-[r2]-(y)\n",
      "WHERE (\n",
      "    toLower(r1.metadata) =~ '.*\\\\b(apple remote)\\\\b.*' OR\n",
      "    toLower(r1.description) =~ '.*\\\\b(apple remote)\\\\b.*'\n",
      ")\n",
      "AND (\n",
      "    toLower(r2.metadata) =~ '.*\\\\b(control|device|program)\\\\b.*' OR \n",
      "    toLower(r2.description) =~ '.*\\\\b(control|device|program)\\\\b.*'\n",
      ")\n",
      "RETURN DISTINCT r1.metadata, r1.description, r2.metadata, r2.description\n",
      "\u001b[0m\n",
      "Full Context:\n",
      "\u001b[32;1m\u001b[1;3m[{'r1.metadata': '{\"summary\": \"The Siri Remote is a successor of the original Apple Remote.\", \"generated_at\": \"2024-11-07 19:27:15.009521\"}', 'r1.description': 'Siri Remote is a successor of Apple Remote.', 'r2.metadata': '{\"summary\": \"The Siri Remote is a remote control device.\", \"generated_at\": \"2024-11-07 19:27:15.009521\"}', 'r2.description': 'Siri Remote is a type of remote control device.'}, {'r1.metadata': '{\"summary\": \"The Apple Remote has been replaced with the Siri Remote in the fourth generation of Apple TV.\", \"generated_at\": \"2024-11-07 19:27:15.009521\"}', 'r1.description': 'The Apple Remote has been replaced with the Siri Remote.', 'r2.metadata': '{\"summary\": \"The Siri Remote is a remote control device.\", \"generated_at\": \"2024-11-07 19:27:15.009521\"}', 'r2.description': 'Siri Remote is a type of remote control device.'}, {'r1.metadata': '{\"summary\": \"The Apple Remote has been replaced with the Siri Remote in the fourth generation of Apple TV.\", \"generated_at\": \"2024-11-07 19:27:15.009521\"}', 'r1.description': 'The Siri Remote is associated with the fourth generation of Apple TV.', 'r2.metadata': '{\"summary\": \"The Siri Remote is a remote control device.\", \"generated_at\": \"2024-11-07 19:27:15.009521\"}', 'r2.description': 'Siri Remote is a type of remote control device.'}, {'r1.metadata': '{\"summary\": \"The Apple Remote is a remote control device.\", \"generated_at\": \"2024-11-07 19:27:15.009521\"}', 'r1.description': 'Apple Remote is a type of remote control device.', 'r2.metadata': '{\"summary\": \"The Siri Remote is a remote control device.\", \"generated_at\": \"2024-11-07 19:27:15.009521\"}', 'r2.description': 'Siri Remote is a type of remote control device.'}, {'r1.metadata': '{\"summary\": \"The Siri Remote is a successor of the original Apple Remote.\", \"generated_at\": \"2024-11-07 19:27:15.009521\"}', 'r1.description': 'Siri Remote is a successor of Apple Remote.', 'r2.metadata': '{\"summary\": \"The Apple Remote is a remote control device.\", \"generated_at\": \"2024-11-07 19:27:15.009521\"}', 'r2.description': 'Apple Remote is a type of remote control device.'}, {'r1.metadata': '{\"summary\": \"The Apple Remote was released in or after October 2005.\", \"generated_at\": \"2024-11-07 19:27:15.009521\"}', 'r1.description': 'The Apple Remote is associated with the event of its release, which occurred in or after October 2005.', 'r2.metadata': '{\"summary\": \"The Apple Remote is a remote control device.\", \"generated_at\": \"2024-11-07 19:27:15.009521\"}', 'r2.description': 'Apple Remote is a type of remote control device.'}, {'r1.metadata': '{\"summary\": \"The Apple Remote was released in or after October 2005.\", \"generated_at\": \"2024-11-07 19:27:15.009521\"}', 'r1.description': 'The Apple Remote was released in the time period of October 2005.', 'r2.metadata': '{\"summary\": \"The Apple Remote is a remote control device.\", \"generated_at\": \"2024-11-07 19:27:15.009521\"}', 'r2.description': 'Apple Remote is a type of remote control device.'}, {'r1.metadata': '{\"summary\": \"Apple Inc. is the manufacturer of the Apple Remote.\", \"generated_at\": \"2024-11-07 19:27:15.009521\"}', 'r1.description': 'Apple Inc. is the manufacturer of the Apple Remote.', 'r2.metadata': '{\"summary\": \"The Apple Remote is a remote control device.\", \"generated_at\": \"2024-11-07 19:27:15.009521\"}', 'r2.description': 'Apple Remote is a type of remote control device.'}, {'r1.metadata': '{\"summary\": \"The Apple Remote is designed for use with a number of Apple Inc. products.\", \"generated_at\": \"2024-11-07 19:27:15.009521\"}', 'r1.description': 'Apple Remote is designed for use with products from Apple Inc.', 'r2.metadata': '{\"summary\": \"The Apple Remote is a remote control device.\", \"generated_at\": \"2024-11-07 19:27:15.009521\"}', 'r2.description': 'Apple Remote is a type of remote control device.'}, {'r1.metadata': '{\"summary\": \"The products that use the Apple Remote have infrared capabilities.\", \"generated_at\": \"2024-11-07 19:27:15.009521\"}', 'r1.description': 'The Apple Remote is an object that is used by products, indicating that products utilize the Apple Remote.', 'r2.metadata': '{\"summary\": \"The Apple Remote is a remote control device.\", \"generated_at\": \"2024-11-07 19:27:15.009521\"}', 'r2.description': 'Apple Remote is a type of remote control device.'}, {'r1.metadata': '{\"summary\": \"The products that use the Apple Remote have infrared capabilities.\", \"generated_at\": \"2024-11-07 19:27:15.009521\"}', 'r1.description': 'The Apple Remote has infrared capabilities, which is a characteristic of the object.', 'r2.metadata': '{\"summary\": \"The Apple Remote is a remote control device.\", \"generated_at\": \"2024-11-07 19:27:15.009521\"}', 'r2.description': 'Apple Remote is a type of remote control device.'}, {'r1.metadata': '{\"summary\": \"The Apple Remote was originally designed to interact with the Front Row media program.\", \"generated_at\": \"2024-11-07 19:27:15.009521\"}', 'r1.description': 'Apple Remote was designed to interact with Front Row media program.', 'r2.metadata': '{\"summary\": \"The Apple Remote is a remote control device.\", \"generated_at\": \"2024-11-07 19:27:15.009521\"}', 'r2.description': 'Apple Remote is a type of remote control device.'}, {'r1.metadata': '{\"summary\": \"The Apple Remote is compatible with some later desktop Macintosh computers.\", \"generated_at\": \"2024-11-07 19:27:15.009521\"}', 'r1.description': 'Apple Remote is compatible with some later Macintosh computers.', 'r2.metadata': '{\"summary\": \"The Apple Remote is a remote control device.\", \"generated_at\": \"2024-11-07 19:27:15.009521\"}', 'r2.description': 'Apple Remote is a type of remote control device.'}, {'r1.metadata': '{\"summary\": \"The Apple Remote is compatible with some later portable Macintosh computers.\", \"generated_at\": \"2024-11-07 19:27:15.009521\"}', 'r1.description': 'Apple Remote is compatible with portable Macintosh computers.', 'r2.metadata': '{\"summary\": \"The Apple Remote is a remote control device.\", \"generated_at\": \"2024-11-07 19:27:15.009521\"}', 'r2.description': 'Apple Remote is a type of remote control device.'}, {'r1.metadata': '{\"summary\": \"The first three generations of Apple TV used the Apple Remote as their primary control mechanism.\", \"generated_at\": \"2024-11-07 19:27:15.009521\"}', 'r1.description': 'Apple TV used Apple Remote as its primary control mechanism.', 'r2.metadata': '{\"summary\": \"The Apple Remote is a remote control device.\", \"generated_at\": \"2024-11-07 19:27:15.009521\"}', 'r2.description': 'Apple Remote is a type of remote control device.'}, {'r1.metadata': '{\"summary\": \"The Apple Remote has been replaced with the Siri Remote in the fourth generation of Apple TV.\", \"generated_at\": \"2024-11-07 19:27:15.009521\"}', 'r1.description': 'The Apple Remote has been replaced with the Siri Remote.', 'r2.metadata': '{\"summary\": \"The Apple Remote is a remote control device.\", \"generated_at\": \"2024-11-07 19:27:15.009521\"}', 'r2.description': 'Apple Remote is a type of remote control device.'}, {'r1.metadata': '{\"summary\": \"The Apple Remote has been replaced with the Siri Remote in the fourth generation of Apple TV.\", \"generated_at\": \"2024-11-07 19:27:15.009521\"}', 'r1.description': 'The Apple Remote is related to the fourth generation of Apple TV.', 'r2.metadata': '{\"summary\": \"The Apple Remote is a remote control device.\", \"generated_at\": \"2024-11-07 19:27:15.009521\"}', 'r2.description': 'Apple Remote is a type of remote control device.'}, {'r1.metadata': '{\"summary\": \"Prior to the Apple Remote, Apple Inc. produced several nameless IR remotes.\", \"generated_at\": \"2024-11-07 19:27:15.009521\"}', 'r1.description': 'Apple Inc. produced the Apple Remote.', 'r2.metadata': '{\"summary\": \"The Apple Remote is a remote control device.\", \"generated_at\": \"2024-11-07 19:27:15.009521\"}', 'r2.description': 'Apple Remote is a type of remote control device.'}, {'r1.metadata': '{\"summary\": \"Front Row is controlled by an Apple Remote.\", \"generated_at\": \"2024-11-07 19:27:15.009521\"}', 'r1.description': 'Front Row is controlled by Apple Remote.', 'r2.metadata': '{\"summary\": \"The Apple Remote is a remote control device.\", \"generated_at\": \"2024-11-07 19:27:15.009521\"}', 'r2.description': 'Apple Remote is a type of remote control device.'}, {'r1.metadata': '{\"summary\": \"The Siri Remote is a successor of the original Apple Remote.\", \"generated_at\": \"2024-11-07 19:27:15.009521\"}', 'r1.description': 'Siri Remote is a successor of Apple Remote.', 'r2.metadata': '{\"summary\": \"The Apple Remote was originally designed to interact with the Front Row media program.\", \"generated_at\": \"2024-11-07 19:27:15.009521\"}', 'r2.description': 'Apple Remote was designed to interact with Front Row media program.'}, {'r1.metadata': '{\"summary\": \"The Apple Remote is a remote control device.\", \"generated_at\": \"2024-11-07 19:27:15.009521\"}', 'r1.description': 'Apple Remote is a type of remote control device.', 'r2.metadata': '{\"summary\": \"The Apple Remote was originally designed to interact with the Front Row media program.\", \"generated_at\": \"2024-11-07 19:27:15.009521\"}', 'r2.description': 'Apple Remote was designed to interact with Front Row media program.'}, {'r1.metadata': '{\"summary\": \"The Apple Remote was released in or after October 2005.\", \"generated_at\": \"2024-11-07 19:27:15.009521\"}', 'r1.description': 'The Apple Remote is associated with the event of its release, which occurred in or after October 2005.', 'r2.metadata': '{\"summary\": \"The Apple Remote was originally designed to interact with the Front Row media program.\", \"generated_at\": \"2024-11-07 19:27:15.009521\"}', 'r2.description': 'Apple Remote was designed to interact with Front Row media program.'}, {'r1.metadata': '{\"summary\": \"The Apple Remote was released in or after October 2005.\", \"generated_at\": \"2024-11-07 19:27:15.009521\"}', 'r1.description': 'The Apple Remote was released in the time period of October 2005.', 'r2.metadata': '{\"summary\": \"The Apple Remote was originally designed to interact with the Front Row media program.\", \"generated_at\": \"2024-11-07 19:27:15.009521\"}', 'r2.description': 'Apple Remote was designed to interact with Front Row media program.'}, {'r1.metadata': '{\"summary\": \"Apple Inc. is the manufacturer of the Apple Remote.\", \"generated_at\": \"2024-11-07 19:27:15.009521\"}', 'r1.description': 'Apple Inc. is the manufacturer of the Apple Remote.', 'r2.metadata': '{\"summary\": \"The Apple Remote was originally designed to interact with the Front Row media program.\", \"generated_at\": \"2024-11-07 19:27:15.009521\"}', 'r2.description': 'Apple Remote was designed to interact with Front Row media program.'}, {'r1.metadata': '{\"summary\": \"The Apple Remote is designed for use with a number of Apple Inc. products.\", \"generated_at\": \"2024-11-07 19:27:15.009521\"}', 'r1.description': 'Apple Remote is designed for use with products from Apple Inc.', 'r2.metadata': '{\"summary\": \"The Apple Remote was originally designed to interact with the Front Row media program.\", \"generated_at\": \"2024-11-07 19:27:15.009521\"}', 'r2.description': 'Apple Remote was designed to interact with Front Row media program.'}, {'r1.metadata': '{\"summary\": \"The products that use the Apple Remote have infrared capabilities.\", \"generated_at\": \"2024-11-07 19:27:15.009521\"}', 'r1.description': 'The Apple Remote is an object that is used by products, indicating that products utilize the Apple Remote.', 'r2.metadata': '{\"summary\": \"The Apple Remote was originally designed to interact with the Front Row media program.\", \"generated_at\": \"2024-11-07 19:27:15.009521\"}', 'r2.description': 'Apple Remote was designed to interact with Front Row media program.'}, {'r1.metadata': '{\"summary\": \"The products that use the Apple Remote have infrared capabilities.\", \"generated_at\": \"2024-11-07 19:27:15.009521\"}', 'r1.description': 'The Apple Remote has infrared capabilities, which is a characteristic of the object.', 'r2.metadata': '{\"summary\": \"The Apple Remote was originally designed to interact with the Front Row media program.\", \"generated_at\": \"2024-11-07 19:27:15.009521\"}', 'r2.description': 'Apple Remote was designed to interact with Front Row media program.'}, {'r1.metadata': '{\"summary\": \"The Apple Remote is compatible with some later desktop Macintosh computers.\", \"generated_at\": \"2024-11-07 19:27:15.009521\"}', 'r1.description': 'Apple Remote is compatible with some later Macintosh computers.', 'r2.metadata': '{\"summary\": \"The Apple Remote was originally designed to interact with the Front Row media program.\", \"generated_at\": \"2024-11-07 19:27:15.009521\"}', 'r2.description': 'Apple Remote was designed to interact with Front Row media program.'}, {'r1.metadata': '{\"summary\": \"The Apple Remote is compatible with some later portable Macintosh computers.\", \"generated_at\": \"2024-11-07 19:27:15.009521\"}', 'r1.description': 'Apple Remote is compatible with portable Macintosh computers.', 'r2.metadata': '{\"summary\": \"The Apple Remote was originally designed to interact with the Front Row media program.\", \"generated_at\": \"2024-11-07 19:27:15.009521\"}', 'r2.description': 'Apple Remote was designed to interact with Front Row media program.'}, {'r1.metadata': '{\"summary\": \"The first three generations of Apple TV used the Apple Remote as their primary control mechanism.\", \"generated_at\": \"2024-11-07 19:27:15.009521\"}', 'r1.description': 'Apple TV used Apple Remote as its primary control mechanism.', 'r2.metadata': '{\"summary\": \"The Apple Remote was originally designed to interact with the Front Row media program.\", \"generated_at\": \"2024-11-07 19:27:15.009521\"}', 'r2.description': 'Apple Remote was designed to interact with Front Row media program.'}, {'r1.metadata': '{\"summary\": \"The Apple Remote has been replaced with the Siri Remote in the fourth generation of Apple TV.\", \"generated_at\": \"2024-11-07 19:27:15.009521\"}', 'r1.description': 'The Apple Remote has been replaced with the Siri Remote.', 'r2.metadata': '{\"summary\": \"The Apple Remote was originally designed to interact with the Front Row media program.\", \"generated_at\": \"2024-11-07 19:27:15.009521\"}', 'r2.description': 'Apple Remote was designed to interact with Front Row media program.'}, {'r1.metadata': '{\"summary\": \"The Apple Remote has been replaced with the Siri Remote in the fourth generation of Apple TV.\", \"generated_at\": \"2024-11-07 19:27:15.009521\"}', 'r1.description': 'The Apple Remote is related to the fourth generation of Apple TV.', 'r2.metadata': '{\"summary\": \"The Apple Remote was originally designed to interact with the Front Row media program.\", \"generated_at\": \"2024-11-07 19:27:15.009521\"}', 'r2.description': 'Apple Remote was designed to interact with Front Row media program.'}, {'r1.metadata': '{\"summary\": \"Prior to the Apple Remote, Apple Inc. produced several nameless IR remotes.\", \"generated_at\": \"2024-11-07 19:27:15.009521\"}', 'r1.description': 'Apple Inc. produced the Apple Remote.', 'r2.metadata': '{\"summary\": \"The Apple Remote was originally designed to interact with the Front Row media program.\", \"generated_at\": \"2024-11-07 19:27:15.009521\"}', 'r2.description': 'Apple Remote was designed to interact with Front Row media program.'}, {'r1.metadata': '{\"summary\": \"Front Row is controlled by an Apple Remote.\", \"generated_at\": \"2024-11-07 19:27:15.009521\"}', 'r1.description': 'Front Row is controlled by Apple Remote.', 'r2.metadata': '{\"summary\": \"The Apple Remote was originally designed to interact with the Front Row media program.\", \"generated_at\": \"2024-11-07 19:27:15.009521\"}', 'r2.description': 'Apple Remote was designed to interact with Front Row media program.'}, {'r1.metadata': '{\"summary\": \"The Apple Remote was originally designed to interact with the Front Row media program.\", \"generated_at\": \"2024-11-07 19:27:15.009521\"}', 'r1.description': 'Apple Remote was designed to interact with Front Row media program.', 'r2.metadata': '{\"summary\": \"The Front Row media program is associated with the iSight iMac G5.\", \"generated_at\": \"2024-11-07 19:27:15.009521\"}', 'r2.description': 'The Front Row media program is associated with the iSight iMac G5.'}, {'r1.metadata': '{\"summary\": \"The Apple Remote has been replaced with the Siri Remote in the fourth generation of Apple TV.\", \"generated_at\": \"2024-11-07 19:27:15.009521\"}', 'r1.description': 'The Siri Remote is associated with the fourth generation of Apple TV.', 'r2.metadata': '{\"summary\": \"The first three generations of Apple TV used the Apple Remote as their primary control mechanism.\", \"generated_at\": \"2024-11-07 19:27:15.009521\"}', 'r2.description': 'Apple TV used Apple Remote as its primary control mechanism.'}, {'r1.metadata': '{\"summary\": \"The Apple Remote has been replaced with the Siri Remote in the fourth generation of Apple TV.\", \"generated_at\": \"2024-11-07 19:27:15.009521\"}', 'r1.description': 'The Apple Remote is related to the fourth generation of Apple TV.', 'r2.metadata': '{\"summary\": \"The first three generations of Apple TV used the Apple Remote as their primary control mechanism.\", \"generated_at\": \"2024-11-07 19:27:15.009521\"}', 'r2.description': 'Apple TV used Apple Remote as its primary control mechanism.'}, {'r1.metadata': '{\"summary\": \"The Siri Remote is a successor of the original Apple Remote.\", \"generated_at\": \"2024-11-07 19:27:15.009521\"}', 'r1.description': 'Siri Remote is a successor of Apple Remote.', 'r2.metadata': '{\"summary\": \"The first three generations of Apple TV used the Apple Remote as their primary control mechanism.\", \"generated_at\": \"2024-11-07 19:27:15.009521\"}', 'r2.description': 'Apple TV used Apple Remote as its primary control mechanism.'}, {'r1.metadata': '{\"summary\": \"The Apple Remote is a remote control device.\", \"generated_at\": \"2024-11-07 19:27:15.009521\"}', 'r1.description': 'Apple Remote is a type of remote control device.', 'r2.metadata': '{\"summary\": \"The first three generations of Apple TV used the Apple Remote as their primary control mechanism.\", \"generated_at\": \"2024-11-07 19:27:15.009521\"}', 'r2.description': 'Apple TV used Apple Remote as its primary control mechanism.'}, {'r1.metadata': '{\"summary\": \"The Apple Remote was released in or after October 2005.\", \"generated_at\": \"2024-11-07 19:27:15.009521\"}', 'r1.description': 'The Apple Remote is associated with the event of its release, which occurred in or after October 2005.', 'r2.metadata': '{\"summary\": \"The first three generations of Apple TV used the Apple Remote as their primary control mechanism.\", \"generated_at\": \"2024-11-07 19:27:15.009521\"}', 'r2.description': 'Apple TV used Apple Remote as its primary control mechanism.'}, {'r1.metadata': '{\"summary\": \"The Apple Remote was released in or after October 2005.\", \"generated_at\": \"2024-11-07 19:27:15.009521\"}', 'r1.description': 'The Apple Remote was released in the time period of October 2005.', 'r2.metadata': '{\"summary\": \"The first three generations of Apple TV used the Apple Remote as their primary control mechanism.\", \"generated_at\": \"2024-11-07 19:27:15.009521\"}', 'r2.description': 'Apple TV used Apple Remote as its primary control mechanism.'}, {'r1.metadata': '{\"summary\": \"Apple Inc. is the manufacturer of the Apple Remote.\", \"generated_at\": \"2024-11-07 19:27:15.009521\"}', 'r1.description': 'Apple Inc. is the manufacturer of the Apple Remote.', 'r2.metadata': '{\"summary\": \"The first three generations of Apple TV used the Apple Remote as their primary control mechanism.\", \"generated_at\": \"2024-11-07 19:27:15.009521\"}', 'r2.description': 'Apple TV used Apple Remote as its primary control mechanism.'}, {'r1.metadata': '{\"summary\": \"The Apple Remote is designed for use with a number of Apple Inc. products.\", \"generated_at\": \"2024-11-07 19:27:15.009521\"}', 'r1.description': 'Apple Remote is designed for use with products from Apple Inc.', 'r2.metadata': '{\"summary\": \"The first three generations of Apple TV used the Apple Remote as their primary control mechanism.\", \"generated_at\": \"2024-11-07 19:27:15.009521\"}', 'r2.description': 'Apple TV used Apple Remote as its primary control mechanism.'}, {'r1.metadata': '{\"summary\": \"The products that use the Apple Remote have infrared capabilities.\", \"generated_at\": \"2024-11-07 19:27:15.009521\"}', 'r1.description': 'The Apple Remote is an object that is used by products, indicating that products utilize the Apple Remote.', 'r2.metadata': '{\"summary\": \"The first three generations of Apple TV used the Apple Remote as their primary control mechanism.\", \"generated_at\": \"2024-11-07 19:27:15.009521\"}', 'r2.description': 'Apple TV used Apple Remote as its primary control mechanism.'}, {'r1.metadata': '{\"summary\": \"The products that use the Apple Remote have infrared capabilities.\", \"generated_at\": \"2024-11-07 19:27:15.009521\"}', 'r1.description': 'The Apple Remote has infrared capabilities, which is a characteristic of the object.', 'r2.metadata': '{\"summary\": \"The first three generations of Apple TV used the Apple Remote as their primary control mechanism.\", \"generated_at\": \"2024-11-07 19:27:15.009521\"}', 'r2.description': 'Apple TV used Apple Remote as its primary control mechanism.'}, {'r1.metadata': '{\"summary\": \"The Apple Remote was originally designed to interact with the Front Row media program.\", \"generated_at\": \"2024-11-07 19:27:15.009521\"}', 'r1.description': 'Apple Remote was designed to interact with Front Row media program.', 'r2.metadata': '{\"summary\": \"The first three generations of Apple TV used the Apple Remote as their primary control mechanism.\", \"generated_at\": \"2024-11-07 19:27:15.009521\"}', 'r2.description': 'Apple TV used Apple Remote as its primary control mechanism.'}, {'r1.metadata': '{\"summary\": \"The Apple Remote is compatible with some later desktop Macintosh computers.\", \"generated_at\": \"2024-11-07 19:27:15.009521\"}', 'r1.description': 'Apple Remote is compatible with some later Macintosh computers.', 'r2.metadata': '{\"summary\": \"The first three generations of Apple TV used the Apple Remote as their primary control mechanism.\", \"generated_at\": \"2024-11-07 19:27:15.009521\"}', 'r2.description': 'Apple TV used Apple Remote as its primary control mechanism.'}, {'r1.metadata': '{\"summary\": \"The Apple Remote is compatible with some later portable Macintosh computers.\", \"generated_at\": \"2024-11-07 19:27:15.009521\"}', 'r1.description': 'Apple Remote is compatible with portable Macintosh computers.', 'r2.metadata': '{\"summary\": \"The first three generations of Apple TV used the Apple Remote as their primary control mechanism.\", \"generated_at\": \"2024-11-07 19:27:15.009521\"}', 'r2.description': 'Apple TV used Apple Remote as its primary control mechanism.'}, {'r1.metadata': '{\"summary\": \"The Apple Remote has been replaced with the Siri Remote in the fourth generation of Apple TV.\", \"generated_at\": \"2024-11-07 19:27:15.009521\"}', 'r1.description': 'The Apple Remote has been replaced with the Siri Remote.', 'r2.metadata': '{\"summary\": \"The first three generations of Apple TV used the Apple Remote as their primary control mechanism.\", \"generated_at\": \"2024-11-07 19:27:15.009521\"}', 'r2.description': 'Apple TV used Apple Remote as its primary control mechanism.'}, {'r1.metadata': '{\"summary\": \"Prior to the Apple Remote, Apple Inc. produced several nameless IR remotes.\", \"generated_at\": \"2024-11-07 19:27:15.009521\"}', 'r1.description': 'Apple Inc. produced the Apple Remote.', 'r2.metadata': '{\"summary\": \"The first three generations of Apple TV used the Apple Remote as their primary control mechanism.\", \"generated_at\": \"2024-11-07 19:27:15.009521\"}', 'r2.description': 'Apple TV used Apple Remote as its primary control mechanism.'}]\u001b[0m\n"
     ]
    },
    {
     "name": "stderr",
     "output_type": "stream",
     "text": [
      " 77%|███████▋  | 24/31 [02:35<00:48,  6.98s/it]"
     ]
    },
    {
     "name": "stdout",
     "output_type": "stream",
     "text": [
      "\n",
      "\u001b[1m> Finished chain.\u001b[0m\n",
      "\n",
      "\n",
      "\u001b[1m> Entering new GraphCypherQAChain chain...\u001b[0m\n"
     ]
    },
    {
     "name": "stderr",
     "output_type": "stream",
     "text": [
      " 81%|████████  | 25/31 [02:42<00:41,  6.88s/it]"
     ]
    },
    {
     "name": "stdout",
     "output_type": "stream",
     "text": [
      "Generated Cypher:\n",
      "\u001b[32;1m\u001b[1;3mcypher\n",
      "MATCH ()-[r1]-()\n",
      "WHERE (\n",
      "    toLower(r1.metadata) =~ '.*\\\\b(badly drawn boy)\\\\b.*' OR\n",
      "    toLower(r1.description) =~ '.*\\\\b(badly drawn boy)\\\\b.*'\n",
      ")\n",
      "RETURN DISTINCT r1.metadata AS info1, \n",
      "       COUNT(DISTINCT r1) AS instruments_badb, \n",
      "       SIZE((r1)<-[:PERFORMED_BY]-()) AS performers_badb\n",
      "UNION ALL\n",
      "MATCH ()-[r2]-()\n",
      "WHERE (\n",
      "    toLower(r2.metadata) =~ '.*\\\\b(wolf alice)\\\\b.*' OR \n",
      "    toLower(r2.description) =~ '.*\\\\b(wolf alice)\\\\b.*'\n",
      ")\n",
      "RETURN DISTINCT r2.metadata AS info1, \n",
      "       COUNT(DISTINCT r2) AS instruments_wolf, \n",
      "       SIZE((r2)<-[:PERFORMED_BY]-()) AS performers_wolf\n",
      "\u001b[0m\n",
      "Generated Cypher Statement is not valid\n",
      "{code: Neo.ClientError.Statement.SyntaxError} {message: Type mismatch: r1 defined with conflicting type Relationship (expected Node) (line 9, column 14 (offset: 256))\n",
      "\"       SIZE((r1)<-[:PERFORMED_BY]-()) AS performers_badb\"\n",
      "              ^}\n",
      "\n",
      "\n",
      "\u001b[1m> Entering new GraphCypherQAChain chain...\u001b[0m\n",
      "Generated Cypher:\n",
      "\u001b[32;1m\u001b[1;3mcypher\n",
      "MATCH (w)-[r1]-(x)-[r2]-(y)\n",
      "WHERE (\n",
      "    toLower(r1.metadata) =~ '.*\\\\b(kasper schmeichel)\\\\b.*' OR\n",
      "    toLower(r1.description) =~ '.*\\\\b(father)\\\\b.*'\n",
      ")\n",
      "AND (\n",
      "    toLower(r2.metadata) =~ '.*\\\\b(iffhs)\\\\b.*' OR \n",
      "    toLower(r2.description) =~ '.*\\\\b(voted)\\\\b.*'\n",
      ")\n",
      "AND toLower(r2.metadata) =~ '.*\\\\b(1992)\\\\b.*'\n",
      "RETURN DISTINCT r1.metadata, r1.description, r2.metadata, r2.description\n",
      "\u001b[0m\n",
      "Full Context:\n",
      "\u001b[32;1m\u001b[1;3m[]\u001b[0m\n"
     ]
    },
    {
     "name": "stderr",
     "output_type": "stream",
     "text": [
      " 84%|████████▍ | 26/31 [02:49<00:35,  7.08s/it]"
     ]
    },
    {
     "name": "stdout",
     "output_type": "stream",
     "text": [
      "\n",
      "\u001b[1m> Finished chain.\u001b[0m\n",
      "\n",
      "\n",
      "\u001b[1m> Entering new GraphCypherQAChain chain...\u001b[0m\n"
     ]
    },
    {
     "name": "stderr",
     "output_type": "stream",
     "text": [
      " 87%|████████▋ | 27/31 [02:55<00:26,  6.54s/it]"
     ]
    },
    {
     "name": "stdout",
     "output_type": "stream",
     "text": [
      "Generated Cypher:\n",
      "\u001b[32;1m\u001b[1;3mcypher\n",
      "MATCH (w)-[r1]-(x)\n",
      "WHERE (\n",
      "    toLower(r1.metadata) =~ '.*\\\\b(these boots are made for walkin\\')\\\\b.*' OR\n",
      "    toLower(r1.description) =~ '.*\\\\b(writer)\\\\b.*'\n",
      ")\n",
      "RETURN DISTINCT r1.metadata AS writer\n",
      "UNION ALL\n",
      "MATCH (y)-[r2]-(z)\n",
      "WHERE (\n",
      "    toLower(r2.metadata) =~ '.*\\\\b(died)\\\\b.*' AND\n",
      "    toLower(r2.metadata) =~ '.*\\\\b(2007)\\\\b.*' OR\n",
      "    toLower(r2.description) =~ '.*\\\\b(died)\\\\b.*' AND\n",
      "    toLower(r2.description) =~ '.*\\\\b(2007)\\\\b.*'\n",
      ")\n",
      "RETURN DISTINCT r2.metadata AS deceased\n",
      "\u001b[0m\n",
      "Generated Cypher Statement is not valid\n",
      "{code: Neo.ClientError.Statement.SyntaxError} {message: All sub queries in an UNION must have the same return column names (line 8, column 1 (offset: 205))\n",
      "\"UNION ALL\"\n",
      " ^}\n",
      "\n",
      "\n",
      "\u001b[1m> Entering new GraphCypherQAChain chain...\u001b[0m\n",
      "Generated Cypher:\n",
      "\u001b[32;1m\u001b[1;3mcypher\n",
      "MATCH (w)-[r1]-(x)-[r2]-(y)\n",
      "WHERE (\n",
      "    toLower(r1.metadata) =~ '.*\\\\b(2011–12 vcu rams men\\'s basketball team)\\\\b.*' OR\n",
      "    toLower(r1.description) =~ '.*\\\\b(shaka smart)\\\\b.*'\n",
      ")\n",
      "AND (\n",
      "    toLower(r2.metadata) =~ '.*\\\\b(virginia commonwealth university)\\\\b.*' OR \n",
      "    toLower(r2.description) =~ '.*\\\\b(virginia commonwealth university)\\\\b.*'\n",
      ")\n",
      "RETURN DISTINCT r1.metadata, r1.description, r2.metadata, r2.description\n",
      "\u001b[0m\n",
      "Full Context:\n",
      "\u001b[32;1m\u001b[1;3m[{'r1.metadata': '{\"summary\": \"Shaka Smart was the head coach of the VCU Rams men\\'s basketball team.\", \"generated_at\": \"2024-11-07 19:27:15.009521\"}', 'r1.description': \"Shaka Smart was the head coach of the VCU Rams men's basketball team.\", 'r2.metadata': '{\"summary\": \"The 2010\\\\u201311 VCU Rams men\\'s basketball team represented Virginia Commonwealth University in the Colonial Athletic Association conference during the 2010\\\\u201311 NCAA Division I men\\'s basketball season.\", \"generated_at\": \"2024-11-07 19:27:15.009521\"}', 'r2.description': \"The VCU Rams men's basketball team represented Virginia Commonwealth University.\"}, {'r1.metadata': '{\"summary\": \"The 2009\\\\u201310 season was Shaka Smart\\'s first season at Virginia Commonwealth University.\", \"generated_at\": \"2024-11-07 19:27:15.009521\"}', 'r1.description': 'Shaka Smart was associated with Virginia Commonwealth University during the 2009–10 season.', 'r2.metadata': '{\"summary\": \"The 2010\\\\u201311 VCU Rams men\\'s basketball team represented Virginia Commonwealth University in the Colonial Athletic Association conference during the 2010\\\\u201311 NCAA Division I men\\'s basketball season.\", \"generated_at\": \"2024-11-07 19:27:15.009521\"}', 'r2.description': \"The VCU Rams men's basketball team represented Virginia Commonwealth University.\"}, {'r1.metadata': '{\"summary\": \"Shaka Smart resigned from Virginia Commonwealth University for the vacancy at Texas.\", \"generated_at\": \"2024-11-07 19:27:15.009521\"}', 'r1.description': 'Shaka Smart resigned from Virginia Commonwealth University.', 'r2.metadata': '{\"summary\": \"The 2010\\\\u201311 VCU Rams men\\'s basketball team represented Virginia Commonwealth University in the Colonial Athletic Association conference during the 2010\\\\u201311 NCAA Division I men\\'s basketball season.\", \"generated_at\": \"2024-11-07 19:27:15.009521\"}', 'r2.description': \"The VCU Rams men's basketball team represented Virginia Commonwealth University.\"}, {'r1.metadata': '{\"summary\": \"Shaka Smart was the head coach of the VCU Rams men\\'s basketball team.\", \"generated_at\": \"2024-11-07 19:27:15.009521\"}', 'r1.description': \"Shaka Smart was the head coach of the VCU Rams men's basketball team.\", 'r2.metadata': '{\"summary\": \"The 2010\\\\u201311 VCU Rams men\\'s basketball team represented Virginia Commonwealth University in the Colonial Athletic Association conference during the 2010\\\\u201311 NCAA Division I men\\'s basketball season.\", \"generated_at\": \"2024-11-07 19:27:15.009521\"}', 'r2.description': \"The VCU Rams men's basketball team participated in the 2010–11 NCAA Division I men's basketball season.\"}, {'r1.metadata': '{\"summary\": \"Shaka Smart was the head coach of the VCU Rams men\\'s basketball team.\", \"generated_at\": \"2024-11-07 19:27:15.009521\"}', 'r1.description': \"Shaka Smart was the head coach of the VCU Rams men's basketball team.\", 'r2.metadata': '{\"summary\": \"The 2010\\\\u201311 VCU Rams men\\'s basketball team represented Virginia Commonwealth University in the Colonial Athletic Association conference during the 2010\\\\u201311 NCAA Division I men\\'s basketball season.\", \"generated_at\": \"2024-11-07 19:27:15.009521\"}', 'r2.description': \"The VCU Rams men's basketball team was part of the Colonial Athletic Association conference.\"}, {'r1.metadata': '{\"summary\": \"Shaka Smart was the head coach of the VCU Rams men\\'s basketball team.\", \"generated_at\": \"2024-11-07 19:27:15.009521\"}', 'r1.description': \"Shaka Smart was the head coach of the VCU Rams men's basketball team.\", 'r2.metadata': '{\"summary\": \"The 2004\\\\u201305 VCU Rams men\\'s basketball team represented Virginia Commonwealth University during the 2004\\\\u201305 NCAA Division I men\\'s basketball season.\", \"generated_at\": \"2024-11-07 19:27:15.009521\"}', 'r2.description': \"The VCU Rams men's basketball team participated in the 2004–05 NCAA Division I men's basketball season.\"}, {'r1.metadata': '{\"summary\": \"Shaka Smart was the head coach of the VCU Rams men\\'s basketball team.\", \"generated_at\": \"2024-11-07 19:27:15.009521\"}', 'r1.description': \"Shaka Smart was the head coach of the VCU Rams men's basketball team.\", 'r2.metadata': '{\"summary\": \"The 2004\\\\u201305 VCU Rams men\\'s basketball team represented Virginia Commonwealth University during the 2004\\\\u201305 NCAA Division I men\\'s basketball season.\", \"generated_at\": \"2024-11-07 19:27:15.009521\"}', 'r2.description': \"The VCU Rams men's basketball team represented Virginia Commonwealth University.\"}, {'r1.metadata': '{\"summary\": \"The 2009\\\\u201310 season was Shaka Smart\\'s first season at Virginia Commonwealth University.\", \"generated_at\": \"2024-11-07 19:27:15.009521\"}', 'r1.description': 'Shaka Smart was associated with Virginia Commonwealth University during the 2009–10 season.', 'r2.metadata': '{\"summary\": \"The 2004\\\\u201305 VCU Rams men\\'s basketball team represented Virginia Commonwealth University during the 2004\\\\u201305 NCAA Division I men\\'s basketball season.\", \"generated_at\": \"2024-11-07 19:27:15.009521\"}', 'r2.description': \"The VCU Rams men's basketball team represented Virginia Commonwealth University.\"}, {'r1.metadata': '{\"summary\": \"Shaka Smart resigned from Virginia Commonwealth University for the vacancy at Texas.\", \"generated_at\": \"2024-11-07 19:27:15.009521\"}', 'r1.description': 'Shaka Smart resigned from Virginia Commonwealth University.', 'r2.metadata': '{\"summary\": \"The 2004\\\\u201305 VCU Rams men\\'s basketball team represented Virginia Commonwealth University during the 2004\\\\u201305 NCAA Division I men\\'s basketball season.\", \"generated_at\": \"2024-11-07 19:27:15.009521\"}', 'r2.description': \"The VCU Rams men's basketball team represented Virginia Commonwealth University.\"}, {'r1.metadata': '{\"summary\": \"The 2009\\\\u201310 season was Shaka Smart\\'s first season at Virginia Commonwealth University.\", \"generated_at\": \"2024-11-07 19:27:15.009521\"}', 'r1.description': 'Shaka Smart was associated with Virginia Commonwealth University during the 2009–10 season.', 'r2.metadata': '{\"summary\": \"The 2004\\\\u201305 season was the 37th season of Virginia Commonwealth University fielding a men\\'s basketball program.\", \"generated_at\": \"2024-11-07 19:27:15.009521\"}', 'r2.description': \"Virginia Commonwealth University hosted the 2004–05 season of its men's basketball program.\"}, {'r1.metadata': '{\"summary\": \"Shaka Smart resigned from Virginia Commonwealth University for the vacancy at Texas.\", \"generated_at\": \"2024-11-07 19:27:15.009521\"}', 'r1.description': 'Shaka Smart resigned from Virginia Commonwealth University.', 'r2.metadata': '{\"summary\": \"The 2004\\\\u201305 season was the 37th season of Virginia Commonwealth University fielding a men\\'s basketball program.\", \"generated_at\": \"2024-11-07 19:27:15.009521\"}', 'r2.description': \"Virginia Commonwealth University hosted the 2004–05 season of its men's basketball program.\"}, {'r1.metadata': '{\"summary\": \"Shaka Smart was the head coach of the VCU Rams men\\'s basketball team.\", \"generated_at\": \"2024-11-07 19:27:15.009521\"}', 'r1.description': \"Shaka Smart was the head coach of the VCU Rams men's basketball team.\", 'r2.metadata': '{\"summary\": \"The 2014\\\\u201315 VCU Rams men\\'s basketball team represented Virginia Commonwealth University during the 2014\\\\u201315 NCAA Division I men\\'s basketball season.\", \"generated_at\": \"2024-11-07 19:27:15.009521\"}', 'r2.description': \"The VCU Rams men's basketball team represented Virginia Commonwealth University during the 2014–15 NCAA Division I men's basketball season.\"}, {'r1.metadata': '{\"summary\": \"The 2009\\\\u201310 season was Shaka Smart\\'s first season at Virginia Commonwealth University.\", \"generated_at\": \"2024-11-07 19:27:15.009521\"}', 'r1.description': 'Shaka Smart was associated with Virginia Commonwealth University during the 2009–10 season.', 'r2.metadata': '{\"summary\": \"The 2014\\\\u201315 VCU Rams men\\'s basketball team represented Virginia Commonwealth University during the 2014\\\\u201315 NCAA Division I men\\'s basketball season.\", \"generated_at\": \"2024-11-07 19:27:15.009521\"}', 'r2.description': \"The VCU Rams men's basketball team represented Virginia Commonwealth University during the 2014–15 NCAA Division I men's basketball season.\"}, {'r1.metadata': '{\"summary\": \"Shaka Smart resigned from Virginia Commonwealth University for the vacancy at Texas.\", \"generated_at\": \"2024-11-07 19:27:15.009521\"}', 'r1.description': 'Shaka Smart resigned from Virginia Commonwealth University.', 'r2.metadata': '{\"summary\": \"The 2014\\\\u201315 VCU Rams men\\'s basketball team represented Virginia Commonwealth University during the 2014\\\\u201315 NCAA Division I men\\'s basketball season.\", \"generated_at\": \"2024-11-07 19:27:15.009521\"}', 'r2.description': \"The VCU Rams men's basketball team represented Virginia Commonwealth University during the 2014–15 NCAA Division I men's basketball season.\"}, {'r1.metadata': '{\"summary\": \"Shaka Smart was the head coach of the VCU Rams men\\'s basketball team.\", \"generated_at\": \"2024-11-07 19:27:15.009521\"}', 'r1.description': \"Shaka Smart was the head coach of the VCU Rams men's basketball team.\", 'r2.metadata': '{\"summary\": \"The 2014\\\\u201315 VCU Rams men\\'s basketball team represented Virginia Commonwealth University during the 2014\\\\u201315 NCAA Division I men\\'s basketball season.\", \"generated_at\": \"2024-11-07 19:27:15.009521\"}', 'r2.description': \"The VCU Rams men's basketball team participated in the 2014–15 NCAA Division I men's basketball season.\"}, {'r1.metadata': '{\"summary\": \"The 2009\\\\u201310 season was Shaka Smart\\'s first season at Virginia Commonwealth University.\", \"generated_at\": \"2024-11-07 19:27:15.009521\"}', 'r1.description': 'Shaka Smart was associated with Virginia Commonwealth University during the 2009–10 season.', 'r2.metadata': '{\"summary\": \"The 2014\\\\u201315 season was the 47th season of Virginia Commonwealth University fielding a men\\'s basketball program.\", \"generated_at\": \"2024-11-07 19:27:15.009521\"}', 'r2.description': \"Virginia Commonwealth University is the location where the 2014–15 season of the men's basketball program took place.\"}, {'r1.metadata': '{\"summary\": \"Shaka Smart resigned from Virginia Commonwealth University for the vacancy at Texas.\", \"generated_at\": \"2024-11-07 19:27:15.009521\"}', 'r1.description': 'Shaka Smart resigned from Virginia Commonwealth University.', 'r2.metadata': '{\"summary\": \"The 2014\\\\u201315 season was the 47th season of Virginia Commonwealth University fielding a men\\'s basketball program.\", \"generated_at\": \"2024-11-07 19:27:15.009521\"}', 'r2.description': \"Virginia Commonwealth University is the location where the 2014–15 season of the men's basketball program took place.\"}, {'r1.metadata': '{\"summary\": \"Shaka Smart was the head coach of the VCU Rams men\\'s basketball team.\", \"generated_at\": \"2024-11-07 19:27:15.009521\"}', 'r1.description': \"Shaka Smart was the head coach of the VCU Rams men's basketball team.\", 'r2.metadata': '{\"summary\": \"The 2009\\\\u201310 VCU Rams men\\'s basketball team represented Virginia Commonwealth University during the 2009\\\\u201310 college basketball season.\", \"generated_at\": \"2024-11-07 19:27:15.009521\"}', 'r2.description': \"The VCU Rams men's basketball team participated in the 2009–10 college basketball season.\"}, {'r1.metadata': '{\"summary\": \"Shaka Smart was the head coach of the VCU Rams men\\'s basketball team.\", \"generated_at\": \"2024-11-07 19:27:15.009521\"}', 'r1.description': \"Shaka Smart was the head coach of the VCU Rams men's basketball team.\", 'r2.metadata': '{\"summary\": \"The 2009\\\\u201310 VCU Rams men\\'s basketball team represented Virginia Commonwealth University during the 2009\\\\u201310 college basketball season.\", \"generated_at\": \"2024-11-07 19:27:15.009521\"}', 'r2.description': \"The VCU Rams men's basketball team represented Virginia Commonwealth University.\"}, {'r1.metadata': '{\"summary\": \"The 2009\\\\u201310 season was Shaka Smart\\'s first season at Virginia Commonwealth University.\", \"generated_at\": \"2024-11-07 19:27:15.009521\"}', 'r1.description': 'Shaka Smart was associated with Virginia Commonwealth University during the 2009–10 season.', 'r2.metadata': '{\"summary\": \"The 2009\\\\u201310 VCU Rams men\\'s basketball team represented Virginia Commonwealth University during the 2009\\\\u201310 college basketball season.\", \"generated_at\": \"2024-11-07 19:27:15.009521\"}', 'r2.description': \"The VCU Rams men's basketball team represented Virginia Commonwealth University.\"}, {'r1.metadata': '{\"summary\": \"Shaka Smart resigned from Virginia Commonwealth University for the vacancy at Texas.\", \"generated_at\": \"2024-11-07 19:27:15.009521\"}', 'r1.description': 'Shaka Smart resigned from Virginia Commonwealth University.', 'r2.metadata': '{\"summary\": \"The 2009\\\\u201310 VCU Rams men\\'s basketball team represented Virginia Commonwealth University during the 2009\\\\u201310 college basketball season.\", \"generated_at\": \"2024-11-07 19:27:15.009521\"}', 'r2.description': \"The VCU Rams men's basketball team represented Virginia Commonwealth University.\"}, {'r1.metadata': '{\"summary\": \"The VCU Rams were led by second year head coach Shaka Smart.\", \"generated_at\": \"2024-11-07 19:27:15.009521\"}', 'r1.description': 'Shaka Smart is the head coach of the VCU Rams.', 'r2.metadata': '{\"summary\": \"The 2009\\\\u201310 season was Shaka Smart\\'s first season at Virginia Commonwealth University.\", \"generated_at\": \"2024-11-07 19:27:15.009521\"}', 'r2.description': 'Shaka Smart was associated with Virginia Commonwealth University during the 2009–10 season.'}, {'r1.metadata': '{\"summary\": \"Shaka Smart was the sixth-year head coach of the 2014\\\\u201315 VCU Rams men\\'s basketball team.\", \"generated_at\": \"2024-11-07 19:27:15.009521\"}', 'r1.description': \"Shaka Smart was the head coach of the 2014–15 VCU Rams men's basketball team during that season.\", 'r2.metadata': '{\"summary\": \"The 2009\\\\u201310 season was Shaka Smart\\'s first season at Virginia Commonwealth University.\", \"generated_at\": \"2024-11-07 19:27:15.009521\"}', 'r2.description': 'Shaka Smart was associated with Virginia Commonwealth University during the 2009–10 season.'}, {'r1.metadata': '{\"summary\": \"Shaka Smart was the head coach of the VCU Rams men\\'s basketball team.\", \"generated_at\": \"2024-11-07 19:27:15.009521\"}', 'r1.description': \"Shaka Smart was the head coach of the VCU Rams men's basketball team.\", 'r2.metadata': '{\"summary\": \"The 2009\\\\u201310 season was Shaka Smart\\'s first season at Virginia Commonwealth University.\", \"generated_at\": \"2024-11-07 19:27:15.009521\"}', 'r2.description': 'Shaka Smart was associated with Virginia Commonwealth University during the 2009–10 season.'}, {'r1.metadata': '{\"summary\": \"The 2009\\\\u201310 season was Shaka Smart\\'s first season at Virginia Commonwealth University.\", \"generated_at\": \"2024-11-07 19:27:15.009521\"}', 'r1.description': \"Shaka Smart's first season occurred during the 2009–10 season.\", 'r2.metadata': '{\"summary\": \"The 2009\\\\u201310 season was Shaka Smart\\'s first season at Virginia Commonwealth University.\", \"generated_at\": \"2024-11-07 19:27:15.009521\"}', 'r2.description': 'Shaka Smart was associated with Virginia Commonwealth University during the 2009–10 season.'}, {'r1.metadata': '{\"summary\": \"Shaka Smart was the fifth-year head coach of the 2013\\\\u201314 VCU Rams men\\'s basketball team.\", \"generated_at\": \"2024-11-07 19:27:15.009521\"}', 'r1.description': \"Shaka Smart was the head coach of the 2013–14 VCU Rams men's basketball team.\", 'r2.metadata': '{\"summary\": \"The 2009\\\\u201310 season was Shaka Smart\\'s first season at Virginia Commonwealth University.\", \"generated_at\": \"2024-11-07 19:27:15.009521\"}', 'r2.description': 'Shaka Smart was associated with Virginia Commonwealth University during the 2009–10 season.'}, {'r1.metadata': '{\"summary\": \"Will Wade replaced former head coach Shaka Smart.\", \"generated_at\": \"2024-11-07 19:27:15.009521\"}', 'r1.description': 'Will Wade replaced Shaka Smart as the head coach.', 'r2.metadata': '{\"summary\": \"The 2009\\\\u201310 season was Shaka Smart\\'s first season at Virginia Commonwealth University.\", \"generated_at\": \"2024-11-07 19:27:15.009521\"}', 'r2.description': 'Shaka Smart was associated with Virginia Commonwealth University during the 2009–10 season.'}, {'r1.metadata': '{\"summary\": \"Shaka Smart resigned from Virginia Commonwealth University for the vacancy at Texas.\", \"generated_at\": \"2024-11-07 19:27:15.009521\"}', 'r1.description': 'Shaka Smart resigned from Virginia Commonwealth University.', 'r2.metadata': '{\"summary\": \"The 2009\\\\u201310 season was Shaka Smart\\'s first season at Virginia Commonwealth University.\", \"generated_at\": \"2024-11-07 19:27:15.009521\"}', 'r2.description': 'Shaka Smart was associated with Virginia Commonwealth University during the 2009–10 season.'}, {'r1.metadata': '{\"summary\": \"Shaka Smart resigned from Virginia Commonwealth University for the vacancy at Texas.\", \"generated_at\": \"2024-11-07 19:27:15.009521\"}', 'r1.description': 'Shaka Smart resigned for the vacancy at Texas.', 'r2.metadata': '{\"summary\": \"The 2009\\\\u201310 season was Shaka Smart\\'s first season at Virginia Commonwealth University.\", \"generated_at\": \"2024-11-07 19:27:15.009521\"}', 'r2.description': 'Shaka Smart was associated with Virginia Commonwealth University during the 2009–10 season.'}, {'r1.metadata': '{\"summary\": \"Shaka Smart was the third-year head coach of the VCU Rams.\", \"generated_at\": \"2024-11-07 19:27:15.009521\"}', 'r1.description': 'Shaka Smart was the head coach of the VCU Rams.', 'r2.metadata': '{\"summary\": \"The 2009\\\\u201310 season was Shaka Smart\\'s first season at Virginia Commonwealth University.\", \"generated_at\": \"2024-11-07 19:27:15.009521\"}', 'r2.description': 'Shaka Smart was associated with Virginia Commonwealth University during the 2009–10 season.'}, {'r1.metadata': '{\"summary\": \"Shaka Smart was the fourth-year head coach of the 2012\\\\u201313 VCU Rams men\\'s basketball team.\", \"generated_at\": \"2024-11-07 19:27:15.009521\"}', 'r1.description': \"Shaka Smart was the head coach during the 2012–13 VCU Rams men's basketball team season.\", 'r2.metadata': '{\"summary\": \"The 2009\\\\u201310 season was Shaka Smart\\'s first season at Virginia Commonwealth University.\", \"generated_at\": \"2024-11-07 19:27:15.009521\"}', 'r2.description': 'Shaka Smart was associated with Virginia Commonwealth University during the 2009–10 season.'}, {'r1.metadata': '{\"summary\": \"The VCU Rams were led by second year head coach Shaka Smart.\", \"generated_at\": \"2024-11-07 19:27:15.009521\"}', 'r1.description': 'Shaka Smart is the head coach of the VCU Rams.', 'r2.metadata': '{\"summary\": \"The 2009\\\\u201310 season was Shaka Smart\\'s first season at Virginia Commonwealth University.\", \"generated_at\": \"2024-11-07 19:27:15.009521\"}', 'r2.description': \"Shaka Smart's first season occurred during the 2009–10 season.\"}, {'r1.metadata': '{\"summary\": \"Shaka Smart was the sixth-year head coach of the 2014\\\\u201315 VCU Rams men\\'s basketball team.\", \"generated_at\": \"2024-11-07 19:27:15.009521\"}', 'r1.description': \"Shaka Smart was the head coach of the 2014–15 VCU Rams men's basketball team during that season.\", 'r2.metadata': '{\"summary\": \"The 2009\\\\u201310 season was Shaka Smart\\'s first season at Virginia Commonwealth University.\", \"generated_at\": \"2024-11-07 19:27:15.009521\"}', 'r2.description': \"Shaka Smart's first season occurred during the 2009–10 season.\"}, {'r1.metadata': '{\"summary\": \"Shaka Smart was the head coach of the VCU Rams men\\'s basketball team.\", \"generated_at\": \"2024-11-07 19:27:15.009521\"}', 'r1.description': \"Shaka Smart was the head coach of the VCU Rams men's basketball team.\", 'r2.metadata': '{\"summary\": \"The 2009\\\\u201310 season was Shaka Smart\\'s first season at Virginia Commonwealth University.\", \"generated_at\": \"2024-11-07 19:27:15.009521\"}', 'r2.description': \"Shaka Smart's first season occurred during the 2009–10 season.\"}, {'r1.metadata': '{\"summary\": \"The 2009\\\\u201310 season was Shaka Smart\\'s first season at Virginia Commonwealth University.\", \"generated_at\": \"2024-11-07 19:27:15.009521\"}', 'r1.description': 'Shaka Smart was associated with Virginia Commonwealth University during the 2009–10 season.', 'r2.metadata': '{\"summary\": \"The 2009\\\\u201310 season was Shaka Smart\\'s first season at Virginia Commonwealth University.\", \"generated_at\": \"2024-11-07 19:27:15.009521\"}', 'r2.description': \"Shaka Smart's first season occurred during the 2009–10 season.\"}, {'r1.metadata': '{\"summary\": \"Shaka Smart was the fifth-year head coach of the 2013\\\\u201314 VCU Rams men\\'s basketball team.\", \"generated_at\": \"2024-11-07 19:27:15.009521\"}', 'r1.description': \"Shaka Smart was the head coach of the 2013–14 VCU Rams men's basketball team.\", 'r2.metadata': '{\"summary\": \"The 2009\\\\u201310 season was Shaka Smart\\'s first season at Virginia Commonwealth University.\", \"generated_at\": \"2024-11-07 19:27:15.009521\"}', 'r2.description': \"Shaka Smart's first season occurred during the 2009–10 season.\"}, {'r1.metadata': '{\"summary\": \"Will Wade replaced former head coach Shaka Smart.\", \"generated_at\": \"2024-11-07 19:27:15.009521\"}', 'r1.description': 'Will Wade replaced Shaka Smart as the head coach.', 'r2.metadata': '{\"summary\": \"The 2009\\\\u201310 season was Shaka Smart\\'s first season at Virginia Commonwealth University.\", \"generated_at\": \"2024-11-07 19:27:15.009521\"}', 'r2.description': \"Shaka Smart's first season occurred during the 2009–10 season.\"}, {'r1.metadata': '{\"summary\": \"Shaka Smart resigned from Virginia Commonwealth University for the vacancy at Texas.\", \"generated_at\": \"2024-11-07 19:27:15.009521\"}', 'r1.description': 'Shaka Smart resigned from Virginia Commonwealth University.', 'r2.metadata': '{\"summary\": \"The 2009\\\\u201310 season was Shaka Smart\\'s first season at Virginia Commonwealth University.\", \"generated_at\": \"2024-11-07 19:27:15.009521\"}', 'r2.description': \"Shaka Smart's first season occurred during the 2009–10 season.\"}, {'r1.metadata': '{\"summary\": \"Shaka Smart resigned from Virginia Commonwealth University for the vacancy at Texas.\", \"generated_at\": \"2024-11-07 19:27:15.009521\"}', 'r1.description': 'Shaka Smart resigned for the vacancy at Texas.', 'r2.metadata': '{\"summary\": \"The 2009\\\\u201310 season was Shaka Smart\\'s first season at Virginia Commonwealth University.\", \"generated_at\": \"2024-11-07 19:27:15.009521\"}', 'r2.description': \"Shaka Smart's first season occurred during the 2009–10 season.\"}, {'r1.metadata': '{\"summary\": \"Shaka Smart was the third-year head coach of the VCU Rams.\", \"generated_at\": \"2024-11-07 19:27:15.009521\"}', 'r1.description': 'Shaka Smart was the head coach of the VCU Rams.', 'r2.metadata': '{\"summary\": \"The 2009\\\\u201310 season was Shaka Smart\\'s first season at Virginia Commonwealth University.\", \"generated_at\": \"2024-11-07 19:27:15.009521\"}', 'r2.description': \"Shaka Smart's first season occurred during the 2009–10 season.\"}, {'r1.metadata': '{\"summary\": \"Shaka Smart was the fourth-year head coach of the 2012\\\\u201313 VCU Rams men\\'s basketball team.\", \"generated_at\": \"2024-11-07 19:27:15.009521\"}', 'r1.description': \"Shaka Smart was the head coach during the 2012–13 VCU Rams men's basketball team season.\", 'r2.metadata': '{\"summary\": \"The 2009\\\\u201310 season was Shaka Smart\\'s first season at Virginia Commonwealth University.\", \"generated_at\": \"2024-11-07 19:27:15.009521\"}', 'r2.description': \"Shaka Smart's first season occurred during the 2009–10 season.\"}, {'r1.metadata': '{\"summary\": \"The 2009\\\\u201310 season was Shaka Smart\\'s first season at Virginia Commonwealth University.\", \"generated_at\": \"2024-11-07 19:27:15.009521\"}', 'r1.description': \"Shaka Smart's first season occurred during the 2009–10 season.\", 'r2.metadata': '{\"summary\": \"The 2009\\\\u201310 season was Shaka Smart\\'s first season at Virginia Commonwealth University.\", \"generated_at\": \"2024-11-07 19:27:15.009521\"}', 'r2.description': 'The 2009–10 season took place at Virginia Commonwealth University.'}, {'r1.metadata': '{\"summary\": \"The 2009\\\\u201310 season was Shaka Smart\\'s first season at Virginia Commonwealth University.\", \"generated_at\": \"2024-11-07 19:27:15.009521\"}', 'r1.description': 'Shaka Smart was associated with Virginia Commonwealth University during the 2009–10 season.', 'r2.metadata': '{\"summary\": \"The 2009\\\\u201310 season was Shaka Smart\\'s first season at Virginia Commonwealth University.\", \"generated_at\": \"2024-11-07 19:27:15.009521\"}', 'r2.description': 'The 2009–10 season took place at Virginia Commonwealth University.'}, {'r1.metadata': '{\"summary\": \"Shaka Smart resigned from Virginia Commonwealth University for the vacancy at Texas.\", \"generated_at\": \"2024-11-07 19:27:15.009521\"}', 'r1.description': 'Shaka Smart resigned from Virginia Commonwealth University.', 'r2.metadata': '{\"summary\": \"The 2009\\\\u201310 season was Shaka Smart\\'s first season at Virginia Commonwealth University.\", \"generated_at\": \"2024-11-07 19:27:15.009521\"}', 'r2.description': 'The 2009–10 season took place at Virginia Commonwealth University.'}, {'r1.metadata': '{\"summary\": \"Shaka Smart was the head coach of the VCU Rams men\\'s basketball team.\", \"generated_at\": \"2024-11-07 19:27:15.009521\"}', 'r1.description': \"Shaka Smart was the head coach of the VCU Rams men's basketball team.\", 'r2.metadata': '{\"summary\": \"The 1995\\\\u201396 VCU Rams men\\'s basketball team represented Virginia Commonwealth University during the 1995\\\\u201396 NCAA Division I men\\'s basketball season.\", \"generated_at\": \"2024-11-07 19:27:15.009521\"}', 'r2.description': \"The VCU Rams men's basketball team participated in the 1995–96 NCAA Division I men's basketball season.\"}, {'r1.metadata': '{\"summary\": \"Shaka Smart was the head coach of the VCU Rams men\\'s basketball team.\", \"generated_at\": \"2024-11-07 19:27:15.009521\"}', 'r1.description': \"Shaka Smart was the head coach of the VCU Rams men's basketball team.\", 'r2.metadata': '{\"summary\": \"The 1995\\\\u201396 VCU Rams men\\'s basketball team represented Virginia Commonwealth University during the 1995\\\\u201396 NCAA Division I men\\'s basketball season.\", \"generated_at\": \"2024-11-07 19:27:15.009521\"}', 'r2.description': \"The VCU Rams men's basketball team represented Virginia Commonwealth University.\"}, {'r1.metadata': '{\"summary\": \"The 2009\\\\u201310 season was Shaka Smart\\'s first season at Virginia Commonwealth University.\", \"generated_at\": \"2024-11-07 19:27:15.009521\"}', 'r1.description': 'Shaka Smart was associated with Virginia Commonwealth University during the 2009–10 season.', 'r2.metadata': '{\"summary\": \"The 1995\\\\u201396 VCU Rams men\\'s basketball team represented Virginia Commonwealth University during the 1995\\\\u201396 NCAA Division I men\\'s basketball season.\", \"generated_at\": \"2024-11-07 19:27:15.009521\"}', 'r2.description': \"The VCU Rams men's basketball team represented Virginia Commonwealth University.\"}, {'r1.metadata': '{\"summary\": \"Shaka Smart resigned from Virginia Commonwealth University for the vacancy at Texas.\", \"generated_at\": \"2024-11-07 19:27:15.009521\"}', 'r1.description': 'Shaka Smart resigned from Virginia Commonwealth University.', 'r2.metadata': '{\"summary\": \"The 1995\\\\u201396 VCU Rams men\\'s basketball team represented Virginia Commonwealth University during the 1995\\\\u201396 NCAA Division I men\\'s basketball season.\", \"generated_at\": \"2024-11-07 19:27:15.009521\"}', 'r2.description': \"The VCU Rams men's basketball team represented Virginia Commonwealth University.\"}, {'r1.metadata': '{\"summary\": \"The 2009\\\\u201310 season was Shaka Smart\\'s first season at Virginia Commonwealth University.\", \"generated_at\": \"2024-11-07 19:27:15.009521\"}', 'r1.description': 'Shaka Smart was associated with Virginia Commonwealth University during the 2009–10 season.', 'r2.metadata': '{\"summary\": \"The 1995\\\\u201396 season was the 28th season of Virginia Commonwealth University fielding a men\\'s basketball program.\", \"generated_at\": \"2024-11-07 19:27:15.009521\"}', 'r2.description': \"Virginia Commonwealth University hosted the 1995–96 season of its men's basketball program.\"}, {'r1.metadata': '{\"summary\": \"Shaka Smart resigned from Virginia Commonwealth University for the vacancy at Texas.\", \"generated_at\": \"2024-11-07 19:27:15.009521\"}', 'r1.description': 'Shaka Smart resigned from Virginia Commonwealth University.', 'r2.metadata': '{\"summary\": \"The 1995\\\\u201396 season was the 28th season of Virginia Commonwealth University fielding a men\\'s basketball program.\", \"generated_at\": \"2024-11-07 19:27:15.009521\"}', 'r2.description': \"Virginia Commonwealth University hosted the 1995–96 season of its men's basketball program.\"}]\u001b[0m\n"
     ]
    },
    {
     "name": "stderr",
     "output_type": "stream",
     "text": [
      " 90%|█████████ | 28/31 [03:00<00:18,  6.21s/it]"
     ]
    },
    {
     "name": "stdout",
     "output_type": "stream",
     "text": [
      "\n",
      "\u001b[1m> Finished chain.\u001b[0m\n",
      "\n",
      "\n",
      "\u001b[1m> Entering new GraphCypherQAChain chain...\u001b[0m\n",
      "Generated Cypher:\n",
      "\u001b[32;1m\u001b[1;3mcypher\n",
      "MATCH ()-[r1]-()\n",
      "WHERE (\n",
      "    toLower(r1.metadata) =~ '.*\\\\b(dictyosperma)\\\\b.*' OR\n",
      "    toLower(r1.description) =~ '.*\\\\b(dictyosperma)\\\\b.*'\n",
      ")\n",
      "RETURN DISTINCT r1.metadata AS info1\n",
      "UNION ALL\n",
      "MATCH ()-[r2]-()\n",
      "WHERE (\n",
      "    toLower(r2.metadata) =~ '.*\\\\b(huernia)\\\\b.*' OR \n",
      "    toLower(r2.description) =~ '.*\\\\b(huernia)\\\\b.*'\n",
      ")\n",
      "RETURN DISTINCT r2.metadata AS info1\n",
      "\u001b[0m\n",
      "Full Context:\n",
      "\u001b[32;1m\u001b[1;3m[{'info1': '{\"summary\": \"The genus Huernia consists of stem succulents from Eastern and Southern Africa.\", \"generated_at\": \"2024-11-07 19:27:15.009521\"}'}, {'info1': '{\"summary\": \"The genus Huernia is part of the family Apocynaceae.\", \"generated_at\": \"2024-11-07 19:27:15.009521\"}'}, {'info1': '{\"summary\": \"The genus Huernia is part of the subfamily Asclepiadoideae.\", \"generated_at\": \"2024-11-07 19:27:15.009521\"}'}, {'info1': '{\"summary\": \"The genus Huernia was first described as a genus in 1810.\", \"generated_at\": \"2024-11-07 19:27:15.009521\"}'}, {'info1': '{\"summary\": \"The flowers of the genus Huernia are five-lobed.\", \"generated_at\": \"2024-11-07 19:27:15.009521\"}'}, {'info1': '{\"summary\": \"The flowers of the genus Huernia are usually somewhat more funnel- or bell-shaped than in the closely related genus Stapelia.\", \"generated_at\": \"2024-11-07 19:27:15.009521\"}'}, {'info1': '{\"summary\": \"The flowers of the genus Huernia are often striped vividly in contrasting colours or tones.\", \"generated_at\": \"2024-11-07 19:27:15.009521\"}'}, {'info1': '{\"summary\": \"Some flowers of the genus Huernia are glossy.\", \"generated_at\": \"2024-11-07 19:27:15.009521\"}'}, {'info1': '{\"summary\": \"Other flowers of the genus Huernia are matt and wrinkled depending on the species concerned.\", \"generated_at\": \"2024-11-07 19:27:15.009521\"}'}, {'info1': '{\"summary\": \"The flowers of the genus Huernia attract flies to pollinate.\", \"generated_at\": \"2024-11-07 19:27:15.009521\"}'}, {'info1': '{\"summary\": \"The flowers of the genus Huernia emit a scent similar to that of carrion to attract flies.\", \"generated_at\": \"2024-11-07 19:27:15.009521\"}'}, {'info1': '{\"summary\": \"The genus Huernia is considered close to the genus Stapelia.\", \"generated_at\": \"2024-11-07 19:27:15.009521\"}'}, {'info1': '{\"summary\": \"The genus Huernia is considered close to the genus Hoodia.\", \"generated_at\": \"2024-11-07 19:27:15.009521\"}'}, {'info1': '{\"summary\": \"The name Huernia is in honour of Justin Heurnius.\", \"generated_at\": \"2024-11-07 19:27:15.009521\"}'}]\u001b[0m\n"
     ]
    },
    {
     "name": "stderr",
     "output_type": "stream",
     "text": [
      " 94%|█████████▎| 29/31 [03:07<00:12,  6.38s/it]"
     ]
    },
    {
     "name": "stdout",
     "output_type": "stream",
     "text": [
      "\n",
      "\u001b[1m> Finished chain.\u001b[0m\n",
      "\n",
      "\n",
      "\u001b[1m> Entering new GraphCypherQAChain chain...\u001b[0m\n"
     ]
    },
    {
     "name": "stderr",
     "output_type": "stream",
     "text": [
      " 97%|█████████▋| 30/31 [03:13<00:06,  6.19s/it]"
     ]
    },
    {
     "name": "stdout",
     "output_type": "stream",
     "text": [
      "Generated Cypher:\n",
      "\u001b[32;1m\u001b[1;3mcypher\n",
      "MATCH (w)-[r1]-(x)-[r2]-(y)\n",
      "WHERE (\n",
      "    toLower(r1.metadata) =~ '.*\\\\b(kaiser ventures)\\\\b.*' OR\n",
      "    toLower(r1.description) =~ '.*\\\\b(kaiser ventures)\\\\b.*'\n",
      ")\n",
      "AND (\n",
      "    toLower(r2.metadata) =~ '.*\\\\b(american industrialist)\\\\b.*' OR \n",
      "    toLower(r2.description) =~ '.*\\\\b(american industrialist)\\\\b.*'\n",
      ")\n",
      "RETURN DISTINCT r1.metadata, r1.description, r2.metadata, r2.description\n",
      "UNION ALL\n",
      "MATCH (w)-[r3]-(x)\n",
      "WHERE (\n",
      "    toLower(r3.metadata) =~ '.*\\\\b(father of modern american shipbuilding)\\\\b.*' OR\n",
      "    toLower(r3.description) =~ '.*\\\\b(father of modern american shipbuilding)\\\\b.*'\n",
      ")\n",
      "RETURN DISTINCT r3.metadata AS info1\n",
      "\u001b[0m\n",
      "Generated Cypher Statement is not valid\n",
      "{code: Neo.ClientError.Statement.SyntaxError} {message: All sub queries in an UNION must have the same return column names (line 12, column 1 (offset: 385))\n",
      "\"UNION ALL\"\n",
      " ^}\n",
      "\n",
      "\n",
      "\u001b[1m> Entering new GraphCypherQAChain chain...\u001b[0m\n",
      "Generated Cypher:\n",
      "\u001b[32;1m\u001b[1;3mcypher\n",
      "MATCH (w)-[r1]-(x)-[r2]-(y)\n",
      "WHERE (\n",
      "    toLower(r1.metadata) =~ '.*\\\\b(tunnels and trolls)\\\\b.*' OR\n",
      "    toLower(r1.description) =~ '.*\\\\b(tunnels and trolls)\\\\b.*'\n",
      ")\n",
      "AND (\n",
      "    toLower(r2.metadata) =~ '.*\\\\b(ken st. andre)\\\\b.*' OR \n",
      "    toLower(r2.description) =~ '.*\\\\b(ken st. andre)\\\\b.*'\n",
      ")\n",
      "RETURN DISTINCT r1.metadata, r1.description, r2.metadata, r2.description\n",
      "\u001b[0m\n",
      "Full Context:\n",
      "\u001b[32;1m\u001b[1;3m[]\u001b[0m\n"
     ]
    },
    {
     "name": "stderr",
     "output_type": "stream",
     "text": [
      "100%|██████████| 31/31 [03:21<00:00,  6.85s/it]"
     ]
    },
    {
     "name": "stdout",
     "output_type": "stream",
     "text": [
      "\n",
      "\u001b[1m> Finished chain.\u001b[0m\n",
      "\n",
      "\n",
      "\u001b[1m> Entering new GraphCypherQAChain chain...\u001b[0m\n",
      "Generated Cypher:\n",
      "\u001b[32;1m\u001b[1;3mcypher\n",
      "MATCH (w)-[r1]-(x)-[r2]-(y)\n",
      "WHERE (\n",
      "    toLower(r1.metadata) =~ '.*\\\\b(poison)\\\\b.*' OR\n",
      "    toLower(r1.description) =~ '.*\\\\b(poison)\\\\b.*'\n",
      ")\n",
      "AND (\n",
      "    toLower(r2.metadata) =~ '.*\\\\b(shut up, make love)\\\\b.*' OR \n",
      "    toLower(r2.description) =~ '.*\\\\b(shut up, make love)\\\\b.*'\n",
      ")\n",
      "RETURN DISTINCT r1.metadata, r1.description, r2.metadata, r2.description\n",
      "\u001b[0m\n",
      "Full Context:\n",
      "\u001b[32;1m\u001b[1;3m[{'r1.metadata': '{\"summary\": \"\\\\\"Shut Up, Make Love\\\\\" is performed by the American rock band Poison.\", \"generated_at\": \"2024-11-07 19:27:15.009521\"}', 'r1.description': \"The event 'Shut Up, Make Love' is performed by the object 'Poison'.\", 'r2.metadata': '{\"summary\": \"\\\\\"Shut Up, Make Love\\\\\" is a song.\", \"generated_at\": \"2024-11-07 19:27:15.009521\"}', 'r2.description': \"The entity 'Shut Up, Make Love' is categorized as a song, which is an event.\"}, {'r1.metadata': '{\"summary\": \"\\\\\"Shut Up, Make Love\\\\\" was the first Poison single with lead guitarist Blues Saraceno.\", \"generated_at\": \"2024-11-07 19:27:15.009521\"}', 'r1.description': \"Blues Saraceno was the lead guitarist for the event 'Shut Up, Make Love', which is the first single by Poison.\", 'r2.metadata': '{\"summary\": \"\\\\\"Shut Up, Make Love\\\\\" is a song.\", \"generated_at\": \"2024-11-07 19:27:15.009521\"}', 'r2.description': \"The entity 'Shut Up, Make Love' is categorized as a song, which is an event.\"}, {'r1.metadata': '{\"summary\": \"\\\\\"Shut Up, Make Love\\\\\" was the first Poison single with lead guitarist Blues Saraceno.\", \"generated_at\": \"2024-11-07 19:27:15.009521\"}', 'r1.description': \"Blues Saraceno was the lead guitarist for the event 'Shut Up, Make Love', which is the first single by Poison.\", 'r2.metadata': '{\"summary\": \"\\\\\"Shut Up, Make Love\\\\\" is performed by the American rock band Poison.\", \"generated_at\": \"2024-11-07 19:27:15.009521\"}', 'r2.description': \"The event 'Shut Up, Make Love' is performed by the object 'Poison'.\"}, {'r1.metadata': '{\"summary\": \"Tom Rothrock has worked with Poison.\", \"generated_at\": \"2024-11-07 19:27:15.009521\"}', 'r1.description': 'Tom Rothrock has collaborated or worked with Poison.', 'r2.metadata': '{\"summary\": \"\\\\\"Shut Up, Make Love\\\\\" is performed by the American rock band Poison.\", \"generated_at\": \"2024-11-07 19:27:15.009521\"}', 'r2.description': \"The event 'Shut Up, Make Love' is performed by the object 'Poison'.\"}, {'r1.metadata': '{\"summary\": \"Be the One is performed by the American rock band Poison.\", \"generated_at\": \"2024-11-07 19:27:15.009521\"}', 'r1.description': 'Be the One is an event that is performed by the band Poison.', 'r2.metadata': '{\"summary\": \"\\\\\"Shut Up, Make Love\\\\\" is performed by the American rock band Poison.\", \"generated_at\": \"2024-11-07 19:27:15.009521\"}', 'r2.description': \"The event 'Shut Up, Make Love' is performed by the object 'Poison'.\"}, {'r1.metadata': '{\"summary\": \"\\\\\"Shut Up, Make Love\\\\\" is performed by the American rock band Poison.\", \"generated_at\": \"2024-11-07 19:27:15.009521\"}', 'r1.description': \"The object 'Poison' is categorized as an American rock band.\", 'r2.metadata': '{\"summary\": \"\\\\\"Shut Up, Make Love\\\\\" is performed by the American rock band Poison.\", \"generated_at\": \"2024-11-07 19:27:15.009521\"}', 'r2.description': \"The event 'Shut Up, Make Love' is performed by the object 'Poison'.\"}, {'r1.metadata': '{\"summary\": \"\\\\\"Crack a Smile\\\\\" is Poison\\'s fifth studio album.\", \"generated_at\": \"2024-11-07 19:27:15.009521\"}', 'r1.description': 'Crack a Smile is an album created by Poison.', 'r2.metadata': '{\"summary\": \"\\\\\"Shut Up, Make Love\\\\\" is performed by the American rock band Poison.\", \"generated_at\": \"2024-11-07 19:27:15.009521\"}', 'r2.description': \"The event 'Shut Up, Make Love' is performed by the object 'Poison'.\"}, {'r1.metadata': '{\"summary\": \"Tom Rothrock has worked with Poison.\", \"generated_at\": \"2024-11-07 19:27:15.009521\"}', 'r1.description': 'Tom Rothrock has collaborated or worked with Poison.', 'r2.metadata': '{\"summary\": \"\\\\\"Shut Up, Make Love\\\\\" is performed by the American rock band Poison.\", \"generated_at\": \"2024-11-07 19:27:15.009521\"}', 'r2.description': \"The object 'Poison' is categorized as an American rock band.\"}, {'r1.metadata': '{\"summary\": \"Be the One is performed by the American rock band Poison.\", \"generated_at\": \"2024-11-07 19:27:15.009521\"}', 'r1.description': 'Be the One is an event that is performed by the band Poison.', 'r2.metadata': '{\"summary\": \"\\\\\"Shut Up, Make Love\\\\\" is performed by the American rock band Poison.\", \"generated_at\": \"2024-11-07 19:27:15.009521\"}', 'r2.description': \"The object 'Poison' is categorized as an American rock band.\"}, {'r1.metadata': '{\"summary\": \"\\\\\"Shut Up, Make Love\\\\\" is performed by the American rock band Poison.\", \"generated_at\": \"2024-11-07 19:27:15.009521\"}', 'r1.description': \"The event 'Shut Up, Make Love' is performed by the object 'Poison'.\", 'r2.metadata': '{\"summary\": \"\\\\\"Shut Up, Make Love\\\\\" is performed by the American rock band Poison.\", \"generated_at\": \"2024-11-07 19:27:15.009521\"}', 'r2.description': \"The object 'Poison' is categorized as an American rock band.\"}, {'r1.metadata': '{\"summary\": \"\\\\\"Crack a Smile\\\\\" is Poison\\'s fifth studio album.\", \"generated_at\": \"2024-11-07 19:27:15.009521\"}', 'r1.description': 'Crack a Smile is an album created by Poison.', 'r2.metadata': '{\"summary\": \"\\\\\"Shut Up, Make Love\\\\\" is performed by the American rock band Poison.\", \"generated_at\": \"2024-11-07 19:27:15.009521\"}', 'r2.description': \"The object 'Poison' is categorized as an American rock band.\"}, {'r1.metadata': '{\"summary\": \"\\\\\"Shut Up, Make Love\\\\\" is performed by the American rock band Poison.\", \"generated_at\": \"2024-11-07 19:27:15.009521\"}', 'r1.description': \"The event 'Shut Up, Make Love' is performed by the object 'Poison'.\", 'r2.metadata': '{\"summary\": \"\\\\\"Shut Up, Make Love\\\\\" was released in 2000.\", \"generated_at\": \"2024-11-07 19:27:15.009521\"}', 'r2.description': \"The event 'Shut Up, Make Love' took place in the year 2000.\"}, {'r1.metadata': '{\"summary\": \"\\\\\"Shut Up, Make Love\\\\\" was the first Poison single with lead guitarist Blues Saraceno.\", \"generated_at\": \"2024-11-07 19:27:15.009521\"}', 'r1.description': \"Blues Saraceno was the lead guitarist for the event 'Shut Up, Make Love', which is the first single by Poison.\", 'r2.metadata': '{\"summary\": \"\\\\\"Shut Up, Make Love\\\\\" was released in 2000.\", \"generated_at\": \"2024-11-07 19:27:15.009521\"}', 'r2.description': \"The event 'Shut Up, Make Love' took place in the year 2000.\"}, {'r1.metadata': '{\"summary\": \"\\\\\"Shut Up, Make Love\\\\\" is performed by the American rock band Poison.\", \"generated_at\": \"2024-11-07 19:27:15.009521\"}', 'r1.description': \"The event 'Shut Up, Make Love' is performed by the object 'Poison'.\", 'r2.metadata': '{\"summary\": \"\\\\\"Shut Up, Make Love\\\\\" was the first single presented to radio stations from the 2000 album \\\\\"Crack a Smile...and More!\\\\\".\", \"generated_at\": \"2024-11-07 19:27:15.009521\"}', 'r2.description': \"The event 'Shut Up, Make Love' is a single that was presented to radio stations from the album 'Crack a Smile...and More!'.\"}, {'r1.metadata': '{\"summary\": \"\\\\\"Shut Up, Make Love\\\\\" was the first Poison single with lead guitarist Blues Saraceno.\", \"generated_at\": \"2024-11-07 19:27:15.009521\"}', 'r1.description': \"Blues Saraceno was the lead guitarist for the event 'Shut Up, Make Love', which is the first single by Poison.\", 'r2.metadata': '{\"summary\": \"\\\\\"Shut Up, Make Love\\\\\" was the first single presented to radio stations from the 2000 album \\\\\"Crack a Smile...and More!\\\\\".\", \"generated_at\": \"2024-11-07 19:27:15.009521\"}', 'r2.description': \"The event 'Shut Up, Make Love' is a single that was presented to radio stations from the album 'Crack a Smile...and More!'.\"}, {'r1.metadata': '{\"summary\": \"\\\\\"Shut Up, Make Love\\\\\" is performed by the American rock band Poison.\", \"generated_at\": \"2024-11-07 19:27:15.009521\"}', 'r1.description': \"The event 'Shut Up, Make Love' is performed by the object 'Poison'.\", 'r2.metadata': '{\"summary\": \"\\\\\"Shut Up, Make Love\\\\\" was the first single presented to radio stations from the 2000 album \\\\\"Crack a Smile...and More!\\\\\".\", \"generated_at\": \"2024-11-07 19:27:15.009521\"}', 'r2.description': \"The single 'Shut Up, Make Love' was released in the event of the year 2000.\"}, {'r1.metadata': '{\"summary\": \"\\\\\"Shut Up, Make Love\\\\\" was the first Poison single with lead guitarist Blues Saraceno.\", \"generated_at\": \"2024-11-07 19:27:15.009521\"}', 'r1.description': \"Blues Saraceno was the lead guitarist for the event 'Shut Up, Make Love', which is the first single by Poison.\", 'r2.metadata': '{\"summary\": \"\\\\\"Shut Up, Make Love\\\\\" was the first single presented to radio stations from the 2000 album \\\\\"Crack a Smile...and More!\\\\\".\", \"generated_at\": \"2024-11-07 19:27:15.009521\"}', 'r2.description': \"The single 'Shut Up, Make Love' was released in the event of the year 2000.\"}, {'r1.metadata': '{\"summary\": \"\\\\\"Shut Up, Make Love\\\\\" is performed by the American rock band Poison.\", \"generated_at\": \"2024-11-07 19:27:15.009521\"}', 'r1.description': \"The event 'Shut Up, Make Love' is performed by the object 'Poison'.\", 'r2.metadata': '{\"summary\": \"\\\\\"Shut Up, Make Love\\\\\" also appears on the second promo single \\\\\"Be the One\\\\\" as a B-side.\", \"generated_at\": \"2024-11-07 19:27:15.009521\"}', 'r2.description': 'Shut Up, Make Love is featured as a B-side on the promo single Be the One.'}, {'r1.metadata': '{\"summary\": \"\\\\\"Shut Up, Make Love\\\\\" was the first Poison single with lead guitarist Blues Saraceno.\", \"generated_at\": \"2024-11-07 19:27:15.009521\"}', 'r1.description': \"Blues Saraceno was the lead guitarist for the event 'Shut Up, Make Love', which is the first single by Poison.\", 'r2.metadata': '{\"summary\": \"\\\\\"Shut Up, Make Love\\\\\" also appears on the second promo single \\\\\"Be the One\\\\\" as a B-side.\", \"generated_at\": \"2024-11-07 19:27:15.009521\"}', 'r2.description': 'Shut Up, Make Love is featured as a B-side on the promo single Be the One.'}, {'r1.metadata': '{\"summary\": \"Be the One is performed by the American rock band Poison.\", \"generated_at\": \"2024-11-07 19:27:15.009521\"}', 'r1.description': 'Be the One is an event that is performed by the band Poison.', 'r2.metadata': '{\"summary\": \"\\\\\"Shut Up, Make Love\\\\\" also appears on the second promo single \\\\\"Be the One\\\\\" as a B-side.\", \"generated_at\": \"2024-11-07 19:27:15.009521\"}', 'r2.description': 'Shut Up, Make Love is featured as a B-side on the promo single Be the One.'}, {'r1.metadata': '{\"summary\": \"\\\\\"Shut Up, Make Love\\\\\" is performed by the American rock band Poison.\", \"generated_at\": \"2024-11-07 19:27:15.009521\"}', 'r1.description': \"The event 'Shut Up, Make Love' is performed by the object 'Poison'.\", 'r2.metadata': '{\"summary\": \"\\\\\"Shut Up, Make Love\\\\\" was the first Poison single with lead guitarist Blues Saraceno.\", \"generated_at\": \"2024-11-07 19:27:15.009521\"}', 'r2.description': \"Blues Saraceno was the lead guitarist for the event 'Shut Up, Make Love', which is the first single by Poison.\"}]\u001b[0m\n"
     ]
    },
    {
     "name": "stderr",
     "output_type": "stream",
     "text": [
      "100%|██████████| 31/31 [03:26<00:00,  6.67s/it]"
     ]
    },
    {
     "name": "stdout",
     "output_type": "stream",
     "text": [
      "\n",
      "\u001b[1m> Finished chain.\u001b[0m\n"
     ]
    },
    {
     "name": "stderr",
     "output_type": "stream",
     "text": [
      "\n"
     ]
    }
   ],
   "source": [
    "my_dict = {}\n",
    "# Apply the function to each row\n",
    "df[0:31].progress_apply(print_qa, axis=1)\n",
    "    \n",
    "with open(\"dev_fullwiki_pred.json\", \"a\") as json_file:\n",
    "    json.dump(my_dict, json_file, indent=4)"
   ]
  },
  {
   "cell_type": "code",
   "execution_count": null,
   "metadata": {},
   "outputs": [],
   "source": [
    "context_list[18]"
   ]
  },
  {
   "cell_type": "code",
   "execution_count": null,
   "metadata": {},
   "outputs": [],
   "source": [
    "x = df.iloc[31]\n",
    "question = x['question']\n",
    "print(\"question:\", question)\n",
    "answer = x['answer']\n",
    "print(\"answer:\", answer)\n",
    "\n",
    "qg = QueryGraph()\n",
    "req = qg.get_requirements(question)\n",
    "res = qg.answer_question(question, req.content)\n",
    "res"
   ]
  },
  {
   "cell_type": "markdown",
   "metadata": {},
   "source": [
    "## Graph refinement "
   ]
  },
  {
   "cell_type": "code",
   "execution_count": null,
   "metadata": {},
   "outputs": [],
   "source": [
    "qg = QueryGraph()\n",
    "\n",
    "QUERY = \"\"\"\n",
    "MATCH (N) RETURN N\n",
    "\"\"\"\n",
    "res = qg._graph.query(QUERY)\n",
    "res"
   ]
  },
  {
   "cell_type": "code",
   "execution_count": null,
   "metadata": {},
   "outputs": [],
   "source": [
    "from langchain_community.vectorstores import Neo4jVector\n",
    "from langchain_openai import OpenAIEmbeddings"
   ]
  },
  {
   "cell_type": "code",
   "execution_count": null,
   "metadata": {},
   "outputs": [],
   "source": [
    "neo4j_url = \"bolt://localhost:7687\"\n",
    "neo4j_user = \"neo4j\"\n",
    "neo4j_password = \"12345678\""
   ]
  },
  {
   "cell_type": "markdown",
   "metadata": {},
   "source": [
    "Create embeddings"
   ]
  },
  {
   "cell_type": "code",
   "execution_count": null,
   "metadata": {},
   "outputs": [],
   "source": [
    "# # Now we initialize from existing graph\n",
    "# existing_graph = Neo4jVector.from_existing_graph(\n",
    "#     embedding=OpenAIEmbeddings(model='text-embedding-3-small'),\n",
    "#     url=neo4j_url,\n",
    "#     username=neo4j_user,\n",
    "#     password=neo4j_password,\n",
    "#     index_name=\"person_index\",\n",
    "#     node_label=\"Person\",\n",
    "#     text_node_properties=[\"name\"],\n",
    "#     embedding_node_property=\"embedding\",\n",
    "# )"
   ]
  },
  {
   "cell_type": "markdown",
   "metadata": {},
   "source": [
    "Refactor node labels"
   ]
  },
  {
   "cell_type": "code",
   "execution_count": null,
   "metadata": {},
   "outputs": [],
   "source": [
    "# # cq = \"\"\"\n",
    "# # MATCH (en:Entity)\n",
    "# # WHERE en.label = 'Person'\n",
    "# # WITH collect(en) AS persons\n",
    "# # CALL apoc.refactor.rename.label(\"Entity\", \"Person\", persons)\n",
    "# # YIELD batches, total, timeTaken, committedOperations\n",
    "# # RETURN batches, total, timeTaken, committedOperations;\n",
    "# # \"\"\"\n",
    "# # res = qg._graph.query(cq)"
   ]
  },
  {
   "cell_type": "markdown",
   "metadata": {},
   "source": [
    "Create projection"
   ]
  },
  {
   "cell_type": "code",
   "execution_count": null,
   "metadata": {},
   "outputs": [],
   "source": [
    "cq = \"\"\"\n",
    "MATCH (p:Person)\n",
    "RETURN gds.graph.project(\n",
    "  'personproj',\n",
    "  p,\n",
    "  null,\n",
    "  {\n",
    "    sourceNodeProperties: p { .embedding },\n",
    "    targetNodeProperties: {}\n",
    "  }\n",
    ")\n",
    "\"\"\"\n",
    "\n",
    "res = qg._graph.query(cq)"
   ]
  },
  {
   "cell_type": "markdown",
   "metadata": {},
   "source": [
    "Use KNN to measure node similarities"
   ]
  },
  {
   "cell_type": "code",
   "execution_count": null,
   "metadata": {},
   "outputs": [],
   "source": [
    "cq = \"\"\"\n",
    "CALL gds.knn.stream('projection2', {\n",
    "topK: 1,\n",
    "nodeProperties: ['embedding'],\n",
    "// The following parameters are set to produce a deterministic result\n",
    "randomSeed: 1337,\n",
    "concurrency: 1,\n",
    "sampleRate: 1.0,\n",
    "deltaThreshold: 0.0\n",
    "})\n",
    "YIELD node1, node2, similarity\n",
    "WHERE similarity > .90\n",
    "RETURN gds.util.asNode(node1).name AS Person1, gds.util.asNode(node2).name AS Person2, similarity\n",
    "ORDER BY similarity DESCENDING, Person1, Person2\n",
    "\"\"\"\n",
    "\n",
    "res = qg._graph.query(cq)\n",
    "res"
   ]
  },
  {
   "cell_type": "code",
   "execution_count": null,
   "metadata": {},
   "outputs": [],
   "source": [
    "for i in res:\n",
    "    for key, value in i.items():\n",
    "        print(f\"{key}: {value}\")"
   ]
  },
  {
   "cell_type": "code",
   "execution_count": null,
   "metadata": {},
   "outputs": [],
   "source": [
    "def are_dictionaries_equivalent(d1, d2):\n",
    "    # Check if both have the same keys\n",
    "    if d1.keys() != d2.keys():\n",
    "        return False\n",
    "\n",
    "    # Check if Person1 and Person2 are swapped but equivalent\n",
    "    if (d1['Person1'] == d2['Person2'] and d1['Person2'] == d2['Person1'] and d1['similarity'] == d2['similarity']):\n",
    "        return True\n",
    "    \n",
    "    return False\n"
   ]
  },
  {
   "cell_type": "code",
   "execution_count": null,
   "metadata": {},
   "outputs": [],
   "source": [
    "newlist = res"
   ]
  },
  {
   "cell_type": "code",
   "execution_count": null,
   "metadata": {},
   "outputs": [],
   "source": [
    "for idx, val in enumerate(res):   \n",
    "    for idx2, val2 in enumerate(newlist):\n",
    "        if val != val2:\n",
    "            if are_dictionaries_equivalent(val, val2):\n",
    "                newlist.pop(idx2)\n"
   ]
  },
  {
   "cell_type": "code",
   "execution_count": null,
   "metadata": {},
   "outputs": [],
   "source": [
    "unique = []\n",
    "\n",
    "for value in newlist:\n",
    "    if value not in unique:\n",
    "        unique.append(value)\n",
    "\n",
    "unique"
   ]
  },
  {
   "cell_type": "code",
   "execution_count": null,
   "metadata": {},
   "outputs": [],
   "source": [
    "node_name = \"Shirley Temple\"\n",
    "\n",
    "query = f\"\"\"\n",
    "MATCH (n:Person {{name: '{node_name}'}})\n",
    "RETURN n\n",
    "\"\"\"\n",
    "print(query)\n",
    "\n",
    "res = qg._graph.query(query)\n",
    "res\n"
   ]
  },
  {
   "cell_type": "markdown",
   "metadata": {},
   "source": [
    "Merge similar nodes (Entity resolution)"
   ]
  },
  {
   "cell_type": "code",
   "execution_count": null,
   "metadata": {},
   "outputs": [],
   "source": [
    "for idx, val in enumerate(unique):\n",
    "    print(val)\n",
    "    p1 = val['Person1']\n",
    "    p2 = val['Person2']    \n",
    "    cq = f\"\"\"\n",
    "    MATCH (a1:Person {{name: '{p1}'}}), (a2:Person {{name: '{p2}'}})\n",
    "    WITH head(collect([a1,a2])) as nodes\n",
    "    CALL apoc.refactor.mergeNodes(nodes,{{\n",
    "    properties:\"discard\",\n",
    "    mergeRels:true\n",
    "    }})\n",
    "    YIELD node\n",
    "    RETURN node;\n",
    "    \"\"\"\n",
    "    res = qg._graph.query(cq)\n",
    "    res"
   ]
  }
 ],
 "metadata": {
  "kernelspec": {
   "display_name": "graphmaker",
   "language": "python",
   "name": "python3"
  },
  "language_info": {
   "codemirror_mode": {
    "name": "ipython",
    "version": 3
   },
   "file_extension": ".py",
   "mimetype": "text/x-python",
   "name": "python",
   "nbconvert_exporter": "python",
   "pygments_lexer": "ipython3",
   "version": "3.11.0"
  }
 },
 "nbformat": 4,
 "nbformat_minor": 2
}
