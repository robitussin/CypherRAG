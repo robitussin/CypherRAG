{
 "cells": [
  {
   "cell_type": "code",
   "execution_count": 1,
   "metadata": {},
   "outputs": [
    {
     "name": "stderr",
     "output_type": "stream",
     "text": [
      "/Users/user/miniconda3/envs/graphmaker/lib/python3.11/site-packages/tqdm/auto.py:21: TqdmWarning: IProgress not found. Please update jupyter and ipywidgets. See https://ipywidgets.readthedocs.io/en/stable/user_install.html\n",
      "  from .autonotebook import tqdm as notebook_tqdm\n",
      "2024-11-02 20:36:02.673 WARNING streamlit.runtime.scriptrunner_utils.script_run_context: Thread 'MainThread': missing ScriptRunContext! This warning can be ignored when running in bare mode.\n",
      "2024-11-02 20:36:02.697 WARNING streamlit.runtime.scriptrunner_utils.script_run_context: Thread 'MainThread': missing ScriptRunContext! This warning can be ignored when running in bare mode.\n",
      "2024-11-02 20:36:02.698 WARNING streamlit.runtime.scriptrunner_utils.script_run_context: Thread 'MainThread': missing ScriptRunContext! This warning can be ignored when running in bare mode.\n",
      "2024-11-02 20:36:02.698 WARNING streamlit.runtime.state.session_state_proxy: Session state does not function when running a script without `streamlit run`\n",
      "2024-11-02 20:36:02.698 WARNING streamlit.runtime.scriptrunner_utils.script_run_context: Thread 'MainThread': missing ScriptRunContext! This warning can be ignored when running in bare mode.\n",
      "2024-11-02 20:36:02.698 WARNING streamlit.runtime.scriptrunner_utils.script_run_context: Thread 'MainThread': missing ScriptRunContext! This warning can be ignored when running in bare mode.\n",
      "2024-11-02 20:36:02.699 WARNING streamlit.runtime.scriptrunner_utils.script_run_context: Thread 'MainThread': missing ScriptRunContext! This warning can be ignored when running in bare mode.\n",
      "2024-11-02 20:36:02.699 WARNING streamlit.runtime.scriptrunner_utils.script_run_context: Thread 'MainThread': missing ScriptRunContext! This warning can be ignored when running in bare mode.\n",
      "2024-11-02 20:36:02.699 WARNING streamlit.runtime.scriptrunner_utils.script_run_context: Thread 'MainThread': missing ScriptRunContext! This warning can be ignored when running in bare mode.\n",
      "2024-11-02 20:36:02.699 WARNING streamlit.runtime.scriptrunner_utils.script_run_context: Thread 'MainThread': missing ScriptRunContext! This warning can be ignored when running in bare mode.\n",
      "2024-11-02 20:36:02.699 WARNING streamlit.runtime.scriptrunner_utils.script_run_context: Thread 'MainThread': missing ScriptRunContext! This warning can be ignored when running in bare mode.\n",
      "2024-11-02 20:36:02.700 WARNING streamlit.runtime.scriptrunner_utils.script_run_context: Thread 'MainThread': missing ScriptRunContext! This warning can be ignored when running in bare mode.\n",
      "2024-11-02 20:36:02.700 WARNING streamlit.runtime.scriptrunner_utils.script_run_context: Thread 'MainThread': missing ScriptRunContext! This warning can be ignored when running in bare mode.\n",
      "2024-11-02 20:36:02.700 WARNING streamlit.runtime.scriptrunner_utils.script_run_context: Thread 'MainThread': missing ScriptRunContext! This warning can be ignored when running in bare mode.\n",
      "2024-11-02 20:36:02.722 \n",
      "  \u001b[33m\u001b[1mWarning:\u001b[0m to view this Streamlit app on a browser, run it with the following\n",
      "  command:\n",
      "\n",
      "    streamlit run /Users/user/miniconda3/envs/graphmaker/lib/python3.11/site-packages/ipykernel_launcher.py [ARGUMENTS]\n",
      "2024-11-02 20:36:02.723 Thread 'MainThread': missing ScriptRunContext! This warning can be ignored when running in bare mode.\n",
      "2024-11-02 20:36:02.723 Thread 'MainThread': missing ScriptRunContext! This warning can be ignored when running in bare mode.\n",
      "2024-11-02 20:36:02.734 Thread 'MainThread': missing ScriptRunContext! This warning can be ignored when running in bare mode.\n",
      "2024-11-02 20:36:02.734 Thread 'MainThread': missing ScriptRunContext! This warning can be ignored when running in bare mode.\n",
      "2024-11-02 20:36:02.734 Thread 'MainThread': missing ScriptRunContext! This warning can be ignored when running in bare mode.\n",
      "2024-11-02 20:36:02.734 Thread 'MainThread': missing ScriptRunContext! This warning can be ignored when running in bare mode.\n",
      "2024-11-02 20:36:02.734 Thread 'MainThread': missing ScriptRunContext! This warning can be ignored when running in bare mode.\n",
      "2024-11-02 20:36:02.735 Thread 'MainThread': missing ScriptRunContext! This warning can be ignored when running in bare mode.\n",
      "2024-11-02 20:36:02.735 Thread 'MainThread': missing ScriptRunContext! This warning can be ignored when running in bare mode.\n",
      "2024-11-02 20:36:02.735 Thread 'MainThread': missing ScriptRunContext! This warning can be ignored when running in bare mode.\n"
     ]
    }
   ],
   "source": [
    "import pandas as pd\n",
    "import datasets\n",
    "import json\n",
    "import sys\n",
    "import os\n",
    "\n",
    "from datasets import Dataset, load_dataset\n",
    "from generate_graph import get_propositions, generateEdges, createGraph\n",
    "from main import query_graph, refine_query\n",
    "from tqdm import tqdm\n",
    "tqdm.pandas()"
   ]
  },
  {
   "cell_type": "code",
   "execution_count": 2,
   "metadata": {},
   "outputs": [],
   "source": [
    "df = pd.read_json('datasets/HotPotQA/hotpot_test_fullwiki_v1.json')"
   ]
  },
  {
   "cell_type": "code",
   "execution_count": 3,
   "metadata": {},
   "outputs": [
    {
     "name": "stdout",
     "output_type": "stream",
     "text": [
      "<class 'pandas.core.frame.DataFrame'>\n",
      "RangeIndex: 7405 entries, 0 to 7404\n",
      "Data columns (total 3 columns):\n",
      " #   Column    Non-Null Count  Dtype \n",
      "---  ------    --------------  ----- \n",
      " 0   _id       7405 non-null   object\n",
      " 1   question  7405 non-null   object\n",
      " 2   context   7405 non-null   object\n",
      "dtypes: object(3)\n",
      "memory usage: 173.7+ KB\n"
     ]
    }
   ],
   "source": [
    "df.info()"
   ]
  },
  {
   "cell_type": "code",
   "execution_count": 5,
   "metadata": {},
   "outputs": [
    {
     "data": {
      "text/html": [
       "<div>\n",
       "<style scoped>\n",
       "    .dataframe tbody tr th:only-of-type {\n",
       "        vertical-align: middle;\n",
       "    }\n",
       "\n",
       "    .dataframe tbody tr th {\n",
       "        vertical-align: top;\n",
       "    }\n",
       "\n",
       "    .dataframe thead th {\n",
       "        text-align: right;\n",
       "    }\n",
       "</style>\n",
       "<table border=\"1\" class=\"dataframe\">\n",
       "  <thead>\n",
       "    <tr style=\"text-align: right;\">\n",
       "      <th></th>\n",
       "      <th>_id</th>\n",
       "      <th>question</th>\n",
       "      <th>context</th>\n",
       "    </tr>\n",
       "  </thead>\n",
       "  <tbody>\n",
       "    <tr>\n",
       "      <th>0</th>\n",
       "      <td>5adf9ba1554299025d62a2db</td>\n",
       "      <td>What position on the Billboard Top 100 did Ali...</td>\n",
       "      <td>[[The Other Side of Love, [\"The Other Side of ...</td>\n",
       "    </tr>\n",
       "    <tr>\n",
       "      <th>1</th>\n",
       "      <td>5a7befac5542996dd594b857</td>\n",
       "      <td>What year did the British politician born in 1...</td>\n",
       "      <td>[[Philip Cowley, [Philip Cowley is a British p...</td>\n",
       "    </tr>\n",
       "    <tr>\n",
       "      <th>2</th>\n",
       "      <td>5ab80e565542991d32223821</td>\n",
       "      <td>Which franchise was founded in 1978, Chuck E. ...</td>\n",
       "      <td>[[The Rock-afire Explosion, [The Rock-a-fire E...</td>\n",
       "    </tr>\n",
       "    <tr>\n",
       "      <th>3</th>\n",
       "      <td>5ae09e595542993d6555ebc0</td>\n",
       "      <td>Roden Cutler House is owned by an electricity ...</td>\n",
       "      <td>[[Askin–Cutler ministry (1965–68), [The Askin–...</td>\n",
       "    </tr>\n",
       "    <tr>\n",
       "      <th>4</th>\n",
       "      <td>5ae6094555429929b0807a96</td>\n",
       "      <td>What year was the inspiration for the 2009 dra...</td>\n",
       "      <td>[[Mick Fanning, [Michael Eugene \"Mick\" Fanning...</td>\n",
       "    </tr>\n",
       "  </tbody>\n",
       "</table>\n",
       "</div>"
      ],
      "text/plain": [
       "                        _id  \\\n",
       "0  5adf9ba1554299025d62a2db   \n",
       "1  5a7befac5542996dd594b857   \n",
       "2  5ab80e565542991d32223821   \n",
       "3  5ae09e595542993d6555ebc0   \n",
       "4  5ae6094555429929b0807a96   \n",
       "\n",
       "                                            question  \\\n",
       "0  What position on the Billboard Top 100 did Ali...   \n",
       "1  What year did the British politician born in 1...   \n",
       "2  Which franchise was founded in 1978, Chuck E. ...   \n",
       "3  Roden Cutler House is owned by an electricity ...   \n",
       "4  What year was the inspiration for the 2009 dra...   \n",
       "\n",
       "                                             context  \n",
       "0  [[The Other Side of Love, [\"The Other Side of ...  \n",
       "1  [[Philip Cowley, [Philip Cowley is a British p...  \n",
       "2  [[The Rock-afire Explosion, [The Rock-a-fire E...  \n",
       "3  [[Askin–Cutler ministry (1965–68), [The Askin–...  \n",
       "4  [[Mick Fanning, [Michael Eugene \"Mick\" Fanning...  "
      ]
     },
     "execution_count": 5,
     "metadata": {},
     "output_type": "execute_result"
    }
   ],
   "source": [
    "df.head(5)"
   ]
  },
  {
   "cell_type": "code",
   "execution_count": 6,
   "metadata": {},
   "outputs": [
    {
     "data": {
      "text/plain": [
       "[['The Other Side of Love',\n",
       "  ['\"The Other Side of Love\" is a song by the British synthpop band Yazoo, released in 1982 as their third single.',\n",
       "   \" The single peaked at #13 on the UK Singles Chart, making it the band's least successful single and the only one of their four singles to miss the top 10.\",\n",
       "   ' The track was written by band members Vince Clarke and Alison Moyet, and was originally not included on either of the band\\'s albums (it was later added to a reissue of \"Upstairs at Eric\\'s\").',\n",
       "   \" It featured Stiff Records' all-girl band Sylvia and the Sapphires on backing vocals following a chance meeting on the B.A. Robertson show.\"]],\n",
       " ['All Cried Out (Alison Moyet song)',\n",
       "  ['\"All Cried Out\" is a song by English singer-songwriter Alison Moyet.',\n",
       "   ' It was written by Moyet and producers Jolley & Swain for her debut studio album \"Alf\" (1984).',\n",
       "   \" Released as the album's second single in the autumn of 1984, the track peaked within the top ten on both the Irish and the UK Singles Chart, also reaching the top twenty in Switzerland.\"]],\n",
       " ['The Vandals (UK band)',\n",
       "  ['The Vandals were a late 1970s English rock band from Basildon in South East Essex.',\n",
       "   \" Playing in the punk rock style, they are mainly notable for featuring vocalist Alison Moyet; 'Alf' as she was then known, who later found fame as one half of 1980s synthpop act Yazoo.\",\n",
       "   \" The other members were Robert Marlow, who during his tenure with the band was known as 'the guitarist with no name', two other female backing singers, Kim Forey and Sue Paget (Susan Ryder Paget), who also played bass at the band's later gigs, and Simon Kirk on drums, who was later replaced by John Dee, formerly of Southend band The Machines.\"]],\n",
       " ['Yazoo (band)',\n",
       "  ['Yazoo (known as Yaz in North America for legal reasons involving Yazoo Records) were a British synthpop duo from Basildon, Essex, England, consisting of former Depeche Mode member Vince Clarke (keyboards) and Alison Moyet (vocals).',\n",
       "   ' Formed in late 1981 after Clarke responded to an advertisement Moyet placed in a UK music magazine, over the next 18 months the duo made two critically acclaimed albums, \"Upstairs at Eric\\'s\" and \"You and Me Both\", blending Clarke\\'s synthesizer melodies with Moyet\\'s blues- and soul-influenced vocals.',\n",
       "   ' Yazoo enjoyed worldwide success, particularly in their home country where three of their four singles reached the top three of the UK Singles Chart and both their albums made the top two of the albums chart.',\n",
       "   ' In North America they are best known for the song \"Situation\", originally only a B-side in the UK but which was a club and airplay hit in the US and Canada before being released as the band\\'s debut single in North America.']],\n",
       " ['Nick Morris',\n",
       "  ['Nick Morris is a film maker who began writing and making amateur films at school, one of which was shown at the NFT.',\n",
       "   ' His professional career began in the 1980s with music videos for \"The Final Countdown\" by Europe, \"Kyrie\" by Mr. Mister and \"Everytime You Go Away\" by Paul Young.',\n",
       "   ' After making approximately 100 promos for artists such as Elton John, Celine Dion, Alison Moyet, Warrant, Terence Trent D\\'Arby, Stevie Wonder, Paul Carrack, Prefab Sprout, Kirsty MacColl, Go West, the Kane Gang, The Alarm, Status Quo, Toto, Natalie Cole, Nena, Scorpions and the number one charity single Ferry Aid, he moved into longer form projects including the Cirque du Soleil show \"Alegría\", which was nominated for a primetime Emmy, \"Jesus Christ Superstar\", which won an International Emmy, and AC/DC\\'s \"Stiff Upper Lip Live\" in Munich.',\n",
       "   ' He has also directed DVDs for comedians such as The Mighty Boosh, Mitchell and Webb and Bill Bailey.',\n",
       "   ' Other work includes numerous trailers and music clips for West End shows such as \"The Producers\", \"Spamalot\", \"Calendar Girls\", \"Guys and Dolls\", \"Edward Scissorhands\" and \"The Rocky Horror Show\".',\n",
       "   \" in 2009 he captured Spandau Ballet's triumphant homecoming concert at the O2 Arena in London and Jude Law's portrayal of Hamlet.\"]],\n",
       " ['Only You (Yazoo song)',\n",
       "  ['\"Only You\" is a song written by English musician Vince Clarke.',\n",
       "   ' He wrote it while with Depeche Mode, but recorded it in 1982 after forming the duo Yazoo with Alison Moyet.',\n",
       "   \" It was released as Yazoo's first single on 15 March 1982 in the United Kingdom.\",\n",
       "   ' Upon its UK release, the single became an instant success, hitting number two on the UK Singles Chart.',\n",
       "   ' In the US, the song was released as their second single in November 1982 and charted at number sixty-seven on \"Billboard\" Hot 100.',\n",
       "   ' \"Only You\" also made the US Adult Contemporary chart at number thirty-eight.']],\n",
       " ['Love Resurrection',\n",
       "  ['\"Love Resurrection\" is a pop song written by English singer-songwriter Alison Moyet and producers Jolley & Swain for Moyet\\'s debut studio album \"Alf\" (1984).',\n",
       "   \" Released as the album's first single in June 1984, it reached number 10 in the UK Singles Chart.\",\n",
       "   ' It was released in the US in summer 1985 following \"Invisible\" and reached number 82 on the \"Billboard\" Hot 100 that August.']],\n",
       " ['In the Misty Moonlight',\n",
       "  ['\"In the Misty Moonlight\" is a song written by Cindy Walker.',\n",
       "   ' One of the first singers to record the song in 1964 was Jim Reeves: it is included on his posthumous album \"The Jim Reeves Way\".',\n",
       "   ' There also have been many other artists who have covered the song, but the most successful version was recorded by Dean Martin in 1964.',\n",
       "   ' It was released as a single in 1967 and went to number one on the Easy Listening chart and number forty-six on the \"Billboard\" Hot 100.',\n",
       "   \" The song was Martin's fifth and final number one on the Easy Listening chart.\",\n",
       "   ' On the other hand, Jerry Wallace had a #19 hit on Billboard Top 100 when his version was released in 1964, so as far as Billboard Top 100 charts, Wallace had the more successful version.',\n",
       "   \" Both Wallace and Martin's versions are high quality and well produced.\"]],\n",
       " ['Jocelyn Alice',\n",
       "  ['Jocelyn Alice is a Canadian singer and songwriter.',\n",
       "   ' Formerly one half of Canadian indie soul pop duo jocelyn & lisa from Calgary, Alberta, Alice began performing as a solo artist in 2015.',\n",
       "   ' Her debut single, the 2015 summer hit ‘Jackpot’, was certified Gold in Canada in early August 2015 and reached the top 15 on multiple Canadian commercial radio charts including #11 Mediabase Hot AC, #12 Billboard AC, #12 Billboard All-Format Airplay, and #14 Billboard CHR/Top 40.',\n",
       "   ' Jackpot also reached #12 on the Shazam Canada Top 100 and #13 on the iTunes Canada Top 200 Pop Songs chart.']],\n",
       " ['Weak in the Presence of Beauty (song)',\n",
       "  ['\"Weak in the Presence of Beauty\" is a song written by Michael Ward and Rob Clarke.',\n",
       "   ' It was first released by their band, the British group Floy Joy, in 1986.',\n",
       "   ' The song was later covered by singer Alison Moyet in 1987 and became a hit for her.']]]"
      ]
     },
     "execution_count": 6,
     "metadata": {},
     "output_type": "execute_result"
    }
   ],
   "source": [
    "df.iloc[0]['context']"
   ]
  },
  {
   "cell_type": "code",
   "execution_count": 4,
   "metadata": {},
   "outputs": [
    {
     "data": {
      "text/plain": [
       "\"What position on the Billboard Top 100 did Alison Moyet's late summer hit achieve?\""
      ]
     },
     "execution_count": 4,
     "metadata": {},
     "output_type": "execute_result"
    }
   ],
   "source": [
    "df.iloc[0]['question']"
   ]
  },
  {
   "cell_type": "markdown",
   "metadata": {},
   "source": [
    "## Experiment\n"
   ]
  },
  {
   "cell_type": "code",
   "execution_count": null,
   "metadata": {},
   "outputs": [],
   "source": []
  }
 ],
 "metadata": {
  "kernelspec": {
   "display_name": "graphmaker",
   "language": "python",
   "name": "python3"
  },
  "language_info": {
   "codemirror_mode": {
    "name": "ipython",
    "version": 3
   },
   "file_extension": ".py",
   "mimetype": "text/x-python",
   "name": "python",
   "nbconvert_exporter": "python",
   "pygments_lexer": "ipython3",
   "version": "3.11.0"
  }
 },
 "nbformat": 4,
 "nbformat_minor": 2
}
